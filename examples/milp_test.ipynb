{
 "cells": [
  {
   "cell_type": "code",
   "execution_count": 4,
   "metadata": {},
   "outputs": [
    {
     "name": "stdout",
     "output_type": "stream",
     "text": [
      "The autoreload extension is already loaded. To reload it, use:\n",
      "  %reload_ext autoreload\n"
     ]
    }
   ],
   "source": [
    "%load_ext autoreload\n",
    "from scipy import sparse\n",
    "import numpy as np\n",
    "from importlib import reload\n",
    "import mcs"
   ]
  },
  {
   "cell_type": "code",
   "execution_count": 26,
   "metadata": {},
   "outputs": [],
   "source": [
    "# example setup (default: minimize)\n",
    "# main problem\n",
    "c = [-1,0,0,0]\n",
    "A_ineq = sparse.csr_matrix([[1,1,0,0],[-1,0,0,0]])\n",
    "b_ineq = [3,-1]\n",
    "A_eq = sparse.csr_matrix([[0,1,0,0]])\n",
    "b_eq = [0.6]\n",
    "lb = [1,0,0,0]\n",
    "ub = [np.inf, np.inf, 1, 1]\n",
    "vtype = 'CCBB'\n",
    "# indicator constraints\n",
    "ic_binv = [2,3]\n",
    "ic_A = sparse.csr_matrix([[1,1,0,0],[1,0,0,0]])\n",
    "ic_b = [0,1.2]\n",
    "ic_sense = \"LE\"\n",
    "ic_indicval = [1,0]\n",
    "indic_constr = mcs.Indicator_constraints(ic_binv, ic_A, ic_b, ic_sense, ic_indicval)"
   ]
  },
  {
   "cell_type": "code",
   "execution_count": 46,
   "metadata": {},
   "outputs": [],
   "source": [
    "# example setup (default: minimize)\n",
    "# main problem\n",
    "c = [1,0,0,0]\n",
    "A_ineq = sparse.csr_matrix([[1,0,0,0]])\n",
    "b_ineq = [3]\n",
    "A_eq = sparse.csr_matrix((0,4))\n",
    "b_eq = []\n",
    "lb = [-np.inf,0,0,0]\n",
    "ub = [np.inf, 5, 1, 1]\n",
    "vtype = 'CCBB'\n",
    "# indicator constraints\n",
    "ic_binv = []\n",
    "ic_A = sparse.csr_matrix((0,4))\n",
    "ic_b = []\n",
    "ic_sense = \"\"\n",
    "ic_indicval = []\n",
    "indic_constr = mcs.Indicator_constraints(ic_binv, ic_A, ic_b, ic_sense, ic_indicval)"
   ]
  },
  {
   "cell_type": "code",
   "execution_count": 48,
   "metadata": {},
   "outputs": [
    {
     "name": "stdout",
     "output_type": "stream",
     "text": [
      "There is no native support of indicator constraints with GLPK.\n",
      "Indicator constraints are translated to big-M constraints using M=1000.0.\n"
     ]
    },
    {
     "ename": "NameError",
     "evalue": "name 'gp' is not defined",
     "output_type": "error",
     "traceback": [
      "\u001b[1;31m---------------------------------------------------------------------------\u001b[0m",
      "\u001b[1;31mAttributeError\u001b[0m                            Traceback (most recent call last)",
      "\u001b[1;32mc:\\users\\phili\\dokumente\\python\\mcs\\mcs\\glpk_interface.py\u001b[0m in \u001b[0;36msolve\u001b[1;34m(self)\u001b[0m\n\u001b[0;32m    135\u001b[0m                 \u001b[0mstatus\u001b[0m \u001b[1;33m=\u001b[0m \u001b[1;36m0\u001b[0m\u001b[1;33m\u001b[0m\u001b[1;33m\u001b[0m\u001b[0m\n\u001b[1;32m--> 136\u001b[1;33m             \u001b[1;32melif\u001b[0m \u001b[0mbool_tlim\u001b[0m \u001b[1;32mand\u001b[0m \u001b[0mstatus\u001b[0m \u001b[1;33m==\u001b[0m \u001b[0mGLP_UNDEF\u001b[0m\u001b[1;33m:\u001b[0m \u001b[1;31m# timeout without solution\u001b[0m\u001b[1;33m\u001b[0m\u001b[1;33m\u001b[0m\u001b[0m\n\u001b[0m\u001b[0;32m    137\u001b[0m                 \u001b[0mx\u001b[0m \u001b[1;33m=\u001b[0m \u001b[1;33m[\u001b[0m\u001b[0mnan\u001b[0m\u001b[1;33m]\u001b[0m\u001b[1;33m*\u001b[0m\u001b[0mglp_get_num_cols\u001b[0m\u001b[1;33m(\u001b[0m\u001b[0mself\u001b[0m\u001b[1;33m.\u001b[0m\u001b[0mglpk\u001b[0m\u001b[1;33m)\u001b[0m\u001b[1;33m\u001b[0m\u001b[1;33m\u001b[0m\u001b[0m\n",
      "\u001b[1;31mAttributeError\u001b[0m: 'GLPK_MILP_LP' object has no attribute '_Model__vars'",
      "\nDuring handling of the above exception, another exception occurred:\n",
      "\u001b[1;31mNameError\u001b[0m                                 Traceback (most recent call last)",
      "\u001b[1;32m~\\AppData\\Local\\Temp/ipykernel_22304/502375711.py\u001b[0m in \u001b[0;36m<module>\u001b[1;34m\u001b[0m\n\u001b[0;32m     10\u001b[0m                         \u001b[0mindic_constr\u001b[0m\u001b[1;33m=\u001b[0m\u001b[0mindic_constr\u001b[0m\u001b[1;33m,\u001b[0m\u001b[1;33m\u001b[0m\u001b[1;33m\u001b[0m\u001b[0m\n\u001b[0;32m     11\u001b[0m                         solver='glpk')\n\u001b[1;32m---> 12\u001b[1;33m \u001b[0mx\u001b[0m\u001b[1;33m,\u001b[0m \u001b[0mopt_cx\u001b[0m\u001b[1;33m,\u001b[0m \u001b[0mstatus\u001b[0m \u001b[1;33m=\u001b[0m \u001b[0mmy_prob\u001b[0m\u001b[1;33m.\u001b[0m\u001b[0msolve\u001b[0m\u001b[1;33m(\u001b[0m\u001b[1;33m)\u001b[0m\u001b[1;33m\u001b[0m\u001b[1;33m\u001b[0m\u001b[0m\n\u001b[0m\u001b[0;32m     13\u001b[0m \u001b[1;31m# solution.get_status() returns an integer code\u001b[0m\u001b[1;33m\u001b[0m\u001b[1;33m\u001b[0m\u001b[1;33m\u001b[0m\u001b[0m\n\u001b[0;32m     14\u001b[0m \u001b[0mprint\u001b[0m\u001b[1;33m(\u001b[0m\u001b[1;34m\"Solution status = \"\u001b[0m\u001b[1;33m,\u001b[0m \u001b[0mstr\u001b[0m\u001b[1;33m(\u001b[0m\u001b[0mstatus\u001b[0m\u001b[1;33m)\u001b[0m\u001b[1;33m)\u001b[0m\u001b[1;33m\u001b[0m\u001b[1;33m\u001b[0m\u001b[0m\n",
      "\u001b[1;32mc:\\users\\phili\\dokumente\\python\\mcs\\mcs\\solver_interface.py\u001b[0m in \u001b[0;36msolve\u001b[1;34m(self)\u001b[0m\n\u001b[0;32m    104\u001b[0m \u001b[1;33m\u001b[0m\u001b[0m\n\u001b[0;32m    105\u001b[0m     \u001b[1;32mdef\u001b[0m \u001b[0msolve\u001b[0m\u001b[1;33m(\u001b[0m\u001b[0mself\u001b[0m\u001b[1;33m)\u001b[0m \u001b[1;33m->\u001b[0m \u001b[0mTuple\u001b[0m\u001b[1;33m[\u001b[0m\u001b[0mList\u001b[0m\u001b[1;33m,\u001b[0m\u001b[0mfloat\u001b[0m\u001b[1;33m,\u001b[0m\u001b[0mfloat\u001b[0m\u001b[1;33m]\u001b[0m\u001b[1;33m:\u001b[0m\u001b[1;33m\u001b[0m\u001b[1;33m\u001b[0m\u001b[0m\n\u001b[1;32m--> 106\u001b[1;33m         \u001b[0mx\u001b[0m\u001b[1;33m,\u001b[0m \u001b[0mmin_cx\u001b[0m\u001b[1;33m,\u001b[0m \u001b[0mstatus\u001b[0m \u001b[1;33m=\u001b[0m \u001b[0mself\u001b[0m\u001b[1;33m.\u001b[0m\u001b[0mbackend\u001b[0m\u001b[1;33m.\u001b[0m\u001b[0msolve\u001b[0m\u001b[1;33m(\u001b[0m\u001b[1;33m)\u001b[0m\u001b[1;33m\u001b[0m\u001b[1;33m\u001b[0m\u001b[0m\n\u001b[0m\u001b[0;32m    107\u001b[0m         \u001b[1;32mif\u001b[0m \u001b[1;32mnot\u001b[0m \u001b[0misnan\u001b[0m\u001b[1;33m(\u001b[0m\u001b[0mx\u001b[0m\u001b[1;33m[\u001b[0m\u001b[1;36m0\u001b[0m\u001b[1;33m]\u001b[0m\u001b[1;33m)\u001b[0m\u001b[1;33m:\u001b[0m \u001b[1;31m# if solution exists (is not nan), round integers\u001b[0m\u001b[1;33m\u001b[0m\u001b[1;33m\u001b[0m\u001b[0m\n\u001b[0;32m    108\u001b[0m             \u001b[0mx\u001b[0m \u001b[1;33m=\u001b[0m \u001b[1;33m[\u001b[0m\u001b[0mx\u001b[0m\u001b[1;33m[\u001b[0m\u001b[0mi\u001b[0m\u001b[1;33m]\u001b[0m \u001b[1;32mif\u001b[0m \u001b[0mself\u001b[0m\u001b[1;33m.\u001b[0m\u001b[0mvtype\u001b[0m\u001b[1;33m[\u001b[0m\u001b[0mi\u001b[0m\u001b[1;33m]\u001b[0m\u001b[1;33m==\u001b[0m\u001b[1;34m'C'\u001b[0m \u001b[1;32melse\u001b[0m \u001b[0mint\u001b[0m\u001b[1;33m(\u001b[0m\u001b[0mround\u001b[0m\u001b[1;33m(\u001b[0m\u001b[0mx\u001b[0m\u001b[1;33m[\u001b[0m\u001b[0mi\u001b[0m\u001b[1;33m]\u001b[0m\u001b[1;33m)\u001b[0m\u001b[1;33m)\u001b[0m \u001b[1;32mfor\u001b[0m \u001b[0mi\u001b[0m \u001b[1;32min\u001b[0m \u001b[0mrange\u001b[0m\u001b[1;33m(\u001b[0m\u001b[0mlen\u001b[0m\u001b[1;33m(\u001b[0m\u001b[0mx\u001b[0m\u001b[1;33m)\u001b[0m\u001b[1;33m)\u001b[0m\u001b[1;33m]\u001b[0m\u001b[1;33m\u001b[0m\u001b[1;33m\u001b[0m\u001b[0m\n",
      "\u001b[1;32mc:\\users\\phili\\dokumente\\python\\mcs\\mcs\\glpk_interface.py\u001b[0m in \u001b[0;36msolve\u001b[1;34m(self)\u001b[0m\n\u001b[0;32m    155\u001b[0m             \u001b[1;32mreturn\u001b[0m \u001b[0mx\u001b[0m\u001b[1;33m,\u001b[0m \u001b[0mmin_cx\u001b[0m\u001b[1;33m,\u001b[0m \u001b[0mstatus\u001b[0m\u001b[1;33m\u001b[0m\u001b[1;33m\u001b[0m\u001b[0m\n\u001b[0;32m    156\u001b[0m \u001b[1;33m\u001b[0m\u001b[0m\n\u001b[1;32m--> 157\u001b[1;33m         \u001b[1;32mexcept\u001b[0m \u001b[0mgp\u001b[0m\u001b[1;33m.\u001b[0m\u001b[0mGurobiError\u001b[0m \u001b[1;32mas\u001b[0m \u001b[0me\u001b[0m\u001b[1;33m:\u001b[0m\u001b[1;33m\u001b[0m\u001b[1;33m\u001b[0m\u001b[0m\n\u001b[0m\u001b[0;32m    158\u001b[0m             \u001b[0mprint\u001b[0m\u001b[1;33m(\u001b[0m\u001b[1;34m'Error code '\u001b[0m \u001b[1;33m+\u001b[0m \u001b[0mstr\u001b[0m\u001b[1;33m(\u001b[0m\u001b[0me\u001b[0m\u001b[1;33m.\u001b[0m\u001b[0merrno\u001b[0m\u001b[1;33m)\u001b[0m \u001b[1;33m+\u001b[0m \u001b[1;34m\": \"\u001b[0m \u001b[1;33m+\u001b[0m \u001b[0mstr\u001b[0m\u001b[1;33m(\u001b[0m\u001b[0me\u001b[0m\u001b[1;33m)\u001b[0m\u001b[1;33m)\u001b[0m\u001b[1;33m\u001b[0m\u001b[1;33m\u001b[0m\u001b[0m\n\u001b[0;32m    159\u001b[0m             \u001b[0mmin_cx\u001b[0m \u001b[1;33m=\u001b[0m \u001b[0mnan\u001b[0m\u001b[1;33m\u001b[0m\u001b[1;33m\u001b[0m\u001b[0m\n",
      "\u001b[1;31mNameError\u001b[0m: name 'gp' is not defined"
     ]
    }
   ],
   "source": [
    "%autoreload\n",
    "my_prob = mcs.MILP_LP(  c=c,\n",
    "                        A_ineq=A_ineq,\n",
    "                        b_ineq=b_ineq,\n",
    "                        A_eq=A_eq,\n",
    "                        b_eq=b_eq,\n",
    "                        lb=lb,\n",
    "                        ub=ub,\n",
    "                        vtype=vtype, \n",
    "                        indic_constr=indic_constr,\n",
    "                        solver='glpk')\n",
    "x, opt_cx, status = my_prob.solve()\n",
    "# solution.get_status() returns an integer code\n",
    "print(\"Solution status = \", str(status))\n",
    "# the following line prints the corresponding string\n",
    "print(\"Solution value  = \", str(round(opt_cx,5)))\n",
    "sol = {'x'+str(i) : round(x[i],5) for i in range(len(x))}\n",
    "print(sol)"
   ]
  },
  {
   "cell_type": "code",
   "execution_count": 1,
   "metadata": {},
   "outputs": [
    {
     "name": "stdout",
     "output_type": "stream",
     "text": [
      "Set parameter Username\n",
      "Academic license - for non-commercial use only - expires 2022-09-03\n"
     ]
    }
   ],
   "source": [
    "%load_ext autoreload\n",
    "import cobra\n",
    "from importlib import reload\n",
    "ecc2 = cobra.io.read_sbml_model(\"ECC2comp.sbml\")\n",
    "ecc3 = cobra.io.read_sbml_model(\"ECC2comp.sbml\")\n",
    "iml1515 = cobra.io.read_sbml_model(\"iML1515.sbml\")"
   ]
  },
  {
   "cell_type": "code",
   "execution_count": 9,
   "metadata": {},
   "outputs": [
    {
     "name": "stdout",
     "output_type": "stream",
     "text": [
      "                 minimum      maximum\n",
      "EX_Biomass      0.000000     2.374995\n",
      "EX_4CRSOL_ex    0.000000     0.000530\n",
      "EX_5DRIB_ex     0.000000     0.001594\n",
      "EX_ac_ex      -10.000000    40.000000\n",
      "EX_adp_c        0.000000    -0.000000\n",
      "...                  ...          ...\n",
      "TALA           -0.468591    45.000000\n",
      "THD2pp          0.000000  1000.000000\n",
      "TKT1           -0.468591    45.000000\n",
      "TKT2           -1.373488    45.000000\n",
      "TPI          -182.500000    20.000000\n",
      "\n",
      "[122 rows x 2 columns]\n"
     ]
    }
   ],
   "source": [
    "%autoreload\n",
    "import mcs\n",
    "from mcs import fva\n",
    "import cProfile\n",
    "reload(mcs)\n",
    "# opt = ecc2.optimize()\n",
    "# print(opt)\n",
    "# opt2 = fba(ecc2)\n",
    "# print(opt2)\n",
    "# opt3 = cobra.flux_analysis.variability.flux_variability_analysis(iml1515)\n",
    "# print(opt3)\n",
    "# cProfile.runctx(\"mcs.fva(iml1515)\",globals(),locals())\n",
    "opt4 = fva(ecc2, solver='gurobi')\n",
    "print(opt4)\n",
    "# cProfile.runctx()"
   ]
  }
 ],
 "metadata": {
  "interpreter": {
   "hash": "c6cb88db6456a5d9db25cf91966766d45a3aee345dd42db13a70c45805ef0614"
  },
  "kernelspec": {
   "display_name": "Python 3.7.12 64-bit ('cnapy-dev': conda)",
   "language": "python",
   "name": "python3"
  },
  "language_info": {
   "codemirror_mode": {
    "name": "ipython",
    "version": 3
   },
   "file_extension": ".py",
   "mimetype": "text/x-python",
   "name": "python",
   "nbconvert_exporter": "python",
   "pygments_lexer": "ipython3",
   "version": "3.7.11"
  },
  "orig_nbformat": 4
 },
 "nbformat": 4,
 "nbformat_minor": 2
}
