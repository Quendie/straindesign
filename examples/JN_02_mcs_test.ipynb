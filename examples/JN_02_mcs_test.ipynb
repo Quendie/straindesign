{
 "cells": [
  {
   "cell_type": "code",
   "execution_count": 1,
   "metadata": {},
   "outputs": [],
   "source": [
    "%load_ext autoreload\n",
    "import cobra\n",
    "import numpy as np\n",
    "from importlib import reload\n",
    "import straindesigner\n",
    "from scipy import sparse\n",
    "#import traceback\n",
    "#import warnings\n",
    "import sys"
   ]
  },
  {
   "cell_type": "code",
   "execution_count": 7,
   "metadata": {
    "collapsed": false,
    "pycharm": {
     "name": "#%%\n"
    }
   },
   "outputs": [],
   "source": [
    "from multiprocessing import Pool\n",
    "import random\n",
    "\n",
    "def prime_factor(value):\n",
    "    factors = []\n",
    "    for divisor in range(2, value-1):\n",
    "        quotient, remainder = divmod(value, divisor)\n",
    "        if not remainder:\n",
    "            factors.extend(prime_factor(divisor))\n",
    "            factors.extend(prime_factor(quotient))\n",
    "            break\n",
    "        else:\n",
    "            factors = [value]\n",
    "    return factors\n",
    "\n",
    "\n",
    "if __name__ == '__main__':\n",
    "    pool = Pool()\n",
    "    to_factor = [ random.randint(100000, 50000000) for i in range(20)]\n",
    "    results = pool.map(prime_factor, to_factor)\n",
    "    for value, factors in zip(to_factor, results):\n",
    "        print(\"The factors of {} are {}\".format(value, factors))"
   ]
  },
  {
   "cell_type": "code",
   "execution_count": 2,
   "metadata": {
    "collapsed": false,
    "pycharm": {
     "name": "#%%\n"
    }
   },
   "outputs": [
    {
     "name": "stdout",
     "output_type": "stream",
     "text": [
      "Set parameter Username\n",
      "Academic license - for non-commercial use only - expires 2022-05-16\n",
      "Preparing strain design computation.\n",
      "Read LP format model from file C:\\Users\\Philipp\\AppData\\Local\\Temp\\tmpbfavhkld.lp\n",
      "Reading time = 0.01 seconds\n",
      ": 509 rows, 1172 columns, 5044 nonzeros\n",
      "FVA to identify blocked reactions and irreversibilities\n"
     ]
    }
   ],
   "source": [
    "%autoreload\n",
    "# load network\n",
    "network = cobra.io.read_sbml_model(\"iML1515core.sbml\")\n",
    "# remove external metabolites and obsolete reactions\n",
    "external_mets = [i for i,cpts in zip(network.metabolites,network.metabolites.list_attr(\"compartment\")) if cpts == 'External_Species']\n",
    "network.remove_metabolites(external_mets)\n",
    "S = cobra.util.create_stoichiometric_matrix(network)\n",
    "obsolete_reacs = [reac for reac,b_rempty in zip(network.reactions,np.any(S,0)) if not b_rempty]\n",
    "network.remove_reactions(obsolete_reacs)\n",
    "# close some uptakes\n",
    "# network.reactions.AcUp.upper_bound = 0\n",
    "# network.reactions.GlycUp.upper_bound = 0\n",
    "\n",
    "sol = straindesigner.fba(network,constr=[\"EX_o2_e=0\"])\n",
    "# specify modules\n",
    "modules = straindesigner.SD_Module(network,\"straindesigner_bilvl\",module_sense=\"desired\",constraints=[\"2 BIOMASS_Ec_iML1515_core_75p37M >= 0.1\",\"EX_etoh_e >= 1\"],inner_objective=\"BIOMASS_Ec_iML1515_core_75p37M\")\n",
    "\n",
    "network.remove_metabolites\n",
    "network.metabolites.list_attr(\"compartment\")\n",
    "# specify MCS setup\n",
    "maxSolutions = 40\n",
    "maxCost = 10\n",
    "solver = 'gurobi'\n",
    "# ko_cost = {'EDD':2, 'EDA':3,'FBA':1.5,'ENO':1.2,'ATPS4rpp':1,'PPS':1,'PGI':1.1,'GND':1,'h_pEx':1,'PGM':1.0,'AKGDH':1,'TALA':1,'TKT1':6,'RPE':1}\n",
    "# ki_cost = {'ACKr':2.1, 'ICL':0.9,'MALS':1.5,'MDH':3, 'EDD':2, 'ENO':0.7}\n",
    "ko_cost = None\n",
    "ki_cost = None\n",
    "\n",
    "# construct MCS MILP\n",
    "strain_design_MILP = straindesigner.StrainDesigner(network,modules, max_cost=maxCost,ko_cost=ko_cost, ki_cost=ki_cost, solver=solver,M=None)\n",
    "# strain_design_MILP = straindesigner.StrainDesignMILP(network,modules,ko_cost=ko_cost, ki_cost=ki_cost, max_cost=maxCost,solver=solver,M=None)\n",
    "\n",
    "# solve MILP\n",
    "# strain_design_MILP.enumerate(max_solutions=maxSolutions)\n",
    "strain_design_MILP.compute_optimal(max_solutions=maxSolutions,time_limit=15)\n",
    "# rmcs = strain_design_MILP.compute(max_solutions=maxSolutions,time_limit=15)\n",
    "pass"
   ]
  },
  {
   "cell_type": "markdown",
   "metadata": {},
   "source": [
    "This is a bilevel-example with 1 Target and 1 Desired region"
   ]
  },
  {
   "cell_type": "code",
   "execution_count": null,
   "metadata": {
    "pycharm": {
     "is_executing": true
    }
   },
   "outputs": [],
   "source": [
    "from straindesigner import stoichmat_coeff2rational,stoichmat_coeff2float,fba\n",
    "stoichmat_coeff2rational(network)\n",
    "fba(network,solver='cplex')"
   ]
  },
  {
   "cell_type": "code",
   "execution_count": 7,
   "metadata": {},
   "outputs": [
    {
     "name": "stdout",
     "output_type": "stream",
     "text": [
      "Preparing strain design computation.\n",
      "Read LP format model from file C:\\Users\\phili\\AppData\\Local\\Temp\\tmpomflm4b1.lp\n",
      "Reading time = 0.03 seconds\n",
      ": 509 rows, 1172 columns, 5044 nonzeros\n",
      "Compressing Network (586 reactions).\n",
      "  Removing blocked reactions.\n",
      "  Translating stoichiometric coefficients to rationals.\n",
      "  Removing conservation relations.\n",
      "  Compression 1: Applying compression from EFM-tool module.\n",
      "  Reduced to 199 reactions.\n",
      "  Compression 2: Lumping parallel reactions.\n",
      "  Reduced to 195 reactions.\n",
      "  Compression 3: Applying compression from EFM-tool module.\n",
      "  Last step could not reduce size further (195 reactions).\n",
      "  Network compression completed. (2 compression iterations)\n",
      "  Translating stoichiometric coefficients back to real (float or int) numbers.\n",
      "Constructing MILP.\n",
      "Bounding MILP.\n",
      "Enumerating strain designs ...\n",
      "Strain designs with cost 1.7: [{'ENO': 1.0, 'O2tex*EX_o2_e': -1.0}]\n",
      "Strain designs with cost 1.7: [{'ENO': 1.0, 'ATPS4rpp': -1.0}]\n",
      "Finished. \n",
      "2 solutions found.\n"
     ]
    }
   ],
   "source": [
    "%autoreload\n",
    "# load network\n",
    "network = cobra.io.read_sbml_model(\"iML1515core.sbml\")\n",
    "\n",
    "# specify modules\n",
    "modules = straindesigner.SD_Module(network,\"mcs_bilvl\",module_sense=\"desired\",constraints=[\"2 BIOMASS_Ec_iML1515_core_75p37M >= 0.1\",\"EX_etoh_e >= 1\"],inner_objective=\"BIOMASS_Ec_iML1515_core_75p37M\")\n",
    "\n",
    "# specify MCS setup\n",
    "maxSolutions = np.inf\n",
    "maxCost = 3\n",
    "solver = 'cplex'\n",
    "ko_cost = {'EDD':2, 'EDA':3,'FBA':1.5,'ENO':1.2,'ATPS4rpp':1,'PPS':1,'PGI':1.1,'GND':1,'PGM':1.0,'AKGDH':1,'TALA':1,'TKT1':6,'RPE':1,'EX_h_e':1,'EX_o2_e':1,'CO2tpp':1}\n",
    "ki_cost = {'ACKr':2.1, 'ICL':0.9,'MALS':1.5,'MDH':3, 'EDD':2, 'ENO':0.7}\n",
    "# ko_cost = None\n",
    "# ki_cost = None\n",
    "\n",
    "# construct MCS MILP\n",
    "strain_design_MILP = straindesigner.StrainDesigner(network,modules, max_cost=maxCost,ko_cost=ko_cost, ki_cost=ki_cost, solver=solver,M=None)\n",
    "# strain_design_MILP = straindesigner.StrainDesignMILP(network,modules,ko_cost=ko_cost, ki_cost=ki_cost, max_cost=maxCost,solver=solver,M=None)\n",
    "\n",
    "# solve MILP\n",
    "strain_design_MILP.enumerate(max_solutions=maxSolutions)\n",
    "# strain_design_MILP.compute_optimal(max_solutions=maxSolutions)\n",
    "# rmcs = strain_design_MILP.compute(max_solutions=maxSolutions,time_limit=15)\n",
    "pass"
   ]
  },
  {
   "cell_type": "code",
   "execution_count": 4,
   "metadata": {},
   "outputs": [
    {
     "ename": "TypeError",
     "evalue": "fba() takes 1 positional argument but 2 were given",
     "output_type": "error",
     "traceback": [
      "\u001b[1;31m---------------------------------------------------------------------------\u001b[0m",
      "\u001b[1;31mTypeError\u001b[0m                                 Traceback (most recent call last)",
      "\u001b[1;32m~\\AppData\\Local\\Temp\\ipykernel_3952\\1425032174.py\u001b[0m in \u001b[0;36m<module>\u001b[1;34m\u001b[0m\n\u001b[0;32m      1\u001b[0m \u001b[1;32mfor\u001b[0m \u001b[0mm\u001b[0m \u001b[1;32min\u001b[0m \u001b[0mmcsEnum\u001b[0m\u001b[1;33m.\u001b[0m\u001b[0mrmcs\u001b[0m\u001b[1;33m:\u001b[0m\u001b[1;33m\u001b[0m\u001b[1;33m\u001b[0m\u001b[0m\n\u001b[0;32m      2\u001b[0m     \u001b[0mconstr\u001b[0m \u001b[1;33m=\u001b[0m \u001b[1;33m[\u001b[0m\u001b[0mstr\u001b[0m\u001b[1;33m(\u001b[0m\u001b[0mk\u001b[0m\u001b[1;33m)\u001b[0m \u001b[1;32mfor\u001b[0m \u001b[0mk\u001b[0m \u001b[1;32min\u001b[0m \u001b[0mm\u001b[0m\u001b[1;33m.\u001b[0m\u001b[0mkeys\u001b[0m\u001b[1;33m(\u001b[0m\u001b[1;33m)\u001b[0m\u001b[1;33m]\u001b[0m\u001b[1;33m\u001b[0m\u001b[1;33m\u001b[0m\u001b[0m\n\u001b[1;32m----> 3\u001b[1;33m     \u001b[0mmcs\u001b[0m\u001b[1;33m.\u001b[0m\u001b[0mfba\u001b[0m\u001b[1;33m(\u001b[0m\u001b[0mnetwork\u001b[0m\u001b[1;33m,\u001b[0m\u001b[1;33m[\u001b[0m\u001b[0mconstr\u001b[0m\u001b[1;33m]\u001b[0m\u001b[1;33m)\u001b[0m\u001b[1;33m\u001b[0m\u001b[1;33m\u001b[0m\u001b[0m\n\u001b[0m",
      "\u001b[1;31mTypeError\u001b[0m: fba() takes 1 positional argument but 2 were given"
     ]
    }
   ],
   "source": [
    "for m in strain_design_MILP.rmcs:\n",
    "    constr = [str(k)+' = 0' for k in m.keys()]\n",
    "    straindesigner.fba(network,constr=constr)"
   ]
  },
  {
   "cell_type": "code",
   "execution_count": 6,
   "metadata": {},
   "outputs": [
    {
     "ename": "TypeError",
     "evalue": "",
     "output_type": "error",
     "traceback": [
      "\u001b[0;31m---------------------------------------------------------------------------\u001b[0m",
      "\u001b[0;31mTypeError\u001b[0m                                 Traceback (most recent call last)",
      "\u001b[0;32m/tmp/ipykernel_21348/1438628204.py\u001b[0m in \u001b[0;36m<module>\u001b[0;34m\u001b[0m\n\u001b[1;32m     18\u001b[0m mcsEnum = mcs.StrainDesigner(network,modules,\n\u001b[1;32m     19\u001b[0m        \u001b[0mko_cost\u001b[0m\u001b[0;34m=\u001b[0m\u001b[0mko_cost\u001b[0m\u001b[0;34m,\u001b[0m\u001b[0mki_cost\u001b[0m\u001b[0;34m=\u001b[0m\u001b[0mki_cost\u001b[0m\u001b[0;34m,\u001b[0m\u001b[0mmax_cost\u001b[0m\u001b[0;34m=\u001b[0m\u001b[0mmaxCost\u001b[0m\u001b[0;34m,\u001b[0m\u001b[0mM\u001b[0m\u001b[0;34m=\u001b[0m\u001b[0;32mNone\u001b[0m\u001b[0;34m,\u001b[0m\u001b[0;34m\u001b[0m\u001b[0;34m\u001b[0m\u001b[0m\n\u001b[0;32m---> 20\u001b[0;31m        solver=solver)\n\u001b[0m\u001b[1;32m     21\u001b[0m \u001b[0;34m\u001b[0m\u001b[0m\n\u001b[1;32m     22\u001b[0m \u001b[0;31m# solve MILP\u001b[0m\u001b[0;34m\u001b[0m\u001b[0;34m\u001b[0m\u001b[0;34m\u001b[0m\u001b[0m\n",
      "\u001b[0;32m/scratch/Python/mcs/mcs/strainDesigner.py\u001b[0m in \u001b[0;36m__init__\u001b[0;34m(self, model, sd_modules, *args, **kwargs)\u001b[0m\n\u001b[1;32m     21\u001b[0m                 \u001b[0mlocals\u001b[0m\u001b[0;34m(\u001b[0m\u001b[0;34m)\u001b[0m\u001b[0;34m[\u001b[0m\u001b[0mkey\u001b[0m\u001b[0;34m]\u001b[0m \u001b[0;34m=\u001b[0m \u001b[0;32mNone\u001b[0m\u001b[0;34m\u001b[0m\u001b[0;34m\u001b[0m\u001b[0m\n\u001b[1;32m     22\u001b[0m         \u001b[0;31m# Preprocess Model\u001b[0m\u001b[0;34m\u001b[0m\u001b[0;34m\u001b[0m\u001b[0;34m\u001b[0m\u001b[0m\n\u001b[0;32m---> 23\u001b[0;31m         \u001b[0msubT\u001b[0m \u001b[0;34m=\u001b[0m \u001b[0mefmtool4cobra\u001b[0m\u001b[0;34m.\u001b[0m\u001b[0mcompress_model_sympy\u001b[0m\u001b[0;34m(\u001b[0m\u001b[0mmodel\u001b[0m\u001b[0;34m)\u001b[0m\u001b[0;34m\u001b[0m\u001b[0;34m\u001b[0m\u001b[0m\n\u001b[0m\u001b[1;32m     24\u001b[0m         \u001b[0;31m# Build MILP\u001b[0m\u001b[0;34m\u001b[0m\u001b[0;34m\u001b[0m\u001b[0;34m\u001b[0m\u001b[0m\n\u001b[1;32m     25\u001b[0m         \u001b[0msuper\u001b[0m\u001b[0;34m(\u001b[0m\u001b[0;34m)\u001b[0m\u001b[0;34m.\u001b[0m\u001b[0m__init__\u001b[0m\u001b[0;34m(\u001b[0m\u001b[0mmodel\u001b[0m\u001b[0;34m,\u001b[0m\u001b[0msd_modules\u001b[0m\u001b[0;34m,\u001b[0m \u001b[0;34m*\u001b[0m\u001b[0margs\u001b[0m\u001b[0;34m,\u001b[0m \u001b[0;34m**\u001b[0m\u001b[0mkwargs\u001b[0m\u001b[0;34m)\u001b[0m\u001b[0;34m\u001b[0m\u001b[0;34m\u001b[0m\u001b[0m\n",
      "\u001b[0;32m/scratch/Python/efmtool_link/efmtool_link/efmtool4cobra.py\u001b[0m in \u001b[0;36mcompress_model_sympy\u001b[0;34m(model, remove_rxns, rational_conversion, remove_gene_reaction_rules)\u001b[0m\n\u001b[1;32m    110\u001b[0m                 \u001b[0mmodel\u001b[0m\u001b[0;34m.\u001b[0m\u001b[0mreactions\u001b[0m\u001b[0;34m[\u001b[0m\u001b[0mi\u001b[0m\u001b[0;34m]\u001b[0m\u001b[0;34m.\u001b[0m\u001b[0m_metabolites\u001b[0m\u001b[0;34m[\u001b[0m\u001b[0mk\u001b[0m\u001b[0;34m]\u001b[0m \u001b[0;34m=\u001b[0m \u001b[0mv\u001b[0m \u001b[0;31m# only changes coefficient in the model, not in the solver\u001b[0m\u001b[0;34m\u001b[0m\u001b[0;34m\u001b[0m\u001b[0m\n\u001b[1;32m    111\u001b[0m             \u001b[0;32melif\u001b[0m \u001b[0mtype\u001b[0m\u001b[0;34m(\u001b[0m\u001b[0mv\u001b[0m\u001b[0;34m)\u001b[0m \u001b[0;32mis\u001b[0m \u001b[0;32mnot\u001b[0m \u001b[0msympy\u001b[0m\u001b[0;34m.\u001b[0m\u001b[0mRational\u001b[0m\u001b[0;34m:\u001b[0m\u001b[0;34m\u001b[0m\u001b[0;34m\u001b[0m\u001b[0m\n\u001b[0;32m--> 112\u001b[0;31m                 \u001b[0;32mraise\u001b[0m \u001b[0mTypeError\u001b[0m\u001b[0;34m\u001b[0m\u001b[0;34m\u001b[0m\u001b[0m\n\u001b[0m\u001b[1;32m    113\u001b[0m             \u001b[0mn\u001b[0m\u001b[0;34m,\u001b[0m \u001b[0md\u001b[0m \u001b[0;34m=\u001b[0m \u001b[0msympyRat2jBigIntegerPair\u001b[0m\u001b[0;34m(\u001b[0m\u001b[0mv\u001b[0m\u001b[0;34m)\u001b[0m\u001b[0;34m\u001b[0m\u001b[0;34m\u001b[0m\u001b[0m\n\u001b[1;32m    114\u001b[0m             \u001b[0;31m# does not work although there is a public void setValueAt(int row, int col, BigInteger numerator, BigInteger denominator) method\u001b[0m\u001b[0;34m\u001b[0m\u001b[0;34m\u001b[0m\u001b[0;34m\u001b[0m\u001b[0m\n",
      "\u001b[0;31mTypeError\u001b[0m: "
     ]
    }
   ],
   "source": [
    "%autoreload\n",
    "# load network\n",
    "network = cobra.io.read_sbml_model(\"weak_coupling.sbml\")\n",
    "# straindesigner.fba(network,constr=[\"r1=0\"])\n",
    "# specify modules\n",
    "# specify modules\n",
    "modules = [straindesigner.SD_Module(network,\"mcs_bilvl\",module_sense=\"undesired\",constraints=[\"r_P <= 0.5\"],inner_objective=\"-r_BM\")]\n",
    "modules.append(straindesigner.SD_Module(network,\"mcs_lin\",module_sense=\"desired\",constraints=\"r_BM >= 1\"))\n",
    "\n",
    "# specify MCS setup\n",
    "ko_cost = {'r2': 1, 'r3': 1, 'r4': 1, 'r5': 1, 'r6': 1, 'r7': 1, 'r8': 1, 'r9': 1}\n",
    "ki_cost = {'r1': 1}\n",
    "maxSolutions = 50\n",
    "maxCost = 50\n",
    "solver = 'cplex'\n",
    "\n",
    "# construct MCS MILP\n",
    "strain_design_MILP = straindesigner.StrainDesigner(network,modules,\n",
    "       ko_cost=ko_cost,ki_cost=ki_cost,max_cost=maxCost,M=None,\n",
    "       solver=solver)\n",
    "\n",
    "# solve MILP\n",
    "# strain_design_MILP.enumerate()\n",
    "# strain_design_MILP.compute()\n",
    "strain_design_MILP.compute_optimal()"
   ]
  },
  {
   "cell_type": "markdown",
   "metadata": {},
   "source": [
    "This is a bilevel-example with only 1 desired region"
   ]
  },
  {
   "cell_type": "code",
   "execution_count": 3,
   "metadata": {},
   "outputs": [
    {
     "name": "stdout",
     "output_type": "stream",
     "text": [
      "Constructing MILP.\n",
      "Bounding MILP.\n",
      "Finding optimal strain designs ...\n",
      "Strain design with cost 1: {'r3': -1}\n",
      "Strain design with cost 1: {'r4': -1}\n",
      "Finished. 2 solutions found.\n"
     ]
    },
    {
     "data": {
      "text/plain": [
       "([{'r3': -1.0}, {'r4': -1.0}], 0)"
      ]
     },
     "execution_count": 3,
     "metadata": {},
     "output_type": "execute_result"
    }
   ],
   "source": [
    "%autoreload\n",
    "# load network\n",
    "network = cobra.io.read_sbml_model(\"weak_coupling.sbml\")\n",
    "# straindesigner.fba(network,constr=[\"r1=0\"])\n",
    "# specify modules\n",
    "modules = straindesigner.SD_Module(network,\"mcs_bilvl\",module_sense=\"desired\",constraints=[\"r_BM >= 0.5\",\"r_P >= 1\"],inner_objective=\"-r_BM\")\n",
    "\n",
    "# specify MCS setup\n",
    "ko_cost = {'r2': 1, 'r3': 1, 'r4': 1, 'r5': 1, 'r6': 1, 'r7': 1, 'r8': 1, 'r9': 1}\n",
    "ki_cost = {'r1': 1}\n",
    "maxSolutions = 50\n",
    "maxCost = 50\n",
    "solver = 'scip'\n",
    "\n",
    "# construct MCS MILP\n",
    "strain_design_MILP = straindesigner.StrainDesigner(network,modules,ko_cost=ko_cost,ki_cost=ki_cost,max_cost=7,solver=solver,M=None)\n",
    "\n",
    "# solve MILP\n",
    "strain_design_MILP.compute_optimal()"
   ]
  },
  {
   "cell_type": "markdown",
   "metadata": {},
   "source": [
    "This is a regular MCS example with 1 target and 1 desired region"
   ]
  },
  {
   "cell_type": "code",
   "execution_count": 24,
   "metadata": {},
   "outputs": [
    {
     "name": "stdout",
     "output_type": "stream",
     "text": [
      "Constructing MILP.\n",
      "Bounding MILP.\n",
      "Finding optimal strain designs ...\n",
      "Strain design with cost 4: {'R07': -1}\n",
      "Strain design with cost 4: {'R10': -1}\n",
      "Strain design with cost 7: {'R06': -1, 'R08': -1}\n",
      "Finished. 3 solutions found.\n"
     ]
    },
    {
     "data": {
      "text/plain": [
       "([{'R07': -1.0}, {'R10': -1.0}, {'R06': -1.0, 'R08': -1.0}], 0)"
      ]
     },
     "execution_count": 24,
     "metadata": {},
     "output_type": "execute_result"
    }
   ],
   "source": [
    "%autoreload\n",
    "# load network\n",
    "network = cobra.io.read_sbml_model(\"SmallExample.sbml\")\n",
    "\n",
    "# specify modules\n",
    "modules = [straindesigner.SD_Module(network,\"mcs_lin\",module_sense=\"undesired\",constraints=[\"R04 >= 1\",\"2 R01 >= 0.5\"])]\n",
    "modules.append(straindesigner.SD_Module(network,\"mcs_lin\",module_sense=\"desired\",constraints=\"R03 >= 1\"))\n",
    "\n",
    "# specify MCS setup\n",
    "ko_cost = {'R05': 2, 'R06': 3, 'R07': 4, 'R08': 4, 'R09': 4, 'R10': 4}\n",
    "ki_cost = {'R02': 6}\n",
    "maxSolutions = 8\n",
    "maxCost = 8\n",
    "solver = 'scip'\n",
    "\n",
    "# construct MCS MILP\n",
    "strain_design_MILP = straindesigner.StrainDesigner(network,modules,ko_cost=ko_cost,ki_cost=ki_cost,max_cost=maxCost,solver=solver,M=None)\n",
    "\n",
    "# solve MILP\n",
    "# strain_design_MILP.enumerate()\n",
    "# strain_design_MILP.compute()\n",
    "strain_design_MILP.compute_optimal()"
   ]
  },
  {
   "cell_type": "markdown",
   "metadata": {},
   "source": [
    "This is a bilevel-example with 1 Target and 1 Desired region"
   ]
  },
  {
   "cell_type": "code",
   "execution_count": 12,
   "metadata": {},
   "outputs": [
    {
     "name": "stdout",
     "output_type": "stream",
     "text": [
      "Constructing MILP.\n",
      "Bounding MILP.\n",
      "Finding (also non-optimal) strain designs ...\n",
      "Searching in full search space.\n",
      "Minimizing number of interventions in subspace with 3 possible targets.\n",
      "Strain design with cost 1: {'r2': -1}\n",
      "Searching in full search space.\n",
      "Minimizing number of interventions in subspace with 1 possible targets.\n",
      "Strain design with cost 1: {'r_S': -1}\n",
      "Searching in full search space.\n",
      "Minimizing number of interventions in subspace with 3 possible targets.\n",
      "Strain design with cost 3: {'r4': -1, 'r6': -1, 'r_Q': -1}\n",
      "Searching in full search space.\n",
      "Minimizing number of interventions in subspace with 3 possible targets.\n",
      "Strain design with cost 2: {'r_BM': -1, 'r_Q': -1}\n",
      "Searching in full search space.\n",
      "Minimizing number of interventions in subspace with 3 possible targets.\n",
      "Strain design with cost 3: {'r4': -1, 'r7': -1, 'r_Q': -1}\n",
      "Searching in full search space.\n",
      "Minimizing number of interventions in subspace with 2 possible targets.\n",
      "Strain design with cost 2: {'r4': -1, 'r_BM': -1}\n",
      "Finished. 6 solutions found.\n"
     ]
    },
    {
     "data": {
      "text/plain": [
       "([{'r2': -1.0},\n",
       "  {'r_S': -1.0},\n",
       "  {'r4': -1.0, 'r6': -1.0, 'r_Q': -1.0},\n",
       "  {'r_BM': -1.0, 'r_Q': -1.0},\n",
       "  {'r4': -1.0, 'r7': -1.0, 'r_Q': -1.0},\n",
       "  {'r4': -1.0, 'r_BM': -1.0}],\n",
       " 0)"
      ]
     },
     "execution_count": 12,
     "metadata": {},
     "output_type": "execute_result"
    }
   ],
   "source": [
    "%autoreload\n",
    "# load network\n",
    "network = cobra.io.read_sbml_model(\"weak_coupling.sbml\")\n",
    "straindesigner.fba(network,constr=[\"r1=0\"])\n",
    "# specify modules\n",
    "# specify modules\n",
    "modules = straindesigner.SD_Module(network,\"mcs_bilvl\",module_sense=\"undesired\",constraints=[\"r_P <= 0.5\"],inner_objective=\"-r_BM\")\n",
    "\n",
    "# specify MCS setup\n",
    "maxSolutions = 6\n",
    "maxCost = 3\n",
    "solver = 'cplex'\n",
    "\n",
    "# construct MCS MILP\n",
    "strain_design_MILP = straindesigner.StrainDesigner(network,modules,max_cost=maxCost,M=None,solver=solver)\n",
    "\n",
    "# solve MILP\n",
    "# strain_design_MILP.compute()\n",
    "strain_design_MILP.compute(max_solutions=maxSolutions)\n",
    "# strain_design_MILP.enumerate(max_solutions=maxSolutions)\n",
    "# strain_design_MILP.enumerate(max_solutions=maxSolutions)\n",
    "# strain_design_MILP.compute_optimal(max_solutions=maxSolutions)"
   ]
  },
  {
   "cell_type": "markdown",
   "metadata": {},
   "source": [
    "This is a mid-scale-example with only 1 desired region"
   ]
  },
  {
   "cell_type": "code",
   "execution_count": null,
   "metadata": {},
   "outputs": [
    {
     "name": "stdout",
     "output_type": "stream",
     "text": [
      "Constructing MILP.\n",
      "Bounding MILP.\n",
      "Finding (also non-optimal) strain designs ...\n",
      "Searching in full search space.\n",
      "Minimizing number of interventions in subspace with 1 possible targets.\n",
      "Strain design with cost 1: {'ATPM': -1}\n",
      "Searching in full search space.\n",
      "Minimizing number of interventions in subspace with 6 possible targets.\n",
      "Strain design with cost 4: {'ACKr': -1, 'AKGDH': -1, 'ATPS4rpp': -1, 'ENO': -1}\n",
      "Searching in full search space.\n",
      "Minimizing number of interventions in subspace with 4 possible targets.\n",
      "Strain design with cost 4: {'AKGDH': -1, 'ATPS4rpp': -1, 'ENO': -1, 'PTAr': -1}\n",
      "Searching in full search space.\n",
      "Minimizing number of interventions in subspace with 5 possible targets.\n",
      "Strain design with cost 4: {'ACKr': -1, 'ATPS4rpp': -1, 'ENO': -1, 'SUCOAS': -1}\n",
      "Finished. 4 solutions found.\n"
     ]
    },
    {
     "data": {
      "text/plain": [
       "([{'ATPM': -1.0},\n",
       "  {'ACKr': -1.0, 'AKGDH': -1.0, 'ATPS4rpp': -1.0, 'ENO': -1.0},\n",
       "  {'AKGDH': -1.0, 'ATPS4rpp': -1.0, 'ENO': -1.0, 'PTAr': -1.0},\n",
       "  {'ACKr': -1.0, 'ATPS4rpp': -1.0, 'ENO': -1.0, 'SUCOAS': -1.0}],\n",
       " 0)"
      ]
     },
     "execution_count": 16,
     "metadata": {},
     "output_type": "execute_result"
    }
   ],
   "source": [
    "%autoreload\n",
    "# load network\n",
    "network = cobra.io.read_sbml_model(\"ECC2comp.sbml\")\n",
    "# remove external metabolites and obsolete reactions\n",
    "external_mets = [i for i,cpts in zip(network.metabolites,network.metabolites.list_attr(\"compartment\")) if cpts == 'External_Species']\n",
    "network.remove_metabolites(external_mets)\n",
    "S = cobra.util.create_stoichiometric_matrix(network)\n",
    "obsolete_reacs = [reac for reac,b_rempty in zip(network.reactions,np.any(S,0)) if not b_rempty]\n",
    "network.remove_reactions(obsolete_reacs)\n",
    "# close some uptakes\n",
    "network.reactions.AcUp.upper_bound = 0\n",
    "network.reactions.GlycUp.upper_bound = 0\n",
    "network.reactions.ATPM.upper_bound = 1000\n",
    "network.reactions.ATPM.lower_bound = 3.15\n",
    "\n",
    "sol = straindesigner.fba(network,constr=[\"O2Up=0\"])\n",
    "# specify modules\n",
    "modules = straindesigner.SD_Module(network,\"mcs_lin\",module_sense=\"undesired\")\n",
    "\n",
    "network.remove_metabolites\n",
    "network.metabolites.list_attr(\"compartment\")\n",
    "# specify MCS setup\n",
    "maxSolutions = 4\n",
    "maxCost = 50\n",
    "solver = 'cplex'\n",
    "\n",
    "# construct MCS MILP\n",
    "strain_design_MILP = straindesigner.StrainDesigner(network,modules,max_cost=7,solver=solver,M=None)\n",
    "\n",
    "# solve MILP\n",
    "# strain_design_MILP.enumerate(max_solutions=maxSolutions)\n",
    "# strain_design_MILP.compute_optimal(max_solutions=maxSolutions)\n",
    "strain_design_MILP.compute(max_solutions=maxSolutions)"
   ]
  },
  {
   "cell_type": "code",
   "execution_count": null,
   "metadata": {},
   "outputs": [
    {
     "name": "stdout",
     "output_type": "stream",
     "text": [
      "Constructing MILP.\n",
      "Bounding MILP.\n"
     ]
    },
    {
     "name": "stderr",
     "output_type": "stream",
     "text": [
      "c:\\users\\phili\\documents\\python\\mcs\\mcs\\strainDesigner.py:332: UserWarning: SCIP does not natively support solution pool generation. An high-level implementation of populate is used. Consider using compute_optimal instead of enumerate, as it returns the same results but faster.\n",
      "  \"Consider using compute_optimal instead of enumerate, as \" + \\\n"
     ]
    },
    {
     "name": "stdout",
     "output_type": "stream",
     "text": [
      "Enumerating strain designs ...\n",
      "Enumerating all solutions with the objective value -13.868049181833067\n",
      "Strain designs with cost 2.0: [{'AcEx': -1.0, 'CYTBO3_4pp': -1.0}]\n",
      "Strain designs with cost 2.0: [{'ACKr': -1.0, 'CYTBO3_4pp': -1.0}]\n",
      "Strain designs with cost 2.0: [{'AcEx': -1.0, 'O2Up': -1.0}]\n",
      "Enumerating all solutions with the objective value -13.77629593754908\n",
      "Strain designs with cost 2.0: [{'ACKr': -1.0, 'O2Up': -1.0}]\n",
      "Strain designs with cost 2.0: [{'CYTBO3_4pp': -1.0, 'PTAr': -1.0}]\n",
      "Strain designs with cost 2.0: [{'O2Up': -1.0, 'PTAr': -1.0}]\n",
      "Enumerating all solutions with the objective value -11.602860050576796\n",
      "Strain designs with cost 2.0: [{'AcEx': -1.0, 'h2oEx': -1.0}]\n",
      "Enumerating all solutions with the objective value -11.599739089700533\n",
      "Strain designs with cost 2.0: [{'h2oEx': -1.0, 'THD2pp': -1.0}]\n",
      "Enumerating all solutions with the objective value -11.520532158562109\n",
      "Strain designs with cost 2.0: [{'ACKr': -1.0, 'h2oEx': -1.0}]\n",
      "Strain designs with cost 2.0: [{'h2oEx': -1.0, 'PTAr': -1.0}]\n",
      "Enumerating all solutions with the objective value -9.366460782611078\n",
      "Strain designs with cost 2.0: [{'ATPS4rpp': -1.0, 'h2oEx': -1.0}]\n",
      "Enumerating all solutions with the objective value -9.307055812396092\n",
      "Strain designs with cost 2.0: [{'O2Up': -1.0, 'THD2pp': -1.0}]\n",
      "Strain designs with cost 2.0: [{'CYTBO3_4pp': -1.0, 'THD2pp': -1.0}]\n",
      "Enumerating all solutions with the objective value -9.148771606678938\n",
      "Strain designs with cost 2.0: [{'CYTBO3_4pp': -1.0, 'PPC': -1.0}]\n",
      "Strain designs with cost 2.0: [{'O2Up': -1.0, 'PPC': -1.0}]\n",
      "Enumerating all solutions with the objective value -8.991087698323456\n",
      "Strain designs with cost 2.0: [{'h2oEx': -1.0, 'TKT2': -1.0}]\n",
      "Strain designs with cost 1.0: [{'h2oEx': -1.0}]\n",
      "Strain designs with cost 2.0: [{'h2oEx': -1.0, 'PGL': -1.0}]\n",
      "Strain designs with cost 2.0: [{'h2oEx': -1.0, 'SUCOAS': -1.0}]\n",
      "Strain designs with cost 2.0: [{'h2oEx': -1.0, 'NADTRHD': -1.0}]\n",
      "Strain designs with cost 2.0: [{'EDA': -1.0, 'h2oEx': -1.0}]\n",
      "Strain designs with cost 2.0: [{'G6PDH2r': -1.0, 'h2oEx': -1.0}]\n",
      "Strain designs with cost 2.0: [{'h2oEx': -1.0, 'RPE': -1.0}]\n",
      "Enumerating all solutions with the objective value -8.378407062821942\n",
      "Strain designs with cost 2.0: [{'CYTBO3_4pp': -1.0, 'PYK': -1.0}]\n",
      "Strain designs with cost 2.0: [{'O2Up': -1.0, 'PYK': -1.0}]\n",
      "Enumerating all solutions with the objective value -8.240524222683492\n",
      "Strain designs with cost 2.0: [{'O2Up': -1.0, 'TKT2': -1.0}]\n",
      "Strain designs with cost 2.0: [{'O2Up': -1.0, 'SUCOAS': -1.0}]\n",
      "Strain designs with cost 2.0: [{'CYTBO3_4pp': -1.0, 'TKT2': -1.0}]\n",
      "Enumerating all solutions with the objective value -8.16185349058249\n",
      "Strain designs with cost 2.0: [{'CYTBO3_4pp': -1.0, 'h2Ex': -1.0}]\n",
      "Strain designs with cost 2.0: [{'CO2Ex': -1.0, 'O2Up': -1.0}]\n",
      "Strain designs with cost 2.0: [{'h2Ex': -1.0, 'O2Up': -1.0}]\n",
      "Strain designs with cost 2.0: [{'CYTBO3_4pp': -1.0, 'FHL': -1.0}]\n",
      "Strain designs with cost 2.0: [{'FHL': -1.0, 'O2Up': -1.0}]\n",
      "Enumerating all solutions with the objective value -8.161407782995832\n",
      "Strain designs with cost 2.0: [{'CO2Ex': -1.0, 'CYTBO3_4pp': -1.0}]\n",
      "Enumerating all solutions with the objective value -8.133129668876695\n",
      "Strain designs with cost 2.0: [{'CYTBO3_4pp': -1.0, 'SUCOAS': -1.0}]\n",
      "Enumerating all solutions with the objective value -8.098437440401261\n",
      "Strain designs with cost 2.0: [{'CYTBO3_4pp': -1.0, 'RPE': -1.0}]\n",
      "Strain designs with cost 2.0: [{'O2Up': -1.0, 'RPE': -1.0}]\n",
      "Strain designs with cost 2.0: [{'CYTBO3_4pp': -1.0, 'GLCptspp': -1.0}]\n",
      "Enumerating all solutions with the objective value -8.010732145244122\n",
      "Strain designs with cost 2.0: [{'GLCptspp': -1.0, 'O2Up': -1.0}]\n",
      "Enumerating all solutions with the objective value -7.955479845501067\n",
      "Strain designs with cost 2.0: [{'CYTBO3_4pp': -1.0, 'TALA': -1.0}]\n",
      "Strain designs with cost 2.0: [{'O2Up': -1.0, 'TKT1': -1.0}]\n",
      "Strain designs with cost 2.0: [{'O2Up': -1.0, 'TALA': -1.0}]\n",
      "Strain designs with cost 2.0: [{'CYTBO3_4pp': -1.0, 'TKT1': -1.0}]\n",
      "Enumerating all solutions with the objective value -7.818719244922254\n",
      "Strain designs with cost 1.0: [{'O2Up': -1.0}]\n",
      "Enumerating all solutions with the objective value -7.818719244922228\n",
      "Strain designs with cost 2.0: [{'CYTBO3_4pp': -1.0, 'MDH': -1.0}]\n",
      "Enumerating all solutions with the objective value -7.806495199170636\n",
      "Strain designs with cost 1.0: [{'CYTBO3_4pp': -1.0}]\n",
      "Finished. 46 solutions found.\n"
     ]
    },
    {
     "data": {
      "text/plain": [
       "([{'AcEx': -1.0, 'CYTBO3_4pp': -1.0},\n",
       "  {'ACKr': -1.0, 'CYTBO3_4pp': -1.0},\n",
       "  {'AcEx': -1.0, 'O2Up': -1.0},\n",
       "  {'ACKr': -1.0, 'O2Up': -1.0},\n",
       "  {'CYTBO3_4pp': -1.0, 'PTAr': -1.0},\n",
       "  {'O2Up': -1.0, 'PTAr': -1.0},\n",
       "  {'AcEx': -1.0, 'h2oEx': -1.0},\n",
       "  {'h2oEx': -1.0, 'THD2pp': -1.0},\n",
       "  {'ACKr': -1.0, 'h2oEx': -1.0},\n",
       "  {'h2oEx': -1.0, 'PTAr': -1.0},\n",
       "  {'ATPS4rpp': -1.0, 'h2oEx': -1.0},\n",
       "  {'O2Up': -1.0, 'THD2pp': -1.0},\n",
       "  {'CYTBO3_4pp': -1.0, 'THD2pp': -1.0},\n",
       "  {'CYTBO3_4pp': -1.0, 'PPC': -1.0},\n",
       "  {'O2Up': -1.0, 'PPC': -1.0},\n",
       "  {'h2oEx': -1.0, 'TKT2': -1.0},\n",
       "  {'h2oEx': -1.0},\n",
       "  {'h2oEx': -1.0, 'PGL': -1.0},\n",
       "  {'h2oEx': -1.0, 'SUCOAS': -1.0},\n",
       "  {'h2oEx': -1.0, 'NADTRHD': -1.0},\n",
       "  {'EDA': -1.0, 'h2oEx': -1.0},\n",
       "  {'G6PDH2r': -1.0, 'h2oEx': -1.0},\n",
       "  {'h2oEx': -1.0, 'RPE': -1.0},\n",
       "  {'CYTBO3_4pp': -1.0, 'PYK': -1.0},\n",
       "  {'O2Up': -1.0, 'PYK': -1.0},\n",
       "  {'O2Up': -1.0, 'TKT2': -1.0},\n",
       "  {'O2Up': -1.0, 'SUCOAS': -1.0},\n",
       "  {'CYTBO3_4pp': -1.0, 'TKT2': -1.0},\n",
       "  {'CYTBO3_4pp': -1.0, 'h2Ex': -1.0},\n",
       "  {'CO2Ex': -1.0, 'O2Up': -1.0},\n",
       "  {'h2Ex': -1.0, 'O2Up': -1.0},\n",
       "  {'CYTBO3_4pp': -1.0, 'FHL': -1.0},\n",
       "  {'FHL': -1.0, 'O2Up': -1.0},\n",
       "  {'CO2Ex': -1.0, 'CYTBO3_4pp': -1.0},\n",
       "  {'CYTBO3_4pp': -1.0, 'SUCOAS': -1.0},\n",
       "  {'CYTBO3_4pp': -1.0, 'RPE': -1.0},\n",
       "  {'O2Up': -1.0, 'RPE': -1.0},\n",
       "  {'CYTBO3_4pp': -1.0, 'GLCptspp': -1.0},\n",
       "  {'GLCptspp': -1.0, 'O2Up': -1.0},\n",
       "  {'CYTBO3_4pp': -1.0, 'TALA': -1.0},\n",
       "  {'O2Up': -1.0, 'TKT1': -1.0},\n",
       "  {'O2Up': -1.0, 'TALA': -1.0},\n",
       "  {'CYTBO3_4pp': -1.0, 'TKT1': -1.0},\n",
       "  {'O2Up': -1.0},\n",
       "  {'CYTBO3_4pp': -1.0, 'MDH': -1.0},\n",
       "  {'CYTBO3_4pp': -1.0}],\n",
       " 0)"
      ]
     },
     "execution_count": 17,
     "metadata": {},
     "output_type": "execute_result"
    }
   ],
   "source": [
    "%autoreload\n",
    "# load network\n",
    "network = cobra.io.read_sbml_model(\"ECC2comp.sbml\")\n",
    "# remove external metabolites and obsolete reactions\n",
    "external_mets = [i for i,cpts in zip(network.metabolites,network.metabolites.list_attr(\"compartment\")) if cpts == 'External_Species']\n",
    "network.remove_metabolites(external_mets)\n",
    "S = cobra.util.create_stoichiometric_matrix(network)\n",
    "obsolete_reacs = [reac for reac,b_rempty in zip(network.reactions,np.any(S,0)) if not b_rempty]\n",
    "network.remove_reactions(obsolete_reacs)\n",
    "# close some uptakes\n",
    "network.reactions.AcUp.upper_bound = 0\n",
    "network.reactions.SuccUp.upper_bound = 0\n",
    "network.reactions.GlycUp.upper_bound = 0\n",
    "network.reactions.CO2Up = 0\n",
    "network.reactions.ATPM.upper_bound = 1000\n",
    "network.reactions.ATPM.lower_bound = 3.15\n",
    "\n",
    "# sol = straindesigner.fba(network,constr=[\"O2Up=0\"])\n",
    "# sol1 = straindesigner.fba(network,constr=['AcEx = 0','ATPS4rpp = 0', 'G3PD5= 0', 'NADTRHD= 0', 'PFL= 0', 'PYK= 0', 'SuccEx= 0', 'SUCCt2_2pp= 0'])\n",
    "# sol2 = straindesigner.fva(network,constr=['Growth = '+str(0.999*sol1.objective_value),'AcEx = 0','ATPS4rpp = 0', 'G3PD5= 0', 'NADTRHD= 0', 'PFL= 0', 'PYK= 0', 'SuccEx= 0', 'SUCCt2_2pp= 0'])\n",
    "\n",
    "# specify modules\n",
    "modules = straindesigner.SD_Module(network,\"optknock\",constraints=[\"Growth >= 0.2\",\"EthEx >= 1\"],inner_objective=\"Growth\",outer_objective=\"EthEx\")\n",
    "\n",
    "# specify MCS setup\n",
    "maxSolutions = 100\n",
    "maxCost = 2\n",
    "solver = 'scip'\n",
    "\n",
    "# construct MCS MILP\n",
    "strain_design_MILP = straindesigner.StrainDesigner(network,modules,max_cost=maxCost,M=None, solver=solver)\n",
    "\n",
    "# solve MILP\n",
    "# strain_design_MILP.compute(max_solutions=maxSolutions)\n",
    "# strain_design_MILP.compute_optimal(max_solutions=maxSolutions)\n",
    "strain_design_MILP.enumerate(max_solutions=maxSolutions)"
   ]
  },
  {
   "cell_type": "code",
   "execution_count": null,
   "metadata": {},
   "outputs": [],
   "source": [
    "%autoreload\n",
    "# load network\n",
    "network = cobra.io.read_sbml_model(\"ECC2comp.sbml\")\n",
    "# remove external metabolites and obsolete reactions\n",
    "external_mets = [i for i,cpts in zip(network.metabolites,network.metabolites.list_attr(\"compartment\")) if cpts == 'External_Species']\n",
    "network.remove_metabolites(external_mets)\n",
    "S = cobra.util.create_stoichiometric_matrix(network)\n",
    "obsolete_reacs = [reac for reac,b_rempty in zip(network.reactions,np.any(S,0)) if not b_rempty]\n",
    "network.remove_reactions(obsolete_reacs)\n",
    "# close some uptakes\n",
    "network.reactions.AcUp.upper_bound = 0\n",
    "network.reactions.SuccUp.upper_bound = 0\n",
    "network.reactions.GlycUp.upper_bound = 0\n",
    "network.reactions.CO2Up = 0\n",
    "network.reactions.ATPM.upper_bound = 1000\n",
    "network.reactions.ATPM.lower_bound = 3.15\n",
    "# for i in enumerate(network.reactions)\n",
    "\n",
    "# sol = straindesigner.fba(network,constr=[\"O2Up=0\"])\n",
    "# sol1 = straindesigner.fba(network,constr=['AcEx = 0','ATPS4rpp = 0', 'G3PD5= 0', 'NADTRHD= 0', 'PFL= 0', 'PYK= 0', 'SuccEx= 0', 'SUCCt2_2pp= 0'])\n",
    "# sol2 = straindesigner.fva(network,constr=['Growth = '+str(0.999*sol1.objective_value),'AcEx = 0','ATPS4rpp = 0', 'G3PD5= 0', 'NADTRHD= 0', 'PFL= 0', 'PYK= 0', 'SuccEx= 0', 'SUCCt2_2pp= 0'])\n",
    "\n",
    "# specify modules\n",
    "modules = straindesigner.SD_Module(network,\"robustknock\",constraints=[\"Growth >= 0.2\",\"EthEx >= 1\"],inner_objective=\"Growth\",outer_objective=\"EthEx\")\n",
    "\n",
    "# specify MCS setup\n",
    "maxSolutions = 10\n",
    "maxCost = 15\n",
    "solver = 'gurobi'\n",
    "\n",
    "# construct MCS MILP\n",
    "strain_design_MILP = straindesigner.StrainDesigner(network,modules,max_cost=maxCost,M=None, solver=solver)\n",
    "\n",
    "# solve MILP\n",
    "# strain_design_MILP.compute(max_solutions=maxSolutions)\n",
    "strain_design_MILP.compute_optimal(max_solutions=maxSolutions)\n",
    "# strain_design_MILP.enumerate(max_solutions=maxSolutions)"
   ]
  },
  {
   "cell_type": "code",
   "execution_count": 13,
   "metadata": {},
   "outputs": [
    {
     "name": "stdout",
     "output_type": "stream",
     "text": [
      "Constructing MILP.\n",
      "Bounding MILP.\n",
      "Finding (also non-optimal) strain designs ...\n",
      "Searching in full search space.\n",
      "Found solution with objective value -0.7232319930893569\n",
      "Minimizing number of interventions in subspace with 12 possible targets.\n",
      "Strain design with cost 7: {'ACKr': -1, 'FRD2': -1, 'GLCt2pp': -1, 'LacEx': -1, 'MDH': -1, 'POX': -1, 'PPS': -1}\n",
      "Strain design with cost 7: {'ACKr': -1, 'GLCt2pp': -1, 'LacEx': -1, 'MDH': -1, 'NADH17pp': -1, 'POX': -1, 'PPS': -1}\n",
      "Searching in full search space.\n",
      "Found solution with objective value -0.47067448500915887\n",
      "Minimizing number of interventions in subspace with 12 possible targets.\n",
      "Strain design with cost 7: {'FUM': -1, 'HEX1': -1, 'LDH_D': -1, 'MALS': -1, 'POX': -1, 'PPS': -1, 'PTAr': -1}\n",
      "Strain design with cost 7: {'ACKr': -1, 'FUM': -1, 'HEX1': -1, 'LDH_D': -1, 'MALS': -1, 'POX': -1, 'PPS': -1}\n",
      "Searching in full search space.\n",
      "Found solution with objective value -0.4940321270089865\n",
      "Minimizing number of interventions in subspace with 15 possible targets.\n",
      "Strain design with cost 7: {'AcEx': -1, 'FRD2': -1, 'LDH_D': -1, 'MDH': -1, 'PGI': -1, 'PPS': -1, 'TKT1': -1}\n",
      "Strain design with cost 7: {'AcEx': -1, 'LDH_D': -1, 'MDH': -1, 'NADH17pp': -1, 'PGI': -1, 'PPS': -1, 'TKT1': -1}\n",
      "Searching in full search space.\n",
      "Found solution with objective value -0.6422924896512159\n",
      "Minimizing number of interventions in subspace with 10 possible targets.\n",
      "Strain design with cost 8: {'GND': -1, 'ICL': -1, 'LDH_D': -1, 'MDH': -1, 'PGI': -1, 'POX': -1, 'PPS': -1, 'PTAr': -1}\n",
      "Searching in full search space.\n",
      "Found solution with objective value -0.4491967681708994\n",
      "Minimizing number of interventions in subspace with 11 possible targets.\n",
      "Strain design with cost 6: {'AcEx': -1, 'FRD2': -1, 'GLCt2pp': -1, 'LacEx': -1, 'MDH': -1, 'PPS': -1}\n",
      "Strain design with cost 6: {'AcEx': -1, 'GLCt2pp': -1, 'LacEx': -1, 'MDH': -1, 'NADH17pp': -1, 'PPS': -1}\n",
      "Searching in full search space.\n",
      "Found solution with objective value -0.6693646652165891\n",
      "Minimizing number of interventions in subspace with 12 possible targets.\n",
      "Strain design with cost 7: {'FUM': -1, 'HEX1': -1, 'LDH_D': -1, 'MDH': -1, 'POX': -1, 'PPS': -1, 'PTAr': -1}\n",
      "Finished. 10 solutions found.\n"
     ]
    },
    {
     "data": {
      "text/plain": [
       "([{'ACKr': -1.0,\n",
       "   'FRD2': -1.0,\n",
       "   'GLCt2pp': -1.0,\n",
       "   'LacEx': -1.0,\n",
       "   'MDH': -1.0,\n",
       "   'POX': -1.0,\n",
       "   'PPS': -1.0},\n",
       "  {'ACKr': -1.0,\n",
       "   'GLCt2pp': -1.0,\n",
       "   'LacEx': -1.0,\n",
       "   'MDH': -1.0,\n",
       "   'NADH17pp': -1.0,\n",
       "   'POX': -1.0,\n",
       "   'PPS': -1.0},\n",
       "  {'FUM': -1.0,\n",
       "   'HEX1': -1.0,\n",
       "   'LDH_D': -1.0,\n",
       "   'MALS': -1.0,\n",
       "   'POX': -1.0,\n",
       "   'PPS': -1.0,\n",
       "   'PTAr': -1.0},\n",
       "  {'ACKr': -1.0,\n",
       "   'FUM': -1.0,\n",
       "   'HEX1': -1.0,\n",
       "   'LDH_D': -1.0,\n",
       "   'MALS': -1.0,\n",
       "   'POX': -1.0,\n",
       "   'PPS': -1.0},\n",
       "  {'AcEx': -1.0,\n",
       "   'FRD2': -1.0,\n",
       "   'LDH_D': -1.0,\n",
       "   'MDH': -1.0,\n",
       "   'PGI': -1.0,\n",
       "   'PPS': -1.0,\n",
       "   'TKT1': -1.0},\n",
       "  {'AcEx': -1.0,\n",
       "   'LDH_D': -1.0,\n",
       "   'MDH': -1.0,\n",
       "   'NADH17pp': -1.0,\n",
       "   'PGI': -1.0,\n",
       "   'PPS': -1.0,\n",
       "   'TKT1': -1.0},\n",
       "  {'GND': -1.0,\n",
       "   'ICL': -1.0,\n",
       "   'LDH_D': -1.0,\n",
       "   'MDH': -1.0,\n",
       "   'PGI': -1.0,\n",
       "   'POX': -1.0,\n",
       "   'PPS': -1.0,\n",
       "   'PTAr': -1.0},\n",
       "  {'AcEx': -1.0,\n",
       "   'FRD2': -1.0,\n",
       "   'GLCt2pp': -1.0,\n",
       "   'LacEx': -1.0,\n",
       "   'MDH': -1.0,\n",
       "   'PPS': -1.0},\n",
       "  {'AcEx': -1.0,\n",
       "   'GLCt2pp': -1.0,\n",
       "   'LacEx': -1.0,\n",
       "   'MDH': -1.0,\n",
       "   'NADH17pp': -1.0,\n",
       "   'PPS': -1.0},\n",
       "  {'FUM': -1.0,\n",
       "   'HEX1': -1.0,\n",
       "   'LDH_D': -1.0,\n",
       "   'MDH': -1.0,\n",
       "   'POX': -1.0,\n",
       "   'PPS': -1.0,\n",
       "   'PTAr': -1.0}],\n",
       " 0)"
      ]
     },
     "execution_count": 13,
     "metadata": {},
     "output_type": "execute_result"
    }
   ],
   "source": [
    "%autoreload\n",
    "# load network\n",
    "network = cobra.io.read_sbml_model(\"ECC2comp.sbml\")\n",
    "# remove external metabolites and obsolete reactions\n",
    "external_mets = [i for i,cpts in zip(network.metabolites,network.metabolites.list_attr(\"compartment\")) if cpts == 'External_Species']\n",
    "network.remove_metabolites(external_mets)\n",
    "S = cobra.util.create_stoichiometric_matrix(network)\n",
    "obsolete_reacs = [reac for reac,b_rempty in zip(network.reactions,np.any(S,0)) if not b_rempty]\n",
    "network.remove_reactions(obsolete_reacs)\n",
    "# close some uptakes\n",
    "network.reactions.AcUp.upper_bound = 0\n",
    "network.reactions.SuccUp.upper_bound = 0\n",
    "network.reactions.GlycUp.upper_bound = 0\n",
    "network.reactions.CO2Up = 0\n",
    "network.reactions.ATPM.upper_bound = 1000\n",
    "network.reactions.ATPM.lower_bound = 3.15\n",
    "# for i in enumerate(network.reactions)\n",
    "\n",
    "# sol = straindesigner.fba(network,constr=[\"O2Up=0\"])\n",
    "# sol1 = straindesigner.fba(network,constr=['AcEx = 0','ATPS4rpp = 0', 'G3PD5= 0', 'NADTRHD= 0', 'PFL= 0', 'PYK= 0', 'SuccEx= 0', 'SUCCt2_2pp= 0'])\n",
    "# sol2 = straindesigner.fva(network,constr=['Growth = '+str(0.999*sol1.objective_value),'AcEx = 0','ATPS4rpp = 0', 'G3PD5= 0', 'NADTRHD= 0', 'PFL= 0', 'PYK= 0', 'SuccEx= 0', 'SUCCt2_2pp= 0'])\n",
    "\n",
    "# specify modules\n",
    "modules = straindesigner.SD_Module(network,\"optcouple\",constraints=[\"Growth >= 0.2\",\"EthEx >= 1\"],inner_objective=\"Growth\",prod_id=\"EthEx\",min_gcp=0.4)\n",
    "\n",
    "# specify MCS setup\n",
    "maxSolutions = 10\n",
    "maxCost = 15\n",
    "solver = 'scip'\n",
    "\n",
    "# construct MCS MILP\n",
    "strain_design_MILP = straindesigner.StrainDesigner(network,modules,max_cost=maxCost,M=None, solver=solver)\n",
    "\n",
    "# solve MILP\n",
    "strain_design_MILP.compute(max_solutions=maxSolutions)\n",
    "# strain_design_MILP.compute_optimal(max_solutions=maxSolutions)\n",
    "# strain_design_MILP.enumerate(max_solutions=maxSolutions)"
   ]
  }
 ],
 "metadata": {
  "interpreter": {
   "hash": "c6cb88db6456a5d9db25cf91966766d45a3aee345dd42db13a70c45805ef0614"
  },
  "kernelspec": {
   "display_name": "Python 3.7.12 64-bit ('cnapy-dev': conda)",
   "language": "python",
   "name": "python3"
  },
  "language_info": {
   "codemirror_mode": {
    "name": "ipython",
    "version": 3
   },
   "file_extension": ".py",
   "mimetype": "text/x-python",
   "name": "python",
   "nbconvert_exporter": "python",
   "pygments_lexer": "ipython3",
   "version": "3.9.7"
  },
  "orig_nbformat": 4
 },
 "nbformat": 4,
 "nbformat_minor": 2
}
