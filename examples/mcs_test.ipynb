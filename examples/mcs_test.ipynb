{
 "cells": [
  {
   "cell_type": "code",
   "execution_count": 4,
   "metadata": {},
   "outputs": [],
   "source": [
    "import cobra\n",
    "import numpy as np\n",
    "from importlib import reload"
   ]
  },
  {
   "cell_type": "code",
   "execution_count": 20,
   "metadata": {},
   "outputs": [],
   "source": [
    "from mcs import cplex_interface,mcs_module,cMCS_enumerator\n",
    "reload(cplex_interface)\n",
    "reload(mcs_module)\n",
    "reload(cMCS_enumerator)\n",
    "\n",
    "network = cobra.io.read_sbml_model(\"SmallExample.sbml\")"
   ]
  },
  {
   "cell_type": "code",
   "execution_count": 30,
   "metadata": {},
   "outputs": [],
   "source": [
    "\n",
    "modules = [mcs_module.MCS_Module(network,\"target\",\"lin_constraints\",\"R4 >= 1\")]\n",
    "modules.append(mcs_module.MCS_Module(network,\"desired\",\"lin_constraints\",\"R3 >= 1\"))\n"
   ]
  },
  {
   "cell_type": "code",
   "execution_count": 26,
   "metadata": {},
   "outputs": [
    {
     "name": "stdout",
     "output_type": "stream",
     "text": [
      "hello world\n",
      "hello world\n",
      "done\n"
     ]
    },
    {
     "ename": "TypeError",
     "evalue": "compute_mcs() takes from 1 to 3 positional arguments but 6 were given",
     "output_type": "error",
     "traceback": [
      "\u001b[1;31m---------------------------------------------------------------------------\u001b[0m",
      "\u001b[1;31mTypeError\u001b[0m                                 Traceback (most recent call last)",
      "\u001b[1;32m~\\AppData\\Local\\Temp/ipykernel_2268/376712991.py\u001b[0m in \u001b[0;36m<module>\u001b[1;34m\u001b[0m\n\u001b[0;32m      5\u001b[0m \u001b[0mmcsEnum\u001b[0m \u001b[1;33m=\u001b[0m \u001b[0mcMCS_enumerator\u001b[0m\u001b[1;33m.\u001b[0m\u001b[0mMinimalCutSetsEnumerator\u001b[0m\u001b[1;33m(\u001b[0m\u001b[0mnetwork\u001b[0m\u001b[1;33m,\u001b[0m\u001b[0mmodules\u001b[0m\u001b[1;33m,\u001b[0m\u001b[0mkoCost\u001b[0m\u001b[1;33m,\u001b[0m\u001b[0mkiCost\u001b[0m\u001b[1;33m)\u001b[0m\u001b[1;33m\u001b[0m\u001b[1;33m\u001b[0m\u001b[0m\n\u001b[0;32m      6\u001b[0m \u001b[1;33m\u001b[0m\u001b[0m\n\u001b[1;32m----> 7\u001b[1;33m \u001b[0mmcsEnum\u001b[0m\u001b[1;33m.\u001b[0m\u001b[0mcompute_mcs\u001b[0m\u001b[1;33m(\u001b[0m\u001b[0mmaxSolutions\u001b[0m\u001b[1;33m,\u001b[0m\u001b[0mmaxCost\u001b[0m\u001b[1;33m,\u001b[0m\u001b[1;34m\"verbose\"\u001b[0m\u001b[1;33m,\u001b[0m\u001b[1;34m\"solver\"\u001b[0m\u001b[1;33m,\u001b[0m\u001b[1;34m\"cplex\"\u001b[0m\u001b[1;33m)\u001b[0m\u001b[1;33m;\u001b[0m\u001b[1;33m\u001b[0m\u001b[1;33m\u001b[0m\u001b[0m\n\u001b[0m",
      "\u001b[1;31mTypeError\u001b[0m: compute_mcs() takes from 1 to 3 positional arguments but 6 were given"
     ]
    }
   ],
   "source": [
    "koCost = {'R5': 2, 'R6': 3, 'R7': 4, 'R8': 4, 'R9': 4, 'R10': 4}\n",
    "kiCost = {'R2': 6}\n",
    "maxSolutions = 50\n",
    "maxCost = 50\n",
    "mcsEnum = cMCS_enumerator.MinimalCutSetsEnumerator(network,modules,koCost,kiCost)\n",
    "\n",
    "mcsEnum.compute_mcs(maxSolutions,maxCost,\"verbose\",\"solver\",\"cplex\");"
   ]
  }
 ],
 "metadata": {
  "interpreter": {
   "hash": "c6cb88db6456a5d9db25cf91966766d45a3aee345dd42db13a70c45805ef0614"
  },
  "kernelspec": {
   "display_name": "Python 3.7.12 64-bit ('cnapy-dev': conda)",
   "language": "python",
   "name": "python3"
  },
  "language_info": {
   "codemirror_mode": {
    "name": "ipython",
    "version": 3
   },
   "file_extension": ".py",
   "mimetype": "text/x-python",
   "name": "python",
   "nbconvert_exporter": "python",
   "pygments_lexer": "ipython3",
   "version": "3.7.11"
  },
  "orig_nbformat": 4
 },
 "nbformat": 4,
 "nbformat_minor": 2
}
