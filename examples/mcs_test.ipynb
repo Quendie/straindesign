{
 "cells": [
  {
   "cell_type": "code",
   "execution_count": 2,
   "metadata": {},
   "outputs": [],
   "source": [
    "%load_ext autoreload\n",
    "import cobra\n",
    "import numpy as np\n",
    "from importlib import reload\n",
    "import mcs\n",
    "from scipy import sparse\n",
    "#import traceback\n",
    "#import warnings\n",
    "import sys\n"
   ]
  },
  {
   "cell_type": "markdown",
   "metadata": {},
   "source": [
    "This is a bilevel-example with 1 Target and 1 Desired region"
   ]
  },
  {
   "cell_type": "code",
   "execution_count": 15,
   "metadata": {},
   "outputs": [
    {
     "name": "stdout",
     "output_type": "stream",
     "text": [
      "Constructing MCS MILP.\n",
      "Bounding MILP.\n",
      "Enumerating strain designs ...\n",
      "Strain designs with cost 4.0: [{'r1': 1.0, 'r4': -1.0, 'r7': -1.0, 'r9': -1.0}]\n",
      "Strain designs with cost 4.0: [{'r1': 1.0, 'r5': -1.0, 'r7': -1.0, 'r9': -1.0}]\n",
      "Finished. 2 solutions found.\n"
     ]
    },
    {
     "data": {
      "text/plain": [
       "([{'r1': 1.0, 'r4': -1.0, 'r7': -1.0, 'r9': -1.0},\n",
       "  {'r1': 1.0, 'r5': -1.0, 'r7': -1.0, 'r9': -1.0}],\n",
       " 0)"
      ]
     },
     "execution_count": 15,
     "metadata": {},
     "output_type": "execute_result"
    }
   ],
   "source": [
    "%autoreload\n",
    "# load network\n",
    "network = cobra.io.read_sbml_model(\"weak_coupling.sbml\")\n",
    "mcs.fba(network,constr=[\"r1=0\"])\n",
    "# specify modules\n",
    "# specify modules\n",
    "modules = [mcs.SD_Module(network,\"mcs_bilvl\",module_sense=\"target\",constraints=[\"r_P <= 0.5\"],inner_objective=\"-r_BM\")]\n",
    "modules.append(mcs.SD_Module(network,\"mcs_lin\",module_sense=\"desired\",constraints=\"r_BM >= 1\"))\n",
    "\n",
    "# specify MCS setup\n",
    "ko_cost = {'r2': 1, 'r3': 1, 'r4': 1, 'r5': 1, 'r6': 1, 'r7': 1, 'r8': 1, 'r9': 1}\n",
    "ki_cost = {'r1': 1}\n",
    "maxSolutions = 50\n",
    "maxCost = 50\n",
    "solver = 'gurobi'\n",
    "\n",
    "# construct MCS MILP\n",
    "mcsEnum = mcs.StrainDesigner(network,modules,\n",
    "       ko_cost=ko_cost,ki_cost=ki_cost,max_cost=maxCost,M=None,\n",
    "       solver=solver)\n",
    "\n",
    "# solve MILP\n",
    "mcsEnum.enumerate()\n",
    "# mcsEnum.compute()\n",
    "# mcsEnum.compute_optimal()"
   ]
  },
  {
   "cell_type": "markdown",
   "metadata": {},
   "source": [
    "This is a bilevel-example with only 1 desired region"
   ]
  },
  {
   "cell_type": "code",
   "execution_count": 16,
   "metadata": {},
   "outputs": [
    {
     "name": "stdout",
     "output_type": "stream",
     "text": [
      "Constructing MCS MILP.\n",
      "Bounding MILP.\n",
      "Finding optimal strain designs ...\n",
      "Strain design with cost 3: {'r1': 1, 'r5': -1, 'r7': -1}\n",
      "Strain design with cost 3: {'r1': 1, 'r4': -1, 'r7': -1}\n",
      "Finished. 2 solutions found.\n"
     ]
    },
    {
     "data": {
      "text/plain": [
       "([{'r1': 1.0, 'r5': -1.0, 'r7': -1.0}, {'r1': 1.0, 'r4': -1.0, 'r7': -1.0}], 0)"
      ]
     },
     "execution_count": 16,
     "metadata": {},
     "output_type": "execute_result"
    }
   ],
   "source": [
    "%autoreload\n",
    "# load network\n",
    "network = cobra.io.read_sbml_model(\"weak_coupling.sbml\")\n",
    "mcs.fba(network,constr=[\"r1=0\"])\n",
    "# specify modules\n",
    "modules = mcs.SD_Module(network,\"mcs_bilvl\",module_sense=\"desired\",constraints=[\"r_BM >= 0.5\",\"r_P >= 1\"],inner_objective=\"-r_BM\")\n",
    "\n",
    "# specify MCS setup\n",
    "ko_cost = {'r2': 1, 'r3': 1, 'r4': 1, 'r5': 1, 'r6': 1, 'r7': 1, 'r8': 1, 'r9': 1}\n",
    "ki_cost = {'r1': 1}\n",
    "maxSolutions = 50\n",
    "maxCost = 50\n",
    "\n",
    "# construct MCS MILP\n",
    "mcsEnum = mcs.StrainDesigner(network,modules,ko_cost=ko_cost,ki_cost=ki_cost,max_cost=7,M=None)\n",
    "\n",
    "# solve MILP\n",
    "mcsEnum.compute_optimal()"
   ]
  },
  {
   "cell_type": "markdown",
   "metadata": {},
   "source": [
    "This is a regular MCS example with 1 target and 1 desired region"
   ]
  },
  {
   "cell_type": "code",
   "execution_count": 17,
   "metadata": {},
   "outputs": [
    {
     "name": "stdout",
     "output_type": "stream",
     "text": [
      "Constructing MCS MILP.\n",
      "Bounding MILP.\n",
      "Enumerating strain designs ...\n",
      "Strain designs with cost 4.0: [{'R07': -1.0}]\n",
      "Strain designs with cost 4.0: [{'R10': -1.0}]\n",
      "Strain designs with cost 7.0: [{'R06': -1.0, 'R08': -1.0}]\n",
      "Finished. 3 solutions found.\n"
     ]
    },
    {
     "data": {
      "text/plain": [
       "([{'R07': -1.0}, {'R10': -1.0}, {'R06': -1.0, 'R08': -1.0}], 0)"
      ]
     },
     "execution_count": 17,
     "metadata": {},
     "output_type": "execute_result"
    }
   ],
   "source": [
    "%autoreload\n",
    "# load network\n",
    "network = cobra.io.read_sbml_model(\"SmallExample.sbml\")\n",
    "\n",
    "# specify modules\n",
    "modules = [mcs.SD_Module(network,\"mcs_lin\",module_sense=\"target\",constraints=[\"R04 >= 1\",\"2 R01 >= 0.5\"])]\n",
    "modules.append(mcs.SD_Module(network,\"mcs_lin\",module_sense=\"desired\",constraints=\"R03 >= 1\"))\n",
    "\n",
    "# specify MCS setup\n",
    "ko_cost = {'R05': 2, 'R06': 3, 'R07': 4, 'R08': 4, 'R09': 4, 'R10': 4}\n",
    "ki_cost = {'R02': 6}\n",
    "maxSolutions = 8\n",
    "maxCost = 8\n",
    "\n",
    "# construct MCS MILP\n",
    "mcsEnum = mcs.StrainDesigner(network,modules,ko_cost=ko_cost,ki_cost=ki_cost,max_cost=maxCost,M=None)\n",
    "\n",
    "# solve MILP\n",
    "mcsEnum.enumerate()\n",
    "# mcsEnum.compute()\n",
    "# mcsEnum.compute_optimal()"
   ]
  },
  {
   "cell_type": "markdown",
   "metadata": {},
   "source": [
    "This is a bilevel-example with 1 Target and 1 Desired region"
   ]
  },
  {
   "cell_type": "code",
   "execution_count": 37,
   "metadata": {},
   "outputs": [],
   "source": [
    "%autoreload\n",
    "# load network\n",
    "network = cobra.io.read_sbml_model(\"weak_coupling.sbml\")\n",
    "mcs.fba(network,constr=[\"r1=0\"])\n",
    "# specify modules\n",
    "# specify modules\n",
    "modules = mcs.SD_Module(network,\"mcs_bilvl\",module_sense=\"target\",constraints=[\"r_P <= 0.5\"],inner_objective=\"-r_BM\")\n",
    "\n",
    "# specify MCS setup\n",
    "maxSolutions = 8\n",
    "maxCost = 3\n",
    "solver = 'gurobi'\n",
    "\n",
    "# construct MCS MILP\n",
    "mcsEnum = mcs.StrainDesigner(network,modules,max_cost=maxCost,M=None,solver=solver)\n",
    "\n",
    "# solve MILP\n",
    "# mcsEnum.compute()\n",
    "# mcsEnum.compute(max_solutions=maxSolutions)\n",
    "# mcsEnum.enumerate(max_solutions=maxSolutions)\n",
    "mcsEnum.enumerate(max_solutions=maxSolutions)\n",
    "# mcsEnum.compute_optimal(max_solutions=maxSolutions)"
   ]
  },
  {
   "cell_type": "markdown",
   "metadata": {},
   "source": [
    "This is a mid-scale-example with only 1 desired region"
   ]
  },
  {
   "cell_type": "code",
   "execution_count": 20,
   "metadata": {},
   "outputs": [
    {
     "name": "stdout",
     "output_type": "stream",
     "text": [
      "Constructing MCS MILP.\n",
      "Bounding MILP.\n",
      "Enumerating strain designs ...\n",
      "Strain designs with cost 1.0: [{'O2Up': -1.0}]\n",
      "Strain designs with cost 1.0: [{'CYTBO3_4pp': -1.0}]\n",
      "Strain designs with cost 1.0: [{'h2oEx': -1.0}]\n",
      "Strain designs with cost 3.0: [{'ATPS4rpp': -1.0, 'SUCCt3pp': -1.0, 'THD2pp': -1.0}]\n",
      "Strain designs with cost 3.0: [{'MDH': -1.0, 'PPS': -1.0, 'TPI': -1.0}]\n",
      "Strain designs with cost 3.0: [{'AcEx': -1.0, 'ATPS4rpp': -1.0, 'SUCOAS': -1.0}]\n",
      "Strain designs with cost 3.0: [{'ATPS4rpp': -1.0, 'PTAr': -1.0, 'SUCOAS': -1.0}]\n",
      "Strain designs with cost 3.0: [{'ACKr': -1.0, 'ATPS4rpp': -1.0, 'SUCOAS': -1.0}]\n",
      "Finished. 8 solutions found.\n"
     ]
    },
    {
     "data": {
      "text/plain": [
       "([{'O2Up': -1.0},\n",
       "  {'CYTBO3_4pp': -1.0},\n",
       "  {'h2oEx': -1.0},\n",
       "  {'ATPS4rpp': -1.0, 'SUCCt3pp': -1.0, 'THD2pp': -1.0},\n",
       "  {'MDH': -1.0, 'PPS': -1.0, 'TPI': -1.0},\n",
       "  {'AcEx': -1.0, 'ATPS4rpp': -1.0, 'SUCOAS': -1.0},\n",
       "  {'ATPS4rpp': -1.0, 'PTAr': -1.0, 'SUCOAS': -1.0},\n",
       "  {'ACKr': -1.0, 'ATPS4rpp': -1.0, 'SUCOAS': -1.0}],\n",
       " 0)"
      ]
     },
     "execution_count": 20,
     "metadata": {},
     "output_type": "execute_result"
    }
   ],
   "source": [
    "%autoreload\n",
    "# load network\n",
    "network = cobra.io.read_sbml_model(\"ECC2comp.sbml\")\n",
    "# remove external metabolites and obsolete reactions\n",
    "external_mets = [i for i,cpts in zip(network.metabolites,network.metabolites.list_attr(\"compartment\")) if cpts == 'External_Species']\n",
    "network.remove_metabolites(external_mets)\n",
    "S = cobra.util.create_stoichiometric_matrix(network)\n",
    "obsolete_reacs = [reac for reac,b_rempty in zip(network.reactions,np.any(S,0)) if not b_rempty]\n",
    "network.remove_reactions(obsolete_reacs)\n",
    "# close some uptakes\n",
    "network.reactions.AcUp.upper_bound = 0\n",
    "network.reactions.GlycUp.upper_bound = 0\n",
    "\n",
    "sol = mcs.fba(network,constr=[\"O2Up=0\"])\n",
    "# specify modules\n",
    "modules = mcs.SD_Module(network,\"mcs_bilvl\",module_sense=\"desired\",constraints=[\"2 Growth >= 0.2\",\"EthEx >= 1\"],inner_objective=\"-Growth\")\n",
    "\n",
    "network.remove_metabolites\n",
    "network.metabolites.list_attr(\"compartment\")\n",
    "# specify MCS setup\n",
    "maxSolutions = 8\n",
    "maxCost = 4\n",
    "solver = 'gurobi'\n",
    "\n",
    "# construct MCS MILP\n",
    "mcsEnum = mcs.StrainDesigner(network,modules,max_cost=maxCost,solver=solver,M=None)\n",
    "\n",
    "# solve MILP\n",
    "mcsEnum.enumerate(max_solutions=maxSolutions)\n",
    "# mcsEnum.compute_optimal(max_solutions=maxSolutions,time_limit=5)\n",
    "# mcsEnum.compute(max_solutions=maxSolutions,time_limit=5)"
   ]
  },
  {
   "cell_type": "code",
   "execution_count": 21,
   "metadata": {},
   "outputs": [
    {
     "name": "stdout",
     "output_type": "stream",
     "text": [
      "Constructing MCS MILP.\n",
      "Bounding MILP.\n",
      "Finding optimal strain designs ...\n",
      "Strain design with cost 1: {'ATPM': -1}\n",
      "Strain design with cost 2: {'CO2Ex': -1, 'h_pEx': -1}\n",
      "Strain design with cost 2: {'ENO': -1, 'O2Up': -1}\n",
      "Strain design with cost 2: {'GlcUp': -1, 'SUCDi': -1}\n",
      "Finished. 4 solutions found.\n"
     ]
    },
    {
     "data": {
      "text/plain": [
       "([{'ATPM': -1.0},\n",
       "  {'CO2Ex': -1.0, 'h_pEx': -1.0},\n",
       "  {'ENO': -1.0, 'O2Up': -1.0},\n",
       "  {'GlcUp': -1.0, 'SUCDi': -1.0}],\n",
       " 0)"
      ]
     },
     "execution_count": 21,
     "metadata": {},
     "output_type": "execute_result"
    }
   ],
   "source": [
    "%autoreload\n",
    "# load network\n",
    "network = cobra.io.read_sbml_model(\"ECC2comp.sbml\")\n",
    "# remove external metabolites and obsolete reactions\n",
    "external_mets = [i for i,cpts in zip(network.metabolites,network.metabolites.list_attr(\"compartment\")) if cpts == 'External_Species']\n",
    "network.remove_metabolites(external_mets)\n",
    "S = cobra.util.create_stoichiometric_matrix(network)\n",
    "obsolete_reacs = [reac for reac,b_rempty in zip(network.reactions,np.any(S,0)) if not b_rempty]\n",
    "network.remove_reactions(obsolete_reacs)\n",
    "# close some uptakes\n",
    "network.reactions.AcUp.upper_bound = 0\n",
    "network.reactions.GlycUp.upper_bound = 0\n",
    "network.reactions.ATPM.upper_bound = 1000\n",
    "network.reactions.ATPM.lower_bound = 3.15\n",
    "\n",
    "sol = mcs.fba(network,constr=[\"O2Up=0\"])\n",
    "# specify modules\n",
    "modules = mcs.SD_Module(network,\"mcs_lin\",module_sense=\"target\")\n",
    "\n",
    "network.remove_metabolites\n",
    "network.metabolites.list_attr(\"compartment\")\n",
    "# specify MCS setup\n",
    "maxSolutions = 4\n",
    "maxCost = 50\n",
    "\n",
    "# construct MCS MILP\n",
    "mcsEnum = mcs.StrainDesigner(network,modules,max_cost=7,M=None)\n",
    "\n",
    "# solve MILP\n",
    "mcsEnum.compute_optimal(max_solutions=maxSolutions)"
   ]
  },
  {
   "cell_type": "code",
   "execution_count": 23,
   "metadata": {},
   "outputs": [
    {
     "name": "stdout",
     "output_type": "stream",
     "text": [
      "Constructing MILP.\n",
      "Bounding MILP.\n",
      "Enumerating strain designs ...\n",
      "Enumerating all solutions with the objective value -13.868049181833047\n",
      "Strain designs with cost 2.0: [{'AcEx': -1.0, 'O2Up': -1.0}]\n",
      "Enumerating all solutions with the objective value -13.868049181833076\n",
      "Strain designs with cost 2.0: [{'AcEx': -1.0, 'CYTBO3_4pp': -1.0}]\n",
      "Enumerating all solutions with the objective value -13.776295937549136\n",
      "Strain designs with cost 2.0: [{'CYTBO3_4pp': -1.0, 'PTAr': -1.0}]\n",
      "Strain designs with cost 2.0: [{'O2Up': -1.0, 'PTAr': -1.0}]\n",
      "Strain designs with cost 2.0: [{'ACKr': -1.0, 'CYTBO3_4pp': -1.0}]\n",
      "Enumerating all solutions with the objective value -13.776295937549136\n",
      "Strain designs with cost 2.0: [{'ACKr': -1.0, 'O2Up': -1.0}]\n",
      "Enumerating all solutions with the objective value -11.602860050576798\n",
      "Strain designs with cost 2.0: [{'AcEx': -1.0, 'h2oEx': -1.0}]\n",
      "Enumerating all solutions with the objective value -11.599739089700504\n",
      "Strain designs with cost 2.0: [{'h2oEx': -1.0, 'THD2pp': -1.0}]\n",
      "Enumerating all solutions with the objective value -11.52053215856212\n",
      "Strain designs with cost 2.0: [{'ACKr': -1.0, 'h2oEx': -1.0}]\n",
      "Strain designs with cost 2.0: [{'h2oEx': -1.0, 'PTAr': -1.0}]\n",
      "Enumerating all solutions with the objective value -9.366460782611071\n",
      "Strain designs with cost 2.0: [{'ATPS4rpp': -1.0, 'h2oEx': -1.0}]\n",
      "Enumerating all solutions with the objective value -9.307055812396081\n",
      "Strain designs with cost 2.0: [{'O2Up': -1.0, 'THD2pp': -1.0}]\n",
      "Enumerating all solutions with the objective value -9.307055812396074\n",
      "Strain designs with cost 2.0: [{'CYTBO3_4pp': -1.0, 'THD2pp': -1.0}]\n",
      "Enumerating all solutions with the objective value -9.14877160667897\n",
      "Strain designs with cost 2.0: [{'O2Up': -1.0, 'PPC': -1.0}]\n",
      "Enumerating all solutions with the objective value -9.14877160667897\n",
      "Strain designs with cost 2.0: [{'CYTBO3_4pp': -1.0, 'PPC': -1.0}]\n",
      "Enumerating all solutions with the objective value -8.991087698323437\n",
      "Strain designs with cost 2.0: [{'h2oEx': -1.0, 'TKT2': -1.0}]\n",
      "Enumerating all solutions with the objective value -8.850791501719074\n",
      "Strain designs with cost 2.0: [{'h2oEx': -1.0, 'RPE': -1.0}]\n",
      "Enumerating all solutions with the objective value -8.827242168654434\n",
      "Strain designs with cost 2.0: [{'h2oEx': -1.0, 'SUCOAS': -1.0}]\n",
      "Enumerating all solutions with the objective value -8.709681092656623\n",
      "Strain designs with cost 2.0: [{'h2oEx': -1.0, 'TKT1': -1.0}]\n",
      "Enumerating all solutions with the objective value -8.709681092656623\n",
      "Strain designs with cost 2.0: [{'h2oEx': -1.0, 'TALA': -1.0}]\n",
      "Enumerating all solutions with the objective value -8.562670185409576\n",
      "Strain designs with cost 1.0: [{'h2oEx': -1.0}]\n",
      "Enumerating all solutions with the objective value -8.378407062821942\n",
      "Strain designs with cost 2.0: [{'CYTBO3_4pp': -1.0, 'PYK': -1.0}]\n",
      "Enumerating all solutions with the objective value -8.37840706282195\n",
      "Strain designs with cost 2.0: [{'O2Up': -1.0, 'PYK': -1.0}]\n",
      "Enumerating all solutions with the objective value -8.24052422268349\n",
      "Strain designs with cost 2.0: [{'O2Up': -1.0, 'TKT2': -1.0}]\n",
      "Enumerating all solutions with the objective value -8.240524222683486\n",
      "Strain designs with cost 2.0: [{'CYTBO3_4pp': -1.0, 'TKT2': -1.0}]\n",
      "Enumerating all solutions with the objective value -8.161853490582482\n",
      "Strain designs with cost 2.0: [{'FHL': -1.0, 'O2Up': -1.0}]\n",
      "Strain designs with cost 2.0: [{'h2Ex': -1.0, 'O2Up': -1.0}]\n",
      "Enumerating all solutions with the objective value -8.161853490582482\n",
      "Strain designs with cost 2.0: [{'CYTBO3_4pp': -1.0, 'FHL': -1.0}]\n",
      "Enumerating all solutions with the objective value -8.161853490582482\n",
      "Strain designs with cost 2.0: [{'CYTBO3_4pp': -1.0, 'h2Ex': -1.0}]\n",
      "Enumerating all solutions with the objective value -8.161407782995823\n",
      "Strain designs with cost 2.0: [{'CO2Ex': -1.0, 'O2Up': -1.0}]\n",
      "Enumerating all solutions with the objective value -8.161407782995823\n",
      "Strain designs with cost 2.0: [{'CO2Ex': -1.0, 'CYTBO3_4pp': -1.0}]\n",
      "Enumerating all solutions with the objective value -8.13312966887671\n",
      "Strain designs with cost 2.0: [{'O2Up': -1.0, 'SUCOAS': -1.0}]\n",
      "Enumerating all solutions with the objective value -8.13312966887671\n",
      "Strain designs with cost 2.0: [{'CYTBO3_4pp': -1.0, 'SUCOAS': -1.0}]\n",
      "Enumerating all solutions with the objective value -8.098437440401268\n",
      "Strain designs with cost 2.0: [{'CYTBO3_4pp': -1.0, 'RPE': -1.0}]\n",
      "Enumerating all solutions with the objective value -8.098437440401254\n",
      "Strain designs with cost 2.0: [{'O2Up': -1.0, 'RPE': -1.0}]\n",
      "Enumerating all solutions with the objective value -8.010732145244113\n",
      "Strain designs with cost 2.0: [{'CYTBO3_4pp': -1.0, 'GLCptspp': -1.0}]\n",
      "Strain designs with cost 2.0: [{'GLCptspp': -1.0, 'O2Up': -1.0}]\n",
      "Enumerating all solutions with the objective value -7.95547984550106\n",
      "Strain designs with cost 2.0: [{'O2Up': -1.0, 'TALA': -1.0}]\n",
      "Strain designs with cost 2.0: [{'CYTBO3_4pp': -1.0, 'TKT1': -1.0}]\n",
      "Enumerating all solutions with the objective value -7.95547984550106\n",
      "Strain designs with cost 2.0: [{'CYTBO3_4pp': -1.0, 'TALA': -1.0}]\n",
      "Enumerating all solutions with the objective value -7.95547984550106\n",
      "Strain designs with cost 2.0: [{'O2Up': -1.0, 'TKT1': -1.0}]\n",
      "Enumerating all solutions with the objective value -7.8187192449222325\n",
      "Strain designs with cost 2.0: [{'MDH': -1.0, 'O2Up': -1.0}]\n",
      "Enumerating all solutions with the objective value -7.818719244922234\n",
      "Strain designs with cost 2.0: [{'CYTBO3_4pp': -1.0, 'MDH': -1.0}]\n",
      "Enumerating all solutions with the objective value -7.806495199170609\n",
      "Strain designs with cost 1.0: [{'CYTBO3_4pp': -1.0}]\n",
      "Enumerating all solutions with the objective value -7.806495199170909\n",
      "Strain designs with cost 1.0: [{'O2Up': -1.0}]\n",
      "Finished. 45 solutions found.\n"
     ]
    },
    {
     "data": {
      "text/plain": [
       "([{'AcEx': -1.0, 'O2Up': -1.0},\n",
       "  {'AcEx': -1.0, 'CYTBO3_4pp': -1.0},\n",
       "  {'CYTBO3_4pp': -1.0, 'PTAr': -1.0},\n",
       "  {'O2Up': -1.0, 'PTAr': -1.0},\n",
       "  {'ACKr': -1.0, 'CYTBO3_4pp': -1.0},\n",
       "  {'ACKr': -1.0, 'O2Up': -1.0},\n",
       "  {'AcEx': -1.0, 'h2oEx': -1.0},\n",
       "  {'h2oEx': -1.0, 'THD2pp': -1.0},\n",
       "  {'ACKr': -1.0, 'h2oEx': -1.0},\n",
       "  {'h2oEx': -1.0, 'PTAr': -1.0},\n",
       "  {'ATPS4rpp': -1.0, 'h2oEx': -1.0},\n",
       "  {'O2Up': -1.0, 'THD2pp': -1.0},\n",
       "  {'CYTBO3_4pp': -1.0, 'THD2pp': -1.0},\n",
       "  {'O2Up': -1.0, 'PPC': -1.0},\n",
       "  {'CYTBO3_4pp': -1.0, 'PPC': -1.0},\n",
       "  {'h2oEx': -1.0, 'TKT2': -1.0},\n",
       "  {'h2oEx': -1.0, 'RPE': -1.0},\n",
       "  {'h2oEx': -1.0, 'SUCOAS': -1.0},\n",
       "  {'h2oEx': -1.0, 'TKT1': -1.0},\n",
       "  {'h2oEx': -1.0, 'TALA': -1.0},\n",
       "  {'h2oEx': -1.0},\n",
       "  {'CYTBO3_4pp': -1.0, 'PYK': -1.0},\n",
       "  {'O2Up': -1.0, 'PYK': -1.0},\n",
       "  {'O2Up': -1.0, 'TKT2': -1.0},\n",
       "  {'CYTBO3_4pp': -1.0, 'TKT2': -1.0},\n",
       "  {'FHL': -1.0, 'O2Up': -1.0},\n",
       "  {'h2Ex': -1.0, 'O2Up': -1.0},\n",
       "  {'CYTBO3_4pp': -1.0, 'FHL': -1.0},\n",
       "  {'CYTBO3_4pp': -1.0, 'h2Ex': -1.0},\n",
       "  {'CO2Ex': -1.0, 'O2Up': -1.0},\n",
       "  {'CO2Ex': -1.0, 'CYTBO3_4pp': -1.0},\n",
       "  {'O2Up': -1.0, 'SUCOAS': -1.0},\n",
       "  {'CYTBO3_4pp': -1.0, 'SUCOAS': -1.0},\n",
       "  {'CYTBO3_4pp': -1.0, 'RPE': -1.0},\n",
       "  {'O2Up': -1.0, 'RPE': -1.0},\n",
       "  {'CYTBO3_4pp': -1.0, 'GLCptspp': -1.0},\n",
       "  {'GLCptspp': -1.0, 'O2Up': -1.0},\n",
       "  {'O2Up': -1.0, 'TALA': -1.0},\n",
       "  {'CYTBO3_4pp': -1.0, 'TKT1': -1.0},\n",
       "  {'CYTBO3_4pp': -1.0, 'TALA': -1.0},\n",
       "  {'O2Up': -1.0, 'TKT1': -1.0},\n",
       "  {'MDH': -1.0, 'O2Up': -1.0},\n",
       "  {'CYTBO3_4pp': -1.0, 'MDH': -1.0},\n",
       "  {'CYTBO3_4pp': -1.0},\n",
       "  {'O2Up': -1.0}],\n",
       " 0)"
      ]
     },
     "execution_count": 23,
     "metadata": {},
     "output_type": "execute_result"
    }
   ],
   "source": [
    "%autoreload\n",
    "# load network\n",
    "network = cobra.io.read_sbml_model(\"ECC2comp.sbml\")\n",
    "# remove external metabolites and obsolete reactions\n",
    "external_mets = [i for i,cpts in zip(network.metabolites,network.metabolites.list_attr(\"compartment\")) if cpts == 'External_Species']\n",
    "network.remove_metabolites(external_mets)\n",
    "S = cobra.util.create_stoichiometric_matrix(network)\n",
    "obsolete_reacs = [reac for reac,b_rempty in zip(network.reactions,np.any(S,0)) if not b_rempty]\n",
    "network.remove_reactions(obsolete_reacs)\n",
    "# close some uptakes\n",
    "network.reactions.AcUp.upper_bound = 0\n",
    "network.reactions.SuccUp.upper_bound = 0\n",
    "network.reactions.GlycUp.upper_bound = 0\n",
    "network.reactions.CO2Up = 0\n",
    "network.reactions.ATPM.upper_bound = 1000\n",
    "network.reactions.ATPM.lower_bound = 3.15\n",
    "\n",
    "# sol = mcs.fba(network,constr=[\"O2Up=0\"])\n",
    "# sol1 = mcs.fba(network,constr=['AcEx = 0','ATPS4rpp = 0', 'G3PD5= 0', 'NADTRHD= 0', 'PFL= 0', 'PYK= 0', 'SuccEx= 0', 'SUCCt2_2pp= 0'])\n",
    "# sol2 = mcs.fva(network,constr=['Growth = '+str(0.999*sol1.objective_value),'AcEx = 0','ATPS4rpp = 0', 'G3PD5= 0', 'NADTRHD= 0', 'PFL= 0', 'PYK= 0', 'SuccEx= 0', 'SUCCt2_2pp= 0'])\n",
    "\n",
    "# specify modules\n",
    "modules = mcs.SD_Module(network,\"optknock\",constraints=[\"Growth >= 0.2\",\"EthEx >= 1\"],inner_objective=\"-Growth\",outer_objective=\"-EthEx\")\n",
    "\n",
    "# specify MCS setup\n",
    "maxSolutions = 100\n",
    "maxCost = 2\n",
    "solver = 'cplex'\n",
    "\n",
    "# construct MCS MILP\n",
    "mcsEnum = mcs.StrainDesigner(network,modules,max_cost=maxCost,M=None, solver=solver)\n",
    "\n",
    "# solve MILP\n",
    "# mcsEnum.compute(max_solutions=maxSolutions)\n",
    "# mcsEnum.compute_optimal(max_solutions=maxSolutions)\n",
    "mcsEnum.enumerate(max_solutions=maxSolutions)"
   ]
  }
 ],
 "metadata": {
  "interpreter": {
   "hash": "c6cb88db6456a5d9db25cf91966766d45a3aee345dd42db13a70c45805ef0614"
  },
  "kernelspec": {
   "display_name": "Python 3.7.12 64-bit ('cnapy-dev': conda)",
   "language": "python",
   "name": "python3"
  },
  "language_info": {
   "codemirror_mode": {
    "name": "ipython",
    "version": 3
   },
   "file_extension": ".py",
   "mimetype": "text/x-python",
   "name": "python",
   "nbconvert_exporter": "python",
   "pygments_lexer": "ipython3",
   "version": "3.7.11"
  },
  "orig_nbformat": 4
 },
 "nbformat": 4,
 "nbformat_minor": 2
}
