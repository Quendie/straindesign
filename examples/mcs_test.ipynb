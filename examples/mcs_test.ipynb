{
 "cells": [
  {
   "cell_type": "code",
   "execution_count": 18,
   "metadata": {},
   "outputs": [],
   "source": [
    "import cobra\n",
    "import numpy as np\n",
    "from importlib import reload"
   ]
  },
  {
   "cell_type": "code",
   "execution_count": 58,
   "metadata": {},
   "outputs": [],
   "source": [
    "from mcs import cplex_interface,mcs_module,cMCS_enumerator\n",
    "reload(cplex_interface)\n",
    "reload(mcs_module)\n",
    "reload(cMCS_enumerator)\n",
    "\n",
    "network = cobra.io.read_sbml_model(\"SmallExample.sbml\")"
   ]
  },
  {
   "cell_type": "code",
   "execution_count": 51,
   "metadata": {},
   "outputs": [],
   "source": [
    "\n",
    "modules = [mcs_module.MCS_Module(network,\"target\",\"lin_constraints\",[\"R4 >= 1\",\"2 R1 >= 0.5\"])]\n",
    "modules.append(mcs_module.MCS_Module(network,\"desired\",\"lin_constraints\",\"R3 >= 1\"))\n",
    "modules[0].set_model_lb_ub([r.lower_bound for r in network.reactions],[r.upper_bound for r in network.reactions])"
   ]
  },
  {
   "cell_type": "code",
   "execution_count": 60,
   "metadata": {},
   "outputs": [
    {
     "name": "stdout",
     "output_type": "stream",
     "text": [
      "hello world\n"
     ]
    },
    {
     "name": "stderr",
     "output_type": "stream",
     "text": [
      "C:\\Users\\phili\\.conda\\envs\\cnapy-dev\\lib\\site-packages\\scipy\\sparse\\_index.py:82: SparseEfficiencyWarning: Changing the sparsity structure of a csr_matrix is expensive. lil_matrix is more efficient.\n",
      "  self._set_intXint(row, col, x.flat[0])\n",
      "C:\\Users\\phili\\.conda\\envs\\cnapy-dev\\lib\\site-packages\\scipy\\sparse\\_index.py:82: SparseEfficiencyWarning: Changing the sparsity structure of a csr_matrix is expensive. lil_matrix is more efficient.\n",
      "  self._set_intXint(row, col, x.flat[0])\n"
     ]
    },
    {
     "name": "stdout",
     "output_type": "stream",
     "text": [
      "[]\n",
      "[2, 4]\n",
      "[0, 1, 3, 5]\n"
     ]
    },
    {
     "ename": "TypeError",
     "evalue": "cannot unpack non-iterable NoneType object",
     "output_type": "error",
     "traceback": [
      "\u001b[1;31m---------------------------------------------------------------------------\u001b[0m",
      "\u001b[1;31mTypeError\u001b[0m                                 Traceback (most recent call last)",
      "\u001b[1;32m~\\AppData\\Local\\Temp/ipykernel_17160/376712991.py\u001b[0m in \u001b[0;36m<module>\u001b[1;34m\u001b[0m\n\u001b[0;32m      3\u001b[0m \u001b[0mmaxSolutions\u001b[0m \u001b[1;33m=\u001b[0m \u001b[1;36m50\u001b[0m\u001b[1;33m\u001b[0m\u001b[1;33m\u001b[0m\u001b[0m\n\u001b[0;32m      4\u001b[0m \u001b[0mmaxCost\u001b[0m \u001b[1;33m=\u001b[0m \u001b[1;36m50\u001b[0m\u001b[1;33m\u001b[0m\u001b[1;33m\u001b[0m\u001b[0m\n\u001b[1;32m----> 5\u001b[1;33m \u001b[0mmcsEnum\u001b[0m \u001b[1;33m=\u001b[0m \u001b[0mcMCS_enumerator\u001b[0m\u001b[1;33m.\u001b[0m\u001b[0mMinimalCutSetsEnumerator\u001b[0m\u001b[1;33m(\u001b[0m\u001b[0mnetwork\u001b[0m\u001b[1;33m,\u001b[0m\u001b[0mmodules\u001b[0m\u001b[1;33m,\u001b[0m\u001b[0mkoCost\u001b[0m\u001b[1;33m,\u001b[0m\u001b[0mkiCost\u001b[0m\u001b[1;33m)\u001b[0m\u001b[1;33m\u001b[0m\u001b[1;33m\u001b[0m\u001b[0m\n\u001b[0m\u001b[0;32m      6\u001b[0m \u001b[1;33m\u001b[0m\u001b[0m\n\u001b[0;32m      7\u001b[0m \u001b[0mmcsEnum\u001b[0m\u001b[1;33m.\u001b[0m\u001b[0mcompute_mcs\u001b[0m\u001b[1;33m(\u001b[0m\u001b[0mmaxSolutions\u001b[0m\u001b[1;33m,\u001b[0m\u001b[0mmaxCost\u001b[0m\u001b[1;33m,\u001b[0m\u001b[1;34m\"verbose\"\u001b[0m\u001b[1;33m,\u001b[0m\u001b[1;34m\"solver\"\u001b[0m\u001b[1;33m,\u001b[0m\u001b[1;34m\"cplex\"\u001b[0m\u001b[1;33m)\u001b[0m\u001b[1;33m;\u001b[0m\u001b[1;33m\u001b[0m\u001b[1;33m\u001b[0m\u001b[0m\n",
      "\u001b[1;32mc:\\users\\phili\\dokumente\\python\\mcs\\mcs\\cMCS_enumerator.py\u001b[0m in \u001b[0;36m__init__\u001b[1;34m(self, model, mcs_modules, koCost, kiCost, *args, **kwargs)\u001b[0m\n\u001b[0;32m     65\u001b[0m         \u001b[0mself\u001b[0m\u001b[1;33m.\u001b[0m\u001b[0mz_map_vars\u001b[0m \u001b[1;33m=\u001b[0m \u001b[0msparse\u001b[0m\u001b[1;33m.\u001b[0m\u001b[0mcsr_matrix\u001b[0m\u001b[1;33m(\u001b[0m\u001b[1;33m(\u001b[0m\u001b[0mnumr\u001b[0m\u001b[1;33m,\u001b[0m\u001b[0mnumr\u001b[0m\u001b[1;33m)\u001b[0m\u001b[1;33m)\u001b[0m\u001b[1;33m\u001b[0m\u001b[1;33m\u001b[0m\u001b[0m\n\u001b[0;32m     66\u001b[0m         \u001b[1;32mfor\u001b[0m \u001b[0mi\u001b[0m \u001b[1;32min\u001b[0m \u001b[0mrange\u001b[0m\u001b[1;33m(\u001b[0m\u001b[1;36m0\u001b[0m\u001b[1;33m,\u001b[0m\u001b[0mlen\u001b[0m\u001b[1;33m(\u001b[0m\u001b[0mmcs_modules\u001b[0m\u001b[1;33m)\u001b[0m\u001b[1;33m)\u001b[0m\u001b[1;33m:\u001b[0m\u001b[1;33m\u001b[0m\u001b[1;33m\u001b[0m\u001b[0m\n\u001b[1;32m---> 67\u001b[1;33m             \u001b[0mself\u001b[0m\u001b[1;33m.\u001b[0m\u001b[0maddModule\u001b[0m\u001b[1;33m(\u001b[0m\u001b[0mmcs_modules\u001b[0m\u001b[1;33m[\u001b[0m\u001b[0mi\u001b[0m\u001b[1;33m]\u001b[0m\u001b[1;33m)\u001b[0m\u001b[1;33m\u001b[0m\u001b[1;33m\u001b[0m\u001b[0m\n\u001b[0m\u001b[0;32m     68\u001b[0m \u001b[1;33m\u001b[0m\u001b[0m\n\u001b[0;32m     69\u001b[0m         \u001b[0mprint\u001b[0m\u001b[1;33m(\u001b[0m\u001b[1;34m\"done\"\u001b[0m\u001b[1;33m)\u001b[0m\u001b[1;33m\u001b[0m\u001b[1;33m\u001b[0m\u001b[0m\n",
      "\u001b[1;32mc:\\users\\phili\\dokumente\\python\\mcs\\mcs\\cMCS_enumerator.py\u001b[0m in \u001b[0;36maddModule\u001b[1;34m(self, mcs_module)\u001b[0m\n\u001b[0;32m    118\u001b[0m         \u001b[1;31m# 3. Prepare module as target or desired\u001b[0m\u001b[1;33m\u001b[0m\u001b[1;33m\u001b[0m\u001b[1;33m\u001b[0m\u001b[0m\n\u001b[0;32m    119\u001b[0m         \u001b[1;32mif\u001b[0m \u001b[0mmcs_module\u001b[0m\u001b[1;33m.\u001b[0m\u001b[0mmodule_sense\u001b[0m \u001b[1;33m==\u001b[0m \u001b[1;34m'desired'\u001b[0m\u001b[1;33m:\u001b[0m\u001b[1;33m\u001b[0m\u001b[1;33m\u001b[0m\u001b[0m\n\u001b[1;32m--> 120\u001b[1;33m             \u001b[0mA_ineq_i\u001b[0m\u001b[1;33m,\u001b[0m \u001b[0mb_ineq_i\u001b[0m\u001b[1;33m,\u001b[0m \u001b[0mA_eq_i\u001b[0m\u001b[1;33m,\u001b[0m \u001b[0mb_eq_i\u001b[0m\u001b[1;33m,\u001b[0m \u001b[0mlb_i\u001b[0m\u001b[1;33m,\u001b[0m \u001b[0mub_i\u001b[0m\u001b[1;33m,\u001b[0m \u001b[0mz_map_constr_ineq_i\u001b[0m\u001b[1;33m,\u001b[0m \u001b[0mz_map_constr_eq_i\u001b[0m \u001b[1;33m=\u001b[0m \u001b[0mself\u001b[0m\u001b[1;33m.\u001b[0m\u001b[0mreassign_lb_ub_from_ineq\u001b[0m\u001b[1;33m(\u001b[0m\u001b[0mA_ineq_p\u001b[0m\u001b[1;33m,\u001b[0m \u001b[0mb_ineq_p\u001b[0m\u001b[1;33m,\u001b[0m \u001b[0mA_eq_p\u001b[0m\u001b[1;33m,\u001b[0m \u001b[0mb_eq_p\u001b[0m\u001b[1;33m,\u001b[0m \u001b[0mlb_p\u001b[0m\u001b[1;33m,\u001b[0m \u001b[0mub_p\u001b[0m\u001b[1;33m,\u001b[0m \u001b[0mz_map_constr_ineq_p\u001b[0m\u001b[1;33m,\u001b[0m \u001b[0mz_map_constr_eq_p\u001b[0m\u001b[1;33m,\u001b[0m \u001b[0mz_map_vars_p\u001b[0m\u001b[1;33m)\u001b[0m\u001b[1;33m\u001b[0m\u001b[1;33m\u001b[0m\u001b[0m\n\u001b[0m\u001b[0;32m    121\u001b[0m             \u001b[0mz_map_vars_i\u001b[0m        \u001b[1;33m=\u001b[0m \u001b[0mz_map_vars_p\u001b[0m\u001b[1;33m\u001b[0m\u001b[1;33m\u001b[0m\u001b[0m\n\u001b[0;32m    122\u001b[0m         \u001b[1;31m# elif mcs_module.module_sense == 'target':\u001b[0m\u001b[1;33m\u001b[0m\u001b[1;33m\u001b[0m\u001b[1;33m\u001b[0m\u001b[0m\n",
      "\u001b[1;31mTypeError\u001b[0m: cannot unpack non-iterable NoneType object"
     ]
    }
   ],
   "source": [
    "koCost = {'R5': 2, 'R6': 3, 'R7': 4, 'R8': 4, 'R9': 4, 'R10': 4}\n",
    "kiCost = {'R2': 6}\n",
    "maxSolutions = 50\n",
    "maxCost = 50\n",
    "mcsEnum = cMCS_enumerator.MinimalCutSetsEnumerator(network,modules,koCost,kiCost)\n",
    "\n",
    "mcsEnum.compute_mcs(maxSolutions,maxCost,\"verbose\",\"solver\",\"cplex\");"
   ]
  }
 ],
 "metadata": {
  "interpreter": {
   "hash": "c6cb88db6456a5d9db25cf91966766d45a3aee345dd42db13a70c45805ef0614"
  },
  "kernelspec": {
   "display_name": "Python 3.7.12 64-bit ('cnapy-dev': conda)",
   "language": "python",
   "name": "python3"
  },
  "language_info": {
   "codemirror_mode": {
    "name": "ipython",
    "version": 3
   },
   "file_extension": ".py",
   "mimetype": "text/x-python",
   "name": "python",
   "nbconvert_exporter": "python",
   "pygments_lexer": "ipython3",
   "version": "3.7.11"
  },
  "orig_nbformat": 4
 },
 "nbformat": 4,
 "nbformat_minor": 2
}
