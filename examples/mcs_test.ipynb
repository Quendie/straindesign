{
 "cells": [
  {
   "cell_type": "code",
   "execution_count": 2,
   "metadata": {},
   "outputs": [],
   "source": [
    "import cobra\n",
    "import numpy as np\n",
    "from importlib import reload"
   ]
  },
  {
   "cell_type": "code",
   "execution_count": 80,
   "metadata": {},
   "outputs": [],
   "source": [
    "from mcs import cplex_interface,mcs_module,cMCS_enumerator\n",
    "reload(cplex_interface)\n",
    "reload(mcs_module)\n",
    "reload(cMCS_enumerator)\n",
    "\n",
    "network = cobra.io.read_sbml_model(\"SmallExample.sbml\")"
   ]
  },
  {
   "cell_type": "code",
   "execution_count": 31,
   "metadata": {},
   "outputs": [],
   "source": [
    "modules = mcs_module.MCS_Module(network,\"target\",\"lin_constraints\",\"R4 >= 1\")"
   ]
  },
  {
   "cell_type": "code",
   "execution_count": 81,
   "metadata": {},
   "outputs": [],
   "source": [
    "koCost = {'R5': 2, 'R6': 3, 'R7': 4, 'R8': 4, 'R9': 4, 'R10': 4}\n",
    "kiCost = {'R2': 6}\n",
    "maxSolutions = 50\n",
    "maxCost = 50\n",
    "mcsEnum = cMCS_enumerator.MinimalCutSetsEnumerator(network,modules,koCost,kiCost)\n",
    "\n",
    "mcsEnum.compute_mcs(maxSolutions,maxCost,\"verbose\",\"solver\",\"cplex\");"
   ]
  }
 ],
 "metadata": {
  "interpreter": {
   "hash": "c6cb88db6456a5d9db25cf91966766d45a3aee345dd42db13a70c45805ef0614"
  },
  "kernelspec": {
   "display_name": "Python 3.7.12 64-bit ('cnapy-dev': conda)",
   "language": "python",
   "name": "python3"
  },
  "language_info": {
   "codemirror_mode": {
    "name": "ipython",
    "version": 3
   },
   "file_extension": ".py",
   "mimetype": "text/x-python",
   "name": "python",
   "nbconvert_exporter": "python",
   "pygments_lexer": "ipython3",
   "version": "3.7.12"
  },
  "orig_nbformat": 4
 },
 "nbformat": 4,
 "nbformat_minor": 2
}
