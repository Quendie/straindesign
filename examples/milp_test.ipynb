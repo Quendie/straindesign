{
 "cells": [
  {
   "cell_type": "code",
   "execution_count": 19,
   "metadata": {},
   "outputs": [],
   "source": [
    "%autoreload\n",
    "# %autoreload\n",
    "import mcs\n",
    "from scipy import sparse\n",
    "import numpy as np\n",
    "\n",
    "c = [1]\n",
    "A_ineq = sparse.csr_matrix([1])\n",
    "b_ineq = [1.5]\n",
    "A_eq = sparse.csr_matrix([1])\n",
    "b_eq = [1]\n",
    "lb = [-np.inf]\n",
    "ub = [ np.inf]\n",
    "\n",
    "lp_feas = mcs.MILP_LP(c=c, A_ineq=A_ineq,b_ineq=b_ineq,A_eq=A_eq,b_eq=b_eq,lb=lb,ub=ub,solver='scip')\n",
    "opt = lp_feas.slim_solve()\n",
    "x, min_cx, status = lp_feas.solve()\n",
    "\n",
    "lp_unbd = mcs.MILP_LP(c=c, A_ineq=A_ineq,b_ineq=b_ineq,lb=lb,ub=ub,solver='scip')\n",
    "opt = lp_unbd.slim_solve()\n",
    "x, min_cx, status = lp_unbd.solve()\n",
    "\n",
    "c = [0]\n",
    "A_ineq = sparse.csr_matrix([-1])\n",
    "b_ineq = [-1.5]\n",
    "lp_noopt = mcs.MILP_LP(c=c, A_ineq=A_ineq,b_ineq=b_ineq,lb=lb,ub=ub,solver='scip')\n",
    "opt = lp_noopt.slim_solve()\n",
    "x, min_cx, status = lp_noopt.solve()\n",
    "\n",
    "c = [-1]\n",
    "A_ineq = sparse.csr_matrix([-1])\n",
    "b_ineq = [-1.5]\n",
    "lp_infeas = mcs.MILP_LP(c=c, A_ineq=A_ineq,b_ineq=b_ineq,A_eq=A_eq,b_eq=b_eq,lb=lb,ub=ub,solver='scip')\n",
    "opt = lp_infeas.slim_solve()\n",
    "x, min_cx, status = lp_infeas.solve()"
   ]
  },
  {
   "cell_type": "code",
   "execution_count": 2,
   "metadata": {},
   "outputs": [
    {
     "ename": "ModuleNotFoundError",
     "evalue": "No module named 'mcs.strainDesigner'",
     "output_type": "error",
     "traceback": [
      "\u001b[1;31m---------------------------------------------------------------------------\u001b[0m",
      "\u001b[1;31mModuleNotFoundError\u001b[0m                       Traceback (most recent call last)",
      "\u001b[1;32m~\\AppData\\Local\\Temp\\ipykernel_5416\\3783907496.py\u001b[0m in \u001b[0;36m<module>\u001b[1;34m\u001b[0m\n\u001b[0;32m      3\u001b[0m \u001b[1;32mimport\u001b[0m \u001b[0mnumpy\u001b[0m \u001b[1;32mas\u001b[0m \u001b[0mnp\u001b[0m\u001b[1;33m\u001b[0m\u001b[1;33m\u001b[0m\u001b[0m\n\u001b[0;32m      4\u001b[0m \u001b[1;32mfrom\u001b[0m \u001b[0mimportlib\u001b[0m \u001b[1;32mimport\u001b[0m \u001b[0mreload\u001b[0m\u001b[1;33m\u001b[0m\u001b[1;33m\u001b[0m\u001b[0m\n\u001b[1;32m----> 5\u001b[1;33m \u001b[1;32mimport\u001b[0m \u001b[0mmcs\u001b[0m\u001b[1;33m\u001b[0m\u001b[1;33m\u001b[0m\u001b[0m\n\u001b[0m",
      "\u001b[1;32mc:\\users\\phili\\documents\\python\\mcs\\mcs\\__init__.py\u001b[0m in \u001b[0;36m<module>\u001b[1;34m\u001b[0m\n\u001b[0;32m      5\u001b[0m \u001b[1;31m# from mcs.solver_interface import solver_interface\u001b[0m\u001b[1;33m\u001b[0m\u001b[1;33m\u001b[0m\u001b[1;33m\u001b[0m\u001b[0m\n\u001b[0;32m      6\u001b[0m \u001b[1;32mfrom\u001b[0m \u001b[1;33m.\u001b[0m\u001b[0mstrainDesignMILPBuilder\u001b[0m \u001b[1;32mimport\u001b[0m \u001b[1;33m*\u001b[0m\u001b[1;33m\u001b[0m\u001b[1;33m\u001b[0m\u001b[0m\n\u001b[1;32m----> 7\u001b[1;33m \u001b[1;32mfrom\u001b[0m \u001b[1;33m.\u001b[0m\u001b[0mstrainDesigner\u001b[0m \u001b[1;32mimport\u001b[0m \u001b[1;33m*\u001b[0m\u001b[1;33m\u001b[0m\u001b[1;33m\u001b[0m\u001b[0m\n\u001b[0m\u001b[0;32m      8\u001b[0m \u001b[1;32mfrom\u001b[0m \u001b[1;33m.\u001b[0m\u001b[0mstrainDesignModule\u001b[0m \u001b[1;32mimport\u001b[0m \u001b[1;33m*\u001b[0m\u001b[1;33m\u001b[0m\u001b[1;33m\u001b[0m\u001b[0m\n\u001b[0;32m      9\u001b[0m \u001b[1;32mfrom\u001b[0m \u001b[1;33m.\u001b[0m\u001b[0mindicator_constraints\u001b[0m \u001b[1;32mimport\u001b[0m \u001b[1;33m*\u001b[0m\u001b[1;33m\u001b[0m\u001b[1;33m\u001b[0m\u001b[0m\n",
      "\u001b[1;31mModuleNotFoundError\u001b[0m: No module named 'mcs.strainDesigner'"
     ]
    }
   ],
   "source": [
    "%load_ext autoreload\n",
    "from scipy import sparse\n",
    "import numpy as np\n",
    "from importlib import reload\n",
    "import mcs"
   ]
  },
  {
   "cell_type": "code",
   "execution_count": 12,
   "metadata": {},
   "outputs": [],
   "source": [
    "# example setup (default: minimize)\n",
    "# main problem\n",
    "c = [-1,0,0,0]\n",
    "A_ineq = sparse.csr_matrix([[1,1,0,0],[-1,0,0,0]])\n",
    "b_ineq = [3,-1]\n",
    "A_eq = sparse.csr_matrix([[0,1,0,0]])\n",
    "b_eq = [0.6]\n",
    "lb = [1,0,0,0]\n",
    "ub = [np.inf, np.inf, 1, 1]\n",
    "vtype = 'CCBB'\n",
    "# indicator constraints\n",
    "ic_binv = [2,3]\n",
    "ic_A = sparse.csr_matrix([[1,1,0,0],[1,0,0,0]])\n",
    "ic_b = [0,1.2]\n",
    "ic_sense = \"LE\"\n",
    "ic_indicval = [1,0]\n",
    "indic_constr = mcs.Indicator_constraints(ic_binv, ic_A, ic_b, ic_sense, ic_indicval)"
   ]
  },
  {
   "cell_type": "code",
   "execution_count": 13,
   "metadata": {},
   "outputs": [
    {
     "name": "stdout",
     "output_type": "stream",
     "text": [
      "presolving:\n",
      "(round 1, fast)       3 del vars, 4 del conss, 0 add conss, 5 chg bounds, 0 chg sides, 0 chg coeffs, 0 upgd conss, 2 impls, 0 clqs\n",
      "(round 2, fast)       4 del vars, 7 del conss, 0 add conss, 6 chg bounds, 0 chg sides, 0 chg coeffs, 0 upgd conss, 2 impls, 0 clqs\n",
      "(round 3, fast)       4 del vars, 7 del conss, 0 add conss, 12 chg bounds, 0 chg sides, 0 chg coeffs, 0 upgd conss, 2 impls, 0 clqs\n",
      "(round 4, fast)       7 del vars, 10 del conss, 0 add conss, 12 chg bounds, 0 chg sides, 0 chg coeffs, 0 upgd conss, 2 impls, 0 clqs\n",
      "   Deactivated symmetry handling methods, since SCIP was built without symmetry detector (SYM=none).\n",
      "presolving (5 rounds: 5 fast, 1 medium, 1 exhaustive):\n",
      " 8 deleted vars, 10 deleted constraints, 0 added constraints, 12 tightened bounds, 0 added holes, 0 changed sides, 0 changed coefficients\n",
      " 2 implications, 0 cliques\n",
      "transformed 1/1 original solutions to the transformed problem space\n",
      "Presolving Time: 0.00\n",
      "\n",
      "SCIP Status        : problem is solved [optimal solution found]\n",
      "Solving Time (sec) : 0.00\n",
      "Solving Nodes      : 0\n",
      "Primal Bound       : -2.40000000000000e+00 (1 solutions)\n",
      "Dual Bound         : -2.40000000000000e+00\n",
      "Gap                : 0.00 %\n",
      "Solution status =  0\n",
      "Solution value  =  -2.4\n",
      "{'x0': 2.4, 'x1': 0.6, 'x2': 0, 'x3': 1}\n"
     ]
    }
   ],
   "source": [
    "%autoreload\n",
    "my_prob = mcs.MILP_LP(  c=c,\n",
    "                        A_ineq=A_ineq,\n",
    "                        b_ineq=b_ineq,\n",
    "                        A_eq=A_eq,\n",
    "                        b_eq=b_eq,\n",
    "                        lb=lb,\n",
    "                        ub=ub,\n",
    "                        vtype=vtype, \n",
    "                        indic_constr=indic_constr,\n",
    "                        solver='scip')\n",
    "x, opt_cx, status = my_prob.solve()\n",
    "# solution.get_status() returns an integer code\n",
    "print(\"Solution status = \", str(status))\n",
    "# the following line prints the corresponding string\n",
    "print(\"Solution value  = \", str(round(opt_cx,5)))\n",
    "sol = {'x'+str(i) : round(x[i],5) for i in range(len(x))}\n",
    "print(sol)"
   ]
  },
  {
   "cell_type": "code",
   "execution_count": 5,
   "metadata": {},
   "outputs": [
    {
     "name": "stdout",
     "output_type": "stream",
     "text": [
      "The autoreload extension is already loaded. To reload it, use:\n",
      "  %reload_ext autoreload\n",
      "Set parameter Username\n",
      "\n",
      "--------------------------------------------\n",
      "Warning: your license will expire in 12 days\n",
      "--------------------------------------------\n",
      "\n",
      "Academic license - for non-commercial use only - expires 2022-03-21\n"
     ]
    }
   ],
   "source": [
    "%load_ext autoreload\n",
    "import cobra\n",
    "from importlib import reload\n",
    "ecc2 = cobra.io.read_sbml_model(\"ECC2comp.sbml\")\n",
    "iml1515 = cobra.io.read_sbml_model(\"iML1515.sbml\")"
   ]
  },
  {
   "cell_type": "code",
   "execution_count": 13,
   "metadata": {},
   "outputs": [
    {
     "name": "stderr",
     "output_type": "stream",
     "text": [
      "[autoreload of mcs.strainDesignMILP failed: Traceback (most recent call last):\n",
      "  File \"C:\\Users\\phili\\anaconda3\\envs\\cnapy-dev\\lib\\site-packages\\IPython\\extensions\\autoreload.py\", line 245, in check\n",
      "    superreload(m, reload, self.old_objects)\n",
      "  File \"C:\\Users\\phili\\anaconda3\\envs\\cnapy-dev\\lib\\site-packages\\IPython\\extensions\\autoreload.py\", line 394, in superreload\n",
      "    module = reload(module)\n",
      "  File \"C:\\Users\\phili\\anaconda3\\envs\\cnapy-dev\\lib\\imp.py\", line 314, in reload\n",
      "    return importlib.reload(module)\n",
      "  File \"C:\\Users\\phili\\anaconda3\\envs\\cnapy-dev\\lib\\importlib\\__init__.py\", line 169, in reload\n",
      "    _bootstrap._exec(spec, module)\n",
      "  File \"<frozen importlib._bootstrap>\", line 630, in _exec\n",
      "  File \"<frozen importlib._bootstrap_external>\", line 724, in exec_module\n",
      "  File \"<frozen importlib._bootstrap_external>\", line 860, in get_code\n",
      "  File \"<frozen importlib._bootstrap_external>\", line 791, in source_to_code\n",
      "  File \"<frozen importlib._bootstrap>\", line 219, in _call_with_frames_removed\n",
      "  File \"c:\\users\\phili\\documents\\python\\mcs\\mcs\\strainDesignMILP.py\", line 22\n",
      "    self.milp = (   c           =self.c,\n",
      "                                ^\n",
      "SyntaxError: invalid syntax\n",
      "]\n"
     ]
    }
   ],
   "source": [
    "%autoreload\n",
    "import mcs\n",
    "from mcs import fva,fba\n",
    "import cProfile\n",
    "reload(mcs)\n",
    "# opt = ecc2.optimize()\n",
    "# print(opt)\n",
    "# cProfile.runctx(\"fba(iml1515,solver='scip')\",globals(),locals())\n",
    "# opt2 = fba(iml1515,solver='scip')\n",
    "# print(opt2)\n",
    "# opt3 = cobra.flux_analysis.variability.flux_variability_analysis(iml1515)\n",
    "# print(opt3)\n",
    "# cProfile.runctx(\"mcs.fva(iml1515)\",globals(),locals())\n",
    "opt4 = fva(iml1515, solver='cplex')\n",
    "print(opt4)\n",
    "# cProfile.runctx()"
   ]
  }
 ],
 "metadata": {
  "interpreter": {
   "hash": "c6cb88db6456a5d9db25cf91966766d45a3aee345dd42db13a70c45805ef0614"
  },
  "kernelspec": {
   "display_name": "Python 3.7.12 64-bit ('cnapy-dev': conda)",
   "language": "python",
   "name": "python3"
  },
  "language_info": {
   "codemirror_mode": {
    "name": "ipython",
    "version": 3
   },
   "file_extension": ".py",
   "mimetype": "text/x-python",
   "name": "python",
   "nbconvert_exporter": "python",
   "pygments_lexer": "ipython3",
   "version": "3.7.12"
  },
  "orig_nbformat": 4
 },
 "nbformat": 4,
 "nbformat_minor": 2
}
