{
 "cells": [
  {
   "cell_type": "code",
   "execution_count": 2,
   "metadata": {},
   "outputs": [],
   "source": [
    "%load_ext autoreload\n",
    "import cobra\n",
    "import numpy as np\n",
    "from importlib import reload\n",
    "import mcs\n",
    "from scipy import sparse\n",
    "#import traceback\n",
    "#import warnings\n",
    "import sys\n"
   ]
  },
  {
   "cell_type": "markdown",
   "metadata": {},
   "source": [
    "This is a bilevel-example with 1 Target and 1 Desired region"
   ]
  },
  {
   "cell_type": "code",
   "execution_count": 24,
   "metadata": {},
   "outputs": [
    {
     "name": "stdout",
     "output_type": "stream",
     "text": [
      "Constructing MCS MILP.\n",
      "Bounding MILP.\n",
      "Enumerating MCS ...\n"
     ]
    },
    {
     "ename": "AttributeError",
     "evalue": "'gurobipy.Model' object has no attribute 'solution'",
     "output_type": "error",
     "traceback": [
      "\u001b[1;31m---------------------------------------------------------------------------\u001b[0m",
      "\u001b[1;31mAttributeError\u001b[0m                            Traceback (most recent call last)",
      "\u001b[1;32m~\\AppData\\Local\\Temp/ipykernel_24792/18789094.py\u001b[0m in \u001b[0;36m<module>\u001b[1;34m\u001b[0m\n\u001b[0;32m     21\u001b[0m \u001b[1;33m\u001b[0m\u001b[0m\n\u001b[0;32m     22\u001b[0m \u001b[1;31m# solve MILP\u001b[0m\u001b[1;33m\u001b[0m\u001b[1;33m\u001b[0m\u001b[1;33m\u001b[0m\u001b[0m\n\u001b[1;32m---> 23\u001b[1;33m \u001b[0mmcsEnum\u001b[0m\u001b[1;33m.\u001b[0m\u001b[0menumerate_mcs\u001b[0m\u001b[1;33m(\u001b[0m\u001b[1;33m)\u001b[0m\u001b[1;33m\u001b[0m\u001b[1;33m\u001b[0m\u001b[0m\n\u001b[0m\u001b[0;32m     24\u001b[0m \u001b[1;31m# mcsEnum.compute_mcs()\u001b[0m\u001b[1;33m\u001b[0m\u001b[1;33m\u001b[0m\u001b[1;33m\u001b[0m\u001b[0m\n\u001b[0;32m     25\u001b[0m \u001b[1;31m# mcsEnum.compute_smallest_mcs()\u001b[0m\u001b[1;33m\u001b[0m\u001b[1;33m\u001b[0m\u001b[1;33m\u001b[0m\u001b[0m\n",
      "\u001b[1;32mc:\\users\\phili\\dokumente\\python\\mcs\\mcs\\strainDesigner.py\u001b[0m in \u001b[0;36menumerate_mcs\u001b[1;34m(self, **kwargs)\u001b[0m\n\u001b[0;32m    282\u001b[0m           \u001b[0mendtime\u001b[0m\u001b[1;33m-\u001b[0m\u001b[0mtime\u001b[0m\u001b[1;33m.\u001b[0m\u001b[0mtime\u001b[0m\u001b[1;33m(\u001b[0m\u001b[1;33m)\u001b[0m \u001b[1;33m>\u001b[0m \u001b[1;36m0\u001b[0m\u001b[1;33m:\u001b[0m\u001b[1;33m\u001b[0m\u001b[1;33m\u001b[0m\u001b[0m\n\u001b[0;32m    283\u001b[0m             \u001b[0mself\u001b[0m\u001b[1;33m.\u001b[0m\u001b[0mmilp\u001b[0m\u001b[1;33m.\u001b[0m\u001b[0mset_time_limit\u001b[0m\u001b[1;33m(\u001b[0m\u001b[0mendtime\u001b[0m\u001b[1;33m-\u001b[0m\u001b[0mtime\u001b[0m\u001b[1;33m.\u001b[0m\u001b[0mtime\u001b[0m\u001b[1;33m(\u001b[0m\u001b[1;33m)\u001b[0m\u001b[1;33m)\u001b[0m\u001b[1;33m\u001b[0m\u001b[1;33m\u001b[0m\u001b[0m\n\u001b[1;32m--> 284\u001b[1;33m             \u001b[0mz\u001b[0m\u001b[1;33m,\u001b[0m \u001b[0mstatus\u001b[0m \u001b[1;33m=\u001b[0m \u001b[0mself\u001b[0m\u001b[1;33m.\u001b[0m\u001b[0mpopulateZ\u001b[0m\u001b[1;33m(\u001b[0m\u001b[0mself\u001b[0m\u001b[1;33m.\u001b[0m\u001b[0mmax_solutions\u001b[0m \u001b[1;33m-\u001b[0m \u001b[0mmcs_sols\u001b[0m\u001b[1;33m.\u001b[0m\u001b[0mshape\u001b[0m\u001b[1;33m[\u001b[0m\u001b[1;36m0\u001b[0m\u001b[1;33m]\u001b[0m\u001b[1;33m)\u001b[0m\u001b[1;33m\u001b[0m\u001b[1;33m\u001b[0m\u001b[0m\n\u001b[0m\u001b[0;32m    285\u001b[0m             \u001b[1;32mif\u001b[0m \u001b[0mstatus\u001b[0m \u001b[1;32min\u001b[0m \u001b[1;33m[\u001b[0m\u001b[1;36m0\u001b[0m\u001b[1;33m,\u001b[0m\u001b[1;36m3\u001b[0m\u001b[1;33m]\u001b[0m\u001b[1;33m:\u001b[0m\u001b[1;33m\u001b[0m\u001b[1;33m\u001b[0m\u001b[0m\n\u001b[0;32m    286\u001b[0m                 \u001b[1;32mfor\u001b[0m \u001b[0mi\u001b[0m \u001b[1;32min\u001b[0m \u001b[0mrange\u001b[0m\u001b[1;33m(\u001b[0m\u001b[0mz\u001b[0m\u001b[1;33m.\u001b[0m\u001b[0mshape\u001b[0m\u001b[1;33m[\u001b[0m\u001b[1;36m0\u001b[0m\u001b[1;33m]\u001b[0m\u001b[1;33m)\u001b[0m\u001b[1;33m:\u001b[0m\u001b[1;33m\u001b[0m\u001b[1;33m\u001b[0m\u001b[0m\n",
      "\u001b[1;32mc:\\users\\phili\\dokumente\\python\\mcs\\mcs\\strainDesigner.py\u001b[0m in \u001b[0;36mpopulateZ\u001b[1;34m(self, n)\u001b[0m\n\u001b[0;32m     68\u001b[0m \u001b[1;33m\u001b[0m\u001b[0m\n\u001b[0;32m     69\u001b[0m     \u001b[1;32mdef\u001b[0m \u001b[0mpopulateZ\u001b[0m\u001b[1;33m(\u001b[0m\u001b[0mself\u001b[0m\u001b[1;33m,\u001b[0m\u001b[0mn\u001b[0m\u001b[1;33m)\u001b[0m \u001b[1;33m->\u001b[0m \u001b[0mTuple\u001b[0m\u001b[1;33m[\u001b[0m\u001b[0mList\u001b[0m\u001b[1;33m,\u001b[0m\u001b[0mint\u001b[0m\u001b[1;33m]\u001b[0m\u001b[1;33m:\u001b[0m\u001b[1;33m\u001b[0m\u001b[1;33m\u001b[0m\u001b[0m\n\u001b[1;32m---> 70\u001b[1;33m         \u001b[0mx\u001b[0m\u001b[1;33m,\u001b[0m \u001b[0m_\u001b[0m \u001b[1;33m,\u001b[0m \u001b[0mstatus\u001b[0m \u001b[1;33m=\u001b[0m \u001b[0mself\u001b[0m\u001b[1;33m.\u001b[0m\u001b[0mmilp\u001b[0m\u001b[1;33m.\u001b[0m\u001b[0mpopulate\u001b[0m\u001b[1;33m(\u001b[0m\u001b[0mn\u001b[0m\u001b[1;33m)\u001b[0m\u001b[1;33m\u001b[0m\u001b[1;33m\u001b[0m\u001b[0m\n\u001b[0m\u001b[0;32m     71\u001b[0m         \u001b[0mz\u001b[0m \u001b[1;33m=\u001b[0m \u001b[0msparse\u001b[0m\u001b[1;33m.\u001b[0m\u001b[0mcsr_matrix\u001b[0m\u001b[1;33m(\u001b[0m\u001b[1;33m[\u001b[0m\u001b[1;33m[\u001b[0m\u001b[0mx\u001b[0m\u001b[1;33m[\u001b[0m\u001b[0mj\u001b[0m\u001b[1;33m]\u001b[0m\u001b[1;33m[\u001b[0m\u001b[0mi\u001b[0m\u001b[1;33m]\u001b[0m \u001b[1;32mfor\u001b[0m \u001b[0mi\u001b[0m \u001b[1;32min\u001b[0m \u001b[0mself\u001b[0m\u001b[1;33m.\u001b[0m\u001b[0midx_z\u001b[0m\u001b[1;33m]\u001b[0m \u001b[1;32mfor\u001b[0m \u001b[0mj\u001b[0m \u001b[1;32min\u001b[0m \u001b[0mrange\u001b[0m\u001b[1;33m(\u001b[0m\u001b[0mlen\u001b[0m\u001b[1;33m(\u001b[0m\u001b[0mx\u001b[0m\u001b[1;33m)\u001b[0m\u001b[1;33m)\u001b[0m\u001b[1;33m]\u001b[0m\u001b[1;33m)\u001b[0m\u001b[1;33m\u001b[0m\u001b[1;33m\u001b[0m\u001b[0m\n\u001b[0;32m     72\u001b[0m         \u001b[0mz\u001b[0m\u001b[1;33m.\u001b[0m\u001b[0mresize\u001b[0m\u001b[1;33m(\u001b[0m\u001b[1;33m(\u001b[0m\u001b[0mlen\u001b[0m\u001b[1;33m(\u001b[0m\u001b[0mx\u001b[0m\u001b[1;33m)\u001b[0m\u001b[1;33m,\u001b[0m\u001b[0mself\u001b[0m\u001b[1;33m.\u001b[0m\u001b[0mnum_z\u001b[0m\u001b[1;33m)\u001b[0m\u001b[1;33m)\u001b[0m\u001b[1;33m\u001b[0m\u001b[1;33m\u001b[0m\u001b[0m\n",
      "\u001b[1;32mc:\\users\\phili\\dokumente\\python\\mcs\\mcs\\solver_interface.py\u001b[0m in \u001b[0;36mpopulate\u001b[1;34m(self, n)\u001b[0m\n\u001b[0;32m    116\u001b[0m         \u001b[1;31m#\u001b[0m\u001b[1;33m\u001b[0m\u001b[1;33m\u001b[0m\u001b[1;33m\u001b[0m\u001b[0m\n\u001b[0;32m    117\u001b[0m         \u001b[1;32mif\u001b[0m \u001b[0mself\u001b[0m\u001b[1;33m.\u001b[0m\u001b[0msolver\u001b[0m \u001b[1;32min\u001b[0m \u001b[1;33m[\u001b[0m\u001b[1;34m'cplex'\u001b[0m\u001b[1;33m,\u001b[0m\u001b[1;34m'gurobi'\u001b[0m\u001b[1;33m]\u001b[0m\u001b[1;33m:\u001b[0m\u001b[1;33m\u001b[0m\u001b[1;33m\u001b[0m\u001b[0m\n\u001b[1;32m--> 118\u001b[1;33m             \u001b[0mx\u001b[0m\u001b[1;33m,\u001b[0m \u001b[0mmin_cx\u001b[0m\u001b[1;33m,\u001b[0m \u001b[0mstatus\u001b[0m \u001b[1;33m=\u001b[0m \u001b[0mself\u001b[0m\u001b[1;33m.\u001b[0m\u001b[0mbackend\u001b[0m\u001b[1;33m.\u001b[0m\u001b[0mpopulate\u001b[0m\u001b[1;33m(\u001b[0m\u001b[0mn\u001b[0m\u001b[1;33m)\u001b[0m\u001b[1;33m\u001b[0m\u001b[1;33m\u001b[0m\u001b[0m\n\u001b[0m\u001b[0;32m    119\u001b[0m         \u001b[1;31m# TODO\u001b[0m\u001b[1;33m\u001b[0m\u001b[1;33m\u001b[0m\u001b[1;33m\u001b[0m\u001b[0m\n\u001b[0;32m    120\u001b[0m         \u001b[1;31m# first solve, then add constraint to fix costs and iterate solution until everything is found\u001b[0m\u001b[1;33m\u001b[0m\u001b[1;33m\u001b[0m\u001b[1;33m\u001b[0m\u001b[0m\n",
      "\u001b[1;32mc:\\users\\phili\\dokumente\\python\\mcs\\mcs\\gurobi_interface.py\u001b[0m in \u001b[0;36mpopulate\u001b[1;34m(self, n)\u001b[0m\n\u001b[0;32m    136\u001b[0m             \u001b[1;32melse\u001b[0m\u001b[1;33m:\u001b[0m\u001b[1;33m\u001b[0m\u001b[1;33m\u001b[0m\u001b[0m\n\u001b[0;32m    137\u001b[0m                 \u001b[1;32mraise\u001b[0m \u001b[0mException\u001b[0m\u001b[1;33m(\u001b[0m\u001b[1;34m'Status code '\u001b[0m\u001b[1;33m+\u001b[0m\u001b[0mstr\u001b[0m\u001b[1;33m(\u001b[0m\u001b[0mstatus\u001b[0m\u001b[1;33m)\u001b[0m\u001b[1;33m+\u001b[0m\u001b[1;34m\" not yet handeld.\"\u001b[0m\u001b[1;33m)\u001b[0m\u001b[1;33m\u001b[0m\u001b[1;33m\u001b[0m\u001b[0m\n\u001b[1;32m--> 138\u001b[1;33m             \u001b[0mx\u001b[0m \u001b[1;33m=\u001b[0m \u001b[1;33m[\u001b[0m\u001b[0mself\u001b[0m\u001b[1;33m.\u001b[0m\u001b[0msolution\u001b[0m\u001b[1;33m.\u001b[0m\u001b[0mpool\u001b[0m\u001b[1;33m.\u001b[0m\u001b[0mget_values\u001b[0m\u001b[1;33m(\u001b[0m\u001b[0mi\u001b[0m\u001b[1;33m)\u001b[0m \u001b[1;32mfor\u001b[0m \u001b[0mi\u001b[0m \u001b[1;32min\u001b[0m \u001b[0mrange\u001b[0m\u001b[1;33m(\u001b[0m\u001b[0mself\u001b[0m\u001b[1;33m.\u001b[0m\u001b[0msolution\u001b[0m\u001b[1;33m.\u001b[0m\u001b[0mpool\u001b[0m\u001b[1;33m.\u001b[0m\u001b[0mget_num\u001b[0m\u001b[1;33m(\u001b[0m\u001b[1;33m)\u001b[0m\u001b[1;33m)\u001b[0m\u001b[1;33m]\u001b[0m\u001b[1;33m\u001b[0m\u001b[1;33m\u001b[0m\u001b[0m\n\u001b[0m\u001b[0;32m    139\u001b[0m             \u001b[1;32mreturn\u001b[0m \u001b[0mx\u001b[0m\u001b[1;33m,\u001b[0m \u001b[0mmin_cx\u001b[0m\u001b[1;33m,\u001b[0m \u001b[0mstatus\u001b[0m\u001b[1;33m\u001b[0m\u001b[1;33m\u001b[0m\u001b[0m\n\u001b[0;32m    140\u001b[0m \u001b[1;33m\u001b[0m\u001b[0m\n",
      "\u001b[1;32msrc\\gurobipy\\model.pxi\u001b[0m in \u001b[0;36mgurobipy.Model.__getattr__\u001b[1;34m()\u001b[0m\n",
      "\u001b[1;32msrc\\gurobipy\\model.pxi\u001b[0m in \u001b[0;36mgurobipy.Model.getAttr\u001b[1;34m()\u001b[0m\n",
      "\u001b[1;32msrc\\gurobipy\\attrutil.pxi\u001b[0m in \u001b[0;36mgurobipy.__getattrinfo\u001b[1;34m()\u001b[0m\n",
      "\u001b[1;31mAttributeError\u001b[0m: 'gurobipy.Model' object has no attribute 'solution'"
     ]
    }
   ],
   "source": [
    "%autoreload\n",
    "# load network\n",
    "network = cobra.io.read_sbml_model(\"weak_coupling.sbml\")\n",
    "mcs.fba(network,constr=[\"r1=0\"])\n",
    "# specify modules\n",
    "# specify modules\n",
    "modules = [mcs.SD_Module(network,\"mcs_bilvl\",module_sense=\"target\",constraints=[\"r_P <= 0.5\"],inner_objective=\"-r_BM\")]\n",
    "modules.append(mcs.SD_Module(network,\"mcs_lin\",module_sense=\"desired\",constraints=\"r_BM >= 1\"))\n",
    "\n",
    "# specify MCS setup\n",
    "ko_cost = {'r2': 1, 'r3': 1, 'r4': 1, 'r5': 1, 'r6': 1, 'r7': 1, 'r8': 1, 'r9': 1}\n",
    "ki_cost = {'r1': 1}\n",
    "maxSolutions = 50\n",
    "maxCost = 50\n",
    "solver = 'gurobi'\n",
    "\n",
    "# construct MCS MILP\n",
    "mcsEnum = mcs.StrainDesigner(network,modules,\n",
    "       ko_cost=ko_cost,ki_cost=ki_cost,max_cost=maxCost,M=None,\n",
    "       solver=solver)\n",
    "\n",
    "# solve MILP\n",
    "mcsEnum.enumerate_mcs()\n",
    "# mcsEnum.compute_mcs()\n",
    "# mcsEnum.compute_smallest_mcs()"
   ]
  },
  {
   "cell_type": "markdown",
   "metadata": {},
   "source": [
    "This is a bilevel-example with only 1 desired region"
   ]
  },
  {
   "cell_type": "code",
   "execution_count": 25,
   "metadata": {},
   "outputs": [
    {
     "name": "stdout",
     "output_type": "stream",
     "text": [
      "Constructing MCS MILP.\n",
      "Bounding MILP.\n",
      "Finding smallest MCS ...\n",
      "MCS with cost 3: {'r1': 1, 'r5': -1, 'r7': -1}\n",
      "MCS with cost 3: {'r1': 1, 'r4': -1, 'r7': -1}\n",
      "Finished. 2 solutions found.\n"
     ]
    },
    {
     "data": {
      "text/plain": [
       "([{'r1': 1.0, 'r5': -1.0, 'r7': -1.0}, {'r1': 1.0, 'r4': -1.0, 'r7': -1.0}], 0)"
      ]
     },
     "execution_count": 25,
     "metadata": {},
     "output_type": "execute_result"
    }
   ],
   "source": [
    "%autoreload\n",
    "# load network\n",
    "network = cobra.io.read_sbml_model(\"weak_coupling.sbml\")\n",
    "mcs.fba(network,constr=[\"r1=0\"])\n",
    "# specify modules\n",
    "modules = mcs.SD_Module(network,\"mcs_bilvl\",module_sense=\"desired\",constraints=[\"r_BM >= 0.5\",\"r_P >= 1\"],inner_objective=\"-r_BM\")\n",
    "\n",
    "# specify MCS setup\n",
    "ko_cost = {'r2': 1, 'r3': 1, 'r4': 1, 'r5': 1, 'r6': 1, 'r7': 1, 'r8': 1, 'r9': 1}\n",
    "ki_cost = {'r1': 1}\n",
    "maxSolutions = 50\n",
    "maxCost = 50\n",
    "\n",
    "# construct MCS MILP\n",
    "mcsEnum = mcs.StrainDesigner(network,modules,ko_cost=ko_cost,ki_cost=ki_cost,max_cost=7,M=None)\n",
    "\n",
    "# solve MILP\n",
    "mcsEnum.compute_smallest_mcs()"
   ]
  },
  {
   "cell_type": "markdown",
   "metadata": {},
   "source": [
    "This is a regular MCS example with 1 target and 1 desired region"
   ]
  },
  {
   "cell_type": "code",
   "execution_count": 26,
   "metadata": {},
   "outputs": [
    {
     "name": "stdout",
     "output_type": "stream",
     "text": [
      "Constructing MCS MILP.\n",
      "Bounding MILP.\n",
      "Enumerating MCS ...\n",
      "MCS with cost 4.0: [{'R07': -1.0}]\n",
      "MCS with cost 4.0: [{'R10': -1.0}]\n",
      "MCS with cost 7.0: [{'R06': -1.0, 'R08': -1.0}]\n",
      "Finished. 3 solutions found.\n"
     ]
    },
    {
     "data": {
      "text/plain": [
       "([{'R07': -1.0}, {'R10': -1.0}, {'R06': -1.0, 'R08': -1.0}], 0)"
      ]
     },
     "execution_count": 26,
     "metadata": {},
     "output_type": "execute_result"
    }
   ],
   "source": [
    "%autoreload\n",
    "# load network\n",
    "network = cobra.io.read_sbml_model(\"SmallExample.sbml\")\n",
    "\n",
    "# specify modules\n",
    "modules = [mcs.SD_Module(network,\"mcs_lin\",module_sense=\"target\",constraints=[\"R04 >= 1\",\"2 R01 >= 0.5\"])]\n",
    "modules.append(mcs.SD_Module(network,\"mcs_lin\",module_sense=\"desired\",constraints=\"R03 >= 1\"))\n",
    "\n",
    "# specify MCS setup\n",
    "ko_cost = {'R05': 2, 'R06': 3, 'R07': 4, 'R08': 4, 'R09': 4, 'R10': 4}\n",
    "ki_cost = {'R02': 6}\n",
    "maxSolutions = 8\n",
    "maxCost = 8\n",
    "\n",
    "# construct MCS MILP\n",
    "mcsEnum = mcs.StrainDesigner(network,modules,ko_cost=ko_cost,ki_cost=ki_cost,max_cost=maxCost,M=None)\n",
    "\n",
    "# solve MILP\n",
    "mcsEnum.enumerate_mcs()\n",
    "# mcsEnum.compute_mcs()\n",
    "# mcsEnum.compute_smallest_mcs()"
   ]
  },
  {
   "cell_type": "markdown",
   "metadata": {},
   "source": [
    "This is a bilevel-example with 1 Target and 1 Desired region"
   ]
  },
  {
   "cell_type": "code",
   "execution_count": 12,
   "metadata": {},
   "outputs": [
    {
     "name": "stdout",
     "output_type": "stream",
     "text": [
      "Constructing MCS MILP.\n",
      "Bounding MILP.\n",
      "Finding smallest MCS ...\n",
      "MCS with cost 1: {'r2': -1}\n",
      "MCS with cost 1: {'r_S': -1}\n",
      "MCS with cost 2: {'r_BM': -1, 'r_Q': -1}\n",
      "MCS with cost 2: {'r4': -1, 'r_BM': -1}\n",
      "MCS with cost 2: {'r3': -1, 'r_BM': -1}\n",
      "MCS with cost 3: {'r4': -1, 'r6': -1, 'r_Q': -1}\n",
      "MCS with cost 3: {'r5': -1, 'r6': -1, 'r_Q': -1}\n",
      "MCS with cost 3: {'r4': -1, 'r7': -1, 'r9': -1}\n",
      "Finished. 8 solutions found.\n"
     ]
    },
    {
     "data": {
      "text/plain": [
       "([{'r2': -1.0},\n",
       "  {'r_S': -1.0},\n",
       "  {'r_BM': -1.0, 'r_Q': -1.0},\n",
       "  {'r4': -1.0, 'r_BM': -1.0},\n",
       "  {'r3': -1.0, 'r_BM': -1.0},\n",
       "  {'r4': -1.0, 'r6': -1.0, 'r_Q': -1.0},\n",
       "  {'r5': -1.0, 'r6': -1.0, 'r_Q': -1.0},\n",
       "  {'r4': -1.0, 'r7': -1.0, 'r9': -1.0}],\n",
       " 0)"
      ]
     },
     "execution_count": 12,
     "metadata": {},
     "output_type": "execute_result"
    }
   ],
   "source": [
    "%autoreload\n",
    "# load network\n",
    "network = cobra.io.read_sbml_model(\"weak_coupling.sbml\")\n",
    "mcs.fba(network,constr=[\"r1=0\"])\n",
    "# specify modules\n",
    "# specify modules\n",
    "modules = mcs.SD_Module(network,\"mcs_bilvl\",module_sense=\"target\",constraints=[\"r_P <= 0.5\"],inner_objective=\"-r_BM\")\n",
    "\n",
    "# specify MCS setup\n",
    "maxSolutions = 8\n",
    "maxCost = 3\n",
    "solver = 'gurobi'\n",
    "\n",
    "# construct MCS MILP\n",
    "mcsEnum = mcs.StrainDesigner(network,modules,max_cost=maxCost,M=None,solver=solver)\n",
    "\n",
    "# solve MILP\n",
    "# mcsEnum.compute_mcs(max_solutions=maxSolutions)\n",
    "mcsEnum.enumerate_mcs(max_solutions=maxSolutions)\n",
    "# mcsEnum.compute_smallest_mcs(max_solutions=maxSolutions)"
   ]
  },
  {
   "cell_type": "markdown",
   "metadata": {},
   "source": [
    "This is a mid-scale-example with only 1 desired region"
   ]
  },
  {
   "cell_type": "code",
   "execution_count": 22,
   "metadata": {},
   "outputs": [
    {
     "ename": "AttributeError",
     "evalue": "'SD_Module' object has no attribute 'outer_objective'",
     "output_type": "error",
     "traceback": [
      "\u001b[1;31m---------------------------------------------------------------------------\u001b[0m",
      "\u001b[1;31mAttributeError\u001b[0m                            Traceback (most recent call last)",
      "\u001b[1;32m~\\AppData\\Local\\Temp/ipykernel_45408/4070916588.py\u001b[0m in \u001b[0;36m<module>\u001b[1;34m\u001b[0m\n\u001b[0;32m     14\u001b[0m \u001b[0msol\u001b[0m \u001b[1;33m=\u001b[0m \u001b[0mmcs\u001b[0m\u001b[1;33m.\u001b[0m\u001b[0mfba\u001b[0m\u001b[1;33m(\u001b[0m\u001b[0mnetwork\u001b[0m\u001b[1;33m,\u001b[0m\u001b[0mconstr\u001b[0m\u001b[1;33m=\u001b[0m\u001b[1;33m[\u001b[0m\u001b[1;34m\"O2Up=0\"\u001b[0m\u001b[1;33m]\u001b[0m\u001b[1;33m)\u001b[0m\u001b[1;33m\u001b[0m\u001b[1;33m\u001b[0m\u001b[0m\n\u001b[0;32m     15\u001b[0m \u001b[1;31m# specify modules\u001b[0m\u001b[1;33m\u001b[0m\u001b[1;33m\u001b[0m\u001b[1;33m\u001b[0m\u001b[0m\n\u001b[1;32m---> 16\u001b[1;33m \u001b[0mmodules\u001b[0m \u001b[1;33m=\u001b[0m \u001b[0mmcs\u001b[0m\u001b[1;33m.\u001b[0m\u001b[0mSD_Module\u001b[0m\u001b[1;33m(\u001b[0m\u001b[0mnetwork\u001b[0m\u001b[1;33m,\u001b[0m\u001b[1;34m\"mcs_bilvl\"\u001b[0m\u001b[1;33m,\u001b[0m\u001b[0mmodule_sense\u001b[0m\u001b[1;33m=\u001b[0m\u001b[1;34m\"desired\"\u001b[0m\u001b[1;33m,\u001b[0m\u001b[0mconstraints\u001b[0m\u001b[1;33m=\u001b[0m\u001b[1;33m[\u001b[0m\u001b[1;34m\"2 Growth >= 0.2\"\u001b[0m\u001b[1;33m,\u001b[0m\u001b[1;34m\"EthEx >= 1\"\u001b[0m\u001b[1;33m]\u001b[0m\u001b[1;33m,\u001b[0m\u001b[0minner_objective\u001b[0m\u001b[1;33m=\u001b[0m\u001b[1;34m\"-Growth\"\u001b[0m\u001b[1;33m)\u001b[0m\u001b[1;33m\u001b[0m\u001b[1;33m\u001b[0m\u001b[0m\n\u001b[0m\u001b[0;32m     17\u001b[0m \u001b[1;33m\u001b[0m\u001b[0m\n\u001b[0;32m     18\u001b[0m \u001b[0mnetwork\u001b[0m\u001b[1;33m.\u001b[0m\u001b[0mremove_metabolites\u001b[0m\u001b[1;33m\u001b[0m\u001b[1;33m\u001b[0m\u001b[0m\n",
      "\u001b[1;32mc:\\users\\phili\\dokumente\\python\\mcs\\mcs\\strainDesignModule.py\u001b[0m in \u001b[0;36m__init__\u001b[1;34m(self, model, module_type, *args, **kwargs)\u001b[0m\n\u001b[0;32m    108\u001b[0m                 \u001b[1;32mexcept\u001b[0m\u001b[1;33m:\u001b[0m\u001b[1;33m\u001b[0m\u001b[1;33m\u001b[0m\u001b[0m\n\u001b[0;32m    109\u001b[0m                     \u001b[1;32mraise\u001b[0m \u001b[0mNameError\u001b[0m\u001b[1;33m(\u001b[0m\u001b[1;34m'Invalid inner objectve '\u001b[0m\u001b[1;33m+\u001b[0m\u001b[0mself\u001b[0m\u001b[1;33m.\u001b[0m\u001b[0minner_objective\u001b[0m\u001b[1;33m)\u001b[0m\u001b[1;33m\u001b[0m\u001b[1;33m\u001b[0m\u001b[0m\n\u001b[1;32m--> 110\u001b[1;33m             \u001b[1;32mif\u001b[0m \u001b[0mself\u001b[0m\u001b[1;33m.\u001b[0m\u001b[0mouter_objective\u001b[0m \u001b[1;32mis\u001b[0m \u001b[1;32mnot\u001b[0m \u001b[1;32mNone\u001b[0m\u001b[1;33m:\u001b[0m\u001b[1;33m\u001b[0m\u001b[1;33m\u001b[0m\u001b[0m\n\u001b[0m\u001b[0;32m    111\u001b[0m                 \u001b[1;32mtry\u001b[0m\u001b[1;33m:\u001b[0m\u001b[1;33m\u001b[0m\u001b[1;33m\u001b[0m\u001b[0m\n\u001b[0;32m    112\u001b[0m                     \u001b[0mlinexpr2mat\u001b[0m\u001b[1;33m(\u001b[0m\u001b[0msplit_eq\u001b[0m\u001b[1;33m[\u001b[0m\u001b[1;36m0\u001b[0m\u001b[1;33m]\u001b[0m\u001b[1;33m,\u001b[0m\u001b[0mreac_id\u001b[0m\u001b[1;33m)\u001b[0m\u001b[1;33m\u001b[0m\u001b[1;33m\u001b[0m\u001b[0m\n",
      "\u001b[1;31mAttributeError\u001b[0m: 'SD_Module' object has no attribute 'outer_objective'"
     ]
    }
   ],
   "source": [
    "%autoreload\n",
    "# load network\n",
    "network = cobra.io.read_sbml_model(\"ECC2comp.sbml\")\n",
    "# remove external metabolites and obsolete reactions\n",
    "external_mets = [i for i,cpts in zip(network.metabolites,network.metabolites.list_attr(\"compartment\")) if cpts == 'External_Species']\n",
    "network.remove_metabolites(external_mets)\n",
    "S = cobra.util.create_stoichiometric_matrix(network)\n",
    "obsolete_reacs = [reac for reac,b_rempty in zip(network.reactions,np.any(S,0)) if not b_rempty]\n",
    "network.remove_reactions(obsolete_reacs)\n",
    "# close some uptakes\n",
    "network.reactions.AcUp.upper_bound = 0\n",
    "network.reactions.GlycUp.upper_bound = 0\n",
    "\n",
    "sol = mcs.fba(network,constr=[\"O2Up=0\"])\n",
    "# specify modules\n",
    "modules = mcs.SD_Module(network,\"mcs_bilvl\",module_sense=\"desired\",constraints=[\"2 Growth >= 0.2\",\"EthEx >= 1\"],inner_objective=\"-Growth\")\n",
    "\n",
    "network.remove_metabolites\n",
    "network.metabolites.list_attr(\"compartment\")\n",
    "# specify MCS setup\n",
    "maxSolutions = 8\n",
    "maxCost = 4\n",
    "solver = 'gurobi'\n",
    "\n",
    "# construct MCS MILP\n",
    "mcsEnum = mcs.StrainDesigner(network,modules,max_cost=maxCost,solver=solver,M=None)\n",
    "\n",
    "# solve MILP\n",
    "mcsEnum.enumerate_mcs(max_solutions=maxSolutions)\n",
    "# mcsEnum.compute_smallest_mcs(max_solutions=maxSolutions,time_limit=5)"
   ]
  },
  {
   "cell_type": "code",
   "execution_count": 20,
   "metadata": {},
   "outputs": [
    {
     "name": "stdout",
     "output_type": "stream",
     "text": [
      "Constructing MCS MILP.\n",
      "Bounding MILP.\n",
      "Finding smallest MCS ...\n",
      "MCS with cost 1: {'R_ATPM': -1}\n",
      "MCS with cost 2: {'R_CO2Ex': -1, 'R_h_pEx': -1}\n",
      "MCS with cost 2: {'R_ENO': -1, 'R_O2Up': -1}\n",
      "MCS with cost 2: {'R_GlcUp': -1, 'R_SUCDi': -1}\n",
      "Finished. 4 solutions found.\n"
     ]
    },
    {
     "data": {
      "text/plain": [
       "([{'R_ATPM': -1.0},\n",
       "  {'R_CO2Ex': -1.0, 'R_h_pEx': -1.0},\n",
       "  {'R_ENO': -1.0, 'R_O2Up': -1.0},\n",
       "  {'R_GlcUp': -1.0, 'R_SUCDi': -1.0}],\n",
       " 0)"
      ]
     },
     "execution_count": 20,
     "metadata": {},
     "output_type": "execute_result"
    }
   ],
   "source": [
    "%autoreload\n",
    "# load network\n",
    "network = cobra.io.read_sbml_model(\"ECC2comp.sbml\")\n",
    "# remove external metabolites and obsolete reactions\n",
    "external_mets = [i for i,cpts in zip(network.metabolites,network.metabolites.list_attr(\"compartment\")) if cpts == 'External_Species']\n",
    "network.remove_metabolites(external_mets)\n",
    "S = cobra.util.create_stoichiometric_matrix(network)\n",
    "obsolete_reacs = [reac for reac,b_rempty in zip(network.reactions,np.any(S,0)) if not b_rempty]\n",
    "network.remove_reactions(obsolete_reacs)\n",
    "# close some uptakes\n",
    "network.reactions.AcUp.upper_bound = 0\n",
    "network.reactions.GlycUp.upper_bound = 0\n",
    "network.reactions.ATPM.upper_bound = 1000\n",
    "network.reactions.ATPM.lower_bound = 3.15\n",
    "\n",
    "sol = mcs.fba(network,constr=[\"O2Up=0\"])\n",
    "# specify modules\n",
    "modules = mcs.SD_Module(network,\"mcs_lin\",module_sense=\"target\")\n",
    "\n",
    "network.remove_metabolites\n",
    "network.metabolites.list_attr(\"compartment\")\n",
    "# specify MCS setup\n",
    "maxSolutions = 4\n",
    "maxCost = 50\n",
    "\n",
    "# construct MCS MILP\n",
    "mcsEnum = mcs.StrainDesigner(network,modules,max_cost=7,M=None)\n",
    "\n",
    "# solve MILP\n",
    "mcsEnum.compute_smallest_mcs(max_solutions=maxSolutions)"
   ]
  },
  {
   "cell_type": "code",
   "execution_count": 16,
   "metadata": {},
   "outputs": [],
   "source": [
    "import traceback\n",
    "import warnings\n",
    "import sys\n",
    "\n",
    "def warn_with_traceback(message, category, filename, lineno, file=None, line=None):\n",
    "\n",
    "    log = file if hasattr(file,'write') else sys.stderr\n",
    "    traceback.print_stack(file=log)\n",
    "    log.write(warnings.formatwarning(message, category, filename, lineno, line))\n",
    "\n",
    "warnings.showwarning = warn_with_traceback\n",
    "warnings.simplefilter(\"always\")"
   ]
  },
  {
   "cell_type": "code",
   "execution_count": 15,
   "metadata": {},
   "outputs": [
    {
     "ename": "NameError",
     "evalue": "name 'ray' is not defined",
     "output_type": "error",
     "traceback": [
      "\u001b[1;31m---------------------------------------------------------------------------\u001b[0m",
      "\u001b[1;31mNameError\u001b[0m                                 Traceback (most recent call last)",
      "\u001b[1;32m~\\AppData\\Local\\Temp/ipykernel_45408/3560727671.py\u001b[0m in \u001b[0;36m<module>\u001b[1;34m\u001b[0m\n\u001b[0;32m      2\u001b[0m \u001b[1;31m#ray.init()\u001b[0m\u001b[1;33m\u001b[0m\u001b[1;33m\u001b[0m\u001b[1;33m\u001b[0m\u001b[0m\n\u001b[0;32m      3\u001b[0m \u001b[1;33m\u001b[0m\u001b[0m\n\u001b[1;32m----> 4\u001b[1;33m \u001b[1;33m@\u001b[0m\u001b[0mray\u001b[0m\u001b[1;33m.\u001b[0m\u001b[0mremote\u001b[0m\u001b[1;33m\u001b[0m\u001b[1;33m\u001b[0m\u001b[0m\n\u001b[0m\u001b[0;32m      5\u001b[0m \u001b[1;32mclass\u001b[0m \u001b[0mtimer\u001b[0m\u001b[1;33m(\u001b[0m\u001b[0mobject\u001b[0m\u001b[1;33m)\u001b[0m\u001b[1;33m:\u001b[0m\u001b[1;33m\u001b[0m\u001b[1;33m\u001b[0m\u001b[0m\n\u001b[0;32m      6\u001b[0m     \u001b[1;32mimport\u001b[0m \u001b[0mtime\u001b[0m\u001b[1;33m\u001b[0m\u001b[1;33m\u001b[0m\u001b[0m\n",
      "\u001b[1;31mNameError\u001b[0m: name 'ray' is not defined"
     ]
    }
   ],
   "source": [
    "#import ray\n",
    "#ray.init()\n",
    "\n",
    "@ray.remote\n",
    "class timer(object):\n",
    "    import time\n",
    "    def __init__(self):\n",
    "        self.starttime = self.time.monotonic_ns()\n",
    "    def timepassed(self,x):\n",
    "        self.time.sleep(0.1)\n",
    "        return self.time.monotonic_ns()-self.starttime\n",
    "\n",
    "parpool = ray.util.ActorPool([timer.remote() for _ in range(int(ray.available_resources()['CPU']))])\n",
    "\n",
    "times = list(parpool.map(lambda a,x: a.timepassed.remote(x),range(20)))"
   ]
  },
  {
   "cell_type": "code",
   "execution_count": 8,
   "metadata": {},
   "outputs": [
    {
     "name": "stdout",
     "output_type": "stream",
     "text": [
      "516000000\n"
     ]
    }
   ],
   "source": [
    "import time\n",
    "starttime = time.monotonic_ns()\n",
    "time.sleep(0.5)\n",
    "print(time.monotonic_ns()-starttime)"
   ]
  }
 ],
 "metadata": {
  "interpreter": {
   "hash": "c6cb88db6456a5d9db25cf91966766d45a3aee345dd42db13a70c45805ef0614"
  },
  "kernelspec": {
   "display_name": "Python 3.7.12 64-bit ('cnapy-dev': conda)",
   "language": "python",
   "name": "python3"
  },
  "language_info": {
   "codemirror_mode": {
    "name": "ipython",
    "version": 3
   },
   "file_extension": ".py",
   "mimetype": "text/x-python",
   "name": "python",
   "nbconvert_exporter": "python",
   "pygments_lexer": "ipython3",
   "version": "3.7.11"
  },
  "orig_nbformat": 4
 },
 "nbformat": 4,
 "nbformat_minor": 2
}
