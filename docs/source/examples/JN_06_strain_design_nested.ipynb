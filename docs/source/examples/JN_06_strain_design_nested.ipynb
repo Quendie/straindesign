{
 "cells": [
  {
   "cell_type": "markdown",
   "metadata": {},
   "source": [
    "# Multi-level strain optimization approaches\n",
    "\n",
    "Several strain design approaches use MILPs with nested optimization to enforce growth-coupled production. As the first nested optimization algorithm, OptKnock <a href='#https://straindesign.readthedocs.io/en/latest/index.html#ref2'><sup>[2]</sup></a> aimed to resolve the conflict between the microbial objective of fast growth with the engineering goal of fast production. It therefore constructs a max-max problem for the maximization of product synthesis under the assumption that the cell itself, will maximize its growth rate. One problem is that this formulation leads to overly optimistic strain designs, since it assumes that a cell would maximize production when attaining its maximal growth rate. In the worst case, however (potentially growth coupled prodcution), a cell might turn off production completely.\n",
    "\n",
    "Successors of OptKnock, such as RobustKnock <a href='#https://straindesign.readthedocs.io/en/latest/index.html#ref3'><sup>[3]</sup></a> and OptCouple<a href='#https://straindesign.readthedocs.io/en/latest/index.html#ref4'><sup>[4]</sup></a> have overcome this problem since they guarantee production at maximum growth (weakly growth-coupled production). In the following sections we will explain how one can compute strain designs with OptKnock, RobustKnock and OptCouple, and how these methods can be combined with the minimial cut set approach."
   ]
  },
  {
   "cell_type": "code",
   "execution_count": 2,
   "metadata": {},
   "outputs": [
    {
     "name": "stdout",
     "output_type": "stream",
     "text": [
      "Set parameter Username\n",
      "Academic license - for non-commercial use only - expires 2023-07-20\n"
     ]
    }
   ],
   "source": [
    "import straindesign as sd\n",
    "import cobra\n",
    "\n",
    "ecc = cobra.io.load_model('e_coli_core')"
   ]
  },
  {
   "cell_type": "markdown",
   "metadata": {},
   "source": [
    "For the following examples we again look at 1,4-BDO production. Hence, we first need to introduce the 1,4-BDO pathway again into the e_coli_core model and ensure that it is operational."
   ]
  },
  {
   "cell_type": "code",
   "execution_count": 3,
   "metadata": {},
   "outputs": [
    {
     "name": "stdout",
     "output_type": "stream",
     "text": [
      "Read LP format model from file C:\\Users\\Philipp\\AppData\\Local\\Temp\\tmpbo0ipvd9.lp\n",
      "Reading time = 0.01 seconds\n",
      ": 72 rows, 190 columns, 720 nonzeros\n",
      "Maximum possible 1,4-BDO synthesis rate: 10.252923076923079.\n"
     ]
    }
   ],
   "source": [
    "# Create copy of model to which pathway will be added\n",
    "ecc_14bdo = ecc.copy()\n",
    "\n",
    "# Add metabolites to model\n",
    "ecc_14bdo.add_metabolites([ cobra.Metabolite('sucsal_c'),# Succinic semialdehyde\n",
    "                            cobra.Metabolite('4hb_c'),   # 4-Hydroxybutanoate\n",
    "                            cobra.Metabolite('4hbcoa_c'),# 4-Hydroxybutyryl-CoA\n",
    "                            cobra.Metabolite('4hbal_c'), # 4-Hydroxybutanal\n",
    "                            cobra.Metabolite('14bdo_c'), # Butane-1,4-diol (cytopl.)\n",
    "                            cobra.Metabolite('14bdo_p'), # Butane-1,4-diol (peripl.)\n",
    "                            cobra.Metabolite('14bdo_e')  # Butane-1,4-diol (extrac.)\n",
    "                            ])\n",
    "\n",
    "# Create reactions\n",
    "SSCOARx    = cobra.Reaction('SSCOARx')\n",
    "AKGDC      = cobra.Reaction('AKGDC')\n",
    "HBD        = cobra.Reaction('4HBD')\n",
    "HBCT       = cobra.Reaction('4HBCT')\n",
    "HBDH       = cobra.Reaction('4HBDH')\n",
    "HBDx       = cobra.Reaction('4HBDx')\n",
    "BDOtpp     = cobra.Reaction('14BDOtpp')\n",
    "BDOtex     = cobra.Reaction('14BDOtex')\n",
    "EX_14bdo_e = cobra.Reaction('EX_14bdo_e')\n",
    "\n",
    "# Add reactions to model\n",
    "ecc_14bdo.add_reactions([SSCOARx,\n",
    "                         AKGDC,\n",
    "                         HBD,\n",
    "                         HBCT,\n",
    "                         HBDH,\n",
    "                         HBDx,\n",
    "                         BDOtpp,\n",
    "                         BDOtex,\n",
    "                         EX_14bdo_e])\n",
    "\n",
    "# Define reaction equations\n",
    "SSCOARx.reaction    = '1 h_c + 1 nadph_c + 1 succoa_c -> 1 coa_c + 1 nadp_c + 1 sucsal_c'\n",
    "AKGDC.reaction      = '1 akg_c + 1 h_c -> 1 co2_c + 1 sucsal_c'\n",
    "HBD.reaction        = '1 h_c + 1 nadh_c + 1 sucsal_c  -> 1 4hb_c + 1 nad_c'\n",
    "HBCT.reaction       = '1 4hb_c + 1 accoa_c            -> 1 4hbcoa_c + 1 ac_c'\n",
    "HBDH.reaction       = '1 4hbcoa_c + 1 h_c + 1 nadh_c  -> 1 4hbal_c + 1 coa_c + 1 nad_c'\n",
    "HBDx.reaction       = '1 4hbal_c + 1 h_c + 1 nadh_c   -> 1 14bdo_c + 1 nad_c'\n",
    "BDOtpp.reaction     = '1 14bdo_c                      -> 1 14bdo_p'\n",
    "BDOtex.reaction     = '1 14bdo_p                      -> 1 14bdo_e'\n",
    "EX_14bdo_e.reaction = '1 14bdo_e                      ->'\n",
    "\n",
    "# Verify that pathway is operational\n",
    "sol = sd.fba(ecc_14bdo,obj='EX_14bdo_e',obj_sense='max')\n",
    "print(f\"Maximum possible 1,4-BDO synthesis rate: {sol.objective_value}.\")"
   ]
  },
  {
   "cell_type": "markdown",
   "metadata": {},
   "source": [
    "## OptKnock\n",
    "\n",
    "#### Example 9: OptKnock strain design\n",
    "\n",
    "Optknock<a href='#https://straindesign.readthedocs.io/en/latest/index.html#ref2'><sup>[2]</sup></a> is based on a bi-level optimization problem:\n",
    "\n",
    "\\begin{array}{ll}\n",
    "    \\text{maximize} \\; & v_{production} \\\\\n",
    "    \\text{subject to}  & \\begin{array}{ll}\n",
    "        \\text{maximize} &  v_{biomass} \\hspace{10em} \\\\\n",
    "        \\text{subject to} & \\mathbf{S~v=0} \\\\\n",
    "        & v_{BM} \\ge v_{BM}^{min} \\\\\n",
    "        & (1-z_i)\\cdot lb_i \\le v_i \\le (1-z_i)\\cdot ub_i, ~\\forall i\\in\\{1,\\dots,n\\}\\\\\n",
    "        &\\sum z_i \\le \\text{maxKOs}\\\\\n",
    "        &z_i \\in \\{0,1\\}\n",
    "\\end{array}\\end{array}"
   ]
  },
  {
   "cell_type": "markdown",
   "metadata": {},
   "source": [
    "The nested optimization is translated into a single-layer problem and can then be solved as a mixed-integer linear problem (MILP).\n",
    "\n",
    "Translating the nested optimization into a single level optimization yields:\n",
    "\n",
    "\\begin{gathered}\n",
    "\\text{maximize} \\; v_{production} \\\\\n",
    "\\text{subject to} \\\\\n",
    "\\begin{array}{lll}\n",
    "    \\begin{bmatrix}\n",
    "        ~~\\mathbf G & \\mathbf 0 & \\mathbf 0 \\\\\n",
    "        ~~\\mathbf D & \\mathbf 0 & \\mathbf 0 \\\\\n",
    "        \\mathbf{-c^\\intercal}~ & \\mathbf{g^\\intercal} & \\mathbf 0 \\\\\n",
    "        ~~\\mathbf 0 & \\mathbf{G^\\intercal} & \\mathbf{I_{KO}} \\\\\n",
    "    \\end{bmatrix} &\n",
    "    \\begin{bmatrix}\n",
    "        \\mathbf{v} \\\\ \\mathbf{y} \\\\ \\mathbf{s}\n",
    "    \\end{bmatrix} &\n",
    "    \\begin{matrix}\n",
    "        \\le \\\\ \\le \\\\ \\le \\\\ =\n",
    "    \\end{matrix}\n",
    "    \\begin{bmatrix}\\mathbf g \\\\ \\mathbf d \\\\ 0 \\\\ \\mathbf c\\end{bmatrix} \\\\\n",
    "\\end{array} \\\\\n",
    "\\forall i: z_i = 1 \\rightarrow v_i = 0 \\\\\n",
    "\\forall i: z_i = 0 \\rightarrow s_i = 0 \\\\\n",
    "\\sum z_i \\le MaxNoKO \\\\\n",
    "\\mathbf{y\\ge 0}, \\hskip 1em z\\in\\{0,1\\}\n",
    "\\end{gathered}"
   ]
  },
  {
   "cell_type": "markdown",
   "metadata": {},
   "source": [
    "\n",
    "The steps of translating a bi-level problem to a MILP are automated in StrainDesign. In the following, we will compute OptKnock strain designs using ``e_coli_core``.\n",
    "\n",
    "An advantage of OptKnock strain designs is that they often allow for a higher maximal growth rate. However, the predicted strain designs are often overly optimistic since they imply that the cells are able to actually reach their stoichiometrically highest possible growth rate and then also tune teir metabolism towards production. OptKnock strain designs might be preferred if the production pathway is known to be well expressed and active, even without introducing knockouts. OptKnock may then assure that laboratory evolution selects against production. We set up the strain design module for computing OptKnock strain desings. The OptKnock module consists of an outer and inner objective and additional constraints. The additional constraints are used to enforce the minimal desired growth rate."
   ]
  },
  {
   "cell_type": "code",
   "execution_count": 3,
   "metadata": {},
   "outputs": [],
   "source": [
    "module_optknock = sd.SDModule(ecc_14bdo,sd.names.OPTKNOCK,\n",
    "                              inner_objective='BIOMASS_Ecoli_core_w_GAM',\n",
    "                              outer_objective='EX_14bdo_e',\n",
    "                              constraints='BIOMASS_Ecoli_core_w_GAM >= 0.5')"
   ]
  },
  {
   "cell_type": "markdown",
   "metadata": {},
   "source": [
    "We then call the strain design function with the constructed module. Since OptKnock uses an outer objective, we should use the solution approach 'BEST' to enforce optimality. By default, inner and outer objective functions are defined in the sense of *maximization* for minimization, the ``inner_opt_sense`` and ``outer_opt_sense`` can be set to ``'maximize'`` or one can simply use negative coefficients in the objective functions."
   ]
  },
  {
   "cell_type": "code",
   "execution_count": 9,
   "metadata": {},
   "outputs": [
    {
     "name": "stderr",
     "output_type": "stream",
     "text": [
      "INFO:root:Preparing strain design computation.\n",
      "INFO:root:  Using cplex for solving LPs during preprocessing.\n",
      "WARNING:root:  Removing reaction bounds when larger than the cobra-threshold of 1000.\n",
      "INFO:root:  FVA to identify blocked reactions and irreversibilities.\n",
      "INFO:root:  FVA(s) to identify essential reactions.\n",
      "INFO:root:Preprocessing GPR rules (137 genes, 69 gpr rules).\n",
      "INFO:root:  Simplifyied to 86 genes and 49 gpr rules.\n",
      "INFO:root:  Extending metabolic network with gpr associations.\n",
      "INFO:root:Compressing Network (267 reactions).\n",
      "INFO:root:  Removing blocked reactions.\n",
      "INFO:root:  Translating stoichiometric coefficients to rationals.\n",
      "INFO:root:  Removing conservation relations.\n",
      "INFO:root:  Compression 1: Applying compression from EFM-tool module.\n",
      "INFO:root:  Reduced to 149 reactions.\n",
      "INFO:root:  Compression 2: Lumping parallel reactions.\n",
      "INFO:root:  Reduced to 128 reactions.\n",
      "INFO:root:  Compression 3: Applying compression from EFM-tool module.\n",
      "INFO:root:  Reduced to 122 reactions.\n",
      "INFO:root:  Compression 4: Lumping parallel reactions.\n",
      "INFO:root:  Reduced to 121 reactions.\n",
      "INFO:root:  Compression 5: Applying compression from EFM-tool module.\n",
      "INFO:root:  Reduced to 120 reactions.\n",
      "INFO:root:  Compression 6: Lumping parallel reactions.\n",
      "INFO:root:  Last step could not reduce size further (120 reactions).\n",
      "INFO:root:  Network compression completed. (5 compression iterations)\n",
      "INFO:root:  Translating stoichiometric coefficients back to float.\n",
      "INFO:root:  FVA(s) in compressed model to identify essential reactions.\n",
      "INFO:root:Finished preprocessing:\n",
      "INFO:root:  Model size: 120 reactions, 71 metabolites\n",
      "INFO:root:  44 targetable reactions\n",
      "WARNING:root:  Removing reaction bounds when larger than the cobra-threshold of 1000.\n",
      "INFO:root:Constructing strain design MILP for solver: cplex.\n",
      "INFO:root:  Bounding MILP.\n",
      "INFO:root:Finding optimal strain designs ...\n",
      "INFO:root:Found solution with objective value 2.619539937639321\n",
      "INFO:root:Minimizing number of interventions in subspace with 11 possible targets.\n",
      "INFO:root:Strain design with cost 10.0: {'PYK*pykF*R0_g_b1676_or_g_b1854*pykA*R1_g_b1676_or_g_b1854': -1, 'ICL*MALS*aceA*glcB*R0_g_b2976_or_g_b4014*aceB*R1_g_b2976_or_g_b4014': -1, 'AKGDC': 1, 'pgi': -1, 'kgtP': -1, 'pta*R0_g_b2297_or_g_b2458*eutD*R1_g_b2297_or_g_b2458': -1, 'sucC*sucD*R_g_b0728_and_g_b0729': -1, 'gdhA': -1}\n",
      "INFO:root:Finished solving strain design MILP. \n",
      "INFO:root:1 solutions to MILP found.\n",
      "INFO:root:  Decompressing.\n",
      "INFO:root:  Preparing (reaction-)phenotype prediction of gene intervention strategies.\n",
      "INFO:root:4 solutions found.\n"
     ]
    },
    {
     "name": "stdout",
     "output_type": "stream",
     "text": [
      "One compressed solution with cost 10.0 found and expanded to 4 solutions in the uncompressed netork.\n",
      "Example intervention set: ['+AKGDC', '-pgi', '-kgtP', '-gdhA', '-aceA', '-pta', '-eutD', '-pykF', '-pykA', '-sucC']\n"
     ]
    }
   ],
   "source": [
    "import logging\n",
    "logging.basicConfig(level=logging.INFO)\n",
    "## Compute strain designs\n",
    "# allow all gene knockouts except for spontanuos \n",
    "gko_cost = {g.name:1 for g in ecc_14bdo.genes}    \n",
    "gko_cost.pop('s0001')\n",
    "# possible knockout of O2\n",
    "ko_cost = {'EX_o2_e': 1}\n",
    "# addition candidates\n",
    "ki_cost = {'AKGDC':1, 'SSCOARx':1} # AKGDC was added in example 1.c)\n",
    "\n",
    "sols = sd.compute_strain_designs(ecc_14bdo,\n",
    "                                 sd_modules = module_optknock,\n",
    "                                 max_solutions = 1,\n",
    "                                 max_cost = 30,\n",
    "                                 gko_cost = gko_cost,\n",
    "                                 ko_cost = ko_cost,\n",
    "                                 ki_cost = ki_cost,\n",
    "                                 solution_approach = sd.names.BEST)\n",
    "# Print solution\n",
    "print(f\"One compressed solution with cost {sols.sd_cost[0]} found and \"+\\\n",
    "      f\"expanded to {len(sols.gene_sd)} solutions in the uncompressed netork.\")\n",
    "print(f\"Example intervention set: {['+'+s if v>0 else '-'+s for s,v in sols.gene_sd[0].items() if v!=0]}\")"
   ]
  },
  {
   "cell_type": "markdown",
   "metadata": {},
   "source": [
    "We can now compare the computed strain design to the wild type and the minimal enforced growth rate. As OptKnock is rate instead of yield based, we plot our strain designs in the production envelope."
   ]
  },
  {
   "cell_type": "code",
   "execution_count": 10,
   "metadata": {},
   "outputs": [
    {
     "data": {
      "image/png": "[encoded data removed]",
      "text/plain": [
       "<Figure size 432x288 with 1 Axes>"
      ]
     },
     "metadata": {
      "needs_background": "light"
     },
     "output_type": "display_data"
    }
   ],
   "source": [
    "import matplotlib.pyplot as plt\n",
    "# Wild-type plot\n",
    "datapoints, triang, plot1 = sd.plot_flux_space(ecc_14bdo,\n",
    "                                               ('BIOMASS_Ecoli_core_w_GAM','EX_14bdo_e'),\n",
    "                                               show=False);\n",
    "# Plot minimal enforced growth rate\n",
    "_,          _,      plot2 = sd.plot_flux_space(ecc_14bdo,\n",
    "                                               ('BIOMASS_Ecoli_core_w_GAM','EX_14bdo_e'),\n",
    "                                               constraints='BIOMASS_Ecoli_core_w_GAM>=0.5',\n",
    "                                               show=False);\n",
    "plot2.set_facecolor('#70AD47')\n",
    "plot2.set_edgecolor('#70AD47')\n",
    "\n",
    "# OptKnock design plot\n",
    "interventions = [[{s:1.0},'=',0.0] for s,v in sols.reaction_sd[0].items() if v < 1]\n",
    "_,          _,      plot3 = sd.plot_flux_space(ecc_14bdo,\n",
    "                                               ('BIOMASS_Ecoli_core_w_GAM','EX_14bdo_e'),\n",
    "                                               # The sign of the glucose exchange reaction is flipped since \n",
    "                                               # reaction is defined in the direction of secretion.\n",
    "                                               constraints=interventions,\n",
    "                                               show=False);\n",
    "plot3.set_facecolor('#FFC000')\n",
    "plot3.set_edgecolor('#FFC000')\n",
    "# adjust axes limits and show plot\n",
    "plot3.axes.set_xlim(0, 1.05*max([a[0] for a in datapoints]))\n",
    "plot3.axes.set_ylim(0, 1.05*max([a[1] for a in datapoints]))\n",
    "plt.show()"
   ]
  },
  {
   "cell_type": "markdown",
   "metadata": {},
   "source": [
    "The computed strain design generates a pGCP strain design with a relatively high maximal growth rate, however, at the cost of relatively many knockouts. The plot shows that OptKnock has exploited all means to improve maximal production at maximum growth. The maximum growth rate is only slightly above the demanded minimum. "
   ]
  },
  {
   "cell_type": "markdown",
   "metadata": {},
   "source": [
    "#### Example 10: OptKnock strain design with a tilted objective function\n",
    "\n",
    "The last example showed that predicted strain designs not always *guarantee* product synthesis at maximum growth. A tilted objective function can be used to simulate that the cell not only maximizes growth but also minimizes product synthesis and thus opposes the engineering goal. Factoring in this secondary goal by the cell with a sufficiently small objective coefficient will lead to more agressive stain designs that counteract the cells possible minimization of production."
   ]
  },
  {
   "cell_type": "code",
   "execution_count": 14,
   "metadata": {},
   "outputs": [
    {
     "name": "stderr",
     "output_type": "stream",
     "text": [
      "INFO:root:Preparing strain design computation.\n",
      "INFO:root:  Using cplex for solving LPs during preprocessing.\n",
      "WARNING:root:  Removing reaction bounds when larger than the cobra-threshold of 1000.\n",
      "INFO:root:  FVA to identify blocked reactions and irreversibilities.\n",
      "INFO:root:  FVA(s) to identify essential reactions.\n",
      "INFO:root:Preprocessing GPR rules (137 genes, 69 gpr rules).\n",
      "INFO:root:  Simplifyied to 86 genes and 49 gpr rules.\n",
      "INFO:root:  Extending metabolic network with gpr associations.\n",
      "INFO:root:Compressing Network (267 reactions).\n",
      "INFO:root:  Removing blocked reactions.\n",
      "INFO:root:  Translating stoichiometric coefficients to rationals.\n",
      "INFO:root:  Removing conservation relations.\n",
      "INFO:root:  Compression 1: Applying compression from EFM-tool module.\n",
      "INFO:root:  Reduced to 149 reactions.\n",
      "INFO:root:  Compression 2: Lumping parallel reactions.\n",
      "INFO:root:  Reduced to 128 reactions.\n",
      "INFO:root:  Compression 3: Applying compression from EFM-tool module.\n",
      "INFO:root:  Reduced to 122 reactions.\n",
      "INFO:root:  Compression 4: Lumping parallel reactions.\n",
      "INFO:root:  Reduced to 121 reactions.\n",
      "INFO:root:  Compression 5: Applying compression from EFM-tool module.\n",
      "INFO:root:  Reduced to 120 reactions.\n",
      "INFO:root:  Compression 6: Lumping parallel reactions.\n",
      "INFO:root:  Last step could not reduce size further (120 reactions).\n",
      "INFO:root:  Network compression completed. (5 compression iterations)\n",
      "INFO:root:  Translating stoichiometric coefficients back to float.\n",
      "INFO:root:  FVA(s) in compressed model to identify essential reactions.\n",
      "INFO:root:Finished preprocessing:\n",
      "INFO:root:  Model size: 120 reactions, 71 metabolites\n",
      "INFO:root:  44 targetable reactions\n",
      "WARNING:root:  Removing reaction bounds when larger than the cobra-threshold of 1000.\n",
      "INFO:root:Constructing strain design MILP for solver: cplex.\n",
      "INFO:root:  Bounding MILP.\n",
      "INFO:root:Finding optimal strain designs ...\n",
      "INFO:root:Found solution with objective value 2.6195399376392956\n",
      "INFO:root:Minimizing number of interventions in subspace with 14 possible targets.\n",
      "INFO:root:Strain design with cost 13.0: {'PYK*pykF*R0_g_b1676_or_g_b1854*pykA*R1_g_b1676_or_g_b1854': -1, 'ICL*MALS*aceA*glcB*R0_g_b2976_or_g_b4014*aceB*R1_g_b2976_or_g_b4014': -1, 'ME1*maeA': -1, 'ME2*maeB': -1, 'AKGDC': 1, 'pgi': -1, 'kgtP': -1, 'pta*R0_g_b2297_or_g_b2458*eutD*R1_g_b2297_or_g_b2458': -1, 'sucC*sucD*R_g_b0728_and_g_b0729': -1, 'gdhA': -1, 'gltP': -1}\n",
      "INFO:root:Finished solving strain design MILP. \n",
      "INFO:root:1 solutions to MILP found.\n",
      "INFO:root:  Decompressing.\n",
      "INFO:root:  Preparing (reaction-)phenotype prediction of gene intervention strategies.\n",
      "INFO:root:4 solutions found.\n"
     ]
    },
    {
     "name": "stdout",
     "output_type": "stream",
     "text": [
      "One compressed solution with cost 13.0 found and expanded to 4 solutions in the uncompressed netork.\n",
      "Example intervention set: ['+AKGDC', '-pgi', '-kgtP', '-gdhA', '-gltP', '-aceA', '-maeA', '-maeB', '-pta', '-eutD', '-pykF', '-pykA', '-sucC']\n"
     ]
    },
    {
     "data": {
      "image/png": "[encoded data removed]",
      "text/plain": [
       "<Figure size 432x288 with 1 Axes>"
      ]
     },
     "metadata": {
      "needs_background": "light"
     },
     "output_type": "display_data"
    }
   ],
   "source": [
    "import matplotlib.pyplot as plt\n",
    "# Wild-type plot\n",
    "datapoints, triang, plot1 = sd.plot_flux_space(ecc_14bdo,\n",
    "                                               ('BIOMASS_Ecoli_core_w_GAM','EX_14bdo_e'),\n",
    "                                               show=False);\n",
    "# Plot minimal enforced growth rate\n",
    "_,          _,      plot2 = sd.plot_flux_space(ecc_14bdo,\n",
    "                                               ('BIOMASS_Ecoli_core_w_GAM','EX_14bdo_e'),\n",
    "                                               constraints='BIOMASS_Ecoli_core_w_GAM>=0.5',\n",
    "                                               show=False);\n",
    "plot2.set_facecolor('#70AD47')\n",
    "plot2.set_edgecolor('#70AD47')\n",
    "\n",
    "module_tilted_optknock = sd.SDModule(ecc_14bdo,sd.names.OPTKNOCK,\n",
    "                              inner_objective='BIOMASS_Ecoli_core_w_GAM - 0.001 EX_14bdo_e',\n",
    "                              outer_objective='EX_14bdo_e',\n",
    "                              constraints='BIOMASS_Ecoli_core_w_GAM >= 0.5')\n",
    "\n",
    "# allow all gene knockouts except for spontanuos \n",
    "gko_cost = {g.name:1 for g in ecc_14bdo.genes}    \n",
    "gko_cost.pop('s0001')\n",
    "# possible knockout of O2\n",
    "ko_cost = {'EX_o2_e': 1}\n",
    "# addition candidates\n",
    "ki_cost = {'AKGDC':1, 'SSCOARx':1} # AKGDC was added in example 1.c)\n",
    "\n",
    "sols = sd.compute_strain_designs(ecc_14bdo,\n",
    "                                 sd_modules = module_tilted_optknock,\n",
    "                                 time_limit = 300,\n",
    "                                 max_solutions = 1,\n",
    "                                 max_cost = 30,\n",
    "                                 gko_cost = gko_cost,\n",
    "                                 ko_cost = ko_cost,\n",
    "                                 ki_cost = ki_cost,\n",
    "                                 solution_approach = sd.names.BEST)\n",
    "\n",
    "# Print solutions\n",
    "print(f\"One compressed solution with cost {sols.sd_cost[0]} found and \"+\\\n",
    "      f\"expanded to {len(sols.gene_sd)} solutions in the uncompressed netork.\")\n",
    "print(f\"Example intervention set: {['+'+s if v>0 else '-'+s for s,v in sols.gene_sd[0].items() if v!=0]}\")\n",
    "\n",
    "# OptKnock design plot\n",
    "interventions = [[{s:1.0},'=',0.0] for s,v in sols.reaction_sd[0].items() if v < 1]\n",
    "_,          _,      plot3 = sd.plot_flux_space(ecc_14bdo,\n",
    "                                               ('BIOMASS_Ecoli_core_w_GAM','EX_14bdo_e'),\n",
    "                                               # The sign of the glucose exchange reaction is flipped since \n",
    "                                               # reaction is defined in the direction of secretion.\n",
    "                                               constraints=interventions,\n",
    "                                               show=False);\n",
    "plot3.set_facecolor('#FFC000')\n",
    "plot3.set_edgecolor('#FFC000')\n",
    "# adjust axes limits and show plot\n",
    "plot3.axes.set_xlim(0, 1.05*max([a[0] for a in datapoints]))\n",
    "plot3.axes.set_ylim(0, 1.05*max([a[1] for a in datapoints]))\n",
    "plt.show()"
   ]
  },
  {
   "cell_type": "markdown",
   "metadata": {},
   "source": [
    "As a result, we obtain an at least weakly growth coupled strain design."
   ]
  },
  {
   "cell_type": "markdown",
   "metadata": {},
   "source": [
    "#### Example 11: Genome-scale OptKnock strain design\n",
    "\n",
    "Other than RobustKnock and OptCouple, OptKnock's computational effort is moderate so that the approach may be used in genome scale metabolic models. The first steps of model manipulation are identical to the ones in example 6."
   ]
  },
  {
   "cell_type": "code",
   "execution_count": 1,
   "metadata": {},
   "outputs": [
    {
     "name": "stdout",
     "output_type": "stream",
     "text": [
      "Maximum possible 1,4-BDO synthesis rate: 10.659770114940812.\n"
     ]
    }
   ],
   "source": [
    "import straindesign as sd\n",
    "import cobra\n",
    "\n",
    "cobra.Configuration().solver = 'cplex'\n",
    "ijo = cobra.io.load_model('iJO1366')\n",
    "\n",
    "# Create copy of model to which pathway will be added\n",
    "ijo_14bdo = ijo.copy()\n",
    "# If available, set the solver to cplex or gurobi. This will increase the chances\n",
    "# of sucess enormously\n",
    "ijo_14bdo.solver = 'cplex'\n",
    "\n",
    "# Add metabolites to model\n",
    "ijo_14bdo.add_metabolites([ cobra.Metabolite('4hb_c'),   # 4-Hydroxybutanoate\n",
    "                            cobra.Metabolite('4hbcoa_c'),# 4-Hydroxybutyryl-CoA\n",
    "                            cobra.Metabolite('4hbal_c'), # 4-Hydroxybutanal\n",
    "                            cobra.Metabolite('14bdo_c'), # Butane-1,4-diol (cytopl.)\n",
    "                            cobra.Metabolite('14bdo_p'), # Butane-1,4-diol (peripl.)\n",
    "                            cobra.Metabolite('14bdo_e')  # Butane-1,4-diol (extrac.)\n",
    "                            ])\n",
    "\n",
    "# Create reactions\n",
    "AKGDC      = cobra.Reaction('AKGDC')\n",
    "SSCOARx    = cobra.Reaction('SSCOARx')\n",
    "HBD        = cobra.Reaction('4HBD')\n",
    "HBCT       = cobra.Reaction('4HBCT')\n",
    "HBDH       = cobra.Reaction('4HBDH')\n",
    "HBDx       = cobra.Reaction('4HBDx')\n",
    "BDOtpp     = cobra.Reaction('14BDOtpp')\n",
    "BDOtex     = cobra.Reaction('14BDOtex')\n",
    "EX_14bdo_e = cobra.Reaction('EX_14bdo_e')\n",
    "\n",
    "# Add reactions to model\n",
    "ijo_14bdo.add_reactions([SSCOARx,\n",
    "                         AKGDC,\n",
    "                         HBD,\n",
    "                         HBCT,\n",
    "                         HBDH,\n",
    "                         HBDx,\n",
    "                         BDOtpp,\n",
    "                         BDOtex,\n",
    "                         EX_14bdo_e])\n",
    "\n",
    "# Define reaction equations\n",
    "SSCOARx.reaction    = '1 h_c + 1 nadph_c + 1 succoa_c -> 1 coa_c + 1 nadp_c + 1 sucsal_c'\n",
    "AKGDC.reaction      = '1 akg_c + 1 h_c -> 1 co2_c + 1 sucsal_c'\n",
    "HBD.reaction        = '1 h_c + 1 nadh_c + 1 sucsal_c  -> 1 4hb_c + 1 nad_c'\n",
    "HBCT.reaction       = '1 4hb_c + 1 accoa_c            -> 1 4hbcoa_c + 1 ac_c'\n",
    "HBDH.reaction       = '1 4hbcoa_c + 1 h_c + 1 nadh_c  -> 1 4hbal_c + 1 coa_c + 1 nad_c'\n",
    "HBDx.reaction       = '1 4hbal_c + 1 h_c + 1 nadh_c   -> 1 14bdo_c + 1 nad_c'\n",
    "BDOtpp.reaction     = '1 14bdo_c                      -> 1 14bdo_p'\n",
    "BDOtex.reaction     = '1 14bdo_p                      -> 1 14bdo_e'\n",
    "EX_14bdo_e.reaction = '1 14bdo_e                      ->'\n",
    "\n",
    "# define GPR rules for knock-inable genes\n",
    "SSCOARx.gene_reaction_rule  = 'gsscoar'\n",
    "AKGDC.gene_reaction_rule    = 'gakgdc'\n",
    "ijo_14bdo.genes.gsscoar.name = 'sscoar'\n",
    "ijo_14bdo.genes.gakgdc.name = 'akgdc'\n",
    "\n",
    "exchange_reacs = [r for r in ijo_14bdo.reactions if all(s<0 for s in r.metabolites.values())]\n",
    "# shut all exchange fluxes\n",
    "for r in exchange_reacs:\n",
    "    r.upper_bound = 0.0\n",
    "\n",
    "# shut CO2 uptake\n",
    "ijo_14bdo.reactions.EX_co2_e.lower_bound    = 0.0\n",
    "\n",
    "# keep main fermentation products open\n",
    "ijo_14bdo.reactions.EX_14bdo_e.upper_bound  = 1000.0\n",
    "ijo_14bdo.reactions.EX_ac_e.upper_bound     = 1000.0\n",
    "ijo_14bdo.reactions.EX_co2_e.upper_bound    = 1000.0\n",
    "ijo_14bdo.reactions.EX_etoh_e.upper_bound   = 1000.0\n",
    "ijo_14bdo.reactions.EX_for_e.upper_bound    = 1000.0\n",
    "ijo_14bdo.reactions.EX_h2_e.upper_bound     = 1000.0\n",
    "ijo_14bdo.reactions.EX_h2o2_e.upper_bound   = 1000.0\n",
    "ijo_14bdo.reactions.EX_h2o_e.upper_bound    = 1000.0\n",
    "ijo_14bdo.reactions.EX_h_e.upper_bound      = 1000.0\n",
    "ijo_14bdo.reactions.EX_lac__D_e.upper_bound = 1000.0\n",
    "ijo_14bdo.reactions.EX_meoh_e.upper_bound   = 1000.0\n",
    "ijo_14bdo.reactions.EX_o2_e.upper_bound     = 1000.0\n",
    "ijo_14bdo.reactions.EX_succ_e.upper_bound   = 1000.0\n",
    "ijo_14bdo.reactions.EX_tungs_e.upper_bound  = 1000.0\n",
    "ijo_14bdo.reactions.DM_4crsol_c.upper_bound = 1000.0\n",
    "ijo_14bdo.reactions.DM_5drib_c.upper_bound  = 1000.0\n",
    "ijo_14bdo.reactions.DM_aacald_c.upper_bound = 1000.0\n",
    "ijo_14bdo.reactions.DM_amob_c.upper_bound   = 1000.0\n",
    "ijo_14bdo.reactions.DM_mththf_c.upper_bound = 1000.0\n",
    "ijo_14bdo.reactions.DM_oxam_c.upper_bound   = 1000.0\n",
    "\n",
    "# substitute GPR rule in ATPS4rpp (all genes occur only in ATPS)\n",
    "atps_genes = [g for g in ijo_14bdo.reactions.ATPS4rpp.genes]\n",
    "ijo_14bdo.reactions.ATPS4rpp.gene_reaction_rule = str(atps_genes[0])\n",
    "cobra.manipulation.remove_genes(ijo_14bdo,atps_genes[1:])\n",
    "atps_genes[0].name = 'atpX'\n",
    "\n",
    "# substitute GPR rules in NADH16pp, NADH17pp, NADH18pp (all genes occur only in NADHxxpp and GPR rules are identical)\n",
    "nuo_genes = [g for g in ijo_14bdo.reactions.NADH16pp.genes]\n",
    "ijo_14bdo.reactions.NADH16pp.gene_reaction_rule = str(nuo_genes[0])\n",
    "ijo_14bdo.reactions.NADH17pp.gene_reaction_rule = str(nuo_genes[0])\n",
    "ijo_14bdo.reactions.NADH18pp.gene_reaction_rule = str(nuo_genes[0])\n",
    "cobra.manipulation.remove_genes(ijo_14bdo,nuo_genes[1:])\n",
    "nuo_genes[0].name = 'nuoX'\n",
    "\n",
    "# substitute GPR rules in FRD2, FRD3 (genes occur only in FRD2 and FRD3 and GPR rules are identical)\n",
    "frd_genes = [g for g in ijo_14bdo.reactions.FRD2.genes]\n",
    "ijo_14bdo.reactions.FRD2.gene_reaction_rule = str(frd_genes[0])\n",
    "ijo_14bdo.reactions.FRD3.gene_reaction_rule = str(frd_genes[0])\n",
    "cobra.manipulation.remove_genes(ijo_14bdo,frd_genes[1:])\n",
    "frd_genes[0].name = 'frdX'\n",
    "\n",
    "# substitute GPR rule in CYTBO3_4pp\n",
    "cyo_genes = [g for g in ijo_14bdo.reactions.CYTBO3_4pp.genes]\n",
    "ijo_14bdo.reactions.CYTBO3_4pp.gene_reaction_rule = str(cyo_genes[0])\n",
    "cobra.manipulation.remove_genes(ijo_14bdo,cyo_genes[1:])\n",
    "cyo_genes[0].name = 'cyoX'\n",
    "\n",
    "# substitute GPR rule in THD2pp\n",
    "pnt_genes = [g for g in ijo_14bdo.reactions.THD2pp.genes]\n",
    "ijo_14bdo.reactions.THD2pp.gene_reaction_rule = str(pnt_genes[0])\n",
    "cobra.manipulation.remove_genes(ijo_14bdo,pnt_genes[1:])\n",
    "pnt_genes[0].name = 'pntX'\n",
    "\n",
    "# substitute GPR rule in PDH and AKGDH\n",
    "ace_genes = [g for g in ijo_14bdo.genes if g.name in ['aceE', 'aceF']]\n",
    "sucAB_genes = [g for g in ijo_14bdo.genes if g.name in ['sucA', 'sucB']]\n",
    "lpd = [g for g in ijo_14bdo.genes if g.name == 'lpd'][0]\n",
    "ijo_14bdo.reactions.PDH.gene_reaction_rule = str(ace_genes[0])+' and '+str(lpd)\n",
    "ijo_14bdo.reactions.AKGDH.gene_reaction_rule = str(sucAB_genes[0])+' and '+str(lpd)\n",
    "cobra.manipulation.remove_genes(ijo_14bdo,ace_genes[1:])\n",
    "cobra.manipulation.remove_genes(ijo_14bdo,sucAB_genes[1:])\n",
    "ace_genes[0].name = 'aceEF'\n",
    "sucAB_genes[0].name = 'sucAB'\n",
    "\n",
    "# substitute GPR rule in SUCOAS\n",
    "sucCD_genes = [g for g in ijo_14bdo.reactions.SUCOAS.genes]\n",
    "ijo_14bdo.reactions.SUCOAS.gene_reaction_rule = str(sucCD_genes[0])\n",
    "cobra.manipulation.remove_genes(ijo_14bdo,sucCD_genes[1:])\n",
    "sucCD_genes[0].name = 'sucCD'\n",
    "\n",
    "# substitute GPR rule in SUCDi\n",
    "sdh_genes = [g for g in ijo_14bdo.reactions.SUCDi.genes]\n",
    "ijo_14bdo.reactions.SUCDi.gene_reaction_rule = str(sdh_genes[0])\n",
    "cobra.manipulation.remove_genes(ijo_14bdo,sdh_genes[1:])\n",
    "sdh_genes[0].name = 'sdhX'\n",
    "\n",
    "# Verify that pathway is operational\n",
    "sol = sd.fba(ijo_14bdo,obj='EX_14bdo_e',obj_sense='max')\n",
    "print(f\"Maximum possible 1,4-BDO synthesis rate: {sol.objective_value}.\")"
   ]
  },
  {
   "cell_type": "markdown",
   "metadata": {},
   "source": [
    "Now that we introduced the 1,4-BDO pathway into the model and prepared it for strain design computation, we can continue with the problem formulation. We reduce the enforced attainable growth rate to relax the strain design problem. By introducing a minimum production threshold, we are able to still use the 'ANY' approach. This guarantees at least potentially growth-coupled production, although it is unlikely to identify the strategy with the highetst production potential this way. If the computation is successful, we can repeat the computation with the 'BEST' approach. If the computation is unsuccessful, one should consider using smaller models, such as iJO1366 or compute reaction instead of gene interventions."
   ]
  },
  {
   "cell_type": "code",
   "execution_count": 6,
   "metadata": {},
   "outputs": [
    {
     "name": "stderr",
     "output_type": "stream",
     "text": [
      "INFO:root:Preparing strain design computation.\n",
      "INFO:root:  Using cplex for solving LPs during preprocessing.\n",
      "WARNING:root:  Removing reaction bounds when larger than the cobra-threshold of 1000.\n",
      "INFO:root:  FVA to identify blocked reactions and irreversibilities.\n",
      "INFO:root:  FVA(s) to identify essential reactions.\n",
      "INFO:root:Compressing Network (2592 reactions).\n",
      "INFO:root:  Removing blocked reactions.\n",
      "INFO:root:  Translating stoichiometric coefficients to rationals.\n",
      "INFO:root:  Removing conservation relations.\n",
      "INFO:root:  Compression 1: Applying compression from EFM-tool module.\n",
      "INFO:root:  Reduced to 931 reactions.\n",
      "INFO:root:  Compression 2: Lumping parallel reactions.\n",
      "INFO:root:  Last step could not reduce size further (931 reactions).\n",
      "INFO:root:  Network compression completed. (1 compression iterations)\n",
      "INFO:root:  Translating stoichiometric coefficients back to float.\n",
      "INFO:root:  FVA(s) in compressed model to identify essential reactions.\n",
      "INFO:root:Finished preprocessing:\n",
      "INFO:root:  Model size: 931 reactions, 420 metabolites\n",
      "INFO:root:  810 targetable reactions\n",
      "WARNING:root:  Removing reaction bounds when larger than the cobra-threshold of 1000.\n",
      "INFO:root:Constructing strain design MILP for solver: cplex.\n",
      "INFO:root:  Bounding MILP.\n",
      "INFO:root:Finding optimal strain designs ...\n",
      "INFO:root:Found solution with objective value 3.9226348048271538\n",
      "INFO:root:Minimizing number of interventions in subspace with 3 possible targets.\n",
      "INFO:root:Strain design with cost 3.0: {'ACKr*PTAr': -1, 'AKGDH': -1, 'ATPS4rpp': -1}\n",
      "INFO:root:Finished solving strain design MILP. \n",
      "INFO:root:1 solutions to MILP found.\n",
      "INFO:root:  Decompressing.\n",
      "INFO:root:2 solutions found.\n"
     ]
    },
    {
     "name": "stdout",
     "output_type": "stream",
     "text": [
      "One compressed solution with cost 3.0 found and expanded to 2 solutions in the uncompressed netork.\n",
      "Example intervention set: ['-AKGDH', '-ATPS4rpp', '-ACKr']\n"
     ]
    },
    {
     "data": {
      "image/png": "[encoded data removed]",
      "text/plain": [
       "<Figure size 432x288 with 1 Axes>"
      ]
     },
     "metadata": {
      "needs_background": "light"
     },
     "output_type": "display_data"
    }
   ],
   "source": [
    "import matplotlib.pyplot as plt\n",
    "import logging\n",
    "logging.basicConfig(level=logging.INFO)\n",
    "\n",
    "# Wild-type plot\n",
    "datapoints, triang, plot1 = sd.plot_flux_space(ijo_14bdo,\n",
    "                                               ('BIOMASS_Ec_iJO1366_core_53p95M ','EX_14bdo_e'), \n",
    "                                               show=False);\n",
    "# Plot minimal enforced growth rate\n",
    "_,          _,      plot2 = sd.plot_flux_space(ijo_14bdo,\n",
    "                                               ('BIOMASS_Ec_iJO1366_core_53p95M ','EX_14bdo_e'),\n",
    "                                               constraints=['BIOMASS_Ec_iJO1366_core_53p95M >=0.2',\n",
    "                                                            'EX_14bdo_e >=3'],\n",
    "                                               show=False);\n",
    "plot2.set_facecolor('#70AD47')\n",
    "plot2.set_edgecolor('#70AD47')\n",
    "\n",
    "module_tilted_optknock = sd.SDModule(ijo_14bdo,sd.names.OPTKNOCK,\n",
    "                              inner_objective='BIOMASS_Ec_iJO1366_core_53p95M ', #  - 0.001 EX_14bdo_e\n",
    "                              outer_objective='EX_14bdo_e',\n",
    "                              constraints=['BIOMASS_Ec_iJO1366_core_53p95M  >= 0.2','EX_14bdo_e >=3'])\n",
    "\n",
    "# add AKGDC and SSCOARx as adition candidates\n",
    "ki_cost = {'AKGDC': 1.0, 'SSCOARx':1}\n",
    "# possible knockout of O2\n",
    "ko_cost = {r.id : 1.0 for r in ijo_14bdo.reactions if r.genes and ijo_14bdo.genes.s0001 not in r.genes}\n",
    "ko_cost.update({'EX_o2_e': 1.0})\n",
    "# remove AKGDC and SSCOARx from knockout candidates\n",
    "ko_cost.pop('AKGDC')\n",
    "ko_cost.pop('SSCOARx')\n",
    "# Compute strain designs\n",
    "sols = sd.compute_strain_designs(ijo_14bdo,\n",
    "                                 sd_modules = module_tilted_optknock,\n",
    "                                 max_solutions = 1,\n",
    "                                 max_cost = 3,\n",
    "                                 ki_cost = ki_cost,\n",
    "                                 ko_cost = ko_cost,\n",
    "                                 solution_approach = sd.names.BEST)\n",
    "\n",
    "# Print solutions\n",
    "print(f\"One compressed solution with cost {sols.sd_cost[0]} found and \"+\\\n",
    "      f\"expanded to {len(sols.reaction_sd)} solutions in the uncompressed netork.\")\n",
    "print(f\"Example intervention set: {['+'+s if v>0 else '-'+s for s,v in sols.reaction_sd[0].items() if v!=0]}\")\n",
    "\n",
    "# OptKnock design plot\n",
    "interventions = [[{s:1.0},'=',0.0] for s,v in sols.reaction_sd[0].items() if v < 1]\n",
    "_,          _,      plot3 = sd.plot_flux_space(ijo_14bdo,\n",
    "                                               ('BIOMASS_Ec_iJO1366_core_53p95M ','EX_14bdo_e'),\n",
    "                                               # The sign of the glucose exchange reaction is flipped since \n",
    "                                               # reaction is defined in the direction of secretion.\n",
    "                                               constraints=interventions,\n",
    "                                               show=False);\n",
    "plot3.set_facecolor('#FFC000')\n",
    "plot3.set_edgecolor('#FFC000')\n",
    "# adjust axes limits and show plot\n",
    "plot3.axes.set_xlim(0, 1.05*max([a[0] for a in datapoints]))\n",
    "plot3.axes.set_ylim(0, 1.05*max([a[1] for a in datapoints]))\n",
    "plt.show()"
   ]
  },
  {
   "cell_type": "markdown",
   "metadata": {},
   "source": [
    "## RobustKnock <a href='#https://straindesign.readthedocs.io/en/latest/index.html#ref3'><sup>[3]</sup></a> \n",
    "\n",
    "The RobustKnock <a href='#https://straindesign.readthedocs.io/en/latest/index.html#ref3'><sup>[3]</sup></a> approach usues multi-level optimization in a similar way to OptKnock. Whereas Optknock guarantees potentially growth-coupled production, RobusKnock guarantees at least weakly growth coupled production. This is achieved by introducing a third optimization layer. In order to avoid growth-maximal flux states with no production, RobustKnock *maximizes the production rate at maximum growth under the premise that is previously minimized*. The problem can be formalized as follows:\n",
    "$$\n",
    "\\begin{array}{ll}\n",
    "    \\text{maximize} \\; & v_{production} \\\\\n",
    "    \\text{subject to}  & \\begin{array}{ll}\n",
    "        \\text{minimize} \\; & v_{production} \\\\\n",
    "        \\text{subject to}  & \\begin{array}{ll}\n",
    "            \\text{maximize} &  v_{biomass} \\hspace{10em} \\\\\n",
    "            \\text{subject to} & \\mathbf{S~v=0} \\\\\n",
    "            & v_{BM} \\ge v_{BM}^{min} \\\\\n",
    "            & (1-z_i)\\cdot lb_i \\le v_i \\le (1-z_i)\\cdot ub_i, ~\\forall i\\in\\{1,\\dots,n\\}\\\\\n",
    "            &\\sum z_i \\le \\text{maxKOs}\\\\\n",
    "            &z_i \\in \\{0,1\\}\n",
    "\\end{array}\\end{array}\\end{array}\n",
    "$$\n",
    "\n",
    "To translate the presented problem into a single-layer probem that can be used in a Mixed-Integer Linear Problem, one applies the duality principle twice, once on the original problem, and then once again to the linearized nested problem. This yields the MILP:\n",
    "\n",
    "$$\n",
    "\\begin{gathered}\n",
    "\\text{maximize} \\; v_{production} \\\\\n",
    "\\text{subject to} \\\\\n",
    "\\begin{array}{lllll}\n",
    "    \\begin{bmatrix}\n",
    "        ~~\\mathbf G & \\mathbf 0 & \\mathbf 0 & \\mathbf 0 & \\mathbf 0 \\\\\n",
    "        ~~\\mathbf D & \\mathbf 0 & \\mathbf 0 & \\mathbf 0 & \\mathbf 0 \\\\\n",
    "        \\mathbf{-c^\\intercal_{prod,min}}~ & \\mathbf{g^\\intercal} & \\mathbf 0 & \\mathbf{c^\\intercal_{BM}} & \\mathbf 0\\\\\n",
    "        ~~\\mathbf 0 & \\mathbf{G^\\intercal} & \\mathbf{-c^\\intercal_{BM}} & \\mathbf 0 &  \\mathbf{I_{KO}} \\\\\n",
    "        ~~\\mathbf 0 & \\mathbf 0 & \\mathbf g & \\mathbf G & \\mathbf 0 \\\\\n",
    "    \\end{bmatrix} &\n",
    "    \\begin{bmatrix}\n",
    "        \\mathbf{v} \\\\ \\mathbf{u} \\\\ \\mathbf{t} \\\\ \\mathbf{r} \\\\ \\mathbf{s}\n",
    "    \\end{bmatrix} &\n",
    "    \\begin{matrix}\n",
    "        \\le \\\\ \\le \\\\ = \\\\ = \\\\ \\ge\n",
    "    \\end{matrix}\n",
    "    \\begin{bmatrix}\\mathbf g \\\\ \\mathbf d \\\\ 0 \\\\ \\mathbf{c^\\intercal_{BM}} \\\\ \\mathbf 0 \\end{bmatrix} \\\\\n",
    "\\end{array} \\\\\n",
    "\\forall i: z_i = 1 \\rightarrow v_i = 0 \\\\\n",
    "\\forall i: z_i = 1 \\rightarrow r_i = 0 \\\\\n",
    "\\forall i: z_i = 0 \\rightarrow s_i = 0 \\\\\n",
    "\\sum z_i \\le MaxNoKO \\\\\n",
    "\\mathbf{u\\ge 0}, \\hskip 1em z\\in\\{0,1\\}\n",
    "\\end{gathered}\n",
    "$$\n",
    "\n",
    "#### Example 12: RobustKnock strain design\n",
    "\n",
    "In StrainDesign, computing OptKnock strain designs is not any different from computing OptKnock strategies. One simply declares a RobustKnock instead of an Optknock module."
   ]
  },
  {
   "cell_type": "code",
   "execution_count": 5,
   "metadata": {},
   "outputs": [],
   "source": [
    "module_robustknock = sd.SDModule(ecc_14bdo,sd.names.ROBUSTKNOCK,\n",
    "                              inner_objective='BIOMASS_Ecoli_core_w_GAM',\n",
    "                              outer_objective='EX_14bdo_e',\n",
    "                              constraints='BIOMASS_Ecoli_core_w_GAM >= 0.5')"
   ]
  },
  {
   "cell_type": "markdown",
   "metadata": {},
   "source": [
    "Launching the strain design computation:"
   ]
  },
  {
   "cell_type": "code",
   "execution_count": 6,
   "metadata": {},
   "outputs": [
    {
     "name": "stderr",
     "output_type": "stream",
     "text": [
      "INFO:root:Preparing strain design computation.\n",
      "INFO:root:  Using gurobi for solving LPs during preprocessing.\n",
      "WARNING:root:  Removing reaction bounds when larger than the cobra-threshold of 1000.\n",
      "INFO:root:  FVA to identify blocked reactions and irreversibilities.\n",
      "INFO:root:  FVA(s) to identify essential reactions.\n",
      "INFO:root:Preprocessing GPR rules (137 genes, 69 gpr rules).\n",
      "INFO:root:  Simplifyied to 86 genes and 49 gpr rules.\n",
      "INFO:root:  Extending metabolic network with gpr associations.\n",
      "INFO:root:Compressing Network (267 reactions).\n",
      "INFO:root:  Removing blocked reactions.\n",
      "INFO:root:  Translating stoichiometric coefficients to rationals.\n",
      "INFO:root:  Removing conservation relations.\n",
      "INFO:root:  Compression 1: Applying compression from EFM-tool module.\n",
      "INFO:root:  Reduced to 149 reactions.\n",
      "INFO:root:  Compression 2: Lumping parallel reactions.\n",
      "INFO:root:  Reduced to 128 reactions.\n",
      "INFO:root:  Compression 3: Applying compression from EFM-tool module.\n",
      "INFO:root:  Reduced to 122 reactions.\n",
      "INFO:root:  Compression 4: Lumping parallel reactions.\n",
      "INFO:root:  Reduced to 121 reactions.\n",
      "INFO:root:  Compression 5: Applying compression from EFM-tool module.\n",
      "INFO:root:  Reduced to 120 reactions.\n",
      "INFO:root:  Compression 6: Lumping parallel reactions.\n",
      "INFO:root:  Last step could not reduce size further (120 reactions).\n",
      "INFO:root:  Network compression completed. (5 compression iterations)\n",
      "INFO:root:  Translating stoichiometric coefficients back to float.\n",
      "INFO:root:  FVA(s) in compressed model to identify essential reactions.\n",
      "INFO:root:Finished preprocessing:\n",
      "INFO:root:  Model size: 120 reactions, 71 metabolites\n",
      "INFO:root:  44 targetable reactions\n",
      "WARNING:root:  Removing reaction bounds when larger than the cobra-threshold of 1000.\n",
      "INFO:root:Constructing strain design MILP for solver: gurobi.\n",
      "INFO:root:  Bounding MILP.\n",
      "INFO:root:Finding optimal strain designs ...\n",
      "INFO:root:Found solution with objective value 2.6195399376393143\n",
      "INFO:root:Minimizing number of interventions in subspace with 14 possible targets.\n",
      "INFO:root:Strain design with cost 14.0: {'PYK*pykF*R0_g_b1676_or_g_b1854*pykA*R1_g_b1676_or_g_b1854': -1, 'ICL*MALS*aceA*glcB*R0_g_b2976_or_g_b4014*aceB*R1_g_b2976_or_g_b4014': -1, 'ME1*maeA': -1, 'ME2*maeB': -1, 'AKGDC': 1, 'pgi': -1, 'kgtP': -1, 'purT*R0_g_b1849_or_g_b2296_or_g_b3115*ackA*R1_g_b1849_or_g_b2296_or_g_b3115*tdcD*R2_g_b1849_or_g_b2296_or_g_b3115': -1, 'sucC*sucD*R_g_b0728_and_g_b0729': -1, 'gdhA': -1, 'gltP': -1}\n",
      "INFO:root:Finished solving strain design MILP. \n",
      "INFO:root:1 solutions to MILP found.\n",
      "INFO:root:  Decompressing.\n",
      "INFO:root:  Preparing (reaction-)phenotype prediction of gene intervention strategies.\n",
      "INFO:root:4 solutions found.\n"
     ]
    },
    {
     "name": "stdout",
     "output_type": "stream",
     "text": [
      "One compressed solution with cost 14.0 found and expanded to 4 solutions in the uncompressed netork.\n",
      "Example intervention set: ['+AKGDC', '-pgi', '-kgtP', '-gdhA', '-gltP', '-aceA', '-maeA', '-maeB', '-purT', '-ackA', '-tdcD', '-pykF', '-pykA', '-sucC']\n"
     ]
    }
   ],
   "source": [
    "import logging\n",
    "logging.basicConfig(level=logging.INFO)\n",
    "## Compute strain designs\n",
    "# allow all gene knockouts except for spontanuos \n",
    "gko_cost = {g.name:1 for g in ecc_14bdo.genes}    \n",
    "gko_cost.pop('s0001')\n",
    "# possible knockout of O2\n",
    "ko_cost = {'EX_o2_e': 1}\n",
    "# addition candidates\n",
    "ki_cost = {'AKGDC':1, 'SSCOARx':1} # AKGDC was added in example 1.c)\n",
    "\n",
    "sols = sd.compute_strain_designs(ecc_14bdo,\n",
    "                                 sd_modules = module_robustknock,\n",
    "                                 max_solutions = 1,\n",
    "                                 max_cost = 30,\n",
    "                                 gko_cost = gko_cost,\n",
    "                                 ko_cost = ko_cost,\n",
    "                                 ki_cost = ki_cost,\n",
    "                                 solution_approach = sd.names.BEST)\n",
    "# Print solution\n",
    "print(f\"One compressed solution with cost {sols.sd_cost[0]} found and \"+\\\n",
    "      f\"expanded to {len(sols.gene_sd)} solutions in the uncompressed netork.\")\n",
    "print(f\"Example intervention set: {['+'+s if v>0 else '-'+s for s,v in sols.gene_sd[0].items() if v!=0]}\")"
   ]
  },
  {
   "cell_type": "markdown",
   "metadata": {},
   "source": [
    "Plotting results:"
   ]
  },
  {
   "cell_type": "code",
   "execution_count": 7,
   "metadata": {},
   "outputs": [
    {
     "data": {
      "image/png": "[encoded data removed]",
      "text/plain": [
       "<Figure size 432x288 with 1 Axes>"
      ]
     },
     "metadata": {
      "needs_background": "light"
     },
     "output_type": "display_data"
    }
   ],
   "source": [
    "import matplotlib.pyplot as plt\n",
    "# Wild-type plot\n",
    "datapoints, triang, plot1 = sd.plot_flux_space(ecc_14bdo,\n",
    "                                               ('BIOMASS_Ecoli_core_w_GAM','EX_14bdo_e'),\n",
    "                                               show=False);\n",
    "# Plot minimal enforced growth rate\n",
    "_,          _,      plot2 = sd.plot_flux_space(ecc_14bdo,\n",
    "                                               ('BIOMASS_Ecoli_core_w_GAM','EX_14bdo_e'),\n",
    "                                               constraints='BIOMASS_Ecoli_core_w_GAM>=0.5',\n",
    "                                               show=False);\n",
    "plot2.set_facecolor('#70AD47')\n",
    "plot2.set_edgecolor('#70AD47')\n",
    "\n",
    "# OptKnock design plot\n",
    "interventions = [[{s:1.0},'=',0.0] for s,v in sols.reaction_sd[0].items() if v < 1]\n",
    "_,          _,      plot3 = sd.plot_flux_space(ecc_14bdo,\n",
    "                                               ('BIOMASS_Ecoli_core_w_GAM','EX_14bdo_e'),\n",
    "                                               # The sign of the glucose exchange reaction is flipped since \n",
    "                                               # reaction is defined in the direction of secretion.\n",
    "                                               constraints=interventions,\n",
    "                                               show=False);\n",
    "plot3.set_facecolor('#FFC000')\n",
    "plot3.set_edgecolor('#FFC000')\n",
    "# adjust axes limits and show plot\n",
    "plot3.axes.set_xlim(0, 1.05*max([a[0] for a in datapoints]))\n",
    "plot3.axes.set_ylim(0, 1.05*max([a[1] for a in datapoints]))\n",
    "plt.show()"
   ]
  },
  {
   "cell_type": "markdown",
   "metadata": {},
   "source": [
    "The RobustKnock problem is significantly larger than the OptKnock problem. Genome-scale strain design problems are often computationally too expensive to solve. To assess whether genome-scale computation is possible, one should first define a very relaxed problem, use reaction KOs and solve with the 'ANY' approach before attempting more complex setups."
   ]
  },
  {
   "cell_type": "markdown",
   "metadata": {},
   "source": [
    "## OptCouple\n",
    "\n",
    "Optcouple <a href='#https://straindesign.readthedocs.io/en/latest/index.html#ref4'><sup>[4]</sup></a> pursues a slightly different approach from OptKnock and RobustKnock as it aims to maximize the \"growth-coupling potential\" (GCP), the span of growth rates ranging from (left) the maximum growth rate without product synthesis to (right) the global maximum growth rate (Figure below taken from the original publication). \n",
    "\n",
    "<img style=\"float:left; width:20%\" src=\"../img/optcouple.jpg\" />"
   ]
  },
  {
   "cell_type": "markdown",
   "metadata": {},
   "source": [
    "Mathematically, the OptCouple appraoch has many parallels to other nested multi-level approaches. In particular OptCouple demands the solution of two distinct flux states. The first subproblem determines the globally maximum flux state. Herefore, LP-duality may be employed to construct a subproblem that is identical to an MCS PROTECT module with an implicit optimization of growth (and optionally a minimum threshold for productivity). The second flux state that needs to be referenced has maximum growth under the condition that there is no product synthesis. This is again similar to the MCS PROTECT module, however the constraint $v_{production}=0$ must be taken into account in the primal and its dual system. A weakness of OptCouple is that it does not return strain designs with substrate-uptake-coupled production, since a flux state with no production *must* exist as a lower reference point.\n",
    "\n",
    "#### Example 13: OptCouple strain design\n",
    "\n",
    "In StrainDesign, the computation of OptCouple designs is as straightforward as for the other approaches."
   ]
  },
  {
   "cell_type": "code",
   "execution_count": 5,
   "metadata": {},
   "outputs": [
    {
     "name": "stderr",
     "output_type": "stream",
     "text": [
      "INFO:root:Preparing strain design computation.\n",
      "INFO:root:  Using cplex for solving LPs during preprocessing.\n",
      "WARNING:root:  Removing reaction bounds when larger than the cobra-threshold of 1000.\n",
      "INFO:root:  FVA to identify blocked reactions and irreversibilities.\n",
      "INFO:root:  FVA(s) to identify essential reactions.\n",
      "INFO:root:Preprocessing GPR rules (137 genes, 69 gpr rules).\n",
      "INFO:root:  Simplifyied to 127 genes and 63 gpr rules.\n",
      "INFO:root:  Extending metabolic network with gpr associations.\n",
      "INFO:root:Compressing Network (335 reactions).\n",
      "INFO:root:  Removing blocked reactions.\n",
      "INFO:root:  Translating stoichiometric coefficients to rationals.\n",
      "INFO:root:  Removing conservation relations.\n",
      "INFO:root:  Compression 1: Applying compression from EFM-tool module.\n",
      "INFO:root:  Reduced to 182 reactions.\n",
      "INFO:root:  Compression 2: Lumping parallel reactions.\n",
      "INFO:root:  Reduced to 154 reactions.\n",
      "INFO:root:  Compression 3: Applying compression from EFM-tool module.\n",
      "INFO:root:  Reduced to 146 reactions.\n",
      "INFO:root:  Compression 4: Lumping parallel reactions.\n",
      "INFO:root:  Reduced to 145 reactions.\n",
      "INFO:root:  Compression 5: Applying compression from EFM-tool module.\n",
      "INFO:root:  Reduced to 144 reactions.\n",
      "INFO:root:  Compression 6: Lumping parallel reactions.\n",
      "INFO:root:  Last step could not reduce size further (144 reactions).\n",
      "INFO:root:  Network compression completed. (5 compression iterations)\n",
      "INFO:root:  Translating stoichiometric coefficients back to float.\n",
      "INFO:root:  FVA(s) in compressed model to identify essential reactions.\n",
      "INFO:root:Finished preprocessing:\n",
      "INFO:root:  Model size: 144 reactions, 84 metabolites\n",
      "INFO:root:  58 targetable reactions\n",
      "WARNING:root:  Removing reaction bounds when larger than the cobra-threshold of 1000.\n",
      "INFO:root:Constructing strain design MILP for solver: cplex.\n",
      "INFO:root:  Bounding MILP.\n",
      "INFO:root:Finding optimal strain designs ...\n",
      "INFO:root:Found solution with objective value 0.3853916420255001\n",
      "INFO:root:Minimizing number of interventions in subspace with 8 possible targets.\n",
      "INFO:root:Strain design with cost 7.0: {'ME2*maeB': -1, 'AKGDC': 1, 'kgtP': -1, 'rpe*R0_g_b3386_or_g_b4301*sgcE*R1_g_b3386_or_g_b4301': -1, 'sucC*sucD*R_g_b0728_and_g_b0729': -1, 'pntB*pntA*R_g_b1602_and_g_b1603': -1}\n",
      "INFO:root:Finished solving strain design MILP. \n",
      "INFO:root:1 solutions to MILP found.\n",
      "INFO:root:  Decompressing.\n",
      "INFO:root:  Preparing (reaction-)phenotype prediction of gene intervention strategies.\n",
      "INFO:root:4 solutions found.\n"
     ]
    },
    {
     "name": "stdout",
     "output_type": "stream",
     "text": [
      "One compressed solution with cost 7.0 found and expanded to 4 solutions in the uncompressed netork.\n",
      "Example intervention set: ['+AKGDC', '-kgtP', '-maeB', '-rpe', '-sgcE', '-sucC', '-pntB']\n"
     ]
    },
    {
     "data": {
      "image/png": "[encoded data removed]",
      "text/plain": [
       "<Figure size 432x288 with 1 Axes>"
      ]
     },
     "metadata": {
      "needs_background": "light"
     },
     "output_type": "display_data"
    }
   ],
   "source": [
    "module_optcouple = sd.SDModule(ecc_14bdo,sd.names.OPTCOUPLE,\n",
    "                              inner_objective='BIOMASS_Ecoli_core_w_GAM',\n",
    "                              prod_id='EX_14bdo_e',\n",
    "                              min_gcp=0.3)\n",
    "\n",
    "import logging\n",
    "logging.basicConfig(level=logging.INFO)\n",
    "## Compute strain designs\n",
    "# allow all gene knockouts except for spontanuos \n",
    "gko_cost = {g.name:1 for g in ecc_14bdo.genes}    \n",
    "gko_cost.pop('s0001')\n",
    "# possible knockout of O2\n",
    "ko_cost = {'EX_o2_e': 1}\n",
    "# addition candidates\n",
    "ki_cost = {'AKGDC':1, 'SSCOARx':1} # AKGDC was added in example 1.c)\n",
    "\n",
    "sols = sd.compute_strain_designs(ecc_14bdo,\n",
    "                                 sd_modules = module_optcouple,\n",
    "                                 max_solutions = 1,\n",
    "                                 max_cost = 15,\n",
    "                                 gko_cost = gko_cost,\n",
    "                                 ko_cost = ko_cost,\n",
    "                                 ki_cost = ki_cost,\n",
    "                                 solution_approach = sd.names.BEST)\n",
    "# Print solution\n",
    "print(f\"One compressed solution with cost {sols.sd_cost[0]} found and \"+\\\n",
    "      f\"expanded to {len(sols.gene_sd)} solutions in the uncompressed netork.\")\n",
    "print(f\"Example intervention set: {['+'+s if v>0 else '-'+s for s,v in sols.gene_sd[0].items() if v!=0]}\")\n",
    "\n",
    "import matplotlib.pyplot as plt\n",
    "# Wild-type plot\n",
    "datapoints, triang, plot1 = sd.plot_flux_space(ecc_14bdo,\n",
    "                                               ('BIOMASS_Ecoli_core_w_GAM','EX_14bdo_e'),\n",
    "                                               show=False);\n",
    "\n",
    "# OptKnock design plot\n",
    "interventions = [[{s:1.0},'=',0.0] for s,v in sols.reaction_sd[0].items() if v < 1]\n",
    "_,          _,      plot3 = sd.plot_flux_space(ecc_14bdo,\n",
    "                                               ('BIOMASS_Ecoli_core_w_GAM','EX_14bdo_e'),\n",
    "                                               # The sign of the glucose exchange reaction is flipped since \n",
    "                                               # reaction is defined in the direction of secretion.\n",
    "                                               constraints=interventions,\n",
    "                                               show=False);\n",
    "plot3.set_facecolor('#FFC000')\n",
    "plot3.set_edgecolor('#FFC000')\n",
    "# adjust axes limits and show plot\n",
    "plot3.axes.set_xlim(0, 1.05*max([a[0] for a in datapoints]))\n",
    "plot3.axes.set_ylim(0, 1.05*max([a[1] for a in datapoints]))\n",
    "plt.show()"
   ]
  },
  {
   "cell_type": "markdown",
   "metadata": {},
   "source": [
    "As in this case, OptCouple computations often result in directionally growth-coupled strain designs, as the maximum growth coupling potential is often obtained when the maximal growth rate without production is zero. In our exampe, we observe a growth-coupling potential of 0.4."
   ]
  },
  {
   "cell_type": "markdown",
   "metadata": {},
   "source": [
    "## Combined nested-MCS combinations"
   ]
  },
  {
   "cell_type": "markdown",
   "metadata": {},
   "source": [
    "Finally, nested strain design methods can also be combined with the MCS approach. Let's take a look at the following example: We would like to design a production strain for a 2-stage process. The first production stage is aerobic growth, the second stage in anaerobic production at growth rates between 0.05 and 0.1. \n",
    "\n",
    "We construct the strain design problems with an OptKnock and an MCS module as follows:"
   ]
  },
  {
   "cell_type": "code",
   "execution_count": 5,
   "metadata": {},
   "outputs": [
    {
     "name": "stderr",
     "output_type": "stream",
     "text": [
      "INFO:root:Preparing strain design computation.\n",
      "INFO:root:  Using gurobi for solving LPs during preprocessing.\n",
      "WARNING:root:  Removing reaction bounds when larger than the cobra-threshold of 1000.\n",
      "INFO:root:  FVA to identify blocked reactions and irreversibilities.\n",
      "INFO:root:  FVA(s) to identify essential reactions.\n",
      "INFO:root:Preprocessing GPR rules (137 genes, 69 gpr rules).\n",
      "INFO:root:  Simplifyied to 79 genes and 45 gpr rules.\n",
      "INFO:root:  Extending metabolic network with gpr associations.\n",
      "INFO:root:Compressing Network (253 reactions).\n",
      "INFO:root:  Removing blocked reactions.\n",
      "INFO:root:  Translating stoichiometric coefficients to rationals.\n",
      "INFO:root:  Removing conservation relations.\n",
      "INFO:root:  Compression 1: Applying compression from EFM-tool module.\n",
      "INFO:root:  Reduced to 140 reactions.\n",
      "INFO:root:  Compression 2: Lumping parallel reactions.\n",
      "INFO:root:  Reduced to 122 reactions.\n",
      "INFO:root:  Compression 3: Applying compression from EFM-tool module.\n",
      "INFO:root:  Reduced to 117 reactions.\n",
      "INFO:root:  Compression 4: Lumping parallel reactions.\n",
      "INFO:root:  Reduced to 116 reactions.\n",
      "INFO:root:  Compression 5: Applying compression from EFM-tool module.\n",
      "INFO:root:  Reduced to 115 reactions.\n",
      "INFO:root:  Compression 6: Lumping parallel reactions.\n",
      "INFO:root:  Last step could not reduce size further (115 reactions).\n",
      "INFO:root:  Network compression completed. (5 compression iterations)\n",
      "INFO:root:  Translating stoichiometric coefficients back to float.\n",
      "INFO:root:  FVA(s) in compressed model to identify essential reactions.\n",
      "INFO:root:Finished preprocessing:\n",
      "INFO:root:  Model size: 115 reactions, 68 metabolites\n",
      "INFO:root:  40 targetable reactions\n",
      "WARNING:root:  Removing reaction bounds when larger than the cobra-threshold of 1000.\n",
      "INFO:root:Constructing strain design MILP for solver: gurobi.\n",
      "INFO:root:  Bounding MILP.\n",
      "INFO:root:Finding optimal strain designs ...\n",
      "INFO:root:Finished solving strain design MILP.\n",
      "INFO:root: No solutions exist.\n",
      "INFO:root:  Decompressing.\n",
      "INFO:root:  Preparing (reaction-)phenotype prediction of gene intervention strategies.\n",
      "INFO:root:0 solutions found.\n"
     ]
    },
    {
     "ename": "IndexError",
     "evalue": "list index out of range",
     "output_type": "error",
     "traceback": [
      "\u001b[1;31m---------------------------------------------------------------------------\u001b[0m",
      "\u001b[1;31mIndexError\u001b[0m                                Traceback (most recent call last)",
      "\u001b[1;32mc:\\Users\\Philipp\\Documents\\Python\\straindesign\\docs\\source\\examples\\JN_06_strain_design_nested.ipynb Cell 34\u001b[0m in \u001b[0;36m<cell line: 32>\u001b[1;34m()\u001b[0m\n\u001b[0;32m     <a href='vscode-notebook-cell:/c%3A/Users/Philipp/Documents/Python/straindesign/docs/source/examples/JN_06_strain_design_nested.ipynb#ch0000032?line=22'>23</a>\u001b[0m sols \u001b[39m=\u001b[39m sd\u001b[39m.\u001b[39mcompute_strain_designs(ecc_14bdo,\n\u001b[0;32m     <a href='vscode-notebook-cell:/c%3A/Users/Philipp/Documents/Python/straindesign/docs/source/examples/JN_06_strain_design_nested.ipynb#ch0000032?line=23'>24</a>\u001b[0m                                  sd_modules \u001b[39m=\u001b[39m [module_optknock,module_mcs_suppress,module_mcs_protect],\n\u001b[0;32m     <a href='vscode-notebook-cell:/c%3A/Users/Philipp/Documents/Python/straindesign/docs/source/examples/JN_06_strain_design_nested.ipynb#ch0000032?line=24'>25</a>\u001b[0m                                  max_solutions \u001b[39m=\u001b[39m \u001b[39m1\u001b[39m,\n\u001b[1;32m   (...)\u001b[0m\n\u001b[0;32m     <a href='vscode-notebook-cell:/c%3A/Users/Philipp/Documents/Python/straindesign/docs/source/examples/JN_06_strain_design_nested.ipynb#ch0000032?line=28'>29</a>\u001b[0m                                  ki_cost \u001b[39m=\u001b[39m ki_cost,\n\u001b[0;32m     <a href='vscode-notebook-cell:/c%3A/Users/Philipp/Documents/Python/straindesign/docs/source/examples/JN_06_strain_design_nested.ipynb#ch0000032?line=29'>30</a>\u001b[0m                                  solution_approach \u001b[39m=\u001b[39m sd\u001b[39m.\u001b[39mnames\u001b[39m.\u001b[39mBEST)\n\u001b[0;32m     <a href='vscode-notebook-cell:/c%3A/Users/Philipp/Documents/Python/straindesign/docs/source/examples/JN_06_strain_design_nested.ipynb#ch0000032?line=30'>31</a>\u001b[0m \u001b[39m# Print solution\u001b[39;00m\n\u001b[1;32m---> <a href='vscode-notebook-cell:/c%3A/Users/Philipp/Documents/Python/straindesign/docs/source/examples/JN_06_strain_design_nested.ipynb#ch0000032?line=31'>32</a>\u001b[0m \u001b[39mprint\u001b[39m(\u001b[39mf\u001b[39m\u001b[39m\"\u001b[39m\u001b[39mOne compressed solution with cost \u001b[39m\u001b[39m{\u001b[39;00msols\u001b[39m.\u001b[39msd_cost[\u001b[39m0\u001b[39m]\u001b[39m}\u001b[39;00m\u001b[39m found and \u001b[39m\u001b[39m\"\u001b[39m\u001b[39m+\u001b[39m\\\n\u001b[0;32m     <a href='vscode-notebook-cell:/c%3A/Users/Philipp/Documents/Python/straindesign/docs/source/examples/JN_06_strain_design_nested.ipynb#ch0000032?line=32'>33</a>\u001b[0m       \u001b[39mf\u001b[39m\u001b[39m\"\u001b[39m\u001b[39mexpanded to \u001b[39m\u001b[39m{\u001b[39;00m\u001b[39mlen\u001b[39m(sols\u001b[39m.\u001b[39mgene_sd)\u001b[39m}\u001b[39;00m\u001b[39m solutions in the uncompressed netork.\u001b[39m\u001b[39m\"\u001b[39m)\n\u001b[0;32m     <a href='vscode-notebook-cell:/c%3A/Users/Philipp/Documents/Python/straindesign/docs/source/examples/JN_06_strain_design_nested.ipynb#ch0000032?line=33'>34</a>\u001b[0m \u001b[39mprint\u001b[39m(\u001b[39mf\u001b[39m\u001b[39m\"\u001b[39m\u001b[39mExample intervention set: \u001b[39m\u001b[39m{\u001b[39;00m[\u001b[39m'\u001b[39m\u001b[39m+\u001b[39m\u001b[39m'\u001b[39m\u001b[39m+\u001b[39ms \u001b[39mif\u001b[39;00m v\u001b[39m>\u001b[39m\u001b[39m0\u001b[39m \u001b[39melse\u001b[39;00m \u001b[39m'\u001b[39m\u001b[39m-\u001b[39m\u001b[39m'\u001b[39m\u001b[39m+\u001b[39ms \u001b[39mfor\u001b[39;00m s,v \u001b[39min\u001b[39;00m sols\u001b[39m.\u001b[39mgene_sd[\u001b[39m0\u001b[39m]\u001b[39m.\u001b[39mitems() \u001b[39mif\u001b[39;00m v\u001b[39m!=\u001b[39m\u001b[39m0\u001b[39m]\u001b[39m}\u001b[39;00m\u001b[39m\"\u001b[39m)\n\u001b[0;32m     <a href='vscode-notebook-cell:/c%3A/Users/Philipp/Documents/Python/straindesign/docs/source/examples/JN_06_strain_design_nested.ipynb#ch0000032?line=35'>36</a>\u001b[0m \u001b[39mimport\u001b[39;00m \u001b[39mmatplotlib\u001b[39;00m\u001b[39m.\u001b[39;00m\u001b[39mpyplot\u001b[39;00m \u001b[39mas\u001b[39;00m \u001b[39mplt\u001b[39;00m\n",
      "\u001b[1;31mIndexError\u001b[0m: list index out of range"
     ]
    }
   ],
   "source": [
    "import logging\n",
    "import matplotlib.pyplot as plt\n",
    "logging.basicConfig(level=logging.INFO)\n",
    "\n",
    "module_optknock = sd.SDModule(ecc_14bdo,sd.names.OPTKNOCK,\n",
    "                              inner_objective='BIOMASS_Ecoli_core_w_GAM',\n",
    "                              outer_objective='EX_14bdo_e',\n",
    "                              constraints=['BIOMASS_Ecoli_core_w_GAM>=0.05','EX_o2_e = 0'])\n",
    "module_mcs_suppress = sd.SDModule(ecc_14bdo,sd.names.SUPPRESS,\n",
    "                              constraints=['BIOMASS_Ecoli_core_w_GAM>=0.1','EX_o2_e = 0'])\n",
    "module_mcs_protect = sd.SDModule(ecc_14bdo,sd.names.PROTECT,\n",
    "                              constraints=['BIOMASS_Ecoli_core_w_GAM>=0.4'])\n",
    "\n",
    "## Compute strain designs\n",
    "# allow all gene knockouts except for spontanuos \n",
    "gko_cost = {g.name:1 for g in ecc_14bdo.genes}    \n",
    "gko_cost.pop('s0001')\n",
    "# possible knockout of O2\n",
    "ko_cost = {'EX_o2_e': 1}\n",
    "# addition candidates\n",
    "ki_cost = {'AKGDC':1, 'SSCOARx':1} # AKGDC was added in example 1.c)\n",
    "\n",
    "sols = sd.compute_strain_designs(ecc_14bdo,\n",
    "                                 sd_modules = [module_optknock,module_mcs_suppress,module_mcs_protect],\n",
    "                                 max_solutions = 1,\n",
    "                                 max_cost = 15,\n",
    "                                 gko_cost = gko_cost,\n",
    "                                 ko_cost = ko_cost,\n",
    "                                 ki_cost = ki_cost,\n",
    "                                 solution_approach = sd.names.BEST)\n",
    "# Print solution\n",
    "print(f\"One compressed solution with cost {sols.sd_cost[0]} found and \"+\\\n",
    "      f\"expanded to {len(sols.gene_sd)} solutions in the uncompressed netork.\")\n",
    "print(f\"Example intervention set: {['+'+s if v>0 else '-'+s for s,v in sols.gene_sd[0].items() if v!=0]}\")\n",
    "\n",
    "import matplotlib.pyplot as plt\n",
    "# Wild-type plot\n",
    "datapoints, triang, plot1 = sd.plot_flux_space(ecc_14bdo,\n",
    "                                               ('BIOMASS_Ecoli_core_w_GAM','EX_14bdo_e'),\n",
    "                                               show=False);\n",
    "\n",
    "# Aerobic design plot\n",
    "interventions = [[{s:1.0},'=',0.0] for s,v in sols.reaction_sd[0].items() if v < 1]\n",
    "_,          _,      plot2 = sd.plot_flux_space(ecc_14bdo,\n",
    "                                               ('BIOMASS_Ecoli_core_w_GAM','EX_14bdo_e'),\n",
    "                                               # The sign of the glucose exchange reaction is flipped since \n",
    "                                               # reaction is defined in the direction of secretion.\n",
    "                                               constraints=interventions,\n",
    "                                               show=False);\n",
    "plot2.set_facecolor('#00C0FF')\n",
    "plot2.set_edgecolor('#00C0FF')\n",
    "# Anaerobic design plot\n",
    "interventions = [[{s:1.0},'=',0.0] for s,v in sols.reaction_sd[0].items() if v < 1]\n",
    "_,          _,      plot3 = sd.plot_flux_space(ecc_14bdo,\n",
    "                                               ('BIOMASS_Ecoli_core_w_GAM','EX_14bdo_e'),\n",
    "                                               # The sign of the glucose exchange reaction is flipped since \n",
    "                                               # reaction is defined in the direction of secretion.\n",
    "                                               constraints=interventions,\n",
    "                                               show=False);\n",
    "plot3.set_facecolor('#FFC000')\n",
    "plot3.set_edgecolor('#FFC000')\n",
    "# adjust axes limits and show plot\n",
    "plot3.axes.set_xlim(0, 1.05*max([a[0] for a in datapoints]))\n",
    "plot3.axes.set_ylim(0, 1.05*max([a[1] for a in datapoints]))\n",
    "plt.show()"
   ]
  }
 ],
 "metadata": {
  "kernelspec": {
   "display_name": "Python 3.9.7 ('cnapy-dev')",
   "language": "python",
   "name": "python3"
  },
  "language_info": {
   "codemirror_mode": {
    "name": "ipython",
    "version": 3
   },
   "file_extension": ".py",
   "mimetype": "text/x-python",
   "name": "python",
   "nbconvert_exporter": "python",
   "pygments_lexer": "ipython3",
   "version": "3.9.7"
  },
  "orig_nbformat": 4,
  "vscode": {
   "interpreter": {
    "hash": "50a36e699ca3834a05ca1bd86fc5b7db4829f1cbbb3e27f51544575d88525899"
   }
  }
 },
 "nbformat": 4,
 "nbformat_minor": 2
}
