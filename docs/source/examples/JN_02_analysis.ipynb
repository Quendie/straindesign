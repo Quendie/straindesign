{
 "cells": [
  {
   "cell_type": "markdown",
   "metadata": {},
   "source": [
    "# Network Analysis\n",
    "\n",
    "StrainDesign provides canonical functions for maximizing and minimizing metabolic fluxes in network. The output format is identical to the ones of COBRApy's functions."
   ]
  },
  {
   "cell_type": "markdown",
   "metadata": {},
   "source": [
    "## Flux optimization (FBA/pFBA)\n",
    "\n",
    "Flux balance analysis is a single linear program that optimizes a flux rate under the given steady-state network constraints. For the case of a growth-rate maximization, the problem is written as:\n",
    "$$\\text{maximize}\\:\\:\\: v_{growth} \\\\ \\text{subject to} \\\\ \\mathbf{S\\, v = 0} \\\\ \\mathbf{lb \\le v \\le ub}$$\n",
    "Where $ \\mathbf{S}$ is the stoichiometric matrix, $\\mathbf{v}$ is the vector of metabolic flux rates and $\\mathbf{lb}$ and $\\mathbf{ub}$ are the physiological lower and upper bounds of each flux rate. $\\mathbf{S\\, v = 0}$ represents all steady-state constraints, and $\\mathbf{lb \\le v \\le ub}$ the flux ranges.\n",
    "\n",
    "All of the following computation examples will require the COBRApy and the StrainDesign package. Here, we load both packages and the e_coli_core model from Bigg:"
   ]
  },
  {
   "cell_type": "code",
   "execution_count": 1,
   "metadata": {},
   "outputs": [
    {
     "name": "stdout",
     "output_type": "stream",
     "text": [
      "Set parameter Username\n",
      "Academic license - for non-commercial use only - expires 2022-07-13\n"
     ]
    }
   ],
   "source": [
    "import cobra\n",
    "import straindesign as sd\n",
    "model = cobra.io.load_model('e_coli_core')"
   ]
  },
  {
   "cell_type": "markdown",
   "metadata": {},
   "source": [
    "An FBA is launched by a single function call. By default the model's objective function is optimized. The function returns a solution object, in which the objective value and the fluxes are stored in `solution.objective_value` and `solution.fluxes`."
   ]
  },
  {
   "cell_type": "code",
   "execution_count": 2,
   "metadata": {},
   "outputs": [
    {
     "name": "stdout",
     "output_type": "stream",
     "text": [
      "Maximum growth: 0.8739215069684305.\n"
     ]
    }
   ],
   "source": [
    "solution = sd.fba(model)\n",
    "\n",
    "print(f\"Maximum growth: {solution.objective_value}.\")"
   ]
  },
  {
   "cell_type": "markdown",
   "metadata": {},
   "source": [
    "You may also use a custom objective and change the optimization sense. Here we minimize the Glucose uptake rate through the PTS:"
   ]
  },
  {
   "cell_type": "code",
   "execution_count": 3,
   "metadata": {},
   "outputs": [
    {
     "name": "stdout",
     "output_type": "stream",
     "text": [
      "Minimum flux through GLCpts: 0.4794285714285715.\n"
     ]
    }
   ],
   "source": [
    "solution = sd.fba(model,obj='GLCpts',obj_sense='minimize')\n",
    "\n",
    "print(f\"Minimum flux through GLCpts: {solution.objective_value}.\")"
   ]
  },
  {
   "cell_type": "markdown",
   "metadata": {},
   "source": [
    "We can also consider custom constraints (in this case limited oxygen uptake and an increased fixed ATP maintenance demand):"
   ]
  },
  {
   "cell_type": "code",
   "execution_count": 4,
   "metadata": {},
   "outputs": [
    {
     "name": "stdout",
     "output_type": "stream",
     "text": [
      "Maximum growth at limited oxygen uptake and high ATP maintenance: 0.26305573292588313.\n"
     ]
    }
   ],
   "source": [
    "solution = sd.fba(model,constraints=['-EX_o2_e <= 5', 'ATPM = 20'])\n",
    "\n",
    "print(f\"Maximum growth at limited oxygen uptake and high ATP maintenance: {solution.objective_value}.\")"
   ]
  },
  {
   "cell_type": "markdown",
   "metadata": {},
   "source": [
    "##### Parsimonious FBA (pFBA)\n",
    "\n",
    "Parsimonious flux balance analysis optimizes a flux rate under the given steady-state network constraints, but also minimizes the sum of absolute fluxes to achieve this optimum. One can write:\n",
    "$$\\text{minimize}\\:\\:\\:\\Sigma | v_i | \\\\ \\text{subject to} \\\\$$ \n",
    "$$\\text{maximize}\\:\\:\\: v_{growth} \\\\ \\text{subject to} \\\\ \\mathbf{S\\, v = 0} \\\\ \\mathbf{lb \\le v \\le ub}$$\n",
    "\n",
    "pFBA is the simpleset way of emulating the cell's enzyme cost minimization (after an assumed growth maximization). pFBA solutions are more often \"unique\" than pure FBA solutions, since the outer minimization leaves fewer degrees of freedom in the solution space. StrainDesign computes pFBA solutions when you pass the 'pFBA'-argument with a value of 1. "
   ]
  },
  {
   "cell_type": "code",
   "execution_count": 30,
   "metadata": {},
   "outputs": [
    {
     "data": {
      "text/html": [
       "<strong><em>Optimal</em> solution with objective value 0.874</strong><br><div>\n",
       "<style scoped>\n",
       "    .dataframe tbody tr th:only-of-type {\n",
       "        vertical-align: middle;\n",
       "    }\n",
       "\n",
       "    .dataframe tbody tr th {\n",
       "        vertical-align: top;\n",
       "    }\n",
       "\n",
       "    .dataframe thead th {\n",
       "        text-align: right;\n",
       "    }\n",
       "</style>\n",
       "<table border=\"1\" class=\"dataframe\">\n",
       "  <thead>\n",
       "    <tr style=\"text-align: right;\">\n",
       "      <th></th>\n",
       "      <th>fluxes</th>\n",
       "      <th>reduced_costs</th>\n",
       "    </tr>\n",
       "  </thead>\n",
       "  <tbody>\n",
       "    <tr>\n",
       "      <th>ACALD</th>\n",
       "      <td>0.000000</td>\n",
       "      <td>None</td>\n",
       "    </tr>\n",
       "    <tr>\n",
       "      <th>ACALDt</th>\n",
       "      <td>0.000000</td>\n",
       "      <td>None</td>\n",
       "    </tr>\n",
       "    <tr>\n",
       "      <th>ACKr</th>\n",
       "      <td>0.000000</td>\n",
       "      <td>None</td>\n",
       "    </tr>\n",
       "    <tr>\n",
       "      <th>ACONTa</th>\n",
       "      <td>6.007250</td>\n",
       "      <td>None</td>\n",
       "    </tr>\n",
       "    <tr>\n",
       "      <th>ACONTb</th>\n",
       "      <td>6.007250</td>\n",
       "      <td>None</td>\n",
       "    </tr>\n",
       "    <tr>\n",
       "      <th>...</th>\n",
       "      <td>...</td>\n",
       "      <td>...</td>\n",
       "    </tr>\n",
       "    <tr>\n",
       "      <th>TALA</th>\n",
       "      <td>1.496984</td>\n",
       "      <td>None</td>\n",
       "    </tr>\n",
       "    <tr>\n",
       "      <th>THD2</th>\n",
       "      <td>0.000000</td>\n",
       "      <td>None</td>\n",
       "    </tr>\n",
       "    <tr>\n",
       "      <th>TKT1</th>\n",
       "      <td>1.496984</td>\n",
       "      <td>None</td>\n",
       "    </tr>\n",
       "    <tr>\n",
       "      <th>TKT2</th>\n",
       "      <td>1.181498</td>\n",
       "      <td>None</td>\n",
       "    </tr>\n",
       "    <tr>\n",
       "      <th>TPI</th>\n",
       "      <td>7.477382</td>\n",
       "      <td>None</td>\n",
       "    </tr>\n",
       "  </tbody>\n",
       "</table>\n",
       "<p>95 rows × 2 columns</p>\n",
       "</div>"
      ],
      "text/plain": [
       "<Solution 0.874 at 0x1c9b9d08dc0>"
      ]
     },
     "execution_count": 30,
     "metadata": {},
     "output_type": "execute_result"
    }
   ],
   "source": [
    "sd.fba(model,pfba=1)"
   ]
  },
  {
   "cell_type": "markdown",
   "metadata": {},
   "source": [
    "## Solver selection\n",
    "\n",
    "For any type of LP or MILP optimization, 4 different sovers are supported: **GLPK** (which is built into COBRApy/optlang), **IBM CPLEX**, **Gurobi** and the open source solver **SCIP**. You can query the available solvers by accessing the set at straindesign.avail_solvers."
   ]
  },
  {
   "cell_type": "code",
   "execution_count": 10,
   "metadata": {},
   "outputs": [
    {
     "data": {
      "text/plain": [
       "['glpk', 'cplex', 'gurobi', 'scip']"
      ]
     },
     "execution_count": 10,
     "metadata": {},
     "output_type": "execute_result"
    }
   ],
   "source": [
    "sd.avail_solvers"
   ]
  },
  {
   "cell_type": "markdown",
   "metadata": {},
   "source": [
    "You may enforce the use of a specific solver by specifying the \"solver\"-keyword. To enforce the use of GLPK, use: "
   ]
  },
  {
   "cell_type": "code",
   "execution_count": 11,
   "metadata": {},
   "outputs": [
    {
     "name": "stdout",
     "output_type": "stream",
     "text": [
      "Maximum growth: 0.8739215069684826.\n"
     ]
    }
   ],
   "source": [
    "solution = sd.fba(model, solver='cplex')\n",
    "\n",
    "print(f\"Maximum growth: {solution.objective_value}.\")"
   ]
  },
  {
   "cell_type": "markdown",
   "metadata": {},
   "source": [
    "By default, the automatic solver selection uses COBRApy's selection. Therefore, StrainDesign will try to use the model's selected solver:"
   ]
  },
  {
   "cell_type": "code",
   "execution_count": 25,
   "metadata": {},
   "outputs": [
    {
     "name": "stdout",
     "output_type": "stream",
     "text": [
      "When the model's solver is '<optlang.gurobi_interface.Configuration object at 0x000001C9B8A5A970>', StrainDesign selects gurobi.\n"
     ]
    }
   ],
   "source": [
    "print(f\"When the model\\'s solver is \\'{model.solver.configuration}', StrainDesign selects {sd.select_solver(None,model)}.\")"
   ]
  },
  {
   "cell_type": "markdown",
   "metadata": {},
   "source": [
    "Otherwise COBRApy's global configuration is used."
   ]
  },
  {
   "cell_type": "code",
   "execution_count": 28,
   "metadata": {},
   "outputs": [
    {
     "name": "stdout",
     "output_type": "stream",
     "text": [
      "COBRApy's solver is 'optlang.gurobi_interface', StrainDesign selects gurobi.\n"
     ]
    }
   ],
   "source": [
    "print(f\"COBRApy\\'s solver is \\'{cobra.Configuration().solver.__name__}', StrainDesign selects {sd.select_solver()}.\")"
   ]
  },
  {
   "cell_type": "markdown",
   "metadata": {},
   "source": [
    "## Flux ranges (FVA)"
   ]
  },
  {
   "cell_type": "code",
   "execution_count": null,
   "metadata": {},
   "outputs": [],
   "source": [
    "solution = sd.fva(model)\n",
    "print(solution)"
   ]
  },
  {
   "cell_type": "markdown",
   "metadata": {},
   "source": [
    "## Yield optimization"
   ]
  }
 ],
 "metadata": {
  "interpreter": {
   "hash": "50a36e699ca3834a05ca1bd86fc5b7db4829f1cbbb3e27f51544575d88525899"
  },
  "kernelspec": {
   "display_name": "Python 3.9.7 ('cnapy-dev')",
   "language": "python",
   "name": "python3"
  },
  "language_info": {
   "codemirror_mode": {
    "name": "ipython",
    "version": 3
   },
   "file_extension": ".py",
   "mimetype": "text/x-python",
   "name": "python",
   "nbconvert_exporter": "python",
   "pygments_lexer": "ipython3",
   "version": "3.9.7"
  },
  "orig_nbformat": 4
 },
 "nbformat": 4,
 "nbformat_minor": 2
}
