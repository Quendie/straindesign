{
 "cells": [
  {
   "cell_type": "code",
   "execution_count": 1,
   "metadata": {},
   "outputs": [],
   "source": [
    "import cobra\n",
    "import numpy as np\n",
    "from importlib import reload"
   ]
  },
  {
   "cell_type": "code",
   "execution_count": 45,
   "metadata": {},
   "outputs": [],
   "source": [
    "from mcs import cplex_interface,mcs_module,cMCS_enumerator\n",
    "reload(cplex_interface)\n",
    "reload(mcs_module)\n",
    "reload(cMCS_enumerator)\n",
    "\n",
    "network = cobra.io.read_sbml_model(\"SmallExample.sbml\")"
   ]
  },
  {
   "cell_type": "code",
   "execution_count": 3,
   "metadata": {},
   "outputs": [],
   "source": [
    "\n",
    "modules = [mcs_module.MCS_Module(network,\"target\",\"lin_constraints\",[\"R4 >= 1\",\"2 R1 >= 0.5\"])]\n",
    "modules.append(mcs_module.MCS_Module(network,\"desired\",\"lin_constraints\",\"R3 >= 1\"))\n",
    "modules[0].set_model_lb_ub([r.lower_bound for r in network.reactions],[r.upper_bound for r in network.reactions])"
   ]
  },
  {
   "cell_type": "code",
   "execution_count": 47,
   "metadata": {},
   "outputs": [
    {
     "name": "stderr",
     "output_type": "stream",
     "text": [
      "C:\\Users\\phili\\.conda\\envs\\cnapy-dev\\lib\\site-packages\\scipy\\sparse\\_index.py:82: SparseEfficiencyWarning: Changing the sparsity structure of a csr_matrix is expensive. lil_matrix is more efficient.\n",
      "  self._set_intXint(row, col, x.flat[0])\n"
     ]
    },
    {
     "name": "stdout",
     "output_type": "stream",
     "text": [
      "debug\n"
     ]
    },
    {
     "ename": "UnboundLocalError",
     "evalue": "local variable 'A_ineq' referenced before assignment",
     "output_type": "error",
     "traceback": [
      "\u001b[1;31m---------------------------------------------------------------------------\u001b[0m",
      "\u001b[1;31mUnboundLocalError\u001b[0m                         Traceback (most recent call last)",
      "\u001b[1;32m~\\AppData\\Local\\Temp/ipykernel_5436/376712991.py\u001b[0m in \u001b[0;36m<module>\u001b[1;34m\u001b[0m\n\u001b[0;32m      3\u001b[0m \u001b[0mmaxSolutions\u001b[0m \u001b[1;33m=\u001b[0m \u001b[1;36m50\u001b[0m\u001b[1;33m\u001b[0m\u001b[1;33m\u001b[0m\u001b[0m\n\u001b[0;32m      4\u001b[0m \u001b[0mmaxCost\u001b[0m \u001b[1;33m=\u001b[0m \u001b[1;36m50\u001b[0m\u001b[1;33m\u001b[0m\u001b[1;33m\u001b[0m\u001b[0m\n\u001b[1;32m----> 5\u001b[1;33m \u001b[0mmcsEnum\u001b[0m \u001b[1;33m=\u001b[0m \u001b[0mcMCS_enumerator\u001b[0m\u001b[1;33m.\u001b[0m\u001b[0mMinimalCutSetsEnumerator\u001b[0m\u001b[1;33m(\u001b[0m\u001b[0mnetwork\u001b[0m\u001b[1;33m,\u001b[0m\u001b[0mmodules\u001b[0m\u001b[1;33m,\u001b[0m\u001b[0mkoCost\u001b[0m\u001b[1;33m,\u001b[0m\u001b[0mkiCost\u001b[0m\u001b[1;33m)\u001b[0m\u001b[1;33m\u001b[0m\u001b[1;33m\u001b[0m\u001b[0m\n\u001b[0m\u001b[0;32m      6\u001b[0m \u001b[1;33m\u001b[0m\u001b[0m\n\u001b[0;32m      7\u001b[0m \u001b[0mmcsEnum\u001b[0m\u001b[1;33m.\u001b[0m\u001b[0mcompute_mcs\u001b[0m\u001b[1;33m(\u001b[0m\u001b[0mmaxSolutions\u001b[0m\u001b[1;33m,\u001b[0m\u001b[0mmaxCost\u001b[0m\u001b[1;33m,\u001b[0m\u001b[1;34m\"verbose\"\u001b[0m\u001b[1;33m,\u001b[0m\u001b[1;34m\"solver\"\u001b[0m\u001b[1;33m,\u001b[0m\u001b[1;34m\"cplex\"\u001b[0m\u001b[1;33m)\u001b[0m\u001b[1;33m;\u001b[0m\u001b[1;33m\u001b[0m\u001b[1;33m\u001b[0m\u001b[0m\n",
      "\u001b[1;32mc:\\users\\phili\\dokumente\\python\\mcs\\mcs\\cMCS_enumerator.py\u001b[0m in \u001b[0;36m__init__\u001b[1;34m(self, model, mcs_modules, koCost, kiCost, *args, **kwargs)\u001b[0m\n\u001b[0;32m     66\u001b[0m         \u001b[0mself\u001b[0m\u001b[1;33m.\u001b[0m\u001b[0mz_map_vars\u001b[0m \u001b[1;33m=\u001b[0m \u001b[0msparse\u001b[0m\u001b[1;33m.\u001b[0m\u001b[0mcsr_matrix\u001b[0m\u001b[1;33m(\u001b[0m\u001b[1;33m(\u001b[0m\u001b[0mnumr\u001b[0m\u001b[1;33m,\u001b[0m\u001b[0mnumr\u001b[0m\u001b[1;33m)\u001b[0m\u001b[1;33m)\u001b[0m\u001b[1;33m\u001b[0m\u001b[1;33m\u001b[0m\u001b[0m\n\u001b[0;32m     67\u001b[0m         \u001b[1;32mfor\u001b[0m \u001b[0mi\u001b[0m \u001b[1;32min\u001b[0m \u001b[0mrange\u001b[0m\u001b[1;33m(\u001b[0m\u001b[1;36m0\u001b[0m\u001b[1;33m,\u001b[0m\u001b[0mlen\u001b[0m\u001b[1;33m(\u001b[0m\u001b[0mmcs_modules\u001b[0m\u001b[1;33m)\u001b[0m\u001b[1;33m)\u001b[0m\u001b[1;33m:\u001b[0m\u001b[1;33m\u001b[0m\u001b[1;33m\u001b[0m\u001b[0m\n\u001b[1;32m---> 68\u001b[1;33m             \u001b[0mself\u001b[0m\u001b[1;33m.\u001b[0m\u001b[0maddModule\u001b[0m\u001b[1;33m(\u001b[0m\u001b[0mmcs_modules\u001b[0m\u001b[1;33m[\u001b[0m\u001b[0mi\u001b[0m\u001b[1;33m]\u001b[0m\u001b[1;33m)\u001b[0m\u001b[1;33m\u001b[0m\u001b[1;33m\u001b[0m\u001b[0m\n\u001b[0m\u001b[0;32m     69\u001b[0m \u001b[1;33m\u001b[0m\u001b[0m\n\u001b[0;32m     70\u001b[0m         \u001b[0mprint\u001b[0m\u001b[1;33m(\u001b[0m\u001b[1;34m\"done\"\u001b[0m\u001b[1;33m)\u001b[0m\u001b[1;33m\u001b[0m\u001b[1;33m\u001b[0m\u001b[0m\n",
      "\u001b[1;32mc:\\users\\phili\\dokumente\\python\\mcs\\mcs\\cMCS_enumerator.py\u001b[0m in \u001b[0;36maddModule\u001b[1;34m(self, mcs_module)\u001b[0m\n\u001b[0;32m    123\u001b[0m         \u001b[1;32melif\u001b[0m \u001b[0mmcs_module\u001b[0m\u001b[1;33m.\u001b[0m\u001b[0mmodule_sense\u001b[0m \u001b[1;33m==\u001b[0m \u001b[1;34m'target'\u001b[0m\u001b[1;33m:\u001b[0m\u001b[1;33m\u001b[0m\u001b[1;33m\u001b[0m\u001b[0m\n\u001b[0;32m    124\u001b[0m             \u001b[0mc_p\u001b[0m \u001b[1;33m=\u001b[0m \u001b[1;33m[\u001b[0m\u001b[1;36m0\u001b[0m\u001b[1;33m]\u001b[0m\u001b[1;33m*\u001b[0m\u001b[0mlen\u001b[0m\u001b[1;33m(\u001b[0m\u001b[0mc_p\u001b[0m\u001b[1;33m)\u001b[0m\u001b[1;33m\u001b[0m\u001b[1;33m\u001b[0m\u001b[0m\n\u001b[1;32m--> 125\u001b[1;33m             \u001b[0mA_ineq_d\u001b[0m\u001b[1;33m,\u001b[0m \u001b[0mb_ineq_d\u001b[0m\u001b[1;33m,\u001b[0m \u001b[0mA_eq_d\u001b[0m\u001b[1;33m,\u001b[0m \u001b[0mb_eq_d\u001b[0m\u001b[1;33m,\u001b[0m \u001b[0mc_d\u001b[0m\u001b[1;33m,\u001b[0m \u001b[0mlb_i\u001b[0m\u001b[1;33m,\u001b[0m \u001b[0mub_i\u001b[0m\u001b[1;33m,\u001b[0m \u001b[0mz_map_constr_ineq_d\u001b[0m\u001b[1;33m,\u001b[0m \u001b[0mz_map_constr_eq_d\u001b[0m\u001b[1;33m,\u001b[0m \u001b[0mz_map_vars_i\u001b[0m \u001b[1;33m=\u001b[0m \u001b[0mself\u001b[0m\u001b[1;33m.\u001b[0m\u001b[0mdualize\u001b[0m\u001b[1;33m(\u001b[0m\u001b[0mA_ineq_p\u001b[0m\u001b[1;33m,\u001b[0m \u001b[0mb_ineq_p\u001b[0m\u001b[1;33m,\u001b[0m \u001b[0mA_eq_p\u001b[0m\u001b[1;33m,\u001b[0m \u001b[0mb_eq_p\u001b[0m\u001b[1;33m,\u001b[0m \u001b[0mc_p\u001b[0m\u001b[1;33m,\u001b[0m \u001b[0mlb_p\u001b[0m\u001b[1;33m,\u001b[0m \u001b[0mub_p\u001b[0m\u001b[1;33m,\u001b[0m \u001b[0mz_map_constr_ineq_p\u001b[0m\u001b[1;33m,\u001b[0m \u001b[0mz_map_constr_eq_p\u001b[0m\u001b[1;33m,\u001b[0m \u001b[0mz_map_vars_p\u001b[0m\u001b[1;33m)\u001b[0m\u001b[1;33m\u001b[0m\u001b[1;33m\u001b[0m\u001b[0m\n\u001b[0m\u001b[0;32m    126\u001b[0m         \u001b[0mprint\u001b[0m\u001b[1;33m(\u001b[0m\u001b[0mub_i\u001b[0m\u001b[1;33m)\u001b[0m\u001b[1;33m\u001b[0m\u001b[1;33m\u001b[0m\u001b[0m\n\u001b[0;32m    127\u001b[0m         \u001b[1;31m#     [A_ineq_i, b_ineq_i, A_eq_i, b_eq_i, z_map_constr_ineq_i, z_map_constr_eq_i] = dual_2_farkas(obj,A_ineq_d, b_ineq_d,A_eq_d, b_eq_d, c_d, z_map_constr_ineq_d,z_map_constr_eq_d);\u001b[0m\u001b[1;33m\u001b[0m\u001b[1;33m\u001b[0m\u001b[1;33m\u001b[0m\u001b[0m\n",
      "\u001b[1;32mc:\\users\\phili\\dokumente\\python\\mcs\\mcs\\cMCS_enumerator.py\u001b[0m in \u001b[0;36mdualize\u001b[1;34m(self, A_ineq_p, b_ineq_p, A_eq_p, b_eq_p, c_p, lb_p, ub_p, z_map_constr_ineq_p, z_map_constr_eq_p, z_map_vars_p)\u001b[0m\n\u001b[0;32m    247\u001b[0m             \u001b[1;31m# z_map_constr_ineq = [z_map_vars_p(:, x_geq0), z_map_vars_p(:, x_leq0)];\u001b[0m\u001b[1;33m\u001b[0m\u001b[1;33m\u001b[0m\u001b[1;33m\u001b[0m\u001b[0m\n\u001b[0;32m    248\u001b[0m             \u001b[1;31m# z_map_constr_eq   = z_map_vars_p(:,x_eR);\u001b[0m\u001b[1;33m\u001b[0m\u001b[1;33m\u001b[0m\u001b[1;33m\u001b[0m\u001b[0m\n\u001b[1;32m--> 249\u001b[1;33m             \u001b[1;31m# z_map_vars        = [z_map_constr_eq_p, z_map_constr_ineq_p, zeros(obj.num_z, size([LB;UB],1))];\u001b[0m\u001b[1;33m\u001b[0m\u001b[1;33m\u001b[0m\u001b[1;33m\u001b[0m\u001b[0m\n\u001b[0m\u001b[0;32m    250\u001b[0m \u001b[1;33m\u001b[0m\u001b[0m\n\u001b[0;32m    251\u001b[0m             \u001b[0mA_ineq\u001b[0m\u001b[1;33m,\u001b[0m \u001b[0mb_ineq\u001b[0m\u001b[1;33m,\u001b[0m \u001b[0mA_eq\u001b[0m\u001b[1;33m,\u001b[0m \u001b[0mb_eq\u001b[0m\u001b[1;33m,\u001b[0m \u001b[0mlb\u001b[0m\u001b[1;33m,\u001b[0m \u001b[0mub\u001b[0m\u001b[1;33m,\u001b[0m \u001b[0mz_map_constr_ineq\u001b[0m\u001b[1;33m,\u001b[0m \u001b[0mz_map_constr_eq\u001b[0m \u001b[1;33m=\u001b[0m \u001b[0mself\u001b[0m\u001b[1;33m.\u001b[0m\u001b[0mreassign_lb_ub_from_ineq\u001b[0m\u001b[1;33m(\u001b[0m\u001b[0mA_ineq\u001b[0m\u001b[1;33m,\u001b[0m \u001b[0mb_ineq\u001b[0m\u001b[1;33m,\u001b[0m \u001b[0mA_eq\u001b[0m\u001b[1;33m,\u001b[0m \u001b[0mb_eq\u001b[0m\u001b[1;33m,\u001b[0m \u001b[0mlb\u001b[0m\u001b[1;33m,\u001b[0m \u001b[0mub\u001b[0m\u001b[1;33m,\u001b[0m \u001b[0mz_map_constr_ineq\u001b[0m\u001b[1;33m,\u001b[0m \u001b[0mz_map_constr_eq\u001b[0m\u001b[1;33m,\u001b[0m \u001b[0mz_map_vars\u001b[0m\u001b[1;33m)\u001b[0m\u001b[1;33m;\u001b[0m\u001b[1;33m\u001b[0m\u001b[1;33m\u001b[0m\u001b[0m\n",
      "\u001b[1;31mUnboundLocalError\u001b[0m: local variable 'A_ineq' referenced before assignment"
     ]
    }
   ],
   "source": [
    "koCost = {'R5': 2, 'R6': 3, 'R7': 4, 'R8': 4, 'R9': 4, 'R10': 4}\n",
    "kiCost = {'R2': 6}\n",
    "maxSolutions = 50\n",
    "maxCost = 50\n",
    "mcsEnum = cMCS_enumerator.MinimalCutSetsEnumerator(network,modules,koCost,kiCost)\n",
    "\n",
    "mcsEnum.compute_mcs(maxSolutions,maxCost,\"verbose\",\"solver\",\"cplex\");"
   ]
  }
 ],
 "metadata": {
  "interpreter": {
   "hash": "c6cb88db6456a5d9db25cf91966766d45a3aee345dd42db13a70c45805ef0614"
  },
  "kernelspec": {
   "display_name": "Python 3.7.12 64-bit ('cnapy-dev': conda)",
   "language": "python",
   "name": "python3"
  },
  "language_info": {
   "codemirror_mode": {
    "name": "ipython",
    "version": 3
   },
   "file_extension": ".py",
   "mimetype": "text/x-python",
   "name": "python",
   "nbconvert_exporter": "python",
   "pygments_lexer": "ipython3",
   "version": "3.7.11"
  },
  "orig_nbformat": 4
 },
 "nbformat": 4,
 "nbformat_minor": 2
}
