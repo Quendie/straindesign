{
 "cells": [
  {
   "cell_type": "code",
   "execution_count": 7,
   "metadata": {},
   "outputs": [
    {
     "name": "stdout",
     "output_type": "stream",
     "text": [
      "The autoreload extension is already loaded. To reload it, use:\n",
      "  %reload_ext autoreload\n"
     ]
    }
   ],
   "source": [
    "%load_ext autoreload\n",
    "from scipy import sparse\n",
    "import numpy as np\n",
    "import cplex as cp\n",
    "from cplex.exceptions import CplexError\n",
    "from importlib import reload"
   ]
  },
  {
   "cell_type": "markdown",
   "metadata": {},
   "source": [
    "cpx.f     = obj.c;\n",
    "cpx.sense = 'minimize';\n",
    "cpx.Aineq = obj.A_ineq;\n",
    "cpx.bineq = obj.b_ineq;\n",
    "cpx.Aeq   = obj.A_eq;\n",
    "cpx.beq   = obj.b_eq;\n",
    "cpx.lb    = obj.lb;\n",
    "cpx.ub    = obj.ub;\n",
    "cpx.ctype = repmat('C',1,size(obj.A_ineq,2));\n",
    "cpx.ctype(obj.idx_z) = 'B';\n",
    "obj.indicators.z',...\n",
    "obj.indicators.inverse',...\n",
    "obj.indicators.A',1,...\n",
    "obj.indicators.sense',... \n",
    "obj.indicators.b',...\n",
    "'',...\n",
    "obj.indicators.type',...\n",
    "obj.indicators.epln');\n",
    "\n",
    "cplexmiqp(H, f, Aineq, bineq, Aeq, beq, l, Q, r, sostype, sosind, soswt, lb, ub, ctype, x0, options)"
   ]
  },
  {
   "cell_type": "code",
   "execution_count": 8,
   "metadata": {},
   "outputs": [],
   "source": [
    "# example setup (default: minimize)\n",
    "# main problem\n",
    "c = [-1,0,0,0]\n",
    "A_ineq = sparse.csr_matrix([[1,1,0,0],[-1,0,0,0]])\n",
    "b_ineq = [3,-1]\n",
    "A_eq = sparse.csr_matrix([[0,1,0,0]])\n",
    "b_eq = [0.6]\n",
    "lb = [1,0,0,0]\n",
    "ub = [np.inf, np.inf, 1, 1]\n",
    "vtype = 'CCBB'\n",
    "# indicator constraints\n",
    "ic_binv = [2,3]\n",
    "ic_A = sparse.csr_matrix([[1,1,0,0],[1,0,0,0]])\n",
    "ic_b = [0,1.2]\n",
    "ic_sense = \"LE\"\n",
    "ic_indicval = [1,0]\n",
    "indic_constr = mcs.Indicator_constraints(ic_binv, ic_A, ic_b, ic_sense, ic_indicval)"
   ]
  },
  {
   "cell_type": "code",
   "execution_count": 11,
   "metadata": {},
   "outputs": [
    {
     "name": "stdout",
     "output_type": "stream",
     "text": [
      "Solution status =  0\n",
      "Solution value  =  -2.4\n",
      "{'x0': 2.4, 'x1': 0.6, 'x2': 0, 'x3': 1}\n"
     ]
    }
   ],
   "source": [
    "%autoreload\n",
    "my_prob = mcs.MILP_LP(  c=c,\n",
    "                        A_ineq=A_ineq,\n",
    "                        b_ineq=b_ineq,\n",
    "                        A_eq=A_eq,\n",
    "                        b_eq=b_eq,\n",
    "                        lb=lb,\n",
    "                        ub=ub,\n",
    "                        vtype=vtype, \n",
    "                        indic_constr=indic_constr,\n",
    "                        solver='cplex')\n",
    "x, opt_cx, status = my_prob.solve()\n",
    "# solution.get_status() returns an integer code\n",
    "print(\"Solution status = \", str(status))\n",
    "# the following line prints the corresponding string\n",
    "print(\"Solution value  = \", str(round(opt_cx,5)))\n",
    "sol = {'x'+str(i) : round(x[i],5) for i in range(len(x))}\n",
    "print(sol)"
   ]
  },
  {
   "cell_type": "code",
   "execution_count": 1,
   "metadata": {},
   "outputs": [
    {
     "data": {
      "text/plain": [
       "{'node_ip_address': '127.0.0.1',\n",
       " 'raylet_ip_address': '127.0.0.1',\n",
       " 'redis_address': '127.0.0.1:6379',\n",
       " 'object_store_address': 'tcp://127.0.0.1:57667',\n",
       " 'raylet_socket_name': 'tcp://127.0.0.1:53470',\n",
       " 'webui_url': None,\n",
       " 'session_dir': 'C:\\\\Users\\\\phili\\\\AppData\\\\Local\\\\Temp\\\\ray\\\\session_2022-01-27_15-18-15_214806_30504',\n",
       " 'metrics_export_port': 61220,\n",
       " 'node_id': '904cb37b6cf3c81297f5f258aa4f0f8c2f84e21ee93e117ff1b0217e'}"
      ]
     },
     "execution_count": 1,
     "metadata": {},
     "output_type": "execute_result"
    }
   ],
   "source": [
    "import ray\n",
    "ray.init()"
   ]
  },
  {
   "cell_type": "code",
   "execution_count": 2,
   "metadata": {},
   "outputs": [
    {
     "name": "stdout",
     "output_type": "stream",
     "text": [
      "Set parameter Username\n",
      "Academic license - for non-commercial use only - expires 2022-09-03\n"
     ]
    }
   ],
   "source": [
    "%load_ext autoreload\n",
    "import cobra\n",
    "from importlib import reload\n",
    "ecc2 = cobra.io.read_sbml_model(\"ECC2comp.sbml\")\n",
    "iml1515 = cobra.io.read_sbml_model(\"iML1515.sbml\")"
   ]
  },
  {
   "cell_type": "code",
   "execution_count": 18,
   "metadata": {},
   "outputs": [
    {
     "name": "stdout",
     "output_type": "stream",
     "text": [
      "         minimum  maximum\n",
      "CYTDK2       0.0     -0.0\n",
      "XPPT         0.0     -0.0\n",
      "HXPRT        0.0     -0.0\n",
      "NDPK5        0.0     -0.0\n",
      "SHK3Dr       0.0     -0.0\n",
      "...          ...      ...\n",
      "MPTS         0.0     -0.0\n",
      "MOCOS        0.0     -0.0\n",
      "BMOGDS2      0.0     -0.0\n",
      "FESD2s       0.0     -0.0\n",
      "OCTNLL       0.0     -0.0\n",
      "\n",
      "[2712 rows x 2 columns]\n",
      "initialized\n",
      "         minimum  maximum\n",
      "CYTDK2       0.0     -0.0\n",
      "XPPT         0.0     -0.0\n",
      "HXPRT        0.0     -0.0\n",
      "NDPK5        0.0     -0.0\n",
      "SHK3Dr       0.0     -0.0\n",
      "...          ...      ...\n",
      "MPTS         0.0     -0.0\n",
      "MOCOS        0.0     -0.0\n",
      "BMOGDS2      0.0     -0.0\n",
      "FESD2s       0.0     -0.0\n",
      "OCTNLL       0.0     -0.0\n",
      "\n",
      "[2712 rows x 2 columns]\n"
     ]
    }
   ],
   "source": [
    "%autoreload\n",
    "import mcs\n",
    "from mcs import fva\n",
    "import cProfile\n",
    "reload(mcs)\n",
    "# opt = ecc2.optimize()\n",
    "# print(opt)\n",
    "# opt2 = fba(ecc2)\n",
    "# print(opt2)\n",
    "# opt3 = cobra.flux_analysis.variability.flux_variability_analysis(ecc2)\n",
    "# print(opt3)\n",
    "# cProfile.runctx(\"mcs.fva(iml1515)\",globals(),locals())\n",
    "opt4 = mcs.fva(iml1515)\n",
    "print(opt4)\n",
    "# cProfile.runctx()"
   ]
  },
  {
   "cell_type": "code",
   "execution_count": 1,
   "metadata": {},
   "outputs": [
    {
     "ename": "NameError",
     "evalue": "name 'ray' is not defined",
     "output_type": "error",
     "traceback": [
      "\u001b[1;31m---------------------------------------------------------------------------\u001b[0m",
      "\u001b[1;31mNameError\u001b[0m                                 Traceback (most recent call last)",
      "\u001b[1;32m~\\AppData\\Local\\Temp/ipykernel_24524/977760057.py\u001b[0m in \u001b[0;36m<module>\u001b[1;34m\u001b[0m\n\u001b[1;32m----> 1\u001b[1;33m \u001b[0mray\u001b[0m\u001b[1;33m.\u001b[0m\u001b[0mshutdown\u001b[0m\u001b[1;33m(\u001b[0m\u001b[1;33m)\u001b[0m\u001b[1;33m\u001b[0m\u001b[1;33m\u001b[0m\u001b[0m\n\u001b[0m",
      "\u001b[1;31mNameError\u001b[0m: name 'ray' is not defined"
     ]
    }
   ],
   "source": [
    "ray.shutdown()"
   ]
  },
  {
   "cell_type": "code",
   "execution_count": 9,
   "metadata": {},
   "outputs": [],
   "source": [
    "fv,max_v = cplex_interface.cplex_fba(ecc2)"
   ]
  },
  {
   "cell_type": "code",
   "execution_count": 10,
   "metadata": {},
   "outputs": [],
   "source": [
    "lb,ub = cplex_interface.cplex_fva(ecc2)"
   ]
  },
  {
   "cell_type": "code",
   "execution_count": 78,
   "metadata": {},
   "outputs": [
    {
     "name": "stdout",
     "output_type": "stream",
     "text": [
      "5\n",
      "10\n",
      "15\n"
     ]
    },
    {
     "ename": "TypeError",
     "evalue": "addition() missing 1 required positional argument: 'b'",
     "output_type": "error",
     "traceback": [
      "\u001b[1;31m---------------------------------------------------------------------------\u001b[0m",
      "\u001b[1;31mTypeError\u001b[0m                                 Traceback (most recent call last)",
      "\u001b[1;32m~\\AppData\\Local\\Temp/ipykernel_10664/1659406961.py\u001b[0m in \u001b[0;36m<module>\u001b[1;34m\u001b[0m\n\u001b[0;32m     14\u001b[0m \u001b[0mmtpl\u001b[0m\u001b[1;33m(\u001b[0m\u001b[1;36m5\u001b[0m\u001b[1;33m,\u001b[0m\u001b[1;36m3\u001b[0m\u001b[1;33m)\u001b[0m\u001b[1;33m\u001b[0m\u001b[1;33m\u001b[0m\u001b[0m\n\u001b[0;32m     15\u001b[0m \u001b[1;33m\u001b[0m\u001b[0m\n\u001b[1;32m---> 16\u001b[1;33m \u001b[1;33m@\u001b[0m\u001b[0mshow_steps\u001b[0m\u001b[1;33m(\u001b[0m\u001b[1;36m5\u001b[0m\u001b[1;33m)\u001b[0m\u001b[1;33m\u001b[0m\u001b[1;33m\u001b[0m\u001b[0m\n\u001b[0m\u001b[0;32m     17\u001b[0m \u001b[1;32mdef\u001b[0m \u001b[0mmtpl\u001b[0m\u001b[1;33m(\u001b[0m\u001b[0ma\u001b[0m\u001b[1;33m,\u001b[0m\u001b[0mb\u001b[0m\u001b[1;33m)\u001b[0m\u001b[1;33m:\u001b[0m\u001b[1;33m\u001b[0m\u001b[1;33m\u001b[0m\u001b[0m\n\u001b[0;32m     18\u001b[0m     \u001b[1;32mreturn\u001b[0m \u001b[0ma\u001b[0m\u001b[1;33m*\u001b[0m\u001b[0mb\u001b[0m\u001b[1;33m\u001b[0m\u001b[1;33m\u001b[0m\u001b[0m\n",
      "\u001b[1;31mTypeError\u001b[0m: addition() missing 1 required positional argument: 'b'"
     ]
    }
   ],
   "source": [
    "# Function Decorator 1\n",
    "def show_steps(fcn):\n",
    "    def addition(a,b):\n",
    "        for i in range(1,b+1):\n",
    "            print(fcn(i,a))\n",
    "    return addition\n",
    "\n",
    "@show_steps\n",
    "def mtpl(a,b):\n",
    "    return a*b\n",
    "\n",
    "#mtpl = show_steps(mtpl)\n",
    "mtpl(5,3)"
   ]
  },
  {
   "cell_type": "code",
   "execution_count": 100,
   "metadata": {},
   "outputs": [
    {
     "name": "stdout",
     "output_type": "stream",
     "text": [
      "9\n",
      "13\n",
      "17\n"
     ]
    }
   ],
   "source": [
    "# Function Decorator 2\n",
    "def show_and_add(c):\n",
    "    def show_steps(fcn):\n",
    "        def addition(a,b):\n",
    "            for i in range(1,b+1):\n",
    "                print(fcn(i,a)+c)\n",
    "        return addition\n",
    "    def show_steps2(fcn1):\n",
    "        def addition(a,b):\n",
    "            for i in range(1,a+1):\n",
    "                print(fcn1(i,b)+c)\n",
    "        return addition\n",
    "    if True:\n",
    "        return show_steps\n",
    "    else:\n",
    "        return show_steps2\n",
    "    \n",
    "\n",
    "@show_and_add(5)\n",
    "def mtpl(a,b):\n",
    "    return a*b\n",
    "\n",
    "mtpl(4,3)"
   ]
  },
  {
   "cell_type": "code",
   "execution_count": 113,
   "metadata": {},
   "outputs": [
    {
     "name": "stdout",
     "output_type": "stream",
     "text": [
      "[['EX_Biomass', 2.3749950493908365], ['EX_4CRSOL_ex', 0.0005296238960141565], ['EX_5DRIB_ex', 0.0015936216781412514], ['EX_ac_ex', -10.0], ['EX_adp_c', 5.329070518200751e-15], ['EX_AMOB_ex', 4.749990098781673e-06], ['EX_ca2_ex', -0.012361849232079305], ['EX_cl_ex', -0.012361849232079305], ['EX_co2_ex', 52.505721724031396], ['EX_coa_c', 9.499980197493743e-05], ['EX_cobalt2_ex', -5.9374876234770917e-05], ['EX_cu2_ex', -0.0016838714900181031], ['EX_etoh_ex', -2.2737367544323206e-13], ['EX_fe2_ex', -0.019600834142622574], ['EX_fe3_ex', -0.01854396134564365], ['EX_for_ex', 0.0], ['EX_glc_DASH_D_ex', -10.0], ['EX_glyc_ex', -10.0], ['EX_h_ex', -8.159688025504863], ['EX_h2_ex', 0.0], ['EX_h2o_ex', 115.21842075120652], ['EX_k_ex', -0.46357528369059736], ['EX_lac_ex', 0.0], ['EX_meoh_ex', 4.749990098781673e-06], ['EX_mg2_ex', -0.020603082053465508], ['EX_mn2_ex', -0.001641121579129068], ['EX_mobd_ex', -0.00030637436137141786], ['EX_mqn8_c', 0.0], ['EX_MTHTHF_ex', 0.0010639977821270948], ['EX_nad_c', -0.0], ['EX_nadp_c', -0.0], ['EX_nh4_ex', -25.65160902995561], ['EX_ni2_ex', -0.0007671234009532402], ['EX_o2_ex', -47.43220979962194], ['EX_pi_c', 4.2749910905470756e-05], ['EX_pi_ex', -2.2907064750879558], ['EX_q8_c', -0.0], ['EX_so4_ex', -0.5989975014068628], ['EX_succ_ex', -10.0], ['EX_zn2_ex', -0.0008098733118422752], ['Growth', 2.3749950493908365], ['ACALD', -2.2737367544323206e-13], ['AcEx', 0.0], ['ACKr', -11.383624615874114], ['ACONTa', 16.26294340652761], ['ACONTb', 16.26294340652761], ['AcUp', 10.0], ['ADK1', 6.297299373459803], ['AKGDH', 13.709348729422583], ['ALCD2x', -2.2737367544323206e-13], ['ATPM', 0.0], ['ATPS4rpp', 141.34331429571552], ['CO2Ex', 52.505721724031396], ['CO2Up', 0.0], ['CS', 16.26294340652761], ['CYTBO3_4pp', 94.86441959924387], ['EDA', 0.0], ['EDD', 0.0], ['ENO', 19.78415812722892], ['EthEx', -2.2737367544323206e-13], ['F6PA', 0.0], ['FBA', 7.514106764372363], ['FBP', 0.0], ['FHL', 0.0], ['FormEx', 0.0], ['FRD2', 0.0], ['FUM', 26.185969816976854], ['G3PD2', 9.669804438283192], ['G3PD5', 0.0], ['G6PDH2r', 1.253285389765182], ['GAPD', 23.8639246230725], ['GLCptspp', 10.0], ['GLCt2pp', 0.0], ['GlcUp', 10.0], ['GLYCDx', 0.0], ['GlycUp', 10.0], ['GLYK', 10.0], ['GLYOX3', 0.0], ['GND', 1.253285389765182], ['h_pEx', -8.159688025504863], ['h2Ex', 0.0], ['h2oEx', 115.21842075120652], ['HEX1', 0.0], ['ICDHyr', 16.26294340652761], ['ICL', 0.0], ['LacEx', 0.0], ['LDH_D', 0.0], ['MALS', 0.0], ['MDH', 23.215978913124225], ['ME1', 0.0], ['ME2', 2.9699909038526293], ['MGSA', 0.0], ['NADH16pp', 70.3608487753545], ['NADH17pp', 0.0], ['NADTRHD', 0.0], ['O2Up', 47.43220979962194], ['PDH', 14.041812191698178], ['PFK', 7.514106764372363], ['PFL', 0.0], ['PGI', 8.746714610234818], ['PGK', 23.8639246230725], ['PGL', 1.253285389765182], ['PGM', 19.78415812722892], ['POX', 0.0], ['PPC', 0.0], ['PPCK', 0.0], ['PPS', 0.0], ['PTAr', -11.383624615874114], ['PYK', 7.815382231085891], ['RPE', -1.0081993136356147], ['RPI', -2.166950400454844], ['SuccEx', 0.0], ['SUCCt2_2pp', 10.0], ['SUCCt3pp', 0.0], ['SuccUp', 10.0], ['SUCDi', 24.503570823889373], ['SUCOAS', 12.462808827799309], ['TALA', -0.05124747577520955], ['THD2pp', 0.0], ['TKT1', -0.05124747577520955], ['TKT2', -0.9569518378604052]]\n",
      "[['EX_Biomass', 0.0, 2.3749950493908365], ['EX_4CRSOL_ex', 0.0, 0.0005296238960141565], ['EX_5DRIB_ex', 0.0, 0.0015936216781412514], ['EX_ac_ex', -10.0, 40.0], ['EX_adp_c', 0.0, -0.0], ['EX_AMOB_ex', 0.0, -0.0], ['EX_ca2_ex', -0.012361849232079305, -0.0], ['EX_cl_ex', -0.012361849232079305, -0.0], ['EX_co2_ex', -10.0, 150.00000000000048], ['EX_coa_c', 0.0, 9.499980197493743e-05], ['EX_cobalt2_ex', -5.9374876234770917e-05, -0.0], ['EX_cu2_ex', -0.0016838714900181031, -0.0], ['EX_etoh_ex', -2.2737367544323206e-13, 50.0], ['EX_fe2_ex', -0.019600834142622574, -0.0], ['EX_fe3_ex', -0.01854396134564365, -0.0], ['EX_for_ex', 0.0, 90.00000000000023], ['EX_glc_DASH_D_ex', -10.000000000000002, -0.0], ['EX_glyc_ex', -10.000000000000002, -0.0], ['EX_h_ex', -30.0, 60.0], ['EX_h2_ex', 0.0, 90.00000000000026], ['EX_h2o_ex', -24.0, 150.00000000000074], ['EX_k_ex', -0.46357528369059736, -0.0], ['EX_lac_ex', 0.0, 45.000000000000114], ['EX_meoh_ex', 0.0, -0.0], ['EX_mg2_ex', -0.020603082053465508, -0.0], ['EX_mn2_ex', -0.001641121579129068, -0.0], ['EX_mobd_ex', -0.00030637436137141786, -0.0], ['EX_mqn8_c', 0.0, -0.0], ['EX_MTHTHF_ex', 0.0, 0.0010630488479463696], ['EX_nad_c', 0.0, -0.0], ['EX_nadp_c', 0.0, -0.0], ['EX_nh4_ex', -25.65160902995561, -0.0], ['EX_ni2_ex', -0.0007671234009532402, -0.0], ['EX_o2_ex', -150.0000000000007, -0.0], ['EX_pi_c', -2.2737367544323206e-13, 4.2749910905470756e-05], ['EX_pi_ex', -2.2907064750879558, -0.0], ['EX_q8_c', 0.0, -0.0], ['EX_so4_ex', -0.5989975014068628, -0.0], ['EX_succ_ex', -10.0, 30.000000000000007], ['EX_zn2_ex', -0.0008098733118422752, -0.0], ['Growth', 0.0, 2.3749950493908365], ['ACALD', -2.2737367544323206e-13, 50.0], ['AcEx', 0.0, 50.0], ['ACKr', -100.00000000000026, 40.0], ['ACONTa', 0.0, 50.000000000000234], ['ACONTb', 0.0, 50.000000000000234], ['AcUp', 0.0, 10.0], ['ADK1', 0.0, 550.0000000000025], ['AKGDH', 0.0, 50.00000000000023], ['ALCD2x', -2.2737367544323206e-13, 50.0], ['ATPM', 0.0, 550.0000000000025], ['ATPS4rpp', -70.00000000000026, 513.7500000000023], ['CO2Ex', 0.0, 160.00000000000045], ['CO2Up', 0.0, 10.0], ['CS', 0.0, 50.00000000000023], ['CYTBO3_4pp', 0.0, 300.00000000000136], ['EDA', 0.0, 202.50000000000094], ['EDD', 0.0, 202.50000000000094], ['ENO', -172.50000000000094, 30.000000000000007], ['EthEx', -2.2737367544323206e-13, 50.0], ['F6PA', 0.0, 10.000000000000002], ['FBA', -189.16666666666762, 20.0], ['FBP', 0.0, 550.0000000000026], ['FHL', 0.0, 90.00000000000026], ['FormEx', 0.0, 90.00000000000023], ['FRD2', 0.0, 1000.0], ['FUM', -25.0, 60.000000000000234], ['G3PD2', -484.00000000000205, 10.000000000000227], ['G3PD5', -2.255973186038318e-13, 484.00000000000205], ['G6PDH2r', 0.0, 288.750000000001], ['GAPD', -172.5000000000008, 30.000000000000007], ['GLCptspp', 0.0, 10.000000000000002], ['GLCt2pp', 0.0, 10.000000000000002], ['GlcUp', 0.0, 10.000000000000002], ['GLYCDx', 0.0, 10.000000000000002], ['GlycUp', 0.0, 10.000000000000002], ['GLYK', 0.0, 10.000000000000002], ['GLYOX3', 0.0, 195.83333333333414], ['GND', 0.0, 135.00000000000034], ['h_pEx', -30.0, 60.00000000000025], ['h2Ex', 0.0, 90.00000000000026], ['h2oEx', -24.0, 150.00000000000074], ['HEX1', 0.0, 10.000000000000002], ['ICDHyr', 0.0, 50.000000000000234], ['ICL', 0.0, 50.000000000000234], ['LacEx', 0.0, 45.000000000000114], ['LDH_D', -195.83333333333414, 45.00000000000012], ['MALS', 0.0, 50.00000000000023], ['MDH', -238.750000000001, 110.00000000000045], ['ME1', 0.0, 323.75000000000136], ['ME2', 0.0, 323.75000000000136], ['MGSA', 0.0, 195.83333333333414], ['NADH16pp', -1000.0, 285.00000000000125], ['NADH17pp', 0.0, 1000.0], ['NADTRHD', -4.547473508864641e-13, 1000.0], ['O2Up', 0.0, 150.00000000000068], ['PDH', 0.0, 90.00000000000024], ['PFK', 0.0, 570.0000000000025], ['PFL', 0.0, 90.00000000000023], ['PGI', -278.750000000001, 10.000000000000002], ['PGK', -172.5000000000008, 30.000000000000007], ['PGL', 0.0, 288.750000000001], ['PGM', -172.5000000000008, 30.000000000000007], ['POX', 0.0, 90.00000000000001], ['PPC', 0.0, 550.0000000000025], ['PPCK', 0.0, 560.0000000000025], ['PPS', 0.0, 550.000000000003], ['PTAr', -100.00000000000026, 40.0], ['PYK', 0.0, 587.5000000000022], ['RPE', -1.8420785690934252, 90.00000000000023], ['RPI', -45.000000000000114, -0.0], ['SuccEx', 0.0, 40.00000000000001], ['SUCCt2_2pp', 0.0, 743.3333333333366], ['SUCCt3pp', 0.0, 733.3333333333366], ['SuccUp', 0.0, 10.0], ['SUCDi', 0.0, 1000.0], ['SUCOAS', -1.213498638431735, 50.00000000000023], ['TALA', -0.4685909830240026, 45.000000000000114], ['THD2pp', 0.0, 1000.0], ['TKT1', -0.4685909830240026, 45.000000000000114], ['TKT2', -1.3734875860694225, 45.000000000000114]]\n"
     ]
    }
   ],
   "source": [
    "print([[rid[i],fv[i]] for i in range(0,121)])\n",
    "print([[rid[i],lb[i],ub[i]] for i in range(0,121)])"
   ]
  },
  {
   "cell_type": "code",
   "execution_count": 80,
   "metadata": {},
   "outputs": [],
   "source": [
    "rid = [i.id for i in ecc2.reactions]"
   ]
  },
  {
   "cell_type": "code",
   "execution_count": 51,
   "metadata": {},
   "outputs": [
    {
     "name": "stdout",
     "output_type": "stream",
     "text": [
      "[0, 0, 0, 0, 0, 0, 0, 0, 0, 0, 0, 0, 0, 0, 0, 0, 0, 0, 0, 0, 0, 0, 0, 0, 0, 0, 0, 0, 0, 0, 0, 0, 0, 0, 0, 0, 0, 0, 0, 0, 1.0, 0, 0, 0, 0, 0, 0, 0, 0, 0, 0, 0, 0, 0, 0, 0, 0, 0, 0, 0, 0, 0, 0, 0, 0, 0, 0, 0, 0, 0, 0, 0, 0, 0, 0, 0, 0, 0, 0, 0, 0, 0, 0, 0, 0, 0, 0, 0, 0, 0, 0, 0, 0, 0, 0, 0, 0, 0, 0, 0, 0, 0, 0, 0, 0, 0, 0, 0, 0, 0, 0, 0, 0, 0, 0, 0, 0, 0, 0, 0, 0, 0]\n"
     ]
    }
   ],
   "source": [
    "g = [i.objective_coefficient for i in ecc2.reactions]\n",
    "print(g)"
   ]
  },
  {
   "cell_type": "code",
   "execution_count": 32,
   "metadata": {},
   "outputs": [
    {
     "data": {
      "text/plain": [
       "'max'"
      ]
     },
     "execution_count": 32,
     "metadata": {},
     "output_type": "execute_result"
    }
   ],
   "source": [
    "ecc2.objective_direction"
   ]
  }
 ],
 "metadata": {
  "interpreter": {
   "hash": "c6cb88db6456a5d9db25cf91966766d45a3aee345dd42db13a70c45805ef0614"
  },
  "kernelspec": {
   "display_name": "Python 3.7.12 64-bit ('cnapy-dev': conda)",
   "language": "python",
   "name": "python3"
  },
  "language_info": {
   "codemirror_mode": {
    "name": "ipython",
    "version": 3
   },
   "file_extension": ".py",
   "mimetype": "text/x-python",
   "name": "python",
   "nbconvert_exporter": "python",
   "pygments_lexer": "ipython3",
   "version": "3.7.11"
  },
  "orig_nbformat": 4
 },
 "nbformat": 4,
 "nbformat_minor": 2
}
