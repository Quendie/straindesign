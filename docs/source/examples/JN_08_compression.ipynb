{
 "cells": [
  {
   "cell_type": "markdown",
   "metadata": {},
   "source": [
    "# Standalone network compression\n",
    "\n",
    "An effective network compression is essential to any strain design computation. Since it may also be of interest outside the context of strain design, this example may help you using the network compression routine independently. Likewise, StrainDesign also offers the integration of GPR rules into the metabolic networks as a separate function.\n",
    "\n",
    "The network compression routine removes blocked reactions, removes conservation relations and then performs alternatingly lumps dependent (``compress_model_efmtool``) and parallel (``compress_model_parallel``) reactions. The compression returns a compressed network and a list of so-called \"compression maps\". Each map consists of a dictionary that contains complete information for reversing the the compression steps successively and expand information obtained from the compressed model to the full model. Each entry of each map contains the id of a compressed reaction, associated with the original reaction names and their factor (provided as a rational number) with which they were lumped.\n",
    "\n",
    "Furthermore, the user can select reactions that should be excempt from the parallel compression. In the following, we provide the code snippet that can be used to call the compression."
   ]
  },
  {
   "cell_type": "code",
   "execution_count": 5,
   "metadata": {},
   "outputs": [
    {
     "name": "stderr",
     "output_type": "stream",
     "text": [
      "INFO:root:Replacing dummy bounds of +/- 1000 with infinite.\n",
      "WARNING:root:  Removing reaction bounds when larger than the cobra-threshold of 1000.\n",
      "INFO:root:The original model contains 2712 reactions.\n",
      "INFO:root:  Removing blocked reactions.\n",
      "INFO:root:  Translating stoichiometric coefficients to rationals.\n",
      "INFO:root:  Removing conservation relations.\n",
      "INFO:root:  Compression 1: Applying compression from EFM-tool module.\n",
      "INFO:root:  Reduced to 1244 reactions.\n",
      "INFO:root:  Compression 2: Lumping parallel reactions.\n",
      "INFO:root:  Reduced to 1225 reactions.\n",
      "INFO:root:  Compression 3: Applying compression from EFM-tool module.\n",
      "INFO:root:  Reduced to 1216 reactions.\n",
      "INFO:root:  Compression 4: Lumping parallel reactions.\n",
      "INFO:root:  Reduced to 1213 reactions.\n",
      "INFO:root:  Compression 5: Applying compression from EFM-tool module.\n",
      "INFO:root:  Last step could not reduce size further (1213 reactions).\n",
      "INFO:root:  Network compression completed. (4 compression iterations)\n",
      "INFO:root:  Translating stoichiometric coefficients back to float.\n"
     ]
    }
   ],
   "source": [
    "from straindesign import compress_model, remove_dummy_bounds\n",
    "import cobra\n",
    "import logging\n",
    "logging.basicConfig(level=logging.INFO)\n",
    "\n",
    "# load model\n",
    "iml1515 = cobra.io.load_model('iML1515')\n",
    "# replace dummy bounds with infinite\n",
    "logging.info(f\"Replacing dummy bounds of +/- 1000 with infinite.\")\n",
    "remove_dummy_bounds(iml1515)\n",
    "logging.info(f\"The original model contains {len(iml1515.reactions)} reactions.\")\n",
    "cmp_map = compress_model(iml1515)"
   ]
  },
  {
   "cell_type": "markdown",
   "metadata": {},
   "source": [
    "Here, the original model of iML1515 was compressed from 2712 to 1213 reactions in 4 steps. The greatest reduction in size is achieved in the first step. Still, the benefit of the parallel compression should not be underestimated since it removes superflux degrees of freedom in the model that don't add significant information. The resulting compression maps can be used to translate data between the compressed and the original network."
   ]
  },
  {
   "cell_type": "code",
   "execution_count": 9,
   "metadata": {},
   "outputs": [
    {
     "name": "stderr",
     "output_type": "stream",
     "text": [
      "INFO:root:Compression step 1 was linear.\n",
      "INFO:root:Reaction 'ADK4' was lumped to ADK4*NTP10 with the coefficients {'ADK4': -1, 'NTP10': 1}.\n",
      "INFO:root:Compression step 2 was parallel.\n",
      "INFO:root:Reaction 'ADK4*NTP10' was not affected by this reaction\n",
      "INFO:root:Compression step 3 was linear.\n",
      "INFO:root:Reaction 'ADK4*NTP10' was not affected by this reaction\n",
      "INFO:root:Compression step 4 was parallel.\n",
      "INFO:root:Reaction 'ADK4*NTP10' was lumped to ADK4*NTP10*NADPHXD*NADPHXE*NADPHHR*NADPHHS*NADHHR*NADHXE*NADHHS*NADHXD with the coefficients {'ADK4*NTP10': 1, 'NADPHXD*NADPHXE*NADPHHR*NADPHHS': 1, 'NADHHR*NADHXE*NADHHS*NADHXD': 1}.\n"
     ]
    }
   ],
   "source": [
    "# Let us track the compression of the ADK4 reaction\n",
    "orig_reac = 'ADK4'\n",
    "\n",
    "for i,c in enumerate(cmp_map):\n",
    "    logging.info(f\"Compression step {i+1} was {['parallel' if c['parallel'] else 'linear'][0]}.\")\n",
    "    lumped_reaction = [k for k,v in c['reac_map_exp'].items() if orig_reac in v][0]\n",
    "    if len(c['reac_map_exp'][lumped_reaction]) == 1:\n",
    "        logging.info(f\"Reaction '{orig_reac}' was not affected by this reaction\")\n",
    "    else:\n",
    "        logging.info(f\"Reaction '{orig_reac}' was lumped to {lumped_reaction} with the coefficients {c['reac_map_exp'][lumped_reaction]}.\")\n",
    "    orig_reac = lumped_reaction"
   ]
  },
  {
   "cell_type": "markdown",
   "metadata": {},
   "source": [
    "## Standalone GPR-integraton"
   ]
  },
  {
   "cell_type": "markdown",
   "metadata": {},
   "source": [
    "GPR rules can be introduced to the metabolic model in a way that the logical GPR-terms are reflected and the gene presence or absence can be simulated by setting flux bounds. This can be useful to investigate the space of feasible steady-state flux vectors after gene knockouts or be used to investigate the role of genes in different elementary flux modes or vectors."
   ]
  },
  {
   "cell_type": "code",
   "execution_count": 7,
   "metadata": {},
   "outputs": [
    {
     "name": "stdout",
     "output_type": "stream",
     "text": [
      "R_g_b2276_and_g_b2277_and_g_b2278_and_g_b2279_and_g_b2280_and_g_b2281_and_g_b2282_and_g_b2283_and_g_b2284_and_g_b2285_and_g_b2286_and_g_b2287_and_g_b2288: g_b2276 + g_b2277 + g_b2278 + g_b2279 + g_b2280 + g_b2281 + g_b2282 + g_b2283 + g_b2284 + g_b2285 + g_b2286 + g_b2287 + g_b2288 --> g_b2276_and_g_b2277_and_g_b2278_and_g_b2279_and_g_b2280_and_g_b2281_and_g_b2282_and_g_b2283_and_g_b2284_and_g_b2285_and_g_b2286_and_g_b2287_and_g_b2288\n",
      "b3962:  --> g_b3962\n",
      "R0_g_b3962_or_g_b1602_and_g_b1603: g_b3962 --> g_b3962_or_g_b1602_and_g_b1603\n",
      "R1_g_b3962_or_g_b1602_and_g_b1603: g_b1602_and_g_b1603 --> g_b3962_or_g_b1602_and_g_b1603\n",
      "b0451:  --> g_b0451\n",
      "R0_g_s0001_or_g_b0451: g_s0001 --> g_s0001_or_g_b0451\n",
      "R1_g_s0001_or_g_b0451: g_b0451 --> g_s0001_or_g_b0451\n",
      "b0114:  --> g_b0114\n",
      "b0115:  --> g_b0115\n",
      "R_g_b0114_and_g_b0115_and_g_b0116: g_b0114 + g_b0115 + g_b0116 --> g_b0114_and_g_b0115_and_g_b0116\n"
     ]
    }
   ],
   "source": [
    "from straindesign import extend_model_gpr\n",
    "import cobra\n",
    "import logging\n",
    "logging.basicConfig(level=logging.INFO)\n",
    "# load model\n",
    "e_coli_core = cobra.io.load_model('e_coli_core')\n",
    "# extend model with GPR rules using gene-IDs\n",
    "extend_model_gpr(e_coli_core)\n",
    "# printing the last 10 reactions (corresponding to genes and GPR rules) of the GPR-extend network\n",
    "logging.info('The first 95 reactions are original reactions from e_coli_core. All other reactions result from the integration of GPR rules.')\n",
    "logging.info('Here, we only print the last 10 reactions of the model for showcasing.')\n",
    "[print(r) for r in e_coli_core.reactions[-10:]];"
   ]
  },
  {
   "cell_type": "markdown",
   "metadata": {},
   "source": [
    "### Gene perturbation studies\n",
    "\n",
    "GPR-extended models can be used to study how single or multiple gene-KOs affect the steady-state flux space. We can therefore integrate the GPR-rules in the model and then plot flux spaces that take into account knockouts. In the plots below, we show how knocking out the gene *lpd* affects bacterial growth and AKG yields."
   ]
  },
  {
   "cell_type": "code",
   "execution_count": 15,
   "metadata": {},
   "outputs": [
    {
     "data": {
      "image/png": "[encoded data removed]",
      "text/plain": [
       "<Figure size 432x288 with 1 Axes>"
      ]
     },
     "metadata": {
      "needs_background": "light"
     },
     "output_type": "display_data"
    }
   ],
   "source": [
    "import straindesign as sd\n",
    "import cobra\n",
    "import logging\n",
    "import matplotlib.pyplot as plt\n",
    "logging.basicConfig(level=logging.INFO)\n",
    "# load model\n",
    "e_coli_core = cobra.io.load_model('e_coli_core')\n",
    "# extend model with GPR rules using gene-names instead of IDs.\n",
    "sd.extend_model_gpr(e_coli_core, use_names=True)\n",
    "\n",
    "# Wild-type plot\n",
    "datapoints, triang, plot1 = sd.plot_flux_space(e_coli_core,\n",
    "                                               ('BIOMASS_Ecoli_core_w_GAM',('EX_akg_e','-EX_glc__D_e')),\n",
    "                                               show=False);\n",
    "# plotting designed strain\n",
    "_,          _,      plot2 = sd.plot_flux_space(e_coli_core,\n",
    "                                               ('BIOMASS_Ecoli_core_w_GAM',('EX_akg_e','-EX_glc__D_e')),\n",
    "                                               constraints=['lpd = 0'],\n",
    "                                               show=False);\n",
    "plot2.set_facecolor('#FFC000')\n",
    "plot2.set_edgecolor('#FFC000')\n",
    "# adjust axes limits and show plot\n",
    "plot2.axes.set_xlim(0, 1.05*max([a[0] for a in datapoints]))\n",
    "plot2.axes.set_ylim(0, 1.05*max([a[1] for a in datapoints]))\n",
    "plt.show()"
   ]
  },
  {
   "cell_type": "markdown",
   "metadata": {},
   "source": [
    "The blue shape represents the wild type and the yellow shape the *lpd* knockout strain flux space. The model predicts that the knockout will not affect the globally attainable α-ketoglutarate yield, but reduces the maximal possible growth rate. At higher growth rates, α-ketoglutarate yield is reduced."
   ]
  }
 ],
 "metadata": {
  "kernelspec": {
   "display_name": "Python 3.9.7 ('cnapy-dev')",
   "language": "python",
   "name": "python3"
  },
  "language_info": {
   "codemirror_mode": {
    "name": "ipython",
    "version": 3
   },
   "file_extension": ".py",
   "mimetype": "text/x-python",
   "name": "python",
   "nbconvert_exporter": "python",
   "pygments_lexer": "ipython3",
   "version": "3.9.7"
  },
  "orig_nbformat": 4,
  "vscode": {
   "interpreter": {
    "hash": "50a36e699ca3834a05ca1bd86fc5b7db4829f1cbbb3e27f51544575d88525899"
   }
  }
 },
 "nbformat": 4,
 "nbformat_minor": 2
}
