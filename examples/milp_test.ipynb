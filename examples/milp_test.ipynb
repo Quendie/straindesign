{
 "cells": [
  {
   "cell_type": "code",
   "execution_count": 1,
   "metadata": {},
   "outputs": [],
   "source": [
    "%load_ext autoreload\n",
    "from scipy import sparse\n",
    "import numpy as np\n",
    "from importlib import reload\n",
    "import mcs"
   ]
  },
  {
   "cell_type": "markdown",
   "metadata": {},
   "source": [
    "cpx.f     = obj.c;\n",
    "cpx.sense = 'minimize';\n",
    "cpx.Aineq = obj.A_ineq;\n",
    "cpx.bineq = obj.b_ineq;\n",
    "cpx.Aeq   = obj.A_eq;\n",
    "cpx.beq   = obj.b_eq;\n",
    "cpx.lb    = obj.lb;\n",
    "cpx.ub    = obj.ub;\n",
    "cpx.ctype = repmat('C',1,size(obj.A_ineq,2));\n",
    "cpx.ctype(obj.idx_z) = 'B';\n",
    "obj.indicators.z',...\n",
    "obj.indicators.inverse',...\n",
    "obj.indicators.A',1,...\n",
    "obj.indicators.sense',... \n",
    "obj.indicators.b',...\n",
    "'',...\n",
    "obj.indicators.type',...\n",
    "obj.indicators.epln');\n",
    "\n",
    "cplexmiqp(H, f, Aineq, bineq, Aeq, beq, l, Q, r, sostype, sosind, soswt, lb, ub, ctype, x0, options)"
   ]
  },
  {
   "cell_type": "code",
   "execution_count": 2,
   "metadata": {},
   "outputs": [],
   "source": [
    "# example setup (default: minimize)\n",
    "# main problem\n",
    "c = [-1,0,0,0]\n",
    "A_ineq = sparse.csr_matrix([[1,1,0,0],[-1,0,0,0]])\n",
    "b_ineq = [3,-1]\n",
    "A_eq = sparse.csr_matrix([[0,1,0,0]])\n",
    "b_eq = [0.6]\n",
    "lb = [1,0,0,0]\n",
    "ub = [np.inf, np.inf, 1, 1]\n",
    "vtype = 'CCBB'\n",
    "# indicator constraints\n",
    "ic_binv = [2,3]\n",
    "ic_A = sparse.csr_matrix([[1,1,0,0],[1,0,0,0]])\n",
    "ic_b = [0,1.2]\n",
    "ic_sense = \"LE\"\n",
    "ic_indicval = [1,0]\n",
    "indic_constr = mcs.Indicator_constraints(ic_binv, ic_A, ic_b, ic_sense, ic_indicval)"
   ]
  },
  {
   "cell_type": "code",
   "execution_count": 8,
   "metadata": {},
   "outputs": [
    {
     "name": "stdout",
     "output_type": "stream",
     "text": [
      "Solution status =  0\n",
      "Solution value  =  -2.4\n",
      "{'x0': 2.4, 'x1': 0.6, 'x2': 0, 'x3': 1}\n"
     ]
    }
   ],
   "source": [
    "%autoreload\n",
    "my_prob = mcs.MILP_LP(  c=c,\n",
    "                        A_ineq=A_ineq,\n",
    "                        b_ineq=b_ineq,\n",
    "                        A_eq=A_eq,\n",
    "                        b_eq=b_eq,\n",
    "                        lb=lb,\n",
    "                        ub=ub,\n",
    "                        vtype=vtype, \n",
    "                        indic_constr=indic_constr,\n",
    "                        solver='scip')\n",
    "x, opt_cx, status = my_prob.solve()\n",
    "# solution.get_status() returns an integer code\n",
    "print(\"Solution status = \", str(status))\n",
    "# the following line prints the corresponding string\n",
    "print(\"Solution value  = \", str(round(opt_cx,5)))\n",
    "sol = {'x'+str(i) : round(x[i],5) for i in range(len(x))}\n",
    "print(sol)"
   ]
  },
  {
   "cell_type": "code",
   "execution_count": 1,
   "metadata": {},
   "outputs": [
    {
     "name": "stdout",
     "output_type": "stream",
     "text": [
      "Set parameter Username\n",
      "Academic license - for non-commercial use only - expires 2022-09-03\n"
     ]
    }
   ],
   "source": [
    "%load_ext autoreload\n",
    "import cobra\n",
    "from importlib import reload\n",
    "ecc2 = cobra.io.read_sbml_model(\"ECC2comp.sbml\")\n",
    "ecc3 = cobra.io.read_sbml_model(\"ECC2comp.sbml\")\n",
    "iml1515 = cobra.io.read_sbml_model(\"iML1515.sbml\")"
   ]
  },
  {
   "cell_type": "code",
   "execution_count": 9,
   "metadata": {},
   "outputs": [
    {
     "name": "stdout",
     "output_type": "stream",
     "text": [
      "                 minimum      maximum\n",
      "EX_Biomass      0.000000     2.374995\n",
      "EX_4CRSOL_ex    0.000000     0.000530\n",
      "EX_5DRIB_ex     0.000000     0.001594\n",
      "EX_ac_ex      -10.000000    40.000000\n",
      "EX_adp_c        0.000000    -0.000000\n",
      "...                  ...          ...\n",
      "TALA           -0.468591    45.000000\n",
      "THD2pp          0.000000  1000.000000\n",
      "TKT1           -0.468591    45.000000\n",
      "TKT2           -1.373488    45.000000\n",
      "TPI          -182.500000    20.000000\n",
      "\n",
      "[122 rows x 2 columns]\n"
     ]
    }
   ],
   "source": [
    "%autoreload\n",
    "import mcs\n",
    "from mcs import fva\n",
    "import cProfile\n",
    "reload(mcs)\n",
    "# opt = ecc2.optimize()\n",
    "# print(opt)\n",
    "# opt2 = fba(ecc2)\n",
    "# print(opt2)\n",
    "# opt3 = cobra.flux_analysis.variability.flux_variability_analysis(iml1515)\n",
    "# print(opt3)\n",
    "# cProfile.runctx(\"mcs.fva(iml1515)\",globals(),locals())\n",
    "opt4 = fva(ecc2, solver='gurobi')\n",
    "print(opt4)\n",
    "# cProfile.runctx()"
   ]
  }
 ],
 "metadata": {
  "interpreter": {
   "hash": "c6cb88db6456a5d9db25cf91966766d45a3aee345dd42db13a70c45805ef0614"
  },
  "kernelspec": {
   "display_name": "Python 3.7.12 64-bit ('cnapy-dev': conda)",
   "language": "python",
   "name": "python3"
  },
  "language_info": {
   "codemirror_mode": {
    "name": "ipython",
    "version": 3
   },
   "file_extension": ".py",
   "mimetype": "text/x-python",
   "name": "python",
   "nbconvert_exporter": "python",
   "pygments_lexer": "ipython3",
   "version": "3.7.11"
  },
  "orig_nbformat": 4
 },
 "nbformat": 4,
 "nbformat_minor": 2
}
