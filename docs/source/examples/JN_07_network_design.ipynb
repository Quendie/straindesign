{
 "cells": [
  {
   "cell_type": "markdown",
   "metadata": {},
   "source": [
    "# Tailoring metabolic networks (future release)"
   ]
  },
  {
   "cell_type": "code",
   "execution_count": 3,
   "metadata": {},
   "outputs": [
    {
     "ename": "Exception",
     "evalue": "Expression invalid. Unknown identifier BIOMASS_KT2440_Core2.",
     "output_type": "error",
     "traceback": [
      "\u001b[1;31m---------------------------------------------------------------------------\u001b[0m",
      "\u001b[1;31mException\u001b[0m                                 Traceback (most recent call last)",
      "\u001b[1;32m~\\AppData\\Local\\Temp/ipykernel_15444/834186698.py\u001b[0m in \u001b[0;36m<module>\u001b[1;34m\u001b[0m\n\u001b[0;32m     39\u001b[0m \u001b[0mmin_growth\u001b[0m \u001b[1;33m=\u001b[0m \u001b[1;36m0.05\u001b[0m\u001b[1;33m\u001b[0m\u001b[1;33m\u001b[0m\u001b[0m\n\u001b[0;32m     40\u001b[0m \u001b[0mmodule_suppress\u001b[0m \u001b[1;33m=\u001b[0m \u001b[0msd\u001b[0m\u001b[1;33m.\u001b[0m\u001b[0mSDModule\u001b[0m\u001b[1;33m(\u001b[0m\u001b[0mijn\u001b[0m\u001b[1;33m,\u001b[0m\u001b[0msd\u001b[0m\u001b[1;33m.\u001b[0m\u001b[0mnames\u001b[0m\u001b[1;33m.\u001b[0m\u001b[0mSUPPRESS\u001b[0m\u001b[1;33m,\u001b[0m\u001b[0mconstraints\u001b[0m\u001b[1;33m=\u001b[0m\u001b[1;34mf'EX_lac__D_e + {min_lac_yield} EX_glc__D_e <= 0'\u001b[0m\u001b[1;33m)\u001b[0m\u001b[1;33m\u001b[0m\u001b[1;33m\u001b[0m\u001b[0m\n\u001b[1;32m---> 41\u001b[1;33m \u001b[0mmodule_protect\u001b[0m  \u001b[1;33m=\u001b[0m \u001b[0msd\u001b[0m\u001b[1;33m.\u001b[0m\u001b[0mSDModule\u001b[0m\u001b[1;33m(\u001b[0m\u001b[0mijn\u001b[0m\u001b[1;33m,\u001b[0m\u001b[0msd\u001b[0m\u001b[1;33m.\u001b[0m\u001b[0mnames\u001b[0m\u001b[1;33m.\u001b[0m\u001b[0mPROTECT\u001b[0m\u001b[1;33m,\u001b[0m \u001b[0mconstraints\u001b[0m\u001b[1;33m=\u001b[0m\u001b[1;34mf'BIOMASS_KT2440_Core2>={min_growth}'\u001b[0m\u001b[1;33m)\u001b[0m\u001b[1;33m\u001b[0m\u001b[1;33m\u001b[0m\u001b[0m\n\u001b[0m\u001b[0;32m     42\u001b[0m \u001b[1;33m\u001b[0m\u001b[0m\n\u001b[0;32m     43\u001b[0m \u001b[0msd\u001b[0m\u001b[1;33m.\u001b[0m\u001b[0mplot_flux_space\u001b[0m\u001b[1;33m(\u001b[0m\u001b[0mijn\u001b[0m\u001b[1;33m,\u001b[0m \u001b[1;33m(\u001b[0m\u001b[1;34m'BIOMASS_KT2440_Core2'\u001b[0m\u001b[1;33m,\u001b[0m\u001b[1;33m(\u001b[0m\u001b[1;34m'EX_lac__D_e'\u001b[0m\u001b[1;33m,\u001b[0m\u001b[1;34m'-EX_glc__D_e'\u001b[0m\u001b[1;33m)\u001b[0m\u001b[1;33m)\u001b[0m\u001b[1;33m)\u001b[0m\u001b[1;33m;\u001b[0m\u001b[1;33m\u001b[0m\u001b[1;33m\u001b[0m\u001b[0m\n",
      "\u001b[1;32mc:\\users\\phili\\dokumente\\python\\straindesign\\straindesign\\strainDesignModule.py\u001b[0m in \u001b[0;36m__init__\u001b[1;34m(self, model, module_type, *args, **kwargs)\u001b[0m\n\u001b[0;32m    115\u001b[0m         \u001b[1;32mif\u001b[0m \u001b[0mself\u001b[0m\u001b[1;33m[\u001b[0m\u001b[0mCONSTRAINTS\u001b[0m\u001b[1;33m]\u001b[0m \u001b[1;32mis\u001b[0m \u001b[1;32mnot\u001b[0m \u001b[1;32mNone\u001b[0m\u001b[1;33m:\u001b[0m\u001b[1;33m\u001b[0m\u001b[1;33m\u001b[0m\u001b[0m\n\u001b[0;32m    116\u001b[0m             self[CONSTRAINTS] = parse_constraints(self[CONSTRAINTS],\n\u001b[1;32m--> 117\u001b[1;33m                                                   self['reac_ids'])\n\u001b[0m\u001b[0;32m    118\u001b[0m         \u001b[1;32melse\u001b[0m\u001b[1;33m:\u001b[0m\u001b[1;33m\u001b[0m\u001b[1;33m\u001b[0m\u001b[0m\n\u001b[0;32m    119\u001b[0m             \u001b[0mself\u001b[0m\u001b[1;33m[\u001b[0m\u001b[0mCONSTRAINTS\u001b[0m\u001b[1;33m]\u001b[0m \u001b[1;33m=\u001b[0m \u001b[1;33m[\u001b[0m\u001b[1;33m]\u001b[0m\u001b[1;33m\u001b[0m\u001b[1;33m\u001b[0m\u001b[0m\n",
      "\u001b[1;32mc:\\users\\phili\\dokumente\\python\\straindesign\\straindesign\\parse_constr.py\u001b[0m in \u001b[0;36mparse_constraints\u001b[1;34m(constr, reaction_ids)\u001b[0m\n\u001b[0;32m     29\u001b[0m             \u001b[0mconstr\u001b[0m\u001b[1;33m[\u001b[0m\u001b[0mi\u001b[0m\u001b[1;33m]\u001b[0m \u001b[1;33m=\u001b[0m \u001b[0mlist\u001b[0m\u001b[1;33m(\u001b[0m\u001b[0mc\u001b[0m\u001b[1;33m)\u001b[0m\u001b[1;33m\u001b[0m\u001b[1;33m\u001b[0m\u001b[0m\n\u001b[0;32m     30\u001b[0m     \u001b[1;32mif\u001b[0m \u001b[0mtype\u001b[0m\u001b[1;33m(\u001b[0m\u001b[0mconstr\u001b[0m\u001b[1;33m[\u001b[0m\u001b[1;36m0\u001b[0m\u001b[1;33m]\u001b[0m\u001b[1;33m)\u001b[0m \u001b[1;32mis\u001b[0m \u001b[1;32mnot\u001b[0m \u001b[0mlist\u001b[0m\u001b[1;33m:\u001b[0m\u001b[1;33m\u001b[0m\u001b[1;33m\u001b[0m\u001b[0m\n\u001b[1;32m---> 31\u001b[1;33m         \u001b[0mconstr\u001b[0m \u001b[1;33m=\u001b[0m \u001b[0mlineq2list\u001b[0m\u001b[1;33m(\u001b[0m\u001b[0mconstr\u001b[0m\u001b[1;33m,\u001b[0m \u001b[0mreaction_ids\u001b[0m\u001b[1;33m)\u001b[0m\u001b[1;33m\u001b[0m\u001b[1;33m\u001b[0m\u001b[0m\n\u001b[0m\u001b[0;32m     32\u001b[0m     \u001b[1;32mreturn\u001b[0m \u001b[0mconstr\u001b[0m\u001b[1;33m\u001b[0m\u001b[1;33m\u001b[0m\u001b[0m\n\u001b[0;32m     33\u001b[0m \u001b[1;33m\u001b[0m\u001b[0m\n",
      "\u001b[1;32mc:\\users\\phili\\dokumente\\python\\straindesign\\straindesign\\parse_constr.py\u001b[0m in \u001b[0;36mlineq2list\u001b[1;34m(equations, reaction_ids)\u001b[0m\n\u001b[0;32m     89\u001b[0m                 \u001b[1;34m\"Equations must contain exactly one (in)equality sign: <=,=,>=. Right hand side must be a float number.\"\u001b[0m\u001b[1;33m\u001b[0m\u001b[1;33m\u001b[0m\u001b[0m\n\u001b[0;32m     90\u001b[0m             )\n\u001b[1;32m---> 91\u001b[1;33m         \u001b[0mD\u001b[0m\u001b[1;33m.\u001b[0m\u001b[0mappend\u001b[0m\u001b[1;33m(\u001b[0m\u001b[1;33m(\u001b[0m\u001b[0mlinexpr2dict\u001b[0m\u001b[1;33m(\u001b[0m\u001b[0mlhs\u001b[0m\u001b[1;33m,\u001b[0m \u001b[0mreaction_ids\u001b[0m\u001b[1;33m)\u001b[0m\u001b[1;33m,\u001b[0m \u001b[0meq_sign\u001b[0m\u001b[1;33m,\u001b[0m \u001b[0mrhs\u001b[0m\u001b[1;33m)\u001b[0m\u001b[1;33m)\u001b[0m\u001b[1;33m\u001b[0m\u001b[1;33m\u001b[0m\u001b[0m\n\u001b[0m\u001b[0;32m     92\u001b[0m     \u001b[1;32mreturn\u001b[0m \u001b[0mD\u001b[0m\u001b[1;33m\u001b[0m\u001b[1;33m\u001b[0m\u001b[0m\n\u001b[0;32m     93\u001b[0m \u001b[1;33m\u001b[0m\u001b[0m\n",
      "\u001b[1;32mc:\\users\\phili\\dokumente\\python\\straindesign\\straindesign\\parse_constr.py\u001b[0m in \u001b[0;36mlinexpr2dict\u001b[1;34m(expr, reaction_ids)\u001b[0m\n\u001b[0;32m    210\u001b[0m             \u001b[0mlast_was_number\u001b[0m \u001b[1;33m=\u001b[0m \u001b[1;32mTrue\u001b[0m\u001b[1;33m\u001b[0m\u001b[1;33m\u001b[0m\u001b[0m\n\u001b[0;32m    211\u001b[0m             \u001b[1;32mcontinue\u001b[0m\u001b[1;33m\u001b[0m\u001b[1;33m\u001b[0m\u001b[0m\n\u001b[1;32m--> 212\u001b[1;33m         \u001b[1;32mraise\u001b[0m \u001b[0mException\u001b[0m\u001b[1;33m(\u001b[0m\u001b[1;34m\"Expression invalid. Unknown identifier \"\u001b[0m \u001b[1;33m+\u001b[0m \u001b[0mpart\u001b[0m \u001b[1;33m+\u001b[0m \u001b[1;34m\".\"\u001b[0m\u001b[1;33m)\u001b[0m\u001b[1;33m\u001b[0m\u001b[1;33m\u001b[0m\u001b[0m\n\u001b[0m\u001b[0;32m    213\u001b[0m     \u001b[1;32mif\u001b[0m \u001b[1;32mnot\u001b[0m \u001b[0mlen\u001b[0m\u001b[1;33m(\u001b[0m\u001b[0mridx\u001b[0m\u001b[1;33m)\u001b[0m \u001b[1;33m==\u001b[0m \u001b[0mlen\u001b[0m\u001b[1;33m(\u001b[0m\u001b[0mset\u001b[0m\u001b[1;33m(\u001b[0m\u001b[0mridx\u001b[0m\u001b[1;33m)\u001b[0m\u001b[1;33m)\u001b[0m\u001b[1;33m:\u001b[0m\u001b[1;33m\u001b[0m\u001b[1;33m\u001b[0m\u001b[0m\n\u001b[0;32m    214\u001b[0m         raise Exception(\n",
      "\u001b[1;31mException\u001b[0m: Expression invalid. Unknown identifier BIOMASS_KT2440_Core2."
     ]
    }
   ],
   "source": [
    "import straindesign as sd\n",
    "import cobra\n",
    "\n",
    "cobra.Configuration().solver = 'cplex'\n",
    "ijn = cobra.io.load_model('iJN746') # or  iJN1463\n",
    "\n",
    "# exchange_reacs = [r for r in ijn.reactions if all(s<0 for s in r.metabolites.values())]\n",
    "# # shut all exchange fluxes\n",
    "# for r in exchange_reacs:\n",
    "#     r.upper_bound = 0.0\n",
    "\n",
    "# # shut CO2 uptake\n",
    "# ijn.reactions.EX_co2_e.lower_bound    = 0.0\n",
    "\n",
    "# # keep main fermentation products open\n",
    "# ijn.reactions.EX_ac_e.upper_bound     = 1000.0\n",
    "# ijn.reactions.EX_co2_e.upper_bound    = 1000.0\n",
    "# ijn.reactions.EX_etoh_e.upper_bound   = 1000.0\n",
    "# ijn.reactions.EX_for_e.upper_bound    = 1000.0\n",
    "# ijn.reactions.EX_h2o2_e.upper_bound   = 1000.0\n",
    "# ijn.reactions.EX_h2o_e.upper_bound    = 1000.0\n",
    "# ijn.reactions.EX_h_e.upper_bound      = 1000.0\n",
    "# ijn.reactions.EX_lac__D_e.upper_bound = 1000.0\n",
    "# ijn.reactions.EX_meoh_e.upper_bound   = 1000.0\n",
    "# ijn.reactions.EX_o2_e.upper_bound     = 1000.0\n",
    "# ijn.reactions.EX_succ_e.upper_bound   = 1000.0\n",
    "# ijn.reactions.EX_tungs_e.upper_bound  = 1000.0\n",
    "\n",
    "# for r in ijn.reactions:\n",
    "#     if 'DM_' in r.id:\n",
    "#         r.upper_bound = 1000.0\n",
    "        \n",
    "atps_genes = [g for g in ijn.reactions.ATPS4rpp.genes]\n",
    "ijn.reactions.ATPS4rpp.gene_reaction_rule = str(atps_genes[0])\n",
    "cobra.manipulation.remove_genes(ijn,atps_genes[1:])\n",
    "atps_genes[0].name = 'atpX'\n",
    "\n",
    "min_lac_yield = 0.2\n",
    "min_growth = 0.05\n",
    "module_suppress = sd.SDModule(ijn,sd.names.SUPPRESS,constraints=f'EX_lac__D_e + {min_lac_yield} EX_glc__D_e <= 0')\n",
    "module_protect  = sd.SDModule(ijn,sd.names.PROTECT, constraints=f'BIOMASS_KT2440_Core2>={min_growth}')\n",
    "\n",
    "sd.plot_flux_space(ijn, ('BIOMASS_KT2440_Core2',('EX_lac__D_e','-EX_glc__D_e')));\n",
    "\n",
    "import logging\n",
    "logging.basicConfig(level=logging.INFO)\n",
    "\n",
    "# allow all gene knockouts except for spontanuos \n",
    "gko_cost = {g.id:1 for g in ijn.genes}    \n",
    "# possible knockout of O2\n",
    "ko_cost = {'EX_o2_e': 1}\n",
    "# Compute strain designs\n",
    "sols = sd.compute_strain_designs(ijn,\n",
    "                                 sd_modules = [module_suppress, module_protect],\n",
    "                                 max_solutions = 1,\n",
    "                                 max_cost = 40,\n",
    "                                 ko_cost = ko_cost,\n",
    "                                 gko_cost = gko_cost,\n",
    "                                 solution_approach = sd.names.ANY)\n",
    "# Print solutions\n",
    "print(f\"One compressed solution with cost {sols.sd_cost[0]} found and \"+\\\n",
    "      f\"expanded to {len(sols.reaction_sd)} solutions in the uncompressed netork.\")\n",
    "print(f\"Example intervention set: {['+'+s if v>0 else '-'+s for s,v in sols.gene_sd[0].items() if v!=0]}\")\n",
    "\n",
    "\n",
    "import matplotlib.pyplot as plt\n",
    "# Wild-type plot\n",
    "datapoints, triang, plot1 = sd.plot_flux_space(ijn,\n",
    "                                               ('BIOMASS_KT2440_Core2',('EX_lac__D_e','-EX_glc__D_e')),\n",
    "                                               show=False);\n",
    "_,          _,      plot2 = sd.plot_flux_space(ijn,\n",
    "                                               ('BIOMASS_KT2440_Core2',('EX_lac__D_e','-EX_glc__D_e')),\n",
    "                                               constraints=f'BIOMASS_KT2440_Core2>={min_growth}',\n",
    "                                               show=False);\n",
    "plot2.set_facecolor('#70AD47')\n",
    "plot2.set_edgecolor('#70AD47')\n",
    "# pGCP design plot\n",
    "_,          _,      plot3 = sd.plot_flux_space(ijn,\n",
    "                                               ('BIOMASS_KT2440_Core2',('EX_lac__D_e','-EX_glc__D_e')),\n",
    "                                               # The sign of the glucose exchange reaction is flipped since \n",
    "                                               # reaction is defined in the direction of secretion.\n",
    "                                               constraints=f'EX_lac__D_e + {min_lac_yield} EX_glc__D_e <= 0',\n",
    "                                               show=False);\n",
    "plot3.set_facecolor('#ED7D31')\n",
    "plot3.set_edgecolor('#ED7D31')\n",
    "# plotting designed strain\n",
    "interventions = [[{s:1.0},'=',0.0] for s,v in sols.reaction_sd[0].items() if v < 1]\n",
    "_,          _,      plot4 = sd.plot_flux_space(ijn,\n",
    "                                               ('BIOMASS_KT2440_Core2',('EX_lac__D_e','-EX_glc__D_e')),\n",
    "                                               # The sign of the glucose exchange reaction is flipped since \n",
    "                                               # reaction is defined in the direction of secretion.\n",
    "                                               constraints=interventions,\n",
    "                                               show=False);\n",
    "plot4.set_facecolor('#FFC000')\n",
    "plot4.set_edgecolor('#FFC000')\n",
    "# adjust axes limits and show plot\n",
    "plot4.axes.set_xlim(0, 1.05*max([a[0] for a in datapoints]))\n",
    "plot4.axes.set_ylim(0, 1.05*max([a[1] for a in datapoints]))\n",
    "plt.show()"
   ]
  },
  {
   "cell_type": "markdown",
   "metadata": {},
   "source": [
    "Continued .."
   ]
  },
  {
   "cell_type": "markdown",
   "metadata": {},
   "source": [
    "## Carving"
   ]
  },
  {
   "cell_type": "markdown",
   "metadata": {},
   "source": [
    "## Gap-filling"
   ]
  }
 ],
 "metadata": {
  "kernelspec": {
   "display_name": "Python 3.7.11 ('cnapy-dev')",
   "language": "python",
   "name": "python3"
  },
  "language_info": {
   "codemirror_mode": {
    "name": "ipython",
    "version": 3
   },
   "file_extension": ".py",
   "mimetype": "text/x-python",
   "name": "python",
   "nbconvert_exporter": "python",
   "pygments_lexer": "ipython3",
   "version": "3.7.11"
  },
  "orig_nbformat": 4,
  "vscode": {
   "interpreter": {
    "hash": "ca5b0d6214a41f9530831984db3d63c2bcddec3f9d8d84f59e056cd601338bd1"
   }
  }
 },
 "nbformat": 4,
 "nbformat_minor": 2
}
