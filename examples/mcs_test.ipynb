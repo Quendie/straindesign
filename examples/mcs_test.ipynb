{
 "cells": [
  {
   "cell_type": "code",
   "execution_count": 1,
   "metadata": {},
   "outputs": [],
   "source": [
    "%load_ext autoreload\n",
    "import cobra\n",
    "import numpy as np\n",
    "from importlib import reload\n",
    "import mcs\n",
    "#import traceback\n",
    "#import warnings\n",
    "import sys\n",
    "# import ray\n",
    "\n",
    "\n",
    "#ray.init(ignore_reinit_error=True)\n",
    "\n",
    "#import mcs\n",
    "#import contextlib\n",
    "#import os,sys\n",
    "#mcs_path = os.path.dirname(mcs.__file__)\n",
    "#py_path = os.path.dirname(sys.executable)\n",
    "#runtime_env = {\"working_dir\": \".\", \"py_modules\": [mcs],\"env_vars\": {\"PYTHON\": py_path}}\n",
    "#runtime_env = {\"working_dir\": \".\",\"env_vars\": {\"PYTHON\": py_path}}\n",
    "#ray.shutdown()\n",
    "#ray.init(ignore_reinit_error=True,runtime_env=runtime_env)\n",
    "#with contextlib.redirect_stdout(None):\n"
   ]
  },
  {
   "cell_type": "code",
   "execution_count": 2,
   "metadata": {},
   "outputs": [
    {
     "name": "stdout",
     "output_type": "stream",
     "text": [
      "Set parameter Username\n",
      "Academic license - for non-commercial use only - expires 2022-03-21\n"
     ]
    }
   ],
   "source": [
    "network = cobra.io.read_sbml_model(\"SmallExample.sbml\")"
   ]
  },
  {
   "cell_type": "code",
   "execution_count": 3,
   "metadata": {},
   "outputs": [],
   "source": [
    "modules = [mcs.MCS_Module(network,\"target\",\"lin_constraints\",[\"R4 >= 1\",\"2 R1 >= 0.5\"])]\n",
    "modules.append(mcs.MCS_Module(network,\"desired\",\"lin_constraints\",\"R3 >= 1\"))\n",
    "modules[0].set_model_lb_ub([r.lower_bound for r in network.reactions],[r.upper_bound for r in network.reactions])"
   ]
  },
  {
   "cell_type": "code",
   "execution_count": 6,
   "metadata": {},
   "outputs": [
    {
     "ename": "SyntaxError",
     "evalue": "positional argument follows keyword argument (Temp/ipykernel_6920/2155645125.py, line 9)",
     "output_type": "error",
     "traceback": [
      "\u001b[1;36m  File \u001b[1;32m\"C:\\Users\\phili\\AppData\\Local\\Temp/ipykernel_6920/2155645125.py\"\u001b[1;36m, line \u001b[1;32m9\u001b[0m\n\u001b[1;33m    mcsEnum.compute_mcs(maxSolutions,maxCost,verbose=1,\"solver\",\"cplex\");\u001b[0m\n\u001b[1;37m                                                      ^\u001b[0m\n\u001b[1;31mSyntaxError\u001b[0m\u001b[1;31m:\u001b[0m positional argument follows keyword argument\n"
     ]
    }
   ],
   "source": [
    "%autoreload\n",
    "ko_cost = {'R5': 2, 'R6': 3, 'R7': 4, 'R8': 4, 'R9': 4, 'R10': 4}\n",
    "ki_cost = {'R2': 6}\n",
    "maxSolutions = 50\n",
    "maxCost = 50\n",
    "\n",
    "mcsEnum = mcs.StrainDesigner(network,modules,ko_cost=ko_cost,ki_cost=ki_cost,max_cost=5)\n",
    "\n",
    "mcsEnum.compute_mcs();"
   ]
  },
  {
   "cell_type": "code",
   "execution_count": 4,
   "metadata": {},
   "outputs": [
    {
     "data": {
      "text/plain": [
       "False"
      ]
     },
     "execution_count": 4,
     "metadata": {},
     "output_type": "execute_result"
    }
   ],
   "source": [
    "ray.shutdown()\n",
    "ray.is_initialized()"
   ]
  },
  {
   "cell_type": "code",
   "execution_count": 16,
   "metadata": {},
   "outputs": [],
   "source": [
    "import traceback\n",
    "import warnings\n",
    "import sys\n",
    "\n",
    "def warn_with_traceback(message, category, filename, lineno, file=None, line=None):\n",
    "\n",
    "    log = file if hasattr(file,'write') else sys.stderr\n",
    "    traceback.print_stack(file=log)\n",
    "    log.write(warnings.formatwarning(message, category, filename, lineno, line))\n",
    "\n",
    "warnings.showwarning = warn_with_traceback\n",
    "warnings.simplefilter(\"always\")"
   ]
  },
  {
   "cell_type": "code",
   "execution_count": 11,
   "metadata": {},
   "outputs": [
    {
     "name": "stdout",
     "output_type": "stream",
     "text": [
      "{'__name__': 'mcs', '__doc__': None, '__package__': 'mcs', '__loader__': <_frozen_importlib_external.SourceFileLoader object at 0x0000026A0BAB7EC8>, '__spec__': ModuleSpec(name='mcs', loader=<_frozen_importlib_external.SourceFileLoader object at 0x0000026A0BAB7EC8>, origin='c:\\\\users\\\\phili\\\\documents\\\\python\\\\mcs\\\\mcs\\\\__init__.py', submodule_search_locations=['c:\\\\users\\\\phili\\\\documents\\\\python\\\\mcs\\\\mcs']), '__path__': ['c:\\\\users\\\\phili\\\\documents\\\\python\\\\mcs\\\\mcs'], '__file__': 'c:\\\\users\\\\phili\\\\documents\\\\python\\\\mcs\\\\mcs\\\\__init__.py', '__cached__': 'c:\\\\users\\\\phili\\\\documents\\\\python\\\\mcs\\\\mcs\\\\__pycache__\\\\__init__.cpython-37.pyc', '__builtins__': {'__name__': 'builtins', '__doc__': \"Built-in functions, exceptions, and other objects.\\n\\nNoteworthy: None is the `nil' object; Ellipsis represents `...' in slices.\", '__package__': '', '__loader__': <class '_frozen_importlib.BuiltinImporter'>, '__spec__': ModuleSpec(name='builtins', loader=<class '_frozen_importlib.BuiltinImporter'>), '__build_class__': <built-in function __build_class__>, '__import__': <built-in function __import__>, 'abs': <built-in function abs>, 'all': <built-in function all>, 'any': <built-in function any>, 'ascii': <built-in function ascii>, 'bin': <built-in function bin>, 'breakpoint': <built-in function breakpoint>, 'callable': <built-in function callable>, 'chr': <built-in function chr>, 'compile': <built-in function compile>, 'delattr': <built-in function delattr>, 'dir': <built-in function dir>, 'divmod': <built-in function divmod>, 'eval': <built-in function eval>, 'exec': <built-in function exec>, 'format': <built-in function format>, 'getattr': <built-in function getattr>, 'globals': <built-in function globals>, 'hasattr': <built-in function hasattr>, 'hash': <built-in function hash>, 'hex': <built-in function hex>, 'id': <built-in function id>, 'input': <bound method Kernel.raw_input of <ipykernel.ipkernel.IPythonKernel object at 0x0000026A36433F08>>, 'isinstance': <built-in function isinstance>, 'issubclass': <built-in function issubclass>, 'iter': <built-in function iter>, 'len': <built-in function len>, 'locals': <built-in function locals>, 'max': <built-in function max>, 'min': <built-in function min>, 'next': <built-in function next>, 'oct': <built-in function oct>, 'ord': <built-in function ord>, 'pow': <built-in function pow>, 'print': <built-in function print>, 'repr': <built-in function repr>, 'round': <built-in function round>, 'setattr': <built-in function setattr>, 'sorted': <built-in function sorted>, 'sum': <built-in function sum>, 'vars': <built-in function vars>, 'None': None, 'Ellipsis': Ellipsis, 'NotImplemented': NotImplemented, 'False': False, 'True': True, 'bool': <class 'bool'>, 'memoryview': <class 'memoryview'>, 'bytearray': <class 'bytearray'>, 'bytes': <class 'bytes'>, 'classmethod': <class 'classmethod'>, 'complex': <class 'complex'>, 'dict': <class 'dict'>, 'enumerate': <class 'enumerate'>, 'filter': <class 'filter'>, 'float': <class 'float'>, 'frozenset': <class 'frozenset'>, 'property': <class 'property'>, 'int': <class 'int'>, 'list': <class 'list'>, 'map': <class 'map'>, 'object': <class 'object'>, 'range': <class 'range'>, 'reversed': <class 'reversed'>, 'set': <class 'set'>, 'slice': <class 'slice'>, 'staticmethod': <class 'staticmethod'>, 'str': <class 'str'>, 'super': <class 'super'>, 'tuple': <class 'tuple'>, 'type': <class 'type'>, 'zip': <class 'zip'>, '__debug__': True, 'BaseException': <class 'BaseException'>, 'Exception': <class 'Exception'>, 'TypeError': <class 'TypeError'>, 'StopAsyncIteration': <class 'StopAsyncIteration'>, 'StopIteration': <class 'StopIteration'>, 'GeneratorExit': <class 'GeneratorExit'>, 'SystemExit': <class 'SystemExit'>, 'KeyboardInterrupt': <class 'KeyboardInterrupt'>, 'ImportError': <class 'ImportError'>, 'ModuleNotFoundError': <class 'ModuleNotFoundError'>, 'OSError': <class 'OSError'>, 'EnvironmentError': <class 'OSError'>, 'IOError': <class 'OSError'>, 'WindowsError': <class 'OSError'>, 'EOFError': <class 'EOFError'>, 'RuntimeError': <class 'RuntimeError'>, 'RecursionError': <class 'RecursionError'>, 'NotImplementedError': <class 'NotImplementedError'>, 'NameError': <class 'NameError'>, 'UnboundLocalError': <class 'UnboundLocalError'>, 'AttributeError': <class 'AttributeError'>, 'SyntaxError': <class 'SyntaxError'>, 'IndentationError': <class 'IndentationError'>, 'TabError': <class 'TabError'>, 'LookupError': <class 'LookupError'>, 'IndexError': <class 'IndexError'>, 'KeyError': <class 'KeyError'>, 'ValueError': <class 'ValueError'>, 'UnicodeError': <class 'UnicodeError'>, 'UnicodeEncodeError': <class 'UnicodeEncodeError'>, 'UnicodeDecodeError': <class 'UnicodeDecodeError'>, 'UnicodeTranslateError': <class 'UnicodeTranslateError'>, 'AssertionError': <class 'AssertionError'>, 'ArithmeticError': <class 'ArithmeticError'>, 'FloatingPointError': <class 'FloatingPointError'>, 'OverflowError': <class 'OverflowError'>, 'ZeroDivisionError': <class 'ZeroDivisionError'>, 'SystemError': <class 'SystemError'>, 'ReferenceError': <class 'ReferenceError'>, 'MemoryError': <class 'MemoryError'>, 'BufferError': <class 'BufferError'>, 'Warning': <class 'Warning'>, 'UserWarning': <class 'UserWarning'>, 'DeprecationWarning': <class 'DeprecationWarning'>, 'PendingDeprecationWarning': <class 'PendingDeprecationWarning'>, 'SyntaxWarning': <class 'SyntaxWarning'>, 'RuntimeWarning': <class 'RuntimeWarning'>, 'FutureWarning': <class 'FutureWarning'>, 'ImportWarning': <class 'ImportWarning'>, 'UnicodeWarning': <class 'UnicodeWarning'>, 'BytesWarning': <class 'BytesWarning'>, 'ResourceWarning': <class 'ResourceWarning'>, 'ConnectionError': <class 'ConnectionError'>, 'BlockingIOError': <class 'BlockingIOError'>, 'BrokenPipeError': <class 'BrokenPipeError'>, 'ChildProcessError': <class 'ChildProcessError'>, 'ConnectionAbortedError': <class 'ConnectionAbortedError'>, 'ConnectionRefusedError': <class 'ConnectionRefusedError'>, 'ConnectionResetError': <class 'ConnectionResetError'>, 'FileExistsError': <class 'FileExistsError'>, 'FileNotFoundError': <class 'FileNotFoundError'>, 'IsADirectoryError': <class 'IsADirectoryError'>, 'NotADirectoryError': <class 'NotADirectoryError'>, 'InterruptedError': <class 'InterruptedError'>, 'PermissionError': <class 'PermissionError'>, 'ProcessLookupError': <class 'ProcessLookupError'>, 'TimeoutError': <class 'TimeoutError'>, 'open': <built-in function open>, 'copyright': Copyright (c) 2001-2021 Python Software Foundation.\n",
      "All Rights Reserved.\n",
      "\n",
      "Copyright (c) 2000 BeOpen.com.\n",
      "All Rights Reserved.\n",
      "\n",
      "Copyright (c) 1995-2001 Corporation for National Research Initiatives.\n",
      "All Rights Reserved.\n",
      "\n",
      "Copyright (c) 1991-1995 Stichting Mathematisch Centrum, Amsterdam.\n",
      "All Rights Reserved., 'credits':     Thanks to CWI, CNRI, BeOpen.com, Zope Corporation and a cast of thousands\n",
      "    for supporting Python development.  See www.python.org for more information., 'license': See https://www.python.org/psf/license/, 'help': Type help() for interactive help, or help(object) for help about object., 'execfile': <function execfile at 0x0000026A35FD7A68>, 'runfile': <function runfile at 0x0000026A3610EA68>, '__IPYTHON__': True, 'display': <function display at 0x0000026A345BA9D8>, 'get_ipython': <bound method InteractiveShell.get_ipython of <ipykernel.zmqshell.ZMQInteractiveShell object at 0x0000026A3643AB48>>}, 'cplex_interface': <module 'mcs.cplex_interface' from 'c:\\\\users\\\\phili\\\\documents\\\\python\\\\mcs\\\\mcs\\\\cplex_interface.py'>, 'mcs_computation': <module 'mcs.mcs_computation' from 'c:\\\\users\\\\phili\\\\documents\\\\python\\\\mcs\\\\mcs\\\\mcs_computation.py'>, 'mcs_module': <module 'mcs.mcs_module' from 'c:\\\\users\\\\phili\\\\documents\\\\python\\\\mcs\\\\mcs\\\\mcs_module.py'>, 'solver_interface': <module 'mcs.solver_interface' from 'c:\\\\users\\\\phili\\\\documents\\\\python\\\\mcs\\\\mcs\\\\solver_interface.py'>, 'cMCS_enumerator': <module 'mcs.cMCS_enumerator' from 'c:\\\\users\\\\phili\\\\documents\\\\python\\\\mcs\\\\mcs\\\\cMCS_enumerator.py'>}\n"
     ]
    }
   ],
   "source": [
    "#import ray\n",
    "#ray.init()\n",
    "\n",
    "@ray.remote\n",
    "class timer(object):\n",
    "    import time\n",
    "    def __init__(self):\n",
    "        self.starttime = self.time.monotonic_ns()\n",
    "    def timepassed(self,x):\n",
    "        self.time.sleep(0.1)\n",
    "        return self.time.monotonic_ns()-self.starttime\n",
    "\n",
    "parpool = ray.util.ActorPool([timer.remote() for _ in range(int(ray.available_resources()['CPU']))])\n",
    "\n",
    "times = list(parpool.map(lambda a,x: a.timepassed.remote(x),range(20)))"
   ]
  },
  {
   "cell_type": "code",
   "execution_count": 8,
   "metadata": {},
   "outputs": [
    {
     "name": "stdout",
     "output_type": "stream",
     "text": [
      "516000000\n"
     ]
    }
   ],
   "source": [
    "import time\n",
    "starttime = time.monotonic_ns()\n",
    "time.sleep(0.5)\n",
    "print(time.monotonic_ns()-starttime)"
   ]
  }
 ],
 "metadata": {
  "interpreter": {
   "hash": "c6cb88db6456a5d9db25cf91966766d45a3aee345dd42db13a70c45805ef0614"
  },
  "kernelspec": {
   "display_name": "Python 3.7.12 64-bit ('cnapy-dev': conda)",
   "language": "python",
   "name": "python3"
  },
  "language_info": {
   "codemirror_mode": {
    "name": "ipython",
    "version": 3
   },
   "file_extension": ".py",
   "mimetype": "text/x-python",
   "name": "python",
   "nbconvert_exporter": "python",
   "pygments_lexer": "ipython3",
   "version": "3.7.12"
  },
  "orig_nbformat": 4
 },
 "nbformat": 4,
 "nbformat_minor": 2
}
