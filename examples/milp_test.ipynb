{
 "cells": [
  {
   "cell_type": "code",
   "execution_count": 19,
   "metadata": {},
   "outputs": [],
   "source": [
    "%autoreload\n",
    "# %autoreload\n",
    "import mcs\n",
    "from scipy import sparse\n",
    "import numpy as np\n",
    "\n",
    "c = [1]\n",
    "A_ineq = sparse.csr_matrix([1])\n",
    "b_ineq = [1.5]\n",
    "A_eq = sparse.csr_matrix([1])\n",
    "b_eq = [1]\n",
    "lb = [-np.inf]\n",
    "ub = [ np.inf]\n",
    "\n",
    "lp_feas = mcs.MILP_LP(c=c, A_ineq=A_ineq,b_ineq=b_ineq,A_eq=A_eq,b_eq=b_eq,lb=lb,ub=ub,solver='scip')\n",
    "opt = lp_feas.slim_solve()\n",
    "x, min_cx, status = lp_feas.solve()\n",
    "\n",
    "lp_unbd = mcs.MILP_LP(c=c, A_ineq=A_ineq,b_ineq=b_ineq,lb=lb,ub=ub,solver='scip')\n",
    "opt = lp_unbd.slim_solve()\n",
    "x, min_cx, status = lp_unbd.solve()\n",
    "\n",
    "c = [0]\n",
    "A_ineq = sparse.csr_matrix([-1])\n",
    "b_ineq = [-1.5]\n",
    "lp_noopt = mcs.MILP_LP(c=c, A_ineq=A_ineq,b_ineq=b_ineq,lb=lb,ub=ub,solver='scip')\n",
    "opt = lp_noopt.slim_solve()\n",
    "x, min_cx, status = lp_noopt.solve()\n",
    "\n",
    "c = [-1]\n",
    "A_ineq = sparse.csr_matrix([-1])\n",
    "b_ineq = [-1.5]\n",
    "lp_infeas = mcs.MILP_LP(c=c, A_ineq=A_ineq,b_ineq=b_ineq,A_eq=A_eq,b_eq=b_eq,lb=lb,ub=ub,solver='scip')\n",
    "opt = lp_infeas.slim_solve()\n",
    "x, min_cx, status = lp_infeas.solve()"
   ]
  },
  {
   "cell_type": "code",
   "execution_count": 11,
   "metadata": {},
   "outputs": [
    {
     "name": "stdout",
     "output_type": "stream",
     "text": [
      "The autoreload extension is already loaded. To reload it, use:\n",
      "  %reload_ext autoreload\n"
     ]
    }
   ],
   "source": [
    "%load_ext autoreload\n",
    "from scipy import sparse\n",
    "import numpy as np\n",
    "from importlib import reload\n",
    "import mcs"
   ]
  },
  {
   "cell_type": "code",
   "execution_count": 12,
   "metadata": {},
   "outputs": [],
   "source": [
    "# example setup (default: minimize)\n",
    "# main problem\n",
    "c = [-1,0,0,0]\n",
    "A_ineq = sparse.csr_matrix([[1,1,0,0],[-1,0,0,0]])\n",
    "b_ineq = [3,-1]\n",
    "A_eq = sparse.csr_matrix([[0,1,0,0]])\n",
    "b_eq = [0.6]\n",
    "lb = [1,0,0,0]\n",
    "ub = [np.inf, np.inf, 1, 1]\n",
    "vtype = 'CCBB'\n",
    "# indicator constraints\n",
    "ic_binv = [2,3]\n",
    "ic_A = sparse.csr_matrix([[1,1,0,0],[1,0,0,0]])\n",
    "ic_b = [0,1.2]\n",
    "ic_sense = \"LE\"\n",
    "ic_indicval = [1,0]\n",
    "indic_constr = mcs.Indicator_constraints(ic_binv, ic_A, ic_b, ic_sense, ic_indicval)"
   ]
  },
  {
   "cell_type": "code",
   "execution_count": 13,
   "metadata": {},
   "outputs": [
    {
     "name": "stdout",
     "output_type": "stream",
     "text": [
      "presolving:\n",
      "(round 1, fast)       3 del vars, 4 del conss, 0 add conss, 5 chg bounds, 0 chg sides, 0 chg coeffs, 0 upgd conss, 2 impls, 0 clqs\n",
      "(round 2, fast)       4 del vars, 7 del conss, 0 add conss, 6 chg bounds, 0 chg sides, 0 chg coeffs, 0 upgd conss, 2 impls, 0 clqs\n",
      "(round 3, fast)       4 del vars, 7 del conss, 0 add conss, 12 chg bounds, 0 chg sides, 0 chg coeffs, 0 upgd conss, 2 impls, 0 clqs\n",
      "(round 4, fast)       7 del vars, 10 del conss, 0 add conss, 12 chg bounds, 0 chg sides, 0 chg coeffs, 0 upgd conss, 2 impls, 0 clqs\n",
      "   Deactivated symmetry handling methods, since SCIP was built without symmetry detector (SYM=none).\n",
      "presolving (5 rounds: 5 fast, 1 medium, 1 exhaustive):\n",
      " 8 deleted vars, 10 deleted constraints, 0 added constraints, 12 tightened bounds, 0 added holes, 0 changed sides, 0 changed coefficients\n",
      " 2 implications, 0 cliques\n",
      "transformed 1/1 original solutions to the transformed problem space\n",
      "Presolving Time: 0.00\n",
      "\n",
      "SCIP Status        : problem is solved [optimal solution found]\n",
      "Solving Time (sec) : 0.00\n",
      "Solving Nodes      : 0\n",
      "Primal Bound       : -2.40000000000000e+00 (1 solutions)\n",
      "Dual Bound         : -2.40000000000000e+00\n",
      "Gap                : 0.00 %\n",
      "Solution status =  0\n",
      "Solution value  =  -2.4\n",
      "{'x0': 2.4, 'x1': 0.6, 'x2': 0, 'x3': 1}\n"
     ]
    }
   ],
   "source": [
    "%autoreload\n",
    "my_prob = mcs.MILP_LP(  c=c,\n",
    "                        A_ineq=A_ineq,\n",
    "                        b_ineq=b_ineq,\n",
    "                        A_eq=A_eq,\n",
    "                        b_eq=b_eq,\n",
    "                        lb=lb,\n",
    "                        ub=ub,\n",
    "                        vtype=vtype, \n",
    "                        indic_constr=indic_constr,\n",
    "                        solver='scip')\n",
    "x, opt_cx, status = my_prob.solve()\n",
    "# solution.get_status() returns an integer code\n",
    "print(\"Solution status = \", str(status))\n",
    "# the following line prints the corresponding string\n",
    "print(\"Solution value  = \", str(round(opt_cx,5)))\n",
    "sol = {'x'+str(i) : round(x[i],5) for i in range(len(x))}\n",
    "print(sol)"
   ]
  },
  {
   "cell_type": "code",
   "execution_count": 14,
   "metadata": {},
   "outputs": [
    {
     "name": "stdout",
     "output_type": "stream",
     "text": [
      "The autoreload extension is already loaded. To reload it, use:\n",
      "  %reload_ext autoreload\n"
     ]
    }
   ],
   "source": [
    "%load_ext autoreload\n",
    "import cobra\n",
    "from importlib import reload\n",
    "ecc2 = cobra.io.read_sbml_model(\"ECC2comp.sbml\")\n",
    "iml1515 = cobra.io.read_sbml_model(\"iML1515.sbml\")"
   ]
  },
  {
   "cell_type": "code",
   "execution_count": 15,
   "metadata": {},
   "outputs": [
    {
     "name": "stdout",
     "output_type": "stream",
     "text": [
      "presolving:\n",
      "(round 1, fast)       1406 del vars, 1176 del conss, 0 add conss, 1003 chg bounds, 0 chg sides, 0 chg coeffs, 0 upgd conss, 0 impls, 0 clqs\n",
      "(round 2, fast)       1561 del vars, 1270 del conss, 0 add conss, 1147 chg bounds, 45 chg sides, 0 chg coeffs, 0 upgd conss, 0 impls, 0 clqs\n",
      "(round 3, fast)       1585 del vars, 1289 del conss, 0 add conss, 1187 chg bounds, 71 chg sides, 0 chg coeffs, 0 upgd conss, 0 impls, 0 clqs\n",
      "(round 4, fast)       1589 del vars, 1292 del conss, 0 add conss, 1199 chg bounds, 71 chg sides, 0 chg coeffs, 0 upgd conss, 0 impls, 0 clqs\n",
      "   (0.0s) running MILP presolver\n",
      "   (0.0s) MILP presolver (7 rounds): 113 aggregations, 39 fixings, 0 bound changes\n",
      "(round 5, medium)     1741 del vars, 1292 del conss, 0 add conss, 1200 chg bounds, 71 chg sides, 0 chg coeffs, 0 upgd conss, 0 impls, 0 clqs\n",
      "(round 6, fast)       1742 del vars, 1421 del conss, 0 add conss, 1233 chg bounds, 74 chg sides, 0 chg coeffs, 0 upgd conss, 0 impls, 0 clqs\n",
      "(round 7, fast)       1742 del vars, 1421 del conss, 0 add conss, 1233 chg bounds, 75 chg sides, 0 chg coeffs, 0 upgd conss, 0 impls, 0 clqs\n",
      "(round 8, exhaustive) 1742 del vars, 1432 del conss, 0 add conss, 1233 chg bounds, 80 chg sides, 0 chg coeffs, 0 upgd conss, 0 impls, 0 clqs\n",
      "(round 9, fast)       1743 del vars, 1432 del conss, 0 add conss, 1233 chg bounds, 80 chg sides, 0 chg coeffs, 0 upgd conss, 0 impls, 0 clqs\n",
      "(round 10, fast)       1743 del vars, 1432 del conss, 0 add conss, 1233 chg bounds, 81 chg sides, 0 chg coeffs, 0 upgd conss, 0 impls, 0 clqs\n",
      "   (0.0s) sparsify finished: 313/5350 (5.9%) nonzeros canceled - in total 313 canceled nonzeros, 342 changed coefficients, 0 added nonzeros\n",
      "(round 11, exhaustive) 1743 del vars, 1432 del conss, 0 add conss, 1233 chg bounds, 81 chg sides, 342 chg coeffs, 0 upgd conss, 0 impls, 0 clqs\n",
      "(round 12, fast)       1747 del vars, 1435 del conss, 0 add conss, 1244 chg bounds, 82 chg sides, 342 chg coeffs, 0 upgd conss, 0 impls, 0 clqs\n",
      "(round 13, fast)       1747 del vars, 1435 del conss, 0 add conss, 1257 chg bounds, 82 chg sides, 342 chg coeffs, 0 upgd conss, 0 impls, 0 clqs\n",
      "   (0.0s) sparsify finished: 11/5001 (0.2%) nonzeros canceled - in total 324 canceled nonzeros, 367 changed coefficients, 0 added nonzeros\n",
      "(round 14, exhaustive) 1747 del vars, 1435 del conss, 0 add conss, 1262 chg bounds, 82 chg sides, 367 chg coeffs, 0 upgd conss, 0 impls, 0 clqs\n",
      "(round 15, fast)       1748 del vars, 1436 del conss, 0 add conss, 1264 chg bounds, 82 chg sides, 367 chg coeffs, 0 upgd conss, 0 impls, 0 clqs\n",
      "   (0.0s) sparsify finished: 8/4982 (0.2%) nonzeros canceled - in total 332 canceled nonzeros, 378 changed coefficients, 0 added nonzeros\n",
      "(round 16, exhaustive) 1748 del vars, 1436 del conss, 0 add conss, 1268 chg bounds, 82 chg sides, 378 chg coeffs, 0 upgd conss, 0 impls, 0 clqs\n",
      "   (0.0s) sparsify finished: 4/4974 (0.1%) nonzeros canceled - in total 336 canceled nonzeros, 383 changed coefficients, 0 added nonzeros\n",
      "(round 17, exhaustive) 1748 del vars, 1436 del conss, 0 add conss, 1268 chg bounds, 82 chg sides, 383 chg coeffs, 0 upgd conss, 0 impls, 0 clqs\n",
      "(round 18, exhaustive) 1748 del vars, 1436 del conss, 0 add conss, 1268 chg bounds, 82 chg sides, 1049 chg coeffs, 0 upgd conss, 0 impls, 0 clqs\n",
      "   Deactivated symmetry handling methods, since SCIP was built without symmetry detector (SYM=none).\n",
      "presolving (19 rounds: 19 fast, 8 medium, 7 exhaustive):\n",
      " 1748 deleted vars, 1436 deleted constraints, 0 added constraints, 1272 tightened bounds, 0 added holes, 82 changed sides, 1049 changed coefficients\n",
      " 0 implications, 0 cliques\n",
      "presolved problem has 964 variables (0 bin, 0 int, 0 impl, 964 cont) and 441 constraints\n",
      "    441 constraints of type <linear>\n",
      "transformed objective value is always integral (scale: 1)\n",
      "Presolving Time: 0.00\n",
      "\n",
      " time | node  | left  |LP iter|LP it/n|mem/heur|mdpt |vars |cons |rows |cuts |sepa|confs|strbr|  dualbound   | primalbound  |  gap   | compl. \n",
      "* 0.0s|     1 |     0 |   858 |     - |    LP  |   0 | 964 | 441 | 441 |   0 |  0 |   0 |   0 | 0.000000e+00 | 0.000000e+00 |   0.00%| unknown\n",
      "  0.0s|     1 |     0 |   858 |     - |    17M |   0 | 964 | 441 | 441 |   0 |  0 |   0 |   0 | 0.000000e+00 | 0.000000e+00 |   0.00%| unknown\n",
      "\n",
      "SCIP Status        : problem is solved [optimal solution found]\n",
      "Solving Time (sec) : 0.00\n",
      "Solving Nodes      : 1\n",
      "Primal Bound       : +0.00000000000000e+00 (1 solutions)\n",
      "Dual Bound         : +0.00000000000000e+00\n",
      "Gap                : 0.00 %\n",
      "presolving:\n",
      "(round 1, fast)       1310 del vars, 1165 del conss, 0 add conss, 1012 chg bounds, 0 chg sides, 0 chg coeffs, 0 upgd conss, 0 impls, 0 clqs\n",
      "(round 2, fast)       1443 del vars, 1262 del conss, 0 add conss, 1185 chg bounds, 0 chg sides, 0 chg coeffs, 0 upgd conss, 0 impls, 0 clqs\n",
      "(round 3, fast)       1462 del vars, 1277 del conss, 0 add conss, 1224 chg bounds, 0 chg sides, 0 chg coeffs, 0 upgd conss, 0 impls, 0 clqs\n",
      "(round 4, fast)       1471 del vars, 1282 del conss, 0 add conss, 1241 chg bounds, 0 chg sides, 0 chg coeffs, 0 upgd conss, 0 impls, 0 clqs\n",
      "   (0.0s) running MILP presolver\n",
      "   (0.0s) MILP presolver (8 rounds): 124 aggregations, 20 fixings, 0 bound changes\n",
      "(round 5, medium)     1615 del vars, 1282 del conss, 0 add conss, 1242 chg bounds, 0 chg sides, 0 chg coeffs, 0 upgd conss, 0 impls, 0 clqs\n",
      "(round 6, fast)       1615 del vars, 1416 del conss, 0 add conss, 1264 chg bounds, 0 chg sides, 0 chg coeffs, 0 upgd conss, 0 impls, 0 clqs\n",
      "(round 7, exhaustive) 1615 del vars, 1422 del conss, 0 add conss, 1264 chg bounds, 0 chg sides, 0 chg coeffs, 0 upgd conss, 0 impls, 0 clqs\n",
      "   (0.0s) sparsify finished: 185/5602 (3.3%) nonzeros canceled - in total 185 canceled nonzeros, 211 changed coefficients, 0 added nonzeros\n",
      "(round 8, exhaustive) 1615 del vars, 1422 del conss, 0 add conss, 1264 chg bounds, 0 chg sides, 211 chg coeffs, 0 upgd conss, 0 impls, 0 clqs\n",
      "(round 9, fast)       1622 del vars, 1428 del conss, 0 add conss, 1282 chg bounds, 0 chg sides, 211 chg coeffs, 0 upgd conss, 0 impls, 0 clqs\n",
      "(round 10, fast)       1622 del vars, 1428 del conss, 0 add conss, 1304 chg bounds, 0 chg sides, 211 chg coeffs, 0 upgd conss, 0 impls, 0 clqs\n",
      "   (0.0s) sparsify finished: 178/5381 (3.3%) nonzeros canceled - in total 363 canceled nonzeros, 395 changed coefficients, 0 added nonzeros\n",
      "(round 11, exhaustive) 1622 del vars, 1428 del conss, 0 add conss, 1309 chg bounds, 0 chg sides, 395 chg coeffs, 0 upgd conss, 0 impls, 0 clqs\n",
      "   (0.0s) sparsify finished: 6/5203 (0.1%) nonzeros canceled - in total 369 canceled nonzeros, 414 changed coefficients, 0 added nonzeros\n",
      "(round 12, exhaustive) 1622 del vars, 1428 del conss, 0 add conss, 1309 chg bounds, 0 chg sides, 414 chg coeffs, 0 upgd conss, 0 impls, 0 clqs\n",
      "presolving (13 rounds: 13 fast, 6 medium, 5 exhaustive):\n",
      " 1622 deleted vars, 1428 deleted constraints, 0 added constraints, 1309 tightened bounds, 0 added holes, 0 changed sides, 414 changed coefficients\n",
      " 0 implications, 0 cliques\n",
      "presolved problem has 1090 variables (0 bin, 0 int, 0 impl, 1090 cont) and 449 constraints\n",
      "    449 constraints of type <linear>\n",
      "Presolving Time: 0.00\n",
      "\n",
      " time | node  | left  |LP iter|LP it/n|mem/heur|mdpt |vars |cons |rows |cuts |sepa|confs|strbr|  dualbound   | primalbound  |  gap   | compl. \n",
      "* 0.0s|     1 |     0 |  1119 |     - |    LP  |   0 |1090 | 449 | 449 |   0 |  0 |   0 |   0 | 0.000000e+00 | 0.000000e+00 |   0.00%| unknown\n",
      "  0.0s|     1 |     0 |  1119 |     - |    16M |   0 |1090 | 449 | 449 |   0 |  0 |   0 |   0 | 0.000000e+00 | 0.000000e+00 |   0.00%| unknown\n",
      "\n",
      "SCIP Status        : problem is solved [optimal solution found]\n",
      "Solving Time (sec) : 0.00 (over 1 runs: 0.00)\n",
      "Solving Nodes      : 1 (0 reactivated)\n",
      "Primal Bound       : +0.00000000000000e+00 (1 solutions)\n",
      "Dual Bound         : +0.00000000000000e+00\n",
      "Gap                : 0.00 %\n",
      "           minimum     maximum\n",
      "CYTDK2    0.000000  228.140000\n",
      "XPPT      0.000000  114.070000\n",
      "HXPRT     0.000000  114.070000\n",
      "NDPK5   -76.922791  114.070000\n",
      "SHK3Dr    0.000000    5.635459\n",
      "...            ...         ...\n",
      "MPTS      0.000000   -0.000000\n",
      "MOCOS     0.000000   -0.000000\n",
      "BMOGDS2   0.000000   -0.000000\n",
      "FESD2s    0.000000   -0.000000\n",
      "OCTNLL    0.000000   -0.000000\n",
      "\n",
      "[2712 rows x 2 columns]\n"
     ]
    }
   ],
   "source": [
    "%autoreload\n",
    "import mcs\n",
    "from mcs import fva,fba\n",
    "import cProfile\n",
    "reload(mcs)\n",
    "# opt = ecc2.optimize()\n",
    "# print(opt)\n",
    "# cProfile.runctx(\"fba(iml1515,solver='scip')\",globals(),locals())\n",
    "# opt2 = fba(iml1515,solver='scip')\n",
    "# print(opt2)\n",
    "# opt3 = cobra.flux_analysis.variability.flux_variability_analysis(iml1515)\n",
    "# print(opt3)\n",
    "# cProfile.runctx(\"mcs.fva(iml1515)\",globals(),locals())\n",
    "opt4 = fva(iml1515, solver='scip')\n",
    "print(opt4)\n",
    "# cProfile.runctx()"
   ]
  }
 ],
 "metadata": {
  "interpreter": {
   "hash": "c6cb88db6456a5d9db25cf91966766d45a3aee345dd42db13a70c45805ef0614"
  },
  "kernelspec": {
   "display_name": "Python 3.7.12 64-bit ('cnapy-dev': conda)",
   "language": "python",
   "name": "python3"
  },
  "language_info": {
   "codemirror_mode": {
    "name": "ipython",
    "version": 3
   },
   "file_extension": ".py",
   "mimetype": "text/x-python",
   "name": "python",
   "nbconvert_exporter": "python",
   "pygments_lexer": "ipython3",
   "version": "3.7.12"
  },
  "orig_nbformat": 4
 },
 "nbformat": 4,
 "nbformat_minor": 2
}
