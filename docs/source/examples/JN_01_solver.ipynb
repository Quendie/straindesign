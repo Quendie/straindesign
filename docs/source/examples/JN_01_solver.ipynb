{
 "cells": [
  {
   "cell_type": "markdown",
   "metadata": {},
   "source": [
    "#######\n",
    "Solvers\n",
    "#######\n",
    "\n",
    "*****************************\n",
    "3rd party solver installation\n",
    "*****************************\n",
    "\n",
    "The cobra package is shipped with the **GLPK** solver. The more powerful commercial solvers **IBM CPLEX** and **Gurobi** may be used by COBRApy and also by the StrainDesign package. As another alternative solver, **SCIP** can be employed. Using alternative solvers makes sense, in particular, when using strain design algorithms like MCS, OptKnock etc. Their support of indicator contstraints renders computations significantly more stable.\n",
    "\n",
    "<div class=\\\"alert alert-warning\\\">\n",
    "\n",
    "**Warning:**\n",
    "\n",
    "The **free community versions** of CPLEX and Gurobi can be used. However, with larger problems (100+ reactions) their problem size limitations may result in uncaught errors.\n",
    "\n",
    "</div>\n",
    "\n",
    "In the following, you will find installation instructions for the individual solvers.\n",
    "\n",
    "=====\n",
    "CPLEX\n",
    "=====\n",
    "\n",
    "Together with Gurobi, CPLEX is the perfect choice for computing strain designs. Its stability and support of advanced features like indicator constraints and populating solution pools make it indispensible for genome-scale computations.\n",
    "\n",
    "You will need an academic or commercial licence for CPLEX. Download and install the CPLEX suite and make sure that your CPLEX and Python versions are compatible. This step will not yet install CPLEX in your Python environment. Once the installation is completed, you may link your installation to your Python/conda environment. This is the next step.\n",
    "\n",
    "Using the command line, navigate to your CPLEX installation path and into the Python folder. The path should look similar to \n",
    "\n",
    "``C:/Program Files/CPLEX2210/python``\n",
    "\n",
    "Make sure to activate the same Python/conda environment where `cobra` and `straindesign` are installed. Then call \n",
    "\n",
    "``python setup.py install``. \n",
    "\n",
    "Now CPLEX should be available for your computations.\n",
    "\n",
    "The official instructions can be found here: https://www.ibm.com/docs/en/icos/22.1.0?topic=cplex-setting-up-python-api\n",
    "\n",
    "### Gurobi\n",
    "\n",
    "Similar to CPLEX, Gurobi offers a fast MILP solvers with the advanced features of indicator constraints and solution pooling. The installation steps are similar to the ones of CPLEX.\n",
    "\n",
    "First, you will need an academic or commercial license and install the Gurobi solver software. Ensure that the versions of gurobi and Python versions are compatible, install Gurobi on your system and activate your license following the steps from the Gurobi manual. In the next step you will link your Gurobi installation to your Python/conda environment.\n",
    "\n",
    "Using the command line, navigate to your CPLEX installation path and into the Python folder. The path should look similar to \n",
    "\n",
    "``C:/gurobi950/windows64``\n",
    "\n",
    "Make sure to activate the same Python/conda environment where `cobra` and `straindesign` are installed. Then call \n",
    "\n",
    "``python setup.py install``.\n",
    "\n",
    "If your `gurobipy` package does not work right away, additionally install the gurobi package from conda or PyPi via\n",
    "\n",
    "``conda install -c gurobi gurobi``\n",
    "\n",
    "or\n",
    "\n",
    "``python -m pip install gurobipy``\n",
    "\n",
    "Now Gurobi should be available for your computations.\n",
    "\n",
    "The official instructions can be found here: https://support.gurobi.com/hc/en-us/articles/360044290292-How-do-I-install-Gurobi-for-Python-\n",
    "\n",
    "### SCIP\n",
    "\n",
    "Less powerful than CPLEX and Gurobi, the open source solver SCIP still offers the solution of MILPs with indicator constraints, which gives it an edge above GLPK in terms of stability. If you want to use SCIP, you may install it via conda or pip:\n",
    "\n",
    "``conda install -c conda-forge pyscipopt``\n",
    "\n",
    "or\n",
    "\n",
    "``python -m pip install pyscipopt``\n",
    "\n",
    "Official website: https://github.com/scipopt/PySCIPOpt"
   ]
  },
  {
   "cell_type": "markdown",
   "metadata": {},
   "source": [
    "## Solver selection\n",
    "\n",
    "For any type of LP or MILP-based analysis or design method, four different sovers are supported: **GLPK** (which is built into COBRApy/optlang), **IBM CPLEX**, **Gurobi** and the open source solver **SCIP**. You can query the available solvers by accessing the set ``straindesign.avail_solvers``. For the subsequent steps we also import the cobra module and load the *E. coli* core model."
   ]
  },
  {
   "cell_type": "code",
   "execution_count": 1,
   "metadata": {},
   "outputs": [
    {
     "data": {
      "text/plain": [
       "{'cplex', 'glpk', 'gurobi', 'scip'}"
      ]
     },
     "execution_count": 1,
     "metadata": {},
     "output_type": "execute_result"
    }
   ],
   "source": [
    "import cobra\n",
    "import straindesign as sd\n",
    "model = cobra.io.load_model('e_coli_core')\n",
    "\n",
    "sd.avail_solvers"
   ]
  },
  {
   "cell_type": "markdown",
   "metadata": {},
   "source": [
    "You may enforce the use of a specific solver by specifying the \"solver\"-keyword. To enforce the use of GLPK, use: "
   ]
  },
  {
   "cell_type": "code",
   "execution_count": 2,
   "metadata": {},
   "outputs": [
    {
     "name": "stdout",
     "output_type": "stream",
     "text": [
      "Set parameter Username\n",
      "Academic license - for non-commercial use only - expires 2022-07-13\n",
      "Maximum growth: 0.8739215069684826.\n"
     ]
    }
   ],
   "source": [
    "solution = sd.fba(model, solver='glpk')\n",
    "\n",
    "print(f\"Maximum growth: {solution.objective_value}.\")"
   ]
  },
  {
   "cell_type": "markdown",
   "metadata": {},
   "source": [
    "By default, the automatic solver selection uses COBRApy's selection. Therefore, StrainDesign will try to use the model's selected solver:"
   ]
  },
  {
   "cell_type": "code",
   "execution_count": 3,
   "metadata": {},
   "outputs": [
    {
     "name": "stdout",
     "output_type": "stream",
     "text": [
      "When the model's solver is '<optlang.gurobi_interface.Configuration object at 0x00000189FD473580>', StrainDesign selects gurobi.\n"
     ]
    }
   ],
   "source": [
    "print(f\"When the model\\'s solver is \\'{model.solver.configuration}', StrainDesign selects {sd.select_solver(None,model)}.\")"
   ]
  },
  {
   "cell_type": "markdown",
   "metadata": {},
   "source": [
    "Otherwise COBRApy's global configuration is used."
   ]
  },
  {
   "cell_type": "code",
   "execution_count": 4,
   "metadata": {},
   "outputs": [
    {
     "name": "stdout",
     "output_type": "stream",
     "text": [
      "COBRApy's solver is 'optlang.gurobi_interface', StrainDesign selects gurobi.\n"
     ]
    }
   ],
   "source": [
    "print(f\"COBRApy\\'s solver is \\'{cobra.Configuration().solver.__name__}', StrainDesign selects {sd.select_solver()}.\")"
   ]
  },
  {
   "cell_type": "code",
   "execution_count": 6,
   "metadata": {},
   "outputs": [
    {
     "data": {
      "text/plain": [
       "'glpk'"
      ]
     },
     "execution_count": 6,
     "metadata": {},
     "output_type": "execute_result"
    }
   ],
   "source": [
    "model.solver = 'cplex'\n",
    "sd.select_solver('glpk',model)"
   ]
  }
 ],
 "metadata": {
  "interpreter": {
   "hash": "50a36e699ca3834a05ca1bd86fc5b7db4829f1cbbb3e27f51544575d88525899"
  },
  "kernelspec": {
   "display_name": "Python 3.9.7 ('cnapy-dev')",
   "language": "python",
   "name": "python3"
  },
  "language_info": {
   "codemirror_mode": {
    "name": "ipython",
    "version": 3
   },
   "file_extension": ".py",
   "mimetype": "text/x-python",
   "name": "python",
   "nbconvert_exporter": "python",
   "pygments_lexer": "ipython3",
   "version": "3.9.7"
  },
  "orig_nbformat": 4
 },
 "nbformat": 4,
 "nbformat_minor": 2
}
