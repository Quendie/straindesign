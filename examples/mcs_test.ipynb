{
 "cells": [
  {
   "cell_type": "code",
   "execution_count": 2,
   "metadata": {},
   "outputs": [],
   "source": [
    "%load_ext autoreload\n",
    "import cobra\n",
    "import numpy as np\n",
    "from importlib import reload\n",
    "import mcs\n",
    "from scipy import sparse\n",
    "#import traceback\n",
    "#import warnings\n",
    "import sys"
   ]
  },
  {
   "cell_type": "markdown",
   "metadata": {},
   "source": [
    "This is a bilevel-example with 1 Target and 1 Desired region"
   ]
  },
  {
   "cell_type": "code",
   "execution_count": 3,
   "metadata": {},
   "outputs": [
    {
     "name": "stdout",
     "output_type": "stream",
     "text": [
      "Constructing MILP.\n",
      "Bounding MILP.\n",
      "Finding optimal strain designs ...\n",
      "Strain design with cost 5: {'r1': 1, 'r3': -1, 'r5': -1, 'r7': -1, 'r9': -1}\n",
      "Strain design with cost 5: {'r1': 1, 'r4': -1, 'r5': -1, 'r7': -1, 'r9': -1}\n",
      "Strain design with cost 5: {'r1': 1, 'r3': -1, 'r4': -1, 'r7': -1, 'r9': -1}\n",
      "Finished. 3 solutions found.\n"
     ]
    },
    {
     "data": {
      "text/plain": [
       "([{'r1': 1.0, 'r3': -1.0, 'r5': -1.0, 'r7': -1.0, 'r9': -1.0},\n",
       "  {'r1': 1.0, 'r4': -1.0, 'r5': -1.0, 'r7': -1.0, 'r9': -1.0},\n",
       "  {'r1': 1.0, 'r3': -1.0, 'r4': -1.0, 'r7': -1.0, 'r9': -1.0}],\n",
       " 0)"
      ]
     },
     "execution_count": 3,
     "metadata": {},
     "output_type": "execute_result"
    }
   ],
   "source": [
    "%autoreload\n",
    "# load network\n",
    "network = cobra.io.read_sbml_model(\"weak_coupling.sbml\")\n",
    "# mcs.fba(network,constr=[\"r1=0\"])\n",
    "# specify modules\n",
    "# specify modules\n",
    "modules = [mcs.SD_Module(network,\"mcs_bilvl\",module_sense=\"target\",constraints=[\"r_P <= 0.5\"],inner_objective=\"-r_BM\")]\n",
    "modules.append(mcs.SD_Module(network,\"mcs_lin\",module_sense=\"desired\",constraints=\"r_BM >= 1\"))\n",
    "\n",
    "# specify MCS setup\n",
    "ko_cost = {'r2': 1, 'r3': 1, 'r4': 1, 'r5': 1, 'r6': 1, 'r7': 1, 'r8': 1, 'r9': 1}\n",
    "ki_cost = {'r1': 1}\n",
    "maxSolutions = 50\n",
    "maxCost = 50\n",
    "solver = 'cplex'\n",
    "\n",
    "# construct MCS MILP\n",
    "mcsEnum = mcs.StrainDesigner(network,modules,\n",
    "       ko_cost=ko_cost,ki_cost=ki_cost,max_cost=maxCost,M=None,\n",
    "       solver=solver)\n",
    "\n",
    "# solve MILP\n",
    "# mcsEnum.enumerate()\n",
    "# mcsEnum.compute()\n",
    "mcsEnum.compute_optimal()"
   ]
  },
  {
   "cell_type": "markdown",
   "metadata": {},
   "source": [
    "This is a bilevel-example with only 1 desired region"
   ]
  },
  {
   "cell_type": "code",
   "execution_count": 4,
   "metadata": {},
   "outputs": [
    {
     "name": "stdout",
     "output_type": "stream",
     "text": [
      "Constructing MILP.\n",
      "Bounding MILP.\n",
      "Finding optimal strain designs ...\n",
      "Strain design with cost 1: {'r3': -1}\n",
      "Strain design with cost 1: {'r4': -1}\n",
      "Finished. 2 solutions found.\n"
     ]
    },
    {
     "data": {
      "text/plain": [
       "([{'r3': -1.0}, {'r4': -1.0}], 0)"
      ]
     },
     "execution_count": 4,
     "metadata": {},
     "output_type": "execute_result"
    }
   ],
   "source": [
    "%autoreload\n",
    "# load network\n",
    "network = cobra.io.read_sbml_model(\"weak_coupling.sbml\")\n",
    "# mcs.fba(network,constr=[\"r1=0\"])\n",
    "# specify modules\n",
    "modules = mcs.SD_Module(network,\"mcs_bilvl\",module_sense=\"desired\",constraints=[\"r_BM >= 0.5\",\"r_P >= 1\"],inner_objective=\"-r_BM\")\n",
    "\n",
    "# specify MCS setup\n",
    "ko_cost = {'r2': 1, 'r3': 1, 'r4': 1, 'r5': 1, 'r6': 1, 'r7': 1, 'r8': 1, 'r9': 1}\n",
    "ki_cost = {'r1': 1}\n",
    "maxSolutions = 50\n",
    "maxCost = 50\n",
    "solver = 'scip'\n",
    "\n",
    "# construct MCS MILP\n",
    "mcsEnum = mcs.StrainDesigner(network,modules,ko_cost=ko_cost,ki_cost=ki_cost,max_cost=7,solver=solver,M=None)\n",
    "\n",
    "# solve MILP\n",
    "mcsEnum.compute_optimal()"
   ]
  },
  {
   "cell_type": "markdown",
   "metadata": {},
   "source": [
    "This is a regular MCS example with 1 target and 1 desired region (HERE SCIP STILL SEEMS TO TAG VALID MCS AS INVALID)"
   ]
  },
  {
   "cell_type": "code",
   "execution_count": 8,
   "metadata": {},
   "outputs": [
    {
     "name": "stdout",
     "output_type": "stream",
     "text": [
      "Constructing MILP.\n",
      "Bounding MILP.\n",
      "Finding optimal strain designs ...\n"
     ]
    },
    {
     "name": "stderr",
     "output_type": "stream",
     "text": [
      "C:\\Users\\phili\\anaconda3\\envs\\cnapy-dev\\lib\\site-packages\\scipy\\sparse\\_index.py:116: SparseEfficiencyWarning: Changing the sparsity structure of a csr_matrix is expensive. lil_matrix is more efficient.\n",
      "  self._set_arrayXarray_sparse(i, j, x)\n"
     ]
    },
    {
     "name": "stdout",
     "output_type": "stream",
     "text": [
      "Strain design with cost 4: {'R07': -1}\n",
      "Strain design with cost 4: {'R10': -1}\n",
      "Strain design with cost 7: {'R06': -1, 'R08': -1}\n",
      "Finished. 3 solutions found.\n"
     ]
    },
    {
     "data": {
      "text/plain": [
       "([{'R07': -1.0}, {'R10': -1.0}, {'R06': -1.0, 'R08': -1.0}], 0)"
      ]
     },
     "execution_count": 8,
     "metadata": {},
     "output_type": "execute_result"
    }
   ],
   "source": [
    "%autoreload\n",
    "# load network\n",
    "network = cobra.io.read_sbml_model(\"SmallExample.sbml\")\n",
    "\n",
    "# specify modules\n",
    "modules = [mcs.SD_Module(network,\"mcs_lin\",module_sense=\"target\",constraints=[\"R04 >= 1\",\"2 R01 >= 0.5\"])]\n",
    "modules.append(mcs.SD_Module(network,\"mcs_lin\",module_sense=\"desired\",constraints=\"R03 >= 1\"))\n",
    "\n",
    "# specify MCS setup\n",
    "ko_cost = {'R05': 2, 'R06': 3, 'R07': 4, 'R08': 4, 'R09': 4, 'R10': 4}\n",
    "ki_cost = {'R02': 6}\n",
    "maxSolutions = 8\n",
    "maxCost = 8\n",
    "solver = 'scip'\n",
    "\n",
    "# construct MCS MILP\n",
    "mcsEnum = mcs.StrainDesigner(network,modules,ko_cost=ko_cost,ki_cost=ki_cost,max_cost=maxCost,solver=solver,M=None)\n",
    "\n",
    "# solve MILP\n",
    "# mcsEnum.enumerate()\n",
    "# mcsEnum.compute()\n",
    "mcsEnum.compute_optimal()"
   ]
  },
  {
   "cell_type": "markdown",
   "metadata": {},
   "source": [
    "This is a bilevel-example with 1 Target and 1 Desired region"
   ]
  },
  {
   "cell_type": "code",
   "execution_count": 15,
   "metadata": {},
   "outputs": [
    {
     "name": "stdout",
     "output_type": "stream",
     "text": [
      "GLPK only supports strain design computation with the bigM method. Default: M=1000\n",
      "Constructing MILP.\n",
      "Bounding MILP.\n",
      "There is no native support of indicator constraints with GLPK.\n",
      "Indicator constraints are translated to big-M constraints with M=1000.0.\n",
      "Finding (also non-optimal) strain designs ...\n",
      "Searching in full search space.\n",
      "Minimizing number of interventions in subspace with 1 possible targets.\n",
      "Strain design with cost 1: {'r2': -1}\n",
      "Searching in full search space.\n",
      "Minimizing number of interventions in subspace with 1 possible targets.\n",
      "Strain design with cost 1: {'r_S': -1}\n",
      "Searching in full search space.\n",
      "Minimizing number of interventions in subspace with 2 possible targets.\n",
      "Strain design with cost 2: {'r_BM': -1, 'r_Q': -1}\n",
      "Searching in full search space.\n",
      "Minimizing number of interventions in subspace with 2 possible targets.\n",
      "Strain design with cost 2: {'r4': -1, 'r_BM': -1}\n",
      "Searching in full search space.\n",
      "Minimizing number of interventions in subspace with 2 possible targets.\n",
      "Strain design with cost 2: {'r3': -1, 'r_BM': -1}\n",
      "Searching in full search space.\n",
      "Minimizing number of interventions in subspace with 3 possible targets.\n",
      "Strain design with cost 3: {'r4': -1, 'r6': -1, 'r_Q': -1}\n",
      "Finished. 6 solutions found.\n"
     ]
    },
    {
     "data": {
      "text/plain": [
       "([{'r2': -1.0},\n",
       "  {'r_S': -1.0},\n",
       "  {'r_BM': -1.0, 'r_Q': -1.0},\n",
       "  {'r4': -1.0, 'r_BM': -1.0},\n",
       "  {'r3': -1.0, 'r_BM': -1.0},\n",
       "  {'r4': -1.0, 'r6': -1.0, 'r_Q': -1.0}],\n",
       " 0)"
      ]
     },
     "execution_count": 15,
     "metadata": {},
     "output_type": "execute_result"
    }
   ],
   "source": [
    "%autoreload\n",
    "# load network\n",
    "network = cobra.io.read_sbml_model(\"weak_coupling.sbml\")\n",
    "mcs.fba(network,constr=[\"r1=0\"])\n",
    "# specify modules\n",
    "# specify modules\n",
    "modules = mcs.SD_Module(network,\"mcs_bilvl\",module_sense=\"target\",constraints=[\"r_P <= 0.5\"],inner_objective=\"-r_BM\")\n",
    "\n",
    "# specify MCS setup\n",
    "maxSolutions = 6\n",
    "maxCost = 3\n",
    "solver = 'scip'\n",
    "\n",
    "# construct MCS MILP\n",
    "mcsEnum = mcs.StrainDesigner(network,modules,max_cost=maxCost,M=None,solver=solver)\n",
    "\n",
    "# solve MILP\n",
    "# mcsEnum.compute()\n",
    "mcsEnum.compute(max_solutions=maxSolutions)\n",
    "# mcsEnum.enumerate(max_solutions=maxSolutions)\n",
    "# mcsEnum.enumerate(max_solutions=maxSolutions)\n",
    "# mcsEnum.compute_optimal(max_solutions=maxSolutions)"
   ]
  },
  {
   "cell_type": "markdown",
   "metadata": {},
   "source": [
    "This is a mid-scale-example with only 1 desired region"
   ]
  },
  {
   "cell_type": "code",
   "execution_count": 14,
   "metadata": {},
   "outputs": [
    {
     "name": "stdout",
     "output_type": "stream",
     "text": [
      "Constructing MILP.\n",
      "Bounding MILP.\n",
      "Finding (also non-optimal) strain designs ...\n",
      "Searching in full search space.\n",
      "Minimizing number of interventions in subspace with 3 possible targets.\n",
      "Strain design with cost 1: {'CYTBO3_4pp': -1}\n",
      "Searching in full search space.\n",
      "Minimizing number of interventions in subspace with 3 possible targets.\n",
      "Strain design with cost 1: {'O2Up': -1}\n",
      "Searching in full search space.\n",
      "Finished. 2 solutions found.\n"
     ]
    },
    {
     "data": {
      "text/plain": [
       "([{'CYTBO3_4pp': -1.0}, {'O2Up': -1.0}], 3)"
      ]
     },
     "execution_count": 14,
     "metadata": {},
     "output_type": "execute_result"
    }
   ],
   "source": [
    "%autoreload\n",
    "# load network\n",
    "network = cobra.io.read_sbml_model(\"ECC2comp.sbml\")\n",
    "# remove external metabolites and obsolete reactions\n",
    "external_mets = [i for i,cpts in zip(network.metabolites,network.metabolites.list_attr(\"compartment\")) if cpts == 'External_Species']\n",
    "network.remove_metabolites(external_mets)\n",
    "S = cobra.util.create_stoichiometric_matrix(network)\n",
    "obsolete_reacs = [reac for reac,b_rempty in zip(network.reactions,np.any(S,0)) if not b_rempty]\n",
    "network.remove_reactions(obsolete_reacs)\n",
    "# close some uptakes\n",
    "network.reactions.AcUp.upper_bound = 0\n",
    "network.reactions.GlycUp.upper_bound = 0\n",
    "\n",
    "sol = mcs.fba(network,constr=[\"O2Up=0\"])\n",
    "# specify modules\n",
    "modules = mcs.SD_Module(network,\"mcs_bilvl\",module_sense=\"desired\",constraints=[\"2 Growth >= 0.2\",\"EthEx >= 1\"],inner_objective=\"-Growth\")\n",
    "\n",
    "network.remove_metabolites\n",
    "network.metabolites.list_attr(\"compartment\")\n",
    "# specify MCS setup\n",
    "maxSolutions = 20\n",
    "maxCost = 3\n",
    "solver = 'scip'\n",
    "\n",
    "# construct MCS MILP\n",
    "mcsEnum = mcs.StrainDesigner(network,modules,max_cost=maxCost,solver=solver,M=None)\n",
    "\n",
    "# solve MILP\n",
    "# mcsEnum.enumerkate(max_solutions=maxSolutions)\n",
    "# mcsEnum.compute_optimal(max_solutions=maxSolutions,time_limit=15)\n",
    "mcsEnum.compute(max_solutions=maxSolutions,time_limit=5)"
   ]
  },
  {
   "cell_type": "code",
   "execution_count": 16,
   "metadata": {},
   "outputs": [
    {
     "name": "stdout",
     "output_type": "stream",
     "text": [
      "Constructing MILP.\n",
      "Bounding MILP.\n",
      "Finding (also non-optimal) strain designs ...\n",
      "Searching in full search space.\n",
      "Minimizing number of interventions in subspace with 7 possible targets.\n",
      "Strain design with cost 2: {'GAPD': -1, 'O2Up': -1}\n",
      "Searching in full search space.\n",
      "Minimizing number of interventions in subspace with 7 possible targets.\n",
      "Strain design with cost 1: {'ATPM': -1}\n",
      "Searching in full search space.\n",
      "Minimizing number of interventions in subspace with 7 possible targets.\n",
      "Strain design with cost 2: {'CO2Ex': -1, 'h_pEx': -1}\n",
      "Searching in full search space.\n",
      "Minimizing number of interventions in subspace with 7 possible targets.\n",
      "Strain design with cost 3: {'CO2Ex': -1, 'ENO': -1, 'TPI': -1}\n",
      "Finished. 4 solutions found.\n"
     ]
    },
    {
     "data": {
      "text/plain": [
       "([{'GAPD': -1.0, 'O2Up': -1.0},\n",
       "  {'ATPM': -1.0},\n",
       "  {'CO2Ex': -1.0, 'h_pEx': -1.0},\n",
       "  {'CO2Ex': -1.0, 'ENO': -1.0, 'TPI': -1.0}],\n",
       " 0)"
      ]
     },
     "execution_count": 16,
     "metadata": {},
     "output_type": "execute_result"
    }
   ],
   "source": [
    "%autoreload\n",
    "# load network\n",
    "network = cobra.io.read_sbml_model(\"ECC2comp.sbml\")\n",
    "# remove external metabolites and obsolete reactions\n",
    "external_mets = [i for i,cpts in zip(network.metabolites,network.metabolites.list_attr(\"compartment\")) if cpts == 'External_Species']\n",
    "network.remove_metabolites(external_mets)\n",
    "S = cobra.util.create_stoichiometric_matrix(network)\n",
    "obsolete_reacs = [reac for reac,b_rempty in zip(network.reactions,np.any(S,0)) if not b_rempty]\n",
    "network.remove_reactions(obsolete_reacs)\n",
    "# close some uptakes\n",
    "network.reactions.AcUp.upper_bound = 0\n",
    "network.reactions.GlycUp.upper_bound = 0\n",
    "network.reactions.ATPM.upper_bound = 1000\n",
    "network.reactions.ATPM.lower_bound = 3.15\n",
    "\n",
    "sol = mcs.fba(network,constr=[\"O2Up=0\"])\n",
    "# specify modules\n",
    "modules = mcs.SD_Module(network,\"mcs_lin\",module_sense=\"target\")\n",
    "\n",
    "network.remove_metabolites\n",
    "network.metabolites.list_attr(\"compartment\")\n",
    "# specify MCS setup\n",
    "maxSolutions = 4\n",
    "maxCost = 50\n",
    "solver = 'scip'\n",
    "\n",
    "# construct MCS MILP\n",
    "mcsEnum = mcs.StrainDesigner(network,modules,max_cost=7,solver=solver,M=None)\n",
    "\n",
    "# solve MILP\n",
    "# mcsEnum.enumerate(max_solutions=maxSolutions)\n",
    "# mcsEnum.compute_optimal(max_solutions=maxSolutions)\n",
    "mcsEnum.compute(max_solutions=maxSolutions)"
   ]
  },
  {
   "cell_type": "code",
   "execution_count": null,
   "metadata": {},
   "outputs": [],
   "source": [
    "%autoreload\n",
    "# load network\n",
    "network = cobra.io.read_sbml_model(\"ECC2comp.sbml\")\n",
    "# remove external metabolites and obsolete reactions\n",
    "external_mets = [i for i,cpts in zip(network.metabolites,network.metabolites.list_attr(\"compartment\")) if cpts == 'External_Species']\n",
    "network.remove_metabolites(external_mets)\n",
    "S = cobra.util.create_stoichiometric_matrix(network)\n",
    "obsolete_reacs = [reac for reac,b_rempty in zip(network.reactions,np.any(S,0)) if not b_rempty]\n",
    "network.remove_reactions(obsolete_reacs)\n",
    "# close some uptakes\n",
    "network.reactions.AcUp.upper_bound = 0\n",
    "network.reactions.SuccUp.upper_bound = 0\n",
    "network.reactions.GlycUp.upper_bound = 0\n",
    "network.reactions.CO2Up = 0\n",
    "network.reactions.ATPM.upper_bound = 1000\n",
    "network.reactions.ATPM.lower_bound = 3.15\n",
    "\n",
    "# sol = mcs.fba(network,constr=[\"O2Up=0\"])\n",
    "# sol1 = mcs.fba(network,constr=['AcEx = 0','ATPS4rpp = 0', 'G3PD5= 0', 'NADTRHD= 0', 'PFL= 0', 'PYK= 0', 'SuccEx= 0', 'SUCCt2_2pp= 0'])\n",
    "# sol2 = mcs.fva(network,constr=['Growth = '+str(0.999*sol1.objective_value),'AcEx = 0','ATPS4rpp = 0', 'G3PD5= 0', 'NADTRHD= 0', 'PFL= 0', 'PYK= 0', 'SuccEx= 0', 'SUCCt2_2pp= 0'])\n",
    "\n",
    "# specify modules\n",
    "modules = mcs.SD_Module(network,\"optknock\",constraints=[\"Growth >= 0.2\",\"EthEx >= 1\"],inner_objective=\"Growth\",outer_objective=\"EthEx\")\n",
    "\n",
    "# specify MCS setup\n",
    "maxSolutions = 100\n",
    "maxCost = 2\n",
    "solver = 'scip'\n",
    "\n",
    "# construct MCS MILP\n",
    "mcsEnum = mcs.StrainDesigner(network,modules,max_cost=maxCost,M=None, solver=solver)\n",
    "\n",
    "# solve MILP\n",
    "# mcsEnum.compute(max_solutions=maxSolutions)\n",
    "# mcsEnum.compute_optimal(max_solutions=maxSolutions)\n",
    "mcsEnum.enumerate(max_solutions=maxSolutions)"
   ]
  },
  {
   "cell_type": "code",
   "execution_count": null,
   "metadata": {},
   "outputs": [],
   "source": [
    "%autoreload\n",
    "# load network\n",
    "network = cobra.io.read_sbml_model(\"ECC2comp.sbml\")\n",
    "# remove external metabolites and obsolete reactions\n",
    "external_mets = [i for i,cpts in zip(network.metabolites,network.metabolites.list_attr(\"compartment\")) if cpts == 'External_Species']\n",
    "network.remove_metabolites(external_mets)\n",
    "S = cobra.util.create_stoichiometric_matrix(network)\n",
    "obsolete_reacs = [reac for reac,b_rempty in zip(network.reactions,np.any(S,0)) if not b_rempty]\n",
    "network.remove_reactions(obsolete_reacs)\n",
    "# close some uptakes\n",
    "network.reactions.AcUp.upper_bound = 0\n",
    "network.reactions.SuccUp.upper_bound = 0\n",
    "network.reactions.GlycUp.upper_bound = 0\n",
    "network.reactions.CO2Up = 0\n",
    "network.reactions.ATPM.upper_bound = 1000\n",
    "network.reactions.ATPM.lower_bound = 3.15\n",
    "# for i in enumerate(network.reactions)\n",
    "\n",
    "# sol = mcs.fba(network,constr=[\"O2Up=0\"])\n",
    "# sol1 = mcs.fba(network,constr=['AcEx = 0','ATPS4rpp = 0', 'G3PD5= 0', 'NADTRHD= 0', 'PFL= 0', 'PYK= 0', 'SuccEx= 0', 'SUCCt2_2pp= 0'])\n",
    "# sol2 = mcs.fva(network,constr=['Growth = '+str(0.999*sol1.objective_value),'AcEx = 0','ATPS4rpp = 0', 'G3PD5= 0', 'NADTRHD= 0', 'PFL= 0', 'PYK= 0', 'SuccEx= 0', 'SUCCt2_2pp= 0'])\n",
    "\n",
    "# specify modules\n",
    "modules = mcs.SD_Module(network,\"robustknock\",constraints=[\"Growth >= 0.2\",\"EthEx >= 1\"],inner_objective=\"Growth\",outer_objective=\"EthEx\")\n",
    "\n",
    "# specify MCS setup\n",
    "maxSolutions = 10\n",
    "maxCost = 15\n",
    "solver = 'gurobi'\n",
    "\n",
    "# construct MCS MILP\n",
    "mcsEnum = mcs.StrainDesigner(network,modules,max_cost=maxCost,M=None, solver=solver)\n",
    "\n",
    "# solve MILP\n",
    "# mcsEnum.compute(max_solutions=maxSolutions)\n",
    "mcsEnum.compute_optimal(max_solutions=maxSolutions)\n",
    "# mcsEnum.enumerate(max_solutions=maxSolutions)"
   ]
  },
  {
   "cell_type": "code",
   "execution_count": 13,
   "metadata": {},
   "outputs": [
    {
     "name": "stdout",
     "output_type": "stream",
     "text": [
      "Constructing MILP.\n",
      "Bounding MILP.\n",
      "Finding (also non-optimal) strain designs ...\n",
      "Searching in full search space.\n",
      "Found solution with objective value -0.7232319930893569\n",
      "Minimizing number of interventions in subspace with 12 possible targets.\n",
      "Strain design with cost 7: {'ACKr': -1, 'FRD2': -1, 'GLCt2pp': -1, 'LacEx': -1, 'MDH': -1, 'POX': -1, 'PPS': -1}\n",
      "Strain design with cost 7: {'ACKr': -1, 'GLCt2pp': -1, 'LacEx': -1, 'MDH': -1, 'NADH17pp': -1, 'POX': -1, 'PPS': -1}\n",
      "Searching in full search space.\n",
      "Found solution with objective value -0.47067448500915887\n",
      "Minimizing number of interventions in subspace with 12 possible targets.\n",
      "Strain design with cost 7: {'FUM': -1, 'HEX1': -1, 'LDH_D': -1, 'MALS': -1, 'POX': -1, 'PPS': -1, 'PTAr': -1}\n",
      "Strain design with cost 7: {'ACKr': -1, 'FUM': -1, 'HEX1': -1, 'LDH_D': -1, 'MALS': -1, 'POX': -1, 'PPS': -1}\n",
      "Searching in full search space.\n",
      "Found solution with objective value -0.4940321270089865\n",
      "Minimizing number of interventions in subspace with 15 possible targets.\n",
      "Strain design with cost 7: {'AcEx': -1, 'FRD2': -1, 'LDH_D': -1, 'MDH': -1, 'PGI': -1, 'PPS': -1, 'TKT1': -1}\n",
      "Strain design with cost 7: {'AcEx': -1, 'LDH_D': -1, 'MDH': -1, 'NADH17pp': -1, 'PGI': -1, 'PPS': -1, 'TKT1': -1}\n",
      "Searching in full search space.\n",
      "Found solution with objective value -0.6422924896512159\n",
      "Minimizing number of interventions in subspace with 10 possible targets.\n",
      "Strain design with cost 8: {'GND': -1, 'ICL': -1, 'LDH_D': -1, 'MDH': -1, 'PGI': -1, 'POX': -1, 'PPS': -1, 'PTAr': -1}\n",
      "Searching in full search space.\n",
      "Found solution with objective value -0.4491967681708994\n",
      "Minimizing number of interventions in subspace with 11 possible targets.\n",
      "Strain design with cost 6: {'AcEx': -1, 'FRD2': -1, 'GLCt2pp': -1, 'LacEx': -1, 'MDH': -1, 'PPS': -1}\n",
      "Strain design with cost 6: {'AcEx': -1, 'GLCt2pp': -1, 'LacEx': -1, 'MDH': -1, 'NADH17pp': -1, 'PPS': -1}\n",
      "Searching in full search space.\n",
      "Found solution with objective value -0.6693646652165891\n",
      "Minimizing number of interventions in subspace with 12 possible targets.\n",
      "Strain design with cost 7: {'FUM': -1, 'HEX1': -1, 'LDH_D': -1, 'MDH': -1, 'POX': -1, 'PPS': -1, 'PTAr': -1}\n",
      "Finished. 10 solutions found.\n"
     ]
    },
    {
     "data": {
      "text/plain": [
       "([{'ACKr': -1.0,\n",
       "   'FRD2': -1.0,\n",
       "   'GLCt2pp': -1.0,\n",
       "   'LacEx': -1.0,\n",
       "   'MDH': -1.0,\n",
       "   'POX': -1.0,\n",
       "   'PPS': -1.0},\n",
       "  {'ACKr': -1.0,\n",
       "   'GLCt2pp': -1.0,\n",
       "   'LacEx': -1.0,\n",
       "   'MDH': -1.0,\n",
       "   'NADH17pp': -1.0,\n",
       "   'POX': -1.0,\n",
       "   'PPS': -1.0},\n",
       "  {'FUM': -1.0,\n",
       "   'HEX1': -1.0,\n",
       "   'LDH_D': -1.0,\n",
       "   'MALS': -1.0,\n",
       "   'POX': -1.0,\n",
       "   'PPS': -1.0,\n",
       "   'PTAr': -1.0},\n",
       "  {'ACKr': -1.0,\n",
       "   'FUM': -1.0,\n",
       "   'HEX1': -1.0,\n",
       "   'LDH_D': -1.0,\n",
       "   'MALS': -1.0,\n",
       "   'POX': -1.0,\n",
       "   'PPS': -1.0},\n",
       "  {'AcEx': -1.0,\n",
       "   'FRD2': -1.0,\n",
       "   'LDH_D': -1.0,\n",
       "   'MDH': -1.0,\n",
       "   'PGI': -1.0,\n",
       "   'PPS': -1.0,\n",
       "   'TKT1': -1.0},\n",
       "  {'AcEx': -1.0,\n",
       "   'LDH_D': -1.0,\n",
       "   'MDH': -1.0,\n",
       "   'NADH17pp': -1.0,\n",
       "   'PGI': -1.0,\n",
       "   'PPS': -1.0,\n",
       "   'TKT1': -1.0},\n",
       "  {'GND': -1.0,\n",
       "   'ICL': -1.0,\n",
       "   'LDH_D': -1.0,\n",
       "   'MDH': -1.0,\n",
       "   'PGI': -1.0,\n",
       "   'POX': -1.0,\n",
       "   'PPS': -1.0,\n",
       "   'PTAr': -1.0},\n",
       "  {'AcEx': -1.0,\n",
       "   'FRD2': -1.0,\n",
       "   'GLCt2pp': -1.0,\n",
       "   'LacEx': -1.0,\n",
       "   'MDH': -1.0,\n",
       "   'PPS': -1.0},\n",
       "  {'AcEx': -1.0,\n",
       "   'GLCt2pp': -1.0,\n",
       "   'LacEx': -1.0,\n",
       "   'MDH': -1.0,\n",
       "   'NADH17pp': -1.0,\n",
       "   'PPS': -1.0},\n",
       "  {'FUM': -1.0,\n",
       "   'HEX1': -1.0,\n",
       "   'LDH_D': -1.0,\n",
       "   'MDH': -1.0,\n",
       "   'POX': -1.0,\n",
       "   'PPS': -1.0,\n",
       "   'PTAr': -1.0}],\n",
       " 0)"
      ]
     },
     "execution_count": 13,
     "metadata": {},
     "output_type": "execute_result"
    }
   ],
   "source": [
    "%autoreload\n",
    "# load network\n",
    "network = cobra.io.read_sbml_model(\"ECC2comp.sbml\")\n",
    "# remove external metabolites and obsolete reactions\n",
    "external_mets = [i for i,cpts in zip(network.metabolites,network.metabolites.list_attr(\"compartment\")) if cpts == 'External_Species']\n",
    "network.remove_metabolites(external_mets)\n",
    "S = cobra.util.create_stoichiometric_matrix(network)\n",
    "obsolete_reacs = [reac for reac,b_rempty in zip(network.reactions,np.any(S,0)) if not b_rempty]\n",
    "network.remove_reactions(obsolete_reacs)\n",
    "# close some uptakes\n",
    "network.reactions.AcUp.upper_bound = 0\n",
    "network.reactions.SuccUp.upper_bound = 0\n",
    "network.reactions.GlycUp.upper_bound = 0\n",
    "network.reactions.CO2Up = 0\n",
    "network.reactions.ATPM.upper_bound = 1000\n",
    "network.reactions.ATPM.lower_bound = 3.15\n",
    "# for i in enumerate(network.reactions)\n",
    "\n",
    "# sol = mcs.fba(network,constr=[\"O2Up=0\"])\n",
    "# sol1 = mcs.fba(network,constr=['AcEx = 0','ATPS4rpp = 0', 'G3PD5= 0', 'NADTRHD= 0', 'PFL= 0', 'PYK= 0', 'SuccEx= 0', 'SUCCt2_2pp= 0'])\n",
    "# sol2 = mcs.fva(network,constr=['Growth = '+str(0.999*sol1.objective_value),'AcEx = 0','ATPS4rpp = 0', 'G3PD5= 0', 'NADTRHD= 0', 'PFL= 0', 'PYK= 0', 'SuccEx= 0', 'SUCCt2_2pp= 0'])\n",
    "\n",
    "# specify modules\n",
    "modules = mcs.SD_Module(network,\"optcouple\",constraints=[\"Growth >= 0.2\",\"EthEx >= 1\"],inner_objective=\"Growth\",prod_id=\"EthEx\",min_gcp=0.4)\n",
    "\n",
    "# specify MCS setup\n",
    "maxSolutions = 10\n",
    "maxCost = 15\n",
    "solver = 'scip'\n",
    "\n",
    "# construct MCS MILP\n",
    "mcsEnum = mcs.StrainDesigner(network,modules,max_cost=maxCost,M=None, solver=solver)\n",
    "\n",
    "# solve MILP\n",
    "mcsEnum.compute(max_solutions=maxSolutions)\n",
    "# mcsEnum.compute_optimal(max_solutions=maxSolutions)\n",
    "# mcsEnum.enumerate(max_solutions=maxSolutions)"
   ]
  }
 ],
 "metadata": {
  "interpreter": {
   "hash": "c6cb88db6456a5d9db25cf91966766d45a3aee345dd42db13a70c45805ef0614"
  },
  "kernelspec": {
   "display_name": "Python 3.7.12 64-bit ('cnapy-dev': conda)",
   "language": "python",
   "name": "python3"
  },
  "language_info": {
   "codemirror_mode": {
    "name": "ipython",
    "version": 3
   },
   "file_extension": ".py",
   "mimetype": "text/x-python",
   "name": "python",
   "nbconvert_exporter": "python",
   "pygments_lexer": "ipython3",
   "version": "3.7.12"
  },
  "orig_nbformat": 4
 },
 "nbformat": 4,
 "nbformat_minor": 2
}
