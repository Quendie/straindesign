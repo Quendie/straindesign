{
 "cells": [
  {
   "cell_type": "markdown",
   "metadata": {},
   "source": [
    "# Title of this Jupyter Notebook"
   ]
  },
  {
   "cell_type": "markdown",
   "metadata": {},
   "source": [
    "Import cobrapy and straindesigner packages"
   ]
  },
  {
   "cell_type": "code",
   "execution_count": 1,
   "metadata": {},
   "outputs": [],
   "source": [
    "from cobra.test import create_test_model\n",
    "import straindesign as sd"
   ]
  },
  {
   "cell_type": "markdown",
   "metadata": {},
   "source": [
    "Load e_coli_core"
   ]
  },
  {
   "cell_type": "code",
   "execution_count": 2,
   "metadata": {},
   "outputs": [
    {
     "name": "stdout",
     "output_type": "stream",
     "text": [
      "Set parameter Username\n",
      "\n",
      "--------------------------------------------\n",
      "Warning: your license will expire in 8 days\n",
      "--------------------------------------------\n",
      "\n",
      "Academic license - for non-commercial use only - expires 2022-05-16\n"
     ]
    }
   ],
   "source": [
    "model = create_test_model('textbook')"
   ]
  },
  {
   "cell_type": "markdown",
   "metadata": {},
   "source": [
    "Perform an FBA with the model's original objective function"
   ]
  },
  {
   "cell_type": "code",
   "execution_count": 56,
   "metadata": {},
   "outputs": [
    {
     "name": "stdout",
     "output_type": "stream",
     "text": [
      "Maximization of the model's objective function \n",
      "'1.0*Biomass_Ecoli_core - 1.0*Biomass_Ecoli_core_reverse_2cdba'\n",
      " returns a value of: 0.873921506968\n"
     ]
    }
   ],
   "source": [
    "sol = sd.fba(model)\n",
    "\n",
    "print(\"Maximization of the model's objective function \\n'\"+\\\n",
    "      str(model.objective.expression)+\"'\\n returns a value of: \"+\\\n",
    "      str(sol.objective_value))"
   ]
  },
  {
   "cell_type": "markdown",
   "metadata": {},
   "source": [
    "Additional constraints can be considered in the flux optimization"
   ]
  },
  {
   "cell_type": "code",
   "execution_count": 63,
   "metadata": {},
   "outputs": [
    {
     "name": "stdout",
     "output_type": "stream",
     "text": [
      "The maximal growth rate under anaerobic conditions is limited to \n",
      "'0.211662949735 1/h\n"
     ]
    }
   ],
   "source": [
    "sol = sd.fba(model,constraints='EX_o2_e = 0')\n",
    "\n",
    "print(\"The maximal growth rate under anaerobic conditions is limited to \\n'\"+\\\n",
    "       str(sol.objective_value)+\" 1/h\")"
   ]
  },
  {
   "cell_type": "markdown",
   "metadata": {},
   "source": [
    "The model may also be optimized towards an individual objective function. Here a single reaction identifier may be used (but also any other linear expression written as a string or formalized as a dict of reaction ids and coefficients)."
   ]
  },
  {
   "cell_type": "code",
   "execution_count": 64,
   "metadata": {},
   "outputs": [
    {
     "name": "stdout",
     "output_type": "stream",
     "text": [
      "Maximization of EX_ac_e'\n",
      " returns a value of: 20.000000000003\n"
     ]
    }
   ],
   "source": [
    "objective = 'EX_ac_e'\n",
    "sol = sd.fba(model,obj=objective)\n",
    "\n",
    "print(\"Maximization of \"+str(objective)+\"'\\n returns a value of: \"+\\\n",
    "      str(sol.objective_value))"
   ]
  },
  {
   "cell_type": "markdown",
   "metadata": {},
   "source": [
    "Additionally, flux constraints may be taken into account in the flux optimization. Here, we determine the minimal necessary glucose uptake rate to satisfy an ATP Maintenance demand of 10 mmol/gCDW/h."
   ]
  },
  {
   "cell_type": "code",
   "execution_count": 65,
   "metadata": {},
   "outputs": [
    {
     "name": "stdout",
     "output_type": "stream",
     "text": [
      "A glucose uptake rate of at least 0.571428571427' is required\n",
      "to satisfy the ATP maintenance demand.\n"
     ]
    }
   ],
   "source": [
    "objective = '-EX_glc__D_e' # Here a negative coefficient is set to account for the reaction's direction\n",
    "sol = sd.fba(model,obj=objective,constraints='ATPM = 10',obj_sense='minimize')\n",
    "\n",
    "print(\"A glucose uptake rate of at least \"+str(sol.objective_value)+\"' is required\\n\" +\\\n",
    "      \"to satisfy the ATP maintenance demand.\")"
   ]
  },
  {
   "cell_type": "code",
   "execution_count": 68,
   "metadata": {},
   "outputs": [
    {
     "name": "stdout",
     "output_type": "stream",
     "text": [
      "Maximization of the model's objective function \n",
      "'1.0*Biomass_Ecoli_core - 1.0*Biomass_Ecoli_core_reverse_2cdba'\n",
      " returns a value of: 0.873921506968\n"
     ]
    }
   ],
   "source": [
    "sol = sd.fba(model, pfba=True)\n",
    "\n",
    "print(\"Maximization of the model's objective function \\n'\"+\\\n",
    "      str(model.objective.expression)+\"'\\n returns a value of: \"+\\\n",
    "      str(sol.objective_value))"
   ]
  },
  {
   "cell_type": "code",
   "execution_count": 5,
   "metadata": {},
   "outputs": [
    {
     "name": "stdout",
     "output_type": "stream",
     "text": [
      "pFBA mode 0:\n",
      "number of active reactions :54\n",
      "sum of fluxes :102.27813709172348\n",
      "--\n",
      "pFBA mode 1:\n",
      "number of active reactions :54\n",
      "sum of fluxes :102.27813709172361\n",
      "--\n",
      "pFBA mode 2:\n",
      "  MILP Seed: 79032961\n",
      "number of active reactions :54\n",
      "sum of fluxes :102.27813709172365\n",
      "--\n"
     ]
    }
   ],
   "source": [
    "iJO1366 = create_test_model('textbook')\n",
    "for i in [0,1,2]: # pFBA off (0), classic (1), milp (2)\n",
    "    print('pFBA mode '+str(i)+':')\n",
    "    sol = sd.fba(iJO1366, constraints='EX_o2_e=-1, EX_etoh_e=3', pfba=i)\n",
    "    print('number of active reactions :'+str(sum([v!=0.0 for v in sol.fluxes.values()])))\n",
    "    print('sum of fluxes :'+str(sum([v for v in sol.fluxes.values()])))\n",
    "    print('--')"
   ]
  }
 ],
 "metadata": {
  "interpreter": {
   "hash": "40840ada0bdb41347cdab32a8f88a66263362ece5c18d8918a04ec9048381560"
  },
  "kernelspec": {
   "display_name": "Python 3.9.7 ('cnapy-dev')",
   "language": "python",
   "name": "python3"
  },
  "language_info": {
   "codemirror_mode": {
    "name": "ipython",
    "version": 3
   },
   "file_extension": ".py",
   "mimetype": "text/x-python",
   "name": "python",
   "nbconvert_exporter": "python",
   "pygments_lexer": "ipython3",
   "version": "3.9.7"
  },
  "orig_nbformat": 4
 },
 "nbformat": 4,
 "nbformat_minor": 2
}
