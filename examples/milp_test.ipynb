{
 "cells": [
  {
   "cell_type": "code",
   "execution_count": 19,
   "metadata": {},
   "outputs": [],
   "source": [
    "%autoreload\n",
    "# %autoreload\n",
    "import mcs\n",
    "from scipy import sparse\n",
    "import numpy as np\n",
    "\n",
    "c = [1]\n",
    "A_ineq = sparse.csr_matrix([1])\n",
    "b_ineq = [1.5]\n",
    "A_eq = sparse.csr_matrix([1])\n",
    "b_eq = [1]\n",
    "lb = [-np.inf]\n",
    "ub = [ np.inf]\n",
    "\n",
    "lp_feas = mcs.MILP_LP(c=c, A_ineq=A_ineq,b_ineq=b_ineq,A_eq=A_eq,b_eq=b_eq,lb=lb,ub=ub,solver='scip')\n",
    "opt = lp_feas.slim_solve()\n",
    "x, min_cx, status = lp_feas.solve()\n",
    "\n",
    "lp_unbd = mcs.MILP_LP(c=c, A_ineq=A_ineq,b_ineq=b_ineq,lb=lb,ub=ub,solver='scip')\n",
    "opt = lp_unbd.slim_solve()\n",
    "x, min_cx, status = lp_unbd.solve()\n",
    "\n",
    "c = [0]\n",
    "A_ineq = sparse.csr_matrix([-1])\n",
    "b_ineq = [-1.5]\n",
    "lp_noopt = mcs.MILP_LP(c=c, A_ineq=A_ineq,b_ineq=b_ineq,lb=lb,ub=ub,solver='scip')\n",
    "opt = lp_noopt.slim_solve()\n",
    "x, min_cx, status = lp_noopt.solve()\n",
    "\n",
    "c = [-1]\n",
    "A_ineq = sparse.csr_matrix([-1])\n",
    "b_ineq = [-1.5]\n",
    "lp_infeas = mcs.MILP_LP(c=c, A_ineq=A_ineq,b_ineq=b_ineq,A_eq=A_eq,b_eq=b_eq,lb=lb,ub=ub,solver='scip')\n",
    "opt = lp_infeas.slim_solve()\n",
    "x, min_cx, status = lp_infeas.solve()"
   ]
  },
  {
   "cell_type": "code",
   "execution_count": 1,
   "metadata": {},
   "outputs": [],
   "source": [
    "%load_ext autoreload\n",
    "from scipy import sparse\n",
    "import numpy as np\n",
    "from importlib import reload\n",
    "import mcs"
   ]
  },
  {
   "cell_type": "code",
   "execution_count": 12,
   "metadata": {},
   "outputs": [],
   "source": [
    "# example setup (default: minimize)\n",
    "# main problem\n",
    "c = [-1,0,0,0]\n",
    "A_ineq = sparse.csr_matrix([[1,1,0,0],[-1,0,0,0]])\n",
    "b_ineq = [3,-1]\n",
    "A_eq = sparse.csr_matrix([[0,1,0,0]])\n",
    "b_eq = [0.6]\n",
    "lb = [1,0,0,0]\n",
    "ub = [np.inf, np.inf, 1, 1]\n",
    "vtype = 'CCBB'\n",
    "# indicator constraints\n",
    "ic_binv = [2,3]\n",
    "ic_A = sparse.csr_matrix([[1,1,0,0],[1,0,0,0]])\n",
    "ic_b = [0,1.2]\n",
    "ic_sense = \"LE\"\n",
    "ic_indicval = [1,0]\n",
    "indic_constr = mcs.Indicator_constraints(ic_binv, ic_A, ic_b, ic_sense, ic_indicval)"
   ]
  },
  {
   "cell_type": "code",
   "execution_count": 13,
   "metadata": {},
   "outputs": [
    {
     "name": "stdout",
     "output_type": "stream",
     "text": [
      "presolving:\n",
      "(round 1, fast)       3 del vars, 4 del conss, 0 add conss, 5 chg bounds, 0 chg sides, 0 chg coeffs, 0 upgd conss, 2 impls, 0 clqs\n",
      "(round 2, fast)       4 del vars, 7 del conss, 0 add conss, 6 chg bounds, 0 chg sides, 0 chg coeffs, 0 upgd conss, 2 impls, 0 clqs\n",
      "(round 3, fast)       4 del vars, 7 del conss, 0 add conss, 12 chg bounds, 0 chg sides, 0 chg coeffs, 0 upgd conss, 2 impls, 0 clqs\n",
      "(round 4, fast)       7 del vars, 10 del conss, 0 add conss, 12 chg bounds, 0 chg sides, 0 chg coeffs, 0 upgd conss, 2 impls, 0 clqs\n",
      "   Deactivated symmetry handling methods, since SCIP was built without symmetry detector (SYM=none).\n",
      "presolving (5 rounds: 5 fast, 1 medium, 1 exhaustive):\n",
      " 8 deleted vars, 10 deleted constraints, 0 added constraints, 12 tightened bounds, 0 added holes, 0 changed sides, 0 changed coefficients\n",
      " 2 implications, 0 cliques\n",
      "transformed 1/1 original solutions to the transformed problem space\n",
      "Presolving Time: 0.00\n",
      "\n",
      "SCIP Status        : problem is solved [optimal solution found]\n",
      "Solving Time (sec) : 0.00\n",
      "Solving Nodes      : 0\n",
      "Primal Bound       : -2.40000000000000e+00 (1 solutions)\n",
      "Dual Bound         : -2.40000000000000e+00\n",
      "Gap                : 0.00 %\n",
      "Solution status =  0\n",
      "Solution value  =  -2.4\n",
      "{'x0': 2.4, 'x1': 0.6, 'x2': 0, 'x3': 1}\n"
     ]
    }
   ],
   "source": [
    "%autoreload\n",
    "my_prob = mcs.MILP_LP(  c=c,\n",
    "                        A_ineq=A_ineq,\n",
    "                        b_ineq=b_ineq,\n",
    "                        A_eq=A_eq,\n",
    "                        b_eq=b_eq,\n",
    "                        lb=lb,\n",
    "                        ub=ub,\n",
    "                        vtype=vtype, \n",
    "                        indic_constr=indic_constr,\n",
    "                        solver='scip')\n",
    "x, opt_cx, status = my_prob.solve()\n",
    "# solution.get_status() returns an integer code\n",
    "print(\"Solution status = \", str(status))\n",
    "# the following line prints the corresponding string\n",
    "print(\"Solution value  = \", str(round(opt_cx,5)))\n",
    "sol = {'x'+str(i) : round(x[i],5) for i in range(len(x))}\n",
    "print(sol)"
   ]
  },
  {
   "cell_type": "code",
   "execution_count": 53,
   "metadata": {},
   "outputs": [
    {
     "name": "stdout",
     "output_type": "stream",
     "text": [
      "The autoreload extension is already loaded. To reload it, use:\n",
      "  %reload_ext autoreload\n"
     ]
    }
   ],
   "source": [
    "%load_ext autoreload\n",
    "import cobra\n",
    "from importlib import reload\n",
    "ecc2 = cobra.io.read_sbml_model(\"ECC2comp.sbml\")\n",
    "iml1515 = cobra.io.read_sbml_model(\"iML1515.sbml\")"
   ]
  },
  {
   "cell_type": "code",
   "execution_count": 1,
   "metadata": {},
   "outputs": [],
   "source": [
    "%load_ext autoreload\n",
    "import cobra\n",
    "import numpy as np\n",
    "from scipy import sparse\n",
    "from mcs import compress_model\n",
    "def remove_ext_mets(network):\n",
    "    external_mets = [i for i,cpts in zip(network.metabolites,network.metabolites.list_attr(\"compartment\")) if cpts == 'External_Species']\n",
    "    network.remove_metabolites(external_mets)\n",
    "    S = cobra.util.create_stoichiometric_matrix(network)\n",
    "    obsolete_reacs = [reac for reac,b_rempty in zip(network.reactions,np.any(S,0)) if not b_rempty]\n",
    "    network.remove_reactions(obsolete_reacs)\n",
    "    return network\n"
   ]
  },
  {
   "cell_type": "code",
   "execution_count": 6,
   "metadata": {},
   "outputs": [
    {
     "name": "stdout",
     "output_type": "stream",
     "text": [
      "<Solution 15.000 at 0x18e0aa18ac8>\n",
      "22\n",
      "<Solution 15.000 at 0x18e0a96bfc8>\n",
      "10\n",
      "<Solution 15.000 at 0x18e0a631988>\n",
      "9\n",
      "<Solution 15.000 at 0x18e0aa96088>\n",
      "8\n",
      "<Solution 15.000 at 0x18e0a9a8948>\n",
      "7\n",
      "<Solution 15.000 at 0x18e0a984448>\n",
      "7\n"
     ]
    }
   ],
   "source": [
    "%autoreload\n",
    "import efmtool_link.efmtool4cobra as efm\n",
    "from mcs import fba,compress_model,compress_model_parallel\n",
    "efmlrs = cobra.io.read_sbml_model(\"efmlrs.sbml\")\n",
    "print(fba(efmlrs))\n",
    "print(len(efmlrs.reactions))\n",
    "a = compress_model(efmlrs,['r02','r08'])\n",
    "print(fba(efmlrs))\n",
    "print(len(efmlrs.reactions))\n",
    "b = compress_model_parallel(efmlrs, ['r02','r08'])\n",
    "print(fba(efmlrs))\n",
    "print(len(efmlrs.reactions))\n",
    "c = compress_model(efmlrs,['r02','r08'])\n",
    "print(fba(efmlrs))\n",
    "print(len(efmlrs.reactions))\n",
    "d = compress_model_parallel(efmlrs, ['r02','r08'])\n",
    "print(fba(efmlrs))\n",
    "print(len(efmlrs.reactions))\n",
    "e = compress_model(efmlrs,['r02','r08'])\n",
    "print(fba(efmlrs))\n",
    "print(len(efmlrs.reactions))\n",
    "# a = efm.compress_model_sympy(efmlrs)\n",
    "\n",
    "# compress_model(efmlrs,['Growth','EthEx'])"
   ]
  },
  {
   "cell_type": "code",
   "execution_count": 8,
   "metadata": {},
   "outputs": [
    {
     "name": "stdout",
     "output_type": "stream",
     "text": [
      "<Solution 2.375 at 0x2127f44b7c8>\n",
      "122\n",
      "<Solution 2.375 at 0x2127f446c48>\n",
      "70\n",
      "<Solution 2.375 at 0x2127f9dee08>\n",
      "70\n",
      "<Solution 2.375 at 0x2121e386d08>\n",
      "70\n",
      "<Solution 2.375 at 0x2127f4268c8>\n",
      "70\n",
      "<Solution 2.375 at 0x2121e3c8e08>\n",
      "70\n"
     ]
    }
   ],
   "source": [
    "%autoreload\n",
    "import efmtool_link.efmtool4cobra as efm\n",
    "from mcs import fba,remove_blocked_reactions,compress_model,compress_model_parallel,stoichmat_coeff2rational,remove_conservation_relations\n",
    "ecc2 = cobra.io.read_sbml_model(\"ECC2comp.sbml\")\n",
    "\n",
    "bound_thres = 1000\n",
    "for i in range(len(ecc2.reactions)):\n",
    "    if ecc2.reactions[i].lower_bound <= -bound_thres:\n",
    "        ecc2.reactions[i].lower_bound = -np.inf\n",
    "    if ecc2.reactions[i].upper_bound >=  bound_thres:\n",
    "        ecc2.reactions[i].upper_bound =  np.inf\n",
    "\n",
    "remove_blocked_reactions(ecc2)\n",
    "stoichmat_coeff2rational(ecc2)\n",
    "remove_conservation_relations(ecc2)\n",
    "\n",
    "print(fba(ecc2,solver='cplex'))\n",
    "print(len(ecc2.reactions))\n",
    "a = compress_model(ecc2,['Growth','EthEx'])\n",
    "print(fba(ecc2,solver='cplex'))\n",
    "print(len(ecc2.reactions))\n",
    "b = compress_model_parallel(ecc2, ['Growth','EthEx'])\n",
    "print(fba(ecc2,solver='cplex'))\n",
    "print(len(ecc2.reactions))\n",
    "c = compress_model(ecc2,['Growth','EthEx'])\n",
    "print(fba(ecc2,solver='cplex'))\n",
    "print(len(ecc2.reactions))\n",
    "d = compress_model_parallel(ecc2, ['Growth','EthEx'])\n",
    "print(fba(ecc2,solver='cplex'))\n",
    "print(len(ecc2.reactions))\n",
    "e = compress_model(ecc2, ['Growth','EthEx'])\n",
    "print(fba(ecc2,solver='cplex'))\n",
    "print(len(ecc2.reactions))"
   ]
  },
  {
   "cell_type": "code",
   "execution_count": 4,
   "metadata": {},
   "outputs": [
    {
     "name": "stdout",
     "output_type": "stream",
     "text": [
      "<Solution 0.982 at 0x2127f9afbc8>\n",
      "499\n"
     ]
    },
    {
     "ename": "AttributeError",
     "evalue": "'float' object has no attribute 'p'",
     "output_type": "error",
     "traceback": [
      "\u001b[1;31m---------------------------------------------------------------------------\u001b[0m",
      "\u001b[1;31mAttributeError\u001b[0m                            Traceback (most recent call last)",
      "\u001b[1;32m~\\AppData\\Local\\Temp\\ipykernel_20360\\936905937.py\u001b[0m in \u001b[0;36m<module>\u001b[1;34m\u001b[0m\n\u001b[0;32m     20\u001b[0m \u001b[0mprint\u001b[0m\u001b[1;33m(\u001b[0m\u001b[0mlen\u001b[0m\u001b[1;33m(\u001b[0m\u001b[0mecc2\u001b[0m\u001b[1;33m.\u001b[0m\u001b[0mreactions\u001b[0m\u001b[1;33m)\u001b[0m\u001b[1;33m)\u001b[0m\u001b[1;33m\u001b[0m\u001b[1;33m\u001b[0m\u001b[0m\n\u001b[0;32m     21\u001b[0m \u001b[0mtic\u001b[0m \u001b[1;33m=\u001b[0m \u001b[0mtime\u001b[0m\u001b[1;33m.\u001b[0m\u001b[0mtime\u001b[0m\u001b[1;33m(\u001b[0m\u001b[1;33m)\u001b[0m\u001b[1;33m\u001b[0m\u001b[1;33m\u001b[0m\u001b[0m\n\u001b[1;32m---> 22\u001b[1;33m \u001b[0ma\u001b[0m \u001b[1;33m=\u001b[0m \u001b[0mcompress_model\u001b[0m\u001b[1;33m(\u001b[0m\u001b[0mecc2\u001b[0m\u001b[1;33m,\u001b[0m\u001b[1;33m[\u001b[0m\u001b[1;34m'Ec_biomass_iJO1366_core_53p95M'\u001b[0m\u001b[1;33m,\u001b[0m\u001b[1;34m'EX_etoh_e'\u001b[0m\u001b[1;33m,\u001b[0m\u001b[1;34m'EX_ac_e'\u001b[0m\u001b[1;33m]\u001b[0m\u001b[1;33m)\u001b[0m\u001b[1;33m\u001b[0m\u001b[1;33m\u001b[0m\u001b[0m\n\u001b[0m\u001b[0;32m     23\u001b[0m \u001b[0mprint\u001b[0m\u001b[1;33m(\u001b[0m\u001b[0mfba\u001b[0m\u001b[1;33m(\u001b[0m\u001b[0mecc2\u001b[0m\u001b[1;33m)\u001b[0m\u001b[1;33m)\u001b[0m\u001b[1;33m\u001b[0m\u001b[1;33m\u001b[0m\u001b[0m\n\u001b[0;32m     24\u001b[0m \u001b[0mprint\u001b[0m\u001b[1;33m(\u001b[0m\u001b[0mlen\u001b[0m\u001b[1;33m(\u001b[0m\u001b[0mecc2\u001b[0m\u001b[1;33m.\u001b[0m\u001b[0mreactions\u001b[0m\u001b[1;33m)\u001b[0m\u001b[1;33m)\u001b[0m\u001b[1;33m\u001b[0m\u001b[1;33m\u001b[0m\u001b[0m\n",
      "\u001b[1;32mc:\\users\\phili\\documents\\python\\mcs\\mcs\\strainDesigner.py\u001b[0m in \u001b[0;36mcompress_model\u001b[1;34m(model, protected_rxns)\u001b[0m\n\u001b[0;32m    103\u001b[0m         \u001b[1;31m# have to use _metabolites because metabolites gives only a copy\u001b[0m\u001b[1;33m\u001b[0m\u001b[1;33m\u001b[0m\u001b[1;33m\u001b[0m\u001b[0m\n\u001b[0;32m    104\u001b[0m         \u001b[1;32mfor\u001b[0m \u001b[0mk\u001b[0m\u001b[1;33m,\u001b[0m \u001b[0mv\u001b[0m \u001b[1;32min\u001b[0m \u001b[0mmodel\u001b[0m\u001b[1;33m.\u001b[0m\u001b[0mreactions\u001b[0m\u001b[1;33m[\u001b[0m\u001b[0mi\u001b[0m\u001b[1;33m]\u001b[0m\u001b[1;33m.\u001b[0m\u001b[0m_metabolites\u001b[0m\u001b[1;33m.\u001b[0m\u001b[0mitems\u001b[0m\u001b[1;33m(\u001b[0m\u001b[1;33m)\u001b[0m\u001b[1;33m:\u001b[0m\u001b[1;33m\u001b[0m\u001b[1;33m\u001b[0m\u001b[0m\n\u001b[1;32m--> 105\u001b[1;33m             \u001b[0mn\u001b[0m\u001b[1;33m,\u001b[0m \u001b[0md\u001b[0m \u001b[1;33m=\u001b[0m \u001b[0mefm\u001b[0m\u001b[1;33m.\u001b[0m\u001b[0msympyRat2jBigIntegerPair\u001b[0m\u001b[1;33m(\u001b[0m\u001b[0mv\u001b[0m\u001b[1;33m)\u001b[0m\u001b[1;33m\u001b[0m\u001b[1;33m\u001b[0m\u001b[0m\n\u001b[0m\u001b[0;32m    106\u001b[0m             \u001b[0mstoich_mat\u001b[0m\u001b[1;33m.\u001b[0m\u001b[0msetValueAt\u001b[0m\u001b[1;33m(\u001b[0m\u001b[0mmodel\u001b[0m\u001b[1;33m.\u001b[0m\u001b[0mmetabolites\u001b[0m\u001b[1;33m.\u001b[0m\u001b[0mindex\u001b[0m\u001b[1;33m(\u001b[0m\u001b[0mk\u001b[0m\u001b[1;33m.\u001b[0m\u001b[0mid\u001b[0m\u001b[1;33m)\u001b[0m\u001b[1;33m,\u001b[0m \u001b[0mi\u001b[0m\u001b[1;33m,\u001b[0m \u001b[0mefm\u001b[0m\u001b[1;33m.\u001b[0m\u001b[0mBigFraction\u001b[0m\u001b[1;33m(\u001b[0m\u001b[0mn\u001b[0m\u001b[1;33m,\u001b[0m \u001b[0md\u001b[0m\u001b[1;33m)\u001b[0m\u001b[1;33m)\u001b[0m\u001b[1;33m\u001b[0m\u001b[1;33m\u001b[0m\u001b[0m\n\u001b[0;32m    107\u001b[0m     \u001b[1;31m# initialize compressor\u001b[0m\u001b[1;33m\u001b[0m\u001b[1;33m\u001b[0m\u001b[1;33m\u001b[0m\u001b[0m\n",
      "\u001b[1;32mc:\\users\\phili\\documents\\python\\efmtool_link\\efmtool_link\\efmtool4cobra.py\u001b[0m in \u001b[0;36msympyRat2jBigIntegerPair\u001b[1;34m(val)\u001b[0m\n\u001b[0;32m    215\u001b[0m \u001b[1;33m\u001b[0m\u001b[0m\n\u001b[0;32m    216\u001b[0m \u001b[1;32mdef\u001b[0m \u001b[0msympyRat2jBigIntegerPair\u001b[0m\u001b[1;33m(\u001b[0m\u001b[0mval\u001b[0m\u001b[1;33m)\u001b[0m\u001b[1;33m:\u001b[0m\u001b[1;33m\u001b[0m\u001b[1;33m\u001b[0m\u001b[0m\n\u001b[1;32m--> 217\u001b[1;33m     \u001b[0mnumer\u001b[0m \u001b[1;33m=\u001b[0m \u001b[0mval\u001b[0m\u001b[1;33m.\u001b[0m\u001b[0mp\u001b[0m \u001b[1;31m# numerator\u001b[0m\u001b[1;33m\u001b[0m\u001b[1;33m\u001b[0m\u001b[0m\n\u001b[0m\u001b[0;32m    218\u001b[0m     \u001b[1;32mif\u001b[0m \u001b[0mnumer\u001b[0m\u001b[1;33m.\u001b[0m\u001b[0mbit_length\u001b[0m\u001b[1;33m(\u001b[0m\u001b[1;33m)\u001b[0m \u001b[1;33m<=\u001b[0m \u001b[1;36m63\u001b[0m\u001b[1;33m:\u001b[0m\u001b[1;33m\u001b[0m\u001b[1;33m\u001b[0m\u001b[0m\n\u001b[0;32m    219\u001b[0m         \u001b[0mnumer\u001b[0m \u001b[1;33m=\u001b[0m \u001b[0mBigInteger\u001b[0m\u001b[1;33m.\u001b[0m\u001b[0mvalueOf\u001b[0m\u001b[1;33m(\u001b[0m\u001b[0mnumer\u001b[0m\u001b[1;33m)\u001b[0m\u001b[1;33m\u001b[0m\u001b[1;33m\u001b[0m\u001b[0m\n",
      "\u001b[1;31mAttributeError\u001b[0m: 'float' object has no attribute 'p'"
     ]
    }
   ],
   "source": [
    "%autoreload\n",
    "import efmtool_link.efmtool4cobra as efm\n",
    "import time\n",
    "from mcs import fba,compress_model,compress_model_parallel\n",
    "ecc2 = cobra.io.read_sbml_model(\"ECC2.sbml\")\n",
    "external_mets = [i for i,cpts in zip(ecc2.metabolites,ecc2.metabolites.list_attr(\"compartment\")) if cpts == 'External_Species']\n",
    "ecc2.remove_metabolites(external_mets)\n",
    "S = cobra.util.create_stoichiometric_matrix(ecc2)\n",
    "obsolete_reacs = [reac for reac,b_rempty in zip(ecc2.reactions,np.any(S,0)) if not b_rempty]\n",
    "ecc2.remove_reactions(obsolete_reacs)\n",
    "\n",
    "bound_thres = 1000\n",
    "for i in range(len(ecc2.reactions)):\n",
    "    if ecc2.reactions[i].lower_bound <= -bound_thres:\n",
    "        ecc2.reactions[i].lower_bound = -np.inf\n",
    "    if ecc2.reactions[i].upper_bound >=  bound_thres:\n",
    "        ecc2.reactions[i].upper_bound =  np.inf\n",
    "\n",
    "\n",
    "print(fba(ecc2))\n",
    "print(len(ecc2.reactions))\n",
    "tic = time.time()\n",
    "a = compress_model(ecc2,['Ec_biomass_iJO1366_core_53p95M','EX_etoh_e','EX_ac_e'])\n",
    "print(fba(ecc2))\n",
    "print(len(ecc2.reactions))\n",
    "print(time.time() - tic)\n",
    "tic = time.time()\n",
    "b = compress_model_parallel(ecc2, ['Ec_biomass_iJO1366_core_53p95M','EX_etoh_e','EX_ac_e'])\n",
    "print(fba(ecc2))\n",
    "print(len(ecc2.reactions))\n",
    "print(time.time() - tic)\n",
    "tic = time.time()\n",
    "c = compress_model(ecc2,['Ec_biomass_iJO1366_core_53p95M','EX_etoh_e','EX_ac_e'])\n",
    "print(fba(ecc2))\n",
    "print(len(ecc2.reactions))\n",
    "print(time.time() - tic)\n",
    "tic = time.time()\n",
    "d = compress_model_parallel(ecc2, ['Ec_biomass_iJO1366_core_53p95M','EX_etoh_e','EX_ac_e'])\n",
    "print(fba(ecc2))\n",
    "print(len(ecc2.reactions))\n",
    "print(time.time() - tic)\n",
    "tic = time.time()\n",
    "e = compress_model(ecc2, ['Ec_biomass_iJO1366_core_53p95M','EX_etoh_e','EX_ac_e'])\n",
    "print(fba(ecc2))\n",
    "print(len(ecc2.reactions))\n",
    "print(time.time() - tic)"
   ]
  },
  {
   "cell_type": "code",
   "execution_count": 3,
   "metadata": {},
   "outputs": [
    {
     "name": "stdout",
     "output_type": "stream",
     "text": [
      "<Solution 0.877 at 0x2121de2d8c8>\n",
      "2711\n",
      "<Solution 0.877 at 0x2127fad6048>\n",
      "1246\n",
      "287.4889974594116\n",
      "<Solution 0.877 at 0x2121e326308>\n",
      "1227\n",
      "7.871450662612915\n",
      "<Solution 0.877 at 0x2121e046c08>\n",
      "1218\n",
      "15.99288296699524\n",
      "<Solution 0.877 at 0x2127fb056c8>\n",
      "1215\n",
      "8.681232690811157\n"
     ]
    },
    {
     "ename": "KeyError",
     "evalue": "'BIOMASS_Ec_iML1515_core_75p37M'",
     "output_type": "error",
     "traceback": [
      "\u001b[1;31m---------------------------------------------------------------------------\u001b[0m",
      "\u001b[1;31mKeyError\u001b[0m                                  Traceback (most recent call last)",
      "\u001b[1;32m~\\AppData\\Local\\Temp\\ipykernel_20360\\796555408.py\u001b[0m in \u001b[0;36m<module>\u001b[1;34m\u001b[0m\n\u001b[0;32m     40\u001b[0m \u001b[0mprint\u001b[0m\u001b[1;33m(\u001b[0m\u001b[0mtime\u001b[0m\u001b[1;33m.\u001b[0m\u001b[0mtime\u001b[0m\u001b[1;33m(\u001b[0m\u001b[1;33m)\u001b[0m \u001b[1;33m-\u001b[0m \u001b[0mtic\u001b[0m\u001b[1;33m)\u001b[0m\u001b[1;33m\u001b[0m\u001b[1;33m\u001b[0m\u001b[0m\n\u001b[0;32m     41\u001b[0m \u001b[0mtic\u001b[0m \u001b[1;33m=\u001b[0m \u001b[0mtime\u001b[0m\u001b[1;33m.\u001b[0m\u001b[0mtime\u001b[0m\u001b[1;33m(\u001b[0m\u001b[1;33m)\u001b[0m\u001b[1;33m\u001b[0m\u001b[1;33m\u001b[0m\u001b[0m\n\u001b[1;32m---> 42\u001b[1;33m \u001b[0me\u001b[0m \u001b[1;33m=\u001b[0m \u001b[0mcompress_model\u001b[0m\u001b[1;33m(\u001b[0m\u001b[0miml\u001b[0m\u001b[1;33m,\u001b[0m \u001b[1;33m[\u001b[0m\u001b[1;34m'BIOMASS_Ec_iML1515_core_75p37M'\u001b[0m\u001b[1;33m,\u001b[0m\u001b[1;34m'EX_etoh_e'\u001b[0m\u001b[1;33m,\u001b[0m\u001b[1;34m'EX_ac_e'\u001b[0m\u001b[1;33m]\u001b[0m\u001b[1;33m)\u001b[0m\u001b[1;33m\u001b[0m\u001b[1;33m\u001b[0m\u001b[0m\n\u001b[0m\u001b[0;32m     43\u001b[0m \u001b[0mprint\u001b[0m\u001b[1;33m(\u001b[0m\u001b[0mfba\u001b[0m\u001b[1;33m(\u001b[0m\u001b[0miml\u001b[0m\u001b[1;33m)\u001b[0m\u001b[1;33m)\u001b[0m\u001b[1;33m\u001b[0m\u001b[1;33m\u001b[0m\u001b[0m\n\u001b[0;32m     44\u001b[0m \u001b[0mprint\u001b[0m\u001b[1;33m(\u001b[0m\u001b[0mlen\u001b[0m\u001b[1;33m(\u001b[0m\u001b[0miml\u001b[0m\u001b[1;33m.\u001b[0m\u001b[0mreactions\u001b[0m\u001b[1;33m)\u001b[0m\u001b[1;33m)\u001b[0m\u001b[1;33m\u001b[0m\u001b[1;33m\u001b[0m\u001b[0m\n",
      "\u001b[1;32mc:\\users\\phili\\documents\\python\\mcs\\mcs\\strainDesigner.py\u001b[0m in \u001b[0;36mcompress_model\u001b[1;34m(model, protected_rxns)\u001b[0m\n\u001b[0;32m     81\u001b[0m     \u001b[0mno_lump_aux_reac\u001b[0m \u001b[1;33m=\u001b[0m \u001b[1;33m[\u001b[0m\u001b[1;33m]\u001b[0m\u001b[1;33m\u001b[0m\u001b[1;33m\u001b[0m\u001b[0m\n\u001b[0;32m     82\u001b[0m     \u001b[1;32mfor\u001b[0m \u001b[0ms\u001b[0m \u001b[1;32min\u001b[0m \u001b[0mprotected_rxns\u001b[0m\u001b[1;33m:\u001b[0m\u001b[1;33m\u001b[0m\u001b[1;33m\u001b[0m\u001b[0m\n\u001b[1;32m---> 83\u001b[1;33m         \u001b[0mreac\u001b[0m \u001b[1;33m=\u001b[0m \u001b[0mmodel\u001b[0m\u001b[1;33m.\u001b[0m\u001b[0mreactions\u001b[0m\u001b[1;33m.\u001b[0m\u001b[0mget_by_id\u001b[0m\u001b[1;33m(\u001b[0m\u001b[0ms\u001b[0m\u001b[1;33m)\u001b[0m\u001b[1;33m.\u001b[0m\u001b[0mcopy\u001b[0m\u001b[1;33m(\u001b[0m\u001b[1;33m)\u001b[0m\u001b[1;33m\u001b[0m\u001b[1;33m\u001b[0m\u001b[0m\n\u001b[0m\u001b[0;32m     84\u001b[0m         \u001b[0mreac\u001b[0m\u001b[1;33m.\u001b[0m\u001b[0mid\u001b[0m \u001b[1;33m=\u001b[0m \u001b[1;34m'no_lump_'\u001b[0m\u001b[1;33m+\u001b[0m\u001b[0ms\u001b[0m\u001b[1;33m\u001b[0m\u001b[1;33m\u001b[0m\u001b[0m\n\u001b[0;32m     85\u001b[0m         \u001b[0mno_lump_aux_reac\u001b[0m \u001b[1;33m+=\u001b[0m \u001b[1;33m[\u001b[0m\u001b[0mreac\u001b[0m\u001b[1;33m.\u001b[0m\u001b[0mid\u001b[0m\u001b[1;33m]\u001b[0m\u001b[1;33m\u001b[0m\u001b[1;33m\u001b[0m\u001b[0m\n",
      "\u001b[1;32m~\\anaconda3\\envs\\cnapy-dev\\lib\\site-packages\\cobra\\core\\dictlist.py\u001b[0m in \u001b[0;36mget_by_id\u001b[1;34m(self, id)\u001b[0m\n\u001b[0;32m     55\u001b[0m     \u001b[1;32mdef\u001b[0m \u001b[0mget_by_id\u001b[0m\u001b[1;33m(\u001b[0m\u001b[0mself\u001b[0m\u001b[1;33m,\u001b[0m \u001b[0mid\u001b[0m\u001b[1;33m)\u001b[0m\u001b[1;33m:\u001b[0m\u001b[1;33m\u001b[0m\u001b[1;33m\u001b[0m\u001b[0m\n\u001b[0;32m     56\u001b[0m         \u001b[1;34m\"\"\"return the element with a matching id\"\"\"\u001b[0m\u001b[1;33m\u001b[0m\u001b[1;33m\u001b[0m\u001b[0m\n\u001b[1;32m---> 57\u001b[1;33m         \u001b[1;32mreturn\u001b[0m \u001b[0mlist\u001b[0m\u001b[1;33m.\u001b[0m\u001b[0m__getitem__\u001b[0m\u001b[1;33m(\u001b[0m\u001b[0mself\u001b[0m\u001b[1;33m,\u001b[0m \u001b[0mself\u001b[0m\u001b[1;33m.\u001b[0m\u001b[0m_dict\u001b[0m\u001b[1;33m[\u001b[0m\u001b[0mid\u001b[0m\u001b[1;33m]\u001b[0m\u001b[1;33m)\u001b[0m\u001b[1;33m\u001b[0m\u001b[1;33m\u001b[0m\u001b[0m\n\u001b[0m\u001b[0;32m     58\u001b[0m \u001b[1;33m\u001b[0m\u001b[0m\n\u001b[0;32m     59\u001b[0m     \u001b[1;32mdef\u001b[0m \u001b[0mlist_attr\u001b[0m\u001b[1;33m(\u001b[0m\u001b[0mself\u001b[0m\u001b[1;33m,\u001b[0m \u001b[0mattribute\u001b[0m\u001b[1;33m)\u001b[0m\u001b[1;33m:\u001b[0m\u001b[1;33m\u001b[0m\u001b[1;33m\u001b[0m\u001b[0m\n",
      "\u001b[1;31mKeyError\u001b[0m: 'BIOMASS_Ec_iML1515_core_75p37M'"
     ]
    }
   ],
   "source": [
    "%autoreload\n",
    "import efmtool_link.efmtool4cobra as efm\n",
    "import time\n",
    "from mcs import fba,compress_model,remove_blocked_reactions,compress_model_parallel,stoichmat_coeff2rational,remove_conservation_relations\n",
    "iml = cobra.io.read_sbml_model(\"iML1515.sbml\")\n",
    "\n",
    "bound_thres = 1000\n",
    "for i in range(len(iml.reactions)):\n",
    "    if iml.reactions[i].lower_bound <= -bound_thres:\n",
    "        iml.reactions[i].lower_bound = -np.inf\n",
    "    if iml.reactions[i].upper_bound >=  bound_thres:\n",
    "        iml.reactions[i].upper_bound =  np.inf\n",
    "\n",
    "remove_blocked_reactions(iml)\n",
    "stoichmat_coeff2rational(iml)\n",
    "remove_conservation_relations(iml)\n",
    "\n",
    "# BIOMASS_Ec_iML1515_core_75p37M\n",
    "print(fba(iml))\n",
    "print(len(iml.reactions))\n",
    "tic = time.time()\n",
    "a = compress_model(iml,['EX_etoh_e','EX_ac_e'])\n",
    "print(fba(iml))\n",
    "print(len(iml.reactions))\n",
    "print(time.time() - tic)\n",
    "tic = time.time()\n",
    "b = compress_model_parallel(iml, ['EX_etoh_e','EX_ac_e'])\n",
    "print(fba(iml))\n",
    "print(len(iml.reactions))\n",
    "print(time.time() - tic)\n",
    "tic = time.time()\n",
    "c = compress_model(iml,['EX_etoh_e','EX_ac_e'])\n",
    "print(fba(iml))\n",
    "print(len(iml.reactions))\n",
    "print(time.time() - tic)\n",
    "tic = time.time()\n",
    "d = compress_model_parallel(iml, ['EX_etoh_e','EX_ac_e'])\n",
    "print(fba(iml))\n",
    "print(len(iml.reactions))\n",
    "print(time.time() - tic)\n",
    "tic = time.time()\n",
    "e = compress_model(iml, ['BIOMASS_Ec_iML1515_core_75p37M','EX_etoh_e','EX_ac_e'])\n",
    "print(fba(iml))\n",
    "print(len(iml.reactions))\n",
    "print(time.time() - tic)"
   ]
  },
  {
   "cell_type": "code",
   "execution_count": 8,
   "metadata": {},
   "outputs": [
    {
     "ename": "TypeError",
     "evalue": "unhashable type: 'list'",
     "output_type": "error",
     "traceback": [
      "\u001b[1;31m---------------------------------------------------------------------------\u001b[0m",
      "\u001b[1;31mTypeError\u001b[0m                                 Traceback (most recent call last)",
      "\u001b[1;32m~\\AppData\\Local\\Temp\\ipykernel_15836\\1471059148.py\u001b[0m in \u001b[0;36m<module>\u001b[1;34m\u001b[0m\n\u001b[0;32m      1\u001b[0m \u001b[0mget_ipython\u001b[0m\u001b[1;33m(\u001b[0m\u001b[1;33m)\u001b[0m\u001b[1;33m.\u001b[0m\u001b[0mrun_line_magic\u001b[0m\u001b[1;33m(\u001b[0m\u001b[1;34m'autoreload'\u001b[0m\u001b[1;33m,\u001b[0m \u001b[1;34m''\u001b[0m\u001b[1;33m)\u001b[0m\u001b[1;33m\u001b[0m\u001b[1;33m\u001b[0m\u001b[0m\n\u001b[1;32m----> 2\u001b[1;33m \u001b[0mb\u001b[0m \u001b[1;33m=\u001b[0m \u001b[0mcompress_model_parallel\u001b[0m\u001b[1;33m(\u001b[0m\u001b[0miml\u001b[0m\u001b[1;33m,\u001b[0m \u001b[1;33m[\u001b[0m\u001b[1;34m'BIOMASS_Ec_iML1515_core_75p37M'\u001b[0m\u001b[1;33m,\u001b[0m\u001b[1;34m'EX_etoh_e'\u001b[0m\u001b[1;33m,\u001b[0m\u001b[1;34m'EX_ac_e'\u001b[0m\u001b[1;33m]\u001b[0m\u001b[1;33m)\u001b[0m\u001b[1;33m\u001b[0m\u001b[1;33m\u001b[0m\u001b[0m\n\u001b[0m",
      "\u001b[1;32mc:\\users\\phili\\documents\\python\\mcs\\mcs\\strainDesigner.py\u001b[0m in \u001b[0;36mcompress_model_parallel\u001b[1;34m(model, protected_rxns)\u001b[0m\n\u001b[0;32m    180\u001b[0m     \u001b[0mprev_found\u001b[0m \u001b[1;33m=\u001b[0m \u001b[1;33m[\u001b[0m\u001b[1;33m]\u001b[0m\u001b[1;33m\u001b[0m\u001b[1;33m\u001b[0m\u001b[0m\n\u001b[0;32m    181\u001b[0m     \u001b[0mprotected\u001b[0m \u001b[1;33m=\u001b[0m \u001b[1;33m[\u001b[0m\u001b[1;32mTrue\u001b[0m \u001b[1;32mif\u001b[0m \u001b[0mr\u001b[0m\u001b[1;33m.\u001b[0m\u001b[0mid\u001b[0m \u001b[1;32min\u001b[0m \u001b[0mprotected_rxns\u001b[0m \u001b[1;32melse\u001b[0m \u001b[1;32mFalse\u001b[0m \u001b[1;32mfor\u001b[0m \u001b[0mr\u001b[0m \u001b[1;32min\u001b[0m \u001b[0mmodel\u001b[0m\u001b[1;33m.\u001b[0m\u001b[0mreactions\u001b[0m\u001b[1;33m]\u001b[0m\u001b[1;33m\u001b[0m\u001b[1;33m\u001b[0m\u001b[0m\n\u001b[1;32m--> 182\u001b[1;33m     \u001b[0mhashes\u001b[0m \u001b[1;33m=\u001b[0m \u001b[1;33m[\u001b[0m\u001b[0mhash\u001b[0m\u001b[1;33m(\u001b[0m\u001b[1;33m(\u001b[0m\u001b[1;33m[\u001b[0m\u001b[0mA\u001b[0m\u001b[1;33m[\u001b[0m\u001b[0mi\u001b[0m\u001b[1;33m]\u001b[0m\u001b[1;33m.\u001b[0m\u001b[0mindices\u001b[0m\u001b[1;33m]\u001b[0m\u001b[1;33m,\u001b[0m\u001b[1;33m[\u001b[0m\u001b[0mA\u001b[0m\u001b[1;33m[\u001b[0m\u001b[0mi\u001b[0m\u001b[1;33m]\u001b[0m\u001b[1;33m.\u001b[0m\u001b[0mdata\u001b[0m\u001b[1;33m]\u001b[0m\u001b[1;33m)\u001b[0m\u001b[1;33m)\u001b[0m \u001b[1;32mfor\u001b[0m \u001b[0mi\u001b[0m \u001b[1;32min\u001b[0m \u001b[0mrange\u001b[0m\u001b[1;33m(\u001b[0m\u001b[0mA\u001b[0m\u001b[1;33m.\u001b[0m\u001b[0mshape\u001b[0m\u001b[1;33m[\u001b[0m\u001b[1;36m0\u001b[0m\u001b[1;33m]\u001b[0m\u001b[1;33m)\u001b[0m\u001b[1;33m]\u001b[0m\u001b[1;33m\u001b[0m\u001b[1;33m\u001b[0m\u001b[0m\n\u001b[0m\u001b[0;32m    183\u001b[0m     \u001b[1;32mfor\u001b[0m \u001b[0mi\u001b[0m \u001b[1;32min\u001b[0m \u001b[0mrange\u001b[0m\u001b[1;33m(\u001b[0m\u001b[0mA\u001b[0m\u001b[1;33m.\u001b[0m\u001b[0mshape\u001b[0m\u001b[1;33m[\u001b[0m\u001b[1;36m0\u001b[0m\u001b[1;33m]\u001b[0m\u001b[1;33m)\u001b[0m\u001b[1;33m:\u001b[0m\u001b[1;33m\u001b[0m\u001b[1;33m\u001b[0m\u001b[0m\n\u001b[0;32m    184\u001b[0m         \u001b[1;32mif\u001b[0m \u001b[0mi\u001b[0m \u001b[1;32min\u001b[0m \u001b[0mprev_found\u001b[0m\u001b[1;33m:\u001b[0m \u001b[1;31m# if reaction was already found to be identical to another one, skip.\u001b[0m\u001b[1;33m\u001b[0m\u001b[1;33m\u001b[0m\u001b[0m\n",
      "\u001b[1;32mc:\\users\\phili\\documents\\python\\mcs\\mcs\\strainDesigner.py\u001b[0m in \u001b[0;36m<listcomp>\u001b[1;34m(.0)\u001b[0m\n\u001b[0;32m    180\u001b[0m     \u001b[0mprev_found\u001b[0m \u001b[1;33m=\u001b[0m \u001b[1;33m[\u001b[0m\u001b[1;33m]\u001b[0m\u001b[1;33m\u001b[0m\u001b[1;33m\u001b[0m\u001b[0m\n\u001b[0;32m    181\u001b[0m     \u001b[0mprotected\u001b[0m \u001b[1;33m=\u001b[0m \u001b[1;33m[\u001b[0m\u001b[1;32mTrue\u001b[0m \u001b[1;32mif\u001b[0m \u001b[0mr\u001b[0m\u001b[1;33m.\u001b[0m\u001b[0mid\u001b[0m \u001b[1;32min\u001b[0m \u001b[0mprotected_rxns\u001b[0m \u001b[1;32melse\u001b[0m \u001b[1;32mFalse\u001b[0m \u001b[1;32mfor\u001b[0m \u001b[0mr\u001b[0m \u001b[1;32min\u001b[0m \u001b[0mmodel\u001b[0m\u001b[1;33m.\u001b[0m\u001b[0mreactions\u001b[0m\u001b[1;33m]\u001b[0m\u001b[1;33m\u001b[0m\u001b[1;33m\u001b[0m\u001b[0m\n\u001b[1;32m--> 182\u001b[1;33m     \u001b[0mhashes\u001b[0m \u001b[1;33m=\u001b[0m \u001b[1;33m[\u001b[0m\u001b[0mhash\u001b[0m\u001b[1;33m(\u001b[0m\u001b[1;33m(\u001b[0m\u001b[1;33m[\u001b[0m\u001b[0mA\u001b[0m\u001b[1;33m[\u001b[0m\u001b[0mi\u001b[0m\u001b[1;33m]\u001b[0m\u001b[1;33m.\u001b[0m\u001b[0mindices\u001b[0m\u001b[1;33m]\u001b[0m\u001b[1;33m,\u001b[0m\u001b[1;33m[\u001b[0m\u001b[0mA\u001b[0m\u001b[1;33m[\u001b[0m\u001b[0mi\u001b[0m\u001b[1;33m]\u001b[0m\u001b[1;33m.\u001b[0m\u001b[0mdata\u001b[0m\u001b[1;33m]\u001b[0m\u001b[1;33m)\u001b[0m\u001b[1;33m)\u001b[0m \u001b[1;32mfor\u001b[0m \u001b[0mi\u001b[0m \u001b[1;32min\u001b[0m \u001b[0mrange\u001b[0m\u001b[1;33m(\u001b[0m\u001b[0mA\u001b[0m\u001b[1;33m.\u001b[0m\u001b[0mshape\u001b[0m\u001b[1;33m[\u001b[0m\u001b[1;36m0\u001b[0m\u001b[1;33m]\u001b[0m\u001b[1;33m)\u001b[0m\u001b[1;33m]\u001b[0m\u001b[1;33m\u001b[0m\u001b[1;33m\u001b[0m\u001b[0m\n\u001b[0m\u001b[0;32m    183\u001b[0m     \u001b[1;32mfor\u001b[0m \u001b[0mi\u001b[0m \u001b[1;32min\u001b[0m \u001b[0mrange\u001b[0m\u001b[1;33m(\u001b[0m\u001b[0mA\u001b[0m\u001b[1;33m.\u001b[0m\u001b[0mshape\u001b[0m\u001b[1;33m[\u001b[0m\u001b[1;36m0\u001b[0m\u001b[1;33m]\u001b[0m\u001b[1;33m)\u001b[0m\u001b[1;33m:\u001b[0m\u001b[1;33m\u001b[0m\u001b[1;33m\u001b[0m\u001b[0m\n\u001b[0;32m    184\u001b[0m         \u001b[1;32mif\u001b[0m \u001b[0mi\u001b[0m \u001b[1;32min\u001b[0m \u001b[0mprev_found\u001b[0m\u001b[1;33m:\u001b[0m \u001b[1;31m# if reaction was already found to be identical to another one, skip.\u001b[0m\u001b[1;33m\u001b[0m\u001b[1;33m\u001b[0m\u001b[0m\n",
      "\u001b[1;31mTypeError\u001b[0m: unhashable type: 'list'"
     ]
    }
   ],
   "source": [
    "%autoreload\n",
    "b = compress_model_parallel(iml, ['BIOMASS_Ec_iML1515_core_75p37M','EX_etoh_e','EX_ac_e'])\n"
   ]
  },
  {
   "cell_type": "code",
   "execution_count": 5,
   "metadata": {},
   "outputs": [
    {
     "name": "stdout",
     "output_type": "stream",
     "text": [
      "           minimum     maximum\n",
      "CYTDK2    0.000000  228.140000\n",
      "XPPT      0.000000  114.070000\n",
      "HXPRT     0.000000  114.070000\n",
      "NDPK5   -76.922791  114.070000\n",
      "SHK3Dr    0.000000    5.635459\n",
      "...            ...         ...\n",
      "MPTS      0.000000   -0.000000\n",
      "MOCOS     0.000000   -0.000000\n",
      "BMOGDS2   0.000000   -0.000000\n",
      "FESD2s    0.000000   -0.000000\n",
      "OCTNLL    0.000000   -0.000000\n",
      "\n",
      "[2712 rows x 2 columns]\n"
     ]
    }
   ],
   "source": [
    "%autoreload\n",
    "import mcs\n",
    "from mcs import fva,fba\n",
    "import cProfile\n",
    "reload(mcs)\n",
    "# opt = ecc2.optimize()\n",
    "# print(opt)\n",
    "# cProfile.runctx(\"fba(iml1515,solver='scip')\",globals(),locals())\n",
    "# opt2 = fba(iml1515,solver='scip')\n",
    "# print(opt2)\n",
    "# opt3 = cobra.flux_analysis.variability.flux_variability_analysis(iml1515)\n",
    "# print(opt3)\n",
    "# cProfile.runctx(\"mcs.fva(iml1515)\",globals(),locals())\n",
    "opt4 = fva(iml1515, solver='cplex')\n",
    "print(opt4)\n",
    "# cProfile.runctx()"
   ]
  }
 ],
 "metadata": {
  "interpreter": {
   "hash": "c6cb88db6456a5d9db25cf91966766d45a3aee345dd42db13a70c45805ef0614"
  },
  "kernelspec": {
   "display_name": "Python 3.7.12 64-bit ('cnapy-dev': conda)",
   "language": "python",
   "name": "python3"
  },
  "language_info": {
   "codemirror_mode": {
    "name": "ipython",
    "version": 3
   },
   "file_extension": ".py",
   "mimetype": "text/x-python",
   "name": "python",
   "nbconvert_exporter": "python",
   "pygments_lexer": "ipython3",
   "version": "3.7.12"
  },
  "orig_nbformat": 4
 },
 "nbformat": 4,
 "nbformat_minor": 2
}
