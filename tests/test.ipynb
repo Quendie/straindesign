{
 "cells": [
  {
   "cell_type": "code",
   "execution_count": 1,
   "metadata": {},
   "outputs": [],
   "source": [
    "import straindesign as sd\n",
    "import cobra\n",
    "import logging"
   ]
  },
  {
   "cell_type": "markdown",
   "metadata": {},
   "source": [
    "Load toy model:"
   ]
  },
  {
   "cell_type": "code",
   "execution_count": 2,
   "metadata": {},
   "outputs": [],
   "source": [
    "toy_model = cobra.io.read_sbml_model('model_small_example.xml')\n",
    "toy_model.solver = 'cplex'\n",
    "modules = [sd.SDModule(toy_model, sd.names.SUPPRESS, constraints='R4 >= 0.01')]"
   ]
  },
  {
   "cell_type": "markdown",
   "metadata": {},
   "source": [
    "MCS computation with all KOs possible"
   ]
  },
  {
   "cell_type": "code",
   "execution_count": 3,
   "metadata": {},
   "outputs": [
    {
     "name": "stdout",
     "output_type": "stream",
     "text": [
      "{'R1': -1.0}\n",
      "{'R3': -1.0}\n",
      "{'R4': -1.0}\n",
      "{'R7': -1.0}\n",
      "{'R10': -1.0}\n",
      "{'R6': -1.0, 'R8': -1.0}\n",
      "{'R2': -1.0, 'R5': -1.0, 'R6': -1.0}\n"
     ]
    },
    {
     "data": {
      "text/plain": [
       "[None, None, None, None, None, None, None]"
      ]
     },
     "execution_count": 3,
     "metadata": {},
     "output_type": "execute_result"
    }
   ],
   "source": [
    "sols1 = sd.compute_strain_designs(toy_model, sd_modules = modules)\n",
    "[print(s) for s in sols1.get_reaction_sd()]"
   ]
  },
  {
   "cell_type": "markdown",
   "metadata": {},
   "source": [
    "MCS computation with some KOs possible"
   ]
  },
  {
   "cell_type": "code",
   "execution_count": 9,
   "metadata": {},
   "outputs": [
    {
     "data": {
      "text/plain": [
       "[]"
      ]
     },
     "execution_count": 9,
     "metadata": {},
     "output_type": "execute_result"
    }
   ],
   "source": [
    "logging.basicConfig(level=logging.INFO)\n",
    "sols2 = sd.compute_strain_designs(toy_model, sd_modules = modules, ko_cost={'R6':1,'R8':1}, M=999, solver='cplex',solution_approach='best', compress=False)\n",
    "[print(s) for s in sols2.get_reaction_sd()]"
   ]
  }
 ],
 "metadata": {
  "kernelspec": {
   "display_name": "Python 3",
   "language": "python",
   "name": "python3"
  },
  "language_info": {
   "codemirror_mode": {
    "name": "ipython",
    "version": 3
   },
   "file_extension": ".py",
   "mimetype": "text/x-python",
   "name": "python",
   "nbconvert_exporter": "python",
   "pygments_lexer": "ipython3",
   "version": "3.11.5"
  }
 },
 "nbformat": 4,
 "nbformat_minor": 2
}
