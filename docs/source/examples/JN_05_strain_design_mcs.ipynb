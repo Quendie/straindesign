{
 "cells": [
  {
   "cell_type": "markdown",
   "metadata": {},
   "source": [
    "# Minimal Cut Sets\n"
   ]
  },
  {
   "cell_type": "markdown",
   "metadata": {},
   "source": [
    "## Example Network"
   ]
  },
  {
   "cell_type": "code",
   "execution_count": 14,
   "metadata": {},
   "outputs": [
    {
     "ename": "TypeError",
     "evalue": "'SDSolution' object is not iterable",
     "output_type": "error",
     "traceback": [
      "\u001b[1;31m---------------------------------------------------------------------------\u001b[0m",
      "\u001b[1;31mTypeError\u001b[0m                                 Traceback (most recent call last)",
      "\u001b[1;32mc:\\Users\\Philipp\\Documents\\Python\\straindesign\\docs\\source\\examples\\JN_05_strain_design_mcs.ipynb Cell 3'\u001b[0m in \u001b[0;36m<cell line: 9>\u001b[1;34m()\u001b[0m\n\u001b[0;32m      <a href='vscode-notebook-cell:/c%3A/Users/Philipp/Documents/Python/straindesign/docs/source/examples/JN_05_strain_design_mcs.ipynb#ch0000004?line=5'>6</a>\u001b[0m modules \u001b[39m+\u001b[39m\u001b[39m=\u001b[39m  [sd\u001b[39m.\u001b[39mSDModule(model,sd\u001b[39m.\u001b[39mnames\u001b[39m.\u001b[39mSUPPRESS,constraints\u001b[39m=\u001b[39m\u001b[39m'\u001b[39m\u001b[39mR4 <= 1\u001b[39m\u001b[39m'\u001b[39m)]\n\u001b[0;32m      <a href='vscode-notebook-cell:/c%3A/Users/Philipp/Documents/Python/straindesign/docs/source/examples/JN_05_strain_design_mcs.ipynb#ch0000004?line=7'>8</a>\u001b[0m sols \u001b[39m=\u001b[39m sd\u001b[39m.\u001b[39mcompute_strain_designs(model,sd_modules \u001b[39m=\u001b[39m modules)\n\u001b[1;32m----> <a href='vscode-notebook-cell:/c%3A/Users/Philipp/Documents/Python/straindesign/docs/source/examples/JN_05_strain_design_mcs.ipynb#ch0000004?line=8'>9</a>\u001b[0m \u001b[39mfor\u001b[39;00m s \u001b[39min\u001b[39;00m sols:\n\u001b[0;32m     <a href='vscode-notebook-cell:/c%3A/Users/Philipp/Documents/Python/straindesign/docs/source/examples/JN_05_strain_design_mcs.ipynb#ch0000004?line=9'>10</a>\u001b[0m     \u001b[39mprint\u001b[39m(s\u001b[39m.\u001b[39msd_solutions)\n",
      "\u001b[1;31mTypeError\u001b[0m: 'SDSolution' object is not iterable"
     ]
    }
   ],
   "source": [
    "import straindesign as sd\n",
    "import cobra\n",
    "model = cobra.io.read_sbml_model('../../../tests/model_small_example.xml')\n",
    "\n",
    "modules =   [sd.SDModule(model,sd.names.PROTECT, constraints='R3 >= 1')]\n",
    "modules +=  [sd.SDModule(model,sd.names.SUPPRESS,constraints='R4 <= 1')]\n",
    "\n",
    "sols = sd.compute_strain_designs(model,sd_modules = modules)\n",
    "for s in sols:\n",
    "    print(s.sd_solutions)"
   ]
  },
  {
   "cell_type": "markdown",
   "metadata": {},
   "source": [
    "## Computing synthetic lethals"
   ]
  },
  {
   "cell_type": "markdown",
   "metadata": {},
   "source": [
    "## Computing production strain designs"
   ]
  }
 ],
 "metadata": {
  "interpreter": {
   "hash": "50a36e699ca3834a05ca1bd86fc5b7db4829f1cbbb3e27f51544575d88525899"
  },
  "kernelspec": {
   "display_name": "Python 3.9.7 ('cnapy-dev')",
   "language": "python",
   "name": "python3"
  },
  "language_info": {
   "codemirror_mode": {
    "name": "ipython",
    "version": 3
   },
   "file_extension": ".py",
   "mimetype": "text/x-python",
   "name": "python",
   "nbconvert_exporter": "python",
   "pygments_lexer": "ipython3",
   "version": "3.9.7"
  },
  "orig_nbformat": 4
 },
 "nbformat": 4,
 "nbformat_minor": 2
}
