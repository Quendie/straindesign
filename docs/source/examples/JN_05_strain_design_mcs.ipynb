{
 "cells": [
  {
   "cell_type": "markdown",
   "metadata": {},
   "source": [
    "# Minimal Cut Sets (MCS)\n",
    "\n",
    "The minimal cut set approach aims to find a minimum set of network intervetions that enforce some pre-definde behavior in a metabolic network. It may be used to suppress growth, suppress or enforce the synthesis of a certain product or to couple or decouple metabolic fluxes."
   ]
  },
  {
   "cell_type": "markdown",
   "metadata": {},
   "source": [
    "For the shown examples, we again load the COBRApy and the StrainDesign packages. As well as the small E. coli textbook-network \"e_coli_core\" and the example network \"SmallExample\"."
   ]
  },
  {
   "cell_type": "code",
   "execution_count": 1,
   "metadata": {},
   "outputs": [
    {
     "name": "stdout",
     "output_type": "stream",
     "text": [
      "Set parameter Username\n",
      "Academic license - for non-commercial use only - expires 2022-07-13\n"
     ]
    }
   ],
   "source": [
    "import straindesign as sd\n",
    "import cobra\n",
    "\n",
    "ecc = cobra.io.load_model('e_coli_core')\n",
    "model = cobra.io.read_sbml_model('../../../tests/model_small_example.xml')"
   ]
  },
  {
   "cell_type": "markdown",
   "metadata": {},
   "source": [
    "## Example 1: Strain designs with a minimum product yield (1,4-BDO)\n",
    "\n",
    "We may use the MCS approach to generate strain designs with a guaranteed minimum yield of 1,4-butanediol (1,4-BDO) on glucose. The following steps show how the function ``compute_strain_designs`` is employed to find MCS strain designs:\n",
    "1) The production pathways, i.e., their metabolites and reactions are added to the model.\n",
    "2) Analysis tools are used to identify adequate strain design goals. \n",
    "3) Set up the according strain design problem by specifying two strain design *modules*, one that demand the suppression of flux states with low product yields, the other one protecting the functions that are essential for bacterial growth.\n",
    "4) The strain design function is called, passing the model and the strain design module as function arguments.\n",
    "5) The results are analyzed.\n",
    "\n",
    "##### 1) Add and verify production pathway"
   ]
  },
  {
   "cell_type": "code",
   "execution_count": 2,
   "metadata": {},
   "outputs": [
    {
     "name": "stdout",
     "output_type": "stream",
     "text": [
      "Read LP format model from file C:\\Users\\Philipp\\AppData\\Local\\Temp\\tmpgln1jpn_.lp\n",
      "Reading time = 0.02 seconds\n",
      ": 72 rows, 190 columns, 720 nonzeros\n",
      "Maximum possible 1,4-BDO synthesis rate: 10.239127272727272.\n"
     ]
    }
   ],
   "source": [
    "# Create copy of model to which pathway will be added\n",
    "ecc_14bdo = ecc.copy()\n",
    "\n",
    "# Add metabolites to model\n",
    "ecc_14bdo.add_metabolites([ cobra.Metabolite('sucsal_c'),# Succinic semialdehyde\n",
    "                            cobra.Metabolite('4hb_c'),   # 4-Hydroxybutanoate\n",
    "                            cobra.Metabolite('4hbcoa_c'),# 4-Hydroxybutyryl-CoA\n",
    "                            cobra.Metabolite('4hbal_c'), # 4-Hydroxybutanal\n",
    "                            cobra.Metabolite('14bdo_c'), # Butane-1,4-diol (cytopl.)\n",
    "                            cobra.Metabolite('14bdo_p'), # Butane-1,4-diol (peripl.)\n",
    "                            cobra.Metabolite('14bdo_e')  # Butane-1,4-diol (extrac.)\n",
    "                            ])\n",
    "\n",
    "# Create reactions\n",
    "SSCOARx    = cobra.Reaction('SSCOARx')\n",
    "# AKGDC      = cobra.Reaction('AKGDC')\n",
    "HBD        = cobra.Reaction('4HBD')\n",
    "HBCT       = cobra.Reaction('4HBCT')\n",
    "HBDH       = cobra.Reaction('4HBDH')\n",
    "HBDx       = cobra.Reaction('4HBDx')\n",
    "BDOtpp     = cobra.Reaction('14BDOtpp')\n",
    "BDOtex     = cobra.Reaction('14BDOtex')\n",
    "EX_14bdo_e = cobra.Reaction('EX_14bdo_e')\n",
    "\n",
    "# Add reactions to model\n",
    "ecc_14bdo.add_reactions([SSCOARx,\n",
    "                        #  AKGDC,\n",
    "                         HBD,\n",
    "                         HBCT,\n",
    "                         HBDH,\n",
    "                         HBDx,\n",
    "                         BDOtpp,\n",
    "                         BDOtex,\n",
    "                         EX_14bdo_e])\n",
    "\n",
    "# Define reaction equations\n",
    "SSCOARx.reaction    = '1 h_c + 1 nadph_c + 1 succoa_c -> 1 coa_c + 1 nadp_c + 1 sucsal_c'\n",
    "# AKGDC.reaction      = '1 akg_c + 1 h_c                -> 1 co2_c + 1 sucsal_c'\n",
    "HBD.reaction        = '1 h_c + 1 nadh_c + 1 sucsal_c  -> 1 4hb_c + 1 nad_c'\n",
    "HBCT.reaction       = '1 4hb_c + 1 accoa_c            -> 1 4hbcoa_c + 1 ac_c'\n",
    "HBDH.reaction       = '1 4hbcoa_c + 1 h_c + 1 nadh_c  -> 1 4hbal_c + 1 coa_c + 1 nad_c'\n",
    "HBDx.reaction       = '1 4hbal_c + 1 h_c + 1 nadh_c   -> 1 14bdo_c + 1 nad_c'\n",
    "BDOtpp.reaction     = '1 14bdo_c                      -> 1 14bdo_p'\n",
    "BDOtex.reaction     = '1 14bdo_p                      -> 1 14bdo_e'\n",
    "EX_14bdo_e.reaction = '1 14bdo_e                      ->'\n",
    "\n",
    "# Verify that pathway is operational\n",
    "sol = sd.fba(ecc_14bdo,obj='EX_14bdo_e',obj_sense='max')\n",
    "print(f\"Maximum possible 1,4-BDO synthesis rate: {sol.objective_value}.\")"
   ]
  },
  {
   "cell_type": "markdown",
   "metadata": {},
   "source": [
    "##### 2) Analyze model and outline realistic strain design goals\n",
    "\n",
    "We may plot the relationship between growth and product yield to get a feel for the production potential."
   ]
  },
  {
   "cell_type": "code",
   "execution_count": 6,
   "metadata": {},
   "outputs": [
    {
     "data": {
      "image/png": "[encoded data removed]",
      "text/plain": [
       "<Figure size 432x288 with 1 Axes>"
      ]
     },
     "metadata": {
      "needs_background": "light"
     },
     "output_type": "display_data"
    }
   ],
   "source": [
    "sd.plot_flux_space(ecc_14bdo, ('BIOMASS_Ecoli_core_w_GAM',('EX_14bdo_e','-EX_glc__D_e')));"
   ]
  },
  {
   "cell_type": "markdown",
   "metadata": {},
   "source": [
    "Bacterial growth seems to compete with 1,4-BDO production. The maximum theoretical 1,4-BDO yield, is slightly above 1. We may now try to set realistic strain design goals. Assuming that knockout sets can be found the force a product yield above 0.3, while a growth rate of 0.15 is still attainable, we can specify according flux subspaces for protection or deletion through inequalities.\n",
    "\n",
    "Since we decided to enforce a yield above 0.3, we aim to suppress all flux states with a yied inferior to this. Hence, we can describe the subspace of undesired fluxes with the inequality:\n",
    "$$\\frac{v_{1,4-BDO}}{v_{Glc,up}} \\le 0.3$$\n",
    "which can be linearized unter the assumption that $v_{Glc_up}>0$ to:\n",
    "$$v_{1,4-BDO} - 0.3\\, v_{Glc,up} \\le 0$$\n",
    "\n",
    "The flux states, which we aim to protect (at least partically) can be described by:\n",
    "$$v_{Growth} \\ge 0.15$$\n",
    "\n",
    "We can use the plotting functen to visualize the flux subspaces that we would like to suppress (orange) or protect (green)."
   ]
  },
  {
   "cell_type": "code",
   "execution_count": 4,
   "metadata": {},
   "outputs": [
    {
     "data": {
      "image/png": "[encoded data removed]",
      "text/plain": [
       "<Figure size 432x288 with 1 Axes>"
      ]
     },
     "metadata": {
      "needs_background": "light"
     },
     "output_type": "display_data"
    }
   ],
   "source": [
    "import matplotlib.pyplot as plt\n",
    "# Wild-type plot\n",
    "datapoints, triang, plot1 = sd.plot_flux_space(ecc_14bdo,\n",
    "                                               ('BIOMASS_Ecoli_core_w_GAM',('EX_14bdo_e','-EX_glc__D_e')),\n",
    "                                               show=False);\n",
    "_,          _,      plot2 = sd.plot_flux_space(ecc_14bdo,\n",
    "                                               ('BIOMASS_Ecoli_core_w_GAM',('EX_14bdo_e','-EX_glc__D_e')),\n",
    "                                               constraints='BIOMASS_Ecoli_core_w_GAM>=0.15',\n",
    "                                               show=False);\n",
    "plot2.set_facecolor('#70AD47')\n",
    "plot2.set_edgecolor('#70AD47')\n",
    "# pGCP design plot\n",
    "_,          _,      plot3 = sd.plot_flux_space(ecc_14bdo,\n",
    "                                               ('BIOMASS_Ecoli_core_w_GAM',('EX_14bdo_e','-EX_glc__D_e')),\n",
    "                                               # The sign of the glucose exchange reaction is flipped since \n",
    "                                               # reaction is defined in the direction of secretion.\n",
    "                                               constraints='EX_14bdo_e + 0.3 EX_glc__D_e <= 0',\n",
    "                                               show=False);\n",
    "plot3.set_facecolor('#ED7D31')\n",
    "plot3.set_edgecolor('#ED7D31')\n",
    "# adjust axes limits and show plot\n",
    "plot3.axes.set_xlim(0, 1.05*max([a[0] for a in datapoints]))\n",
    "plot3.axes.set_ylim(0, 1.05*max([a[1] for a in datapoints]))\n",
    "plt.show()"
   ]
  },
  {
   "cell_type": "markdown",
   "metadata": {},
   "source": [
    "##### 3) Set up the strain design problem\n",
    "\n",
    "The StrainDesign package uses so-called \"strain design modules\" to specify strain design goals. In the case of MCS, the goal is to suppress and protect flux spaces denoted by (sets of) linear inequalities. In the following we specify these modules."
   ]
  },
  {
   "cell_type": "code",
   "execution_count": 3,
   "metadata": {},
   "outputs": [],
   "source": [
    "module_suppress = sd.SDModule(ecc_14bdo,sd.names.SUPPRESS,constraints='EX_14bdo_e + 0.3 EX_glc__D_e <= 0')\n",
    "module_protect  = sd.SDModule(ecc_14bdo,sd.names.PROTECT, constraints='BIOMASS_Ecoli_core_w_GAM>=0.15')"
   ]
  },
  {
   "cell_type": "markdown",
   "metadata": {},
   "source": [
    "It must be noted that suppressed or protected flux spaces are not only denoted by single inequalities, but are always subspaces of the original model. For instance, the set of flux vectors in the \"suppressed\" flux space is constrained by the specified inequality\n",
    "$$v_{1,4-BDO}^{supp} - 0.3\\, v_{Glc,up}^{supp} \\le 0$$\n",
    "**but also** by the model constraints\n",
    "$$\\mathbf{S\\cdot v^{supp} = 0}$$\n",
    "$$\\mathbf{lb \\le v^{supp} \\le ub}$$\n",
    "\n",
    "We must pay close attention when specifying *protect* and *suppress' modules, as, in either case, we avoid to include the trivial flux vector $\\mathbf{v = 0}$ in the according subspace. If the trivial vector is contained in the *suppressed* flux space, the subspace cannot be suppressed, since the trivial vector can always be attained, even when all reactions were blocked. If the trivial vector is part of the *protected* flux space, the module will be uneffective, since reactions knockouts can never be disrupt this vector. \n",
    "\n",
    "In the case of the e_coli_core, it is unnecessary to exclude the 0-vector explicitly, since it is already excluded by default due to the minimum ATP maintenance demand. If this was not the case, one would need a auxiliary constraint, e.g., $ v_{Glc,up} \\ge 0.1$."
   ]
  },
  {
   "cell_type": "markdown",
   "metadata": {},
   "source": [
    "##### 4) Compute strain designs\n",
    "\n",
    "We can now proceed with the strain design computation. Since we normally don't know if solutions to our strain design problems exist, we will start the computation with the most relaxed settings possible. This means, we compute only one single solution, within a given MILP timelimit of 5 minutes (for genome-scale setups, this should be increased to an hour), while omitting the minimality demand in the solutions and allow up to 30 knockouts. For this initial approach, we also activate logging to follow the progress of the computation."
   ]
  },
  {
   "cell_type": "code",
   "execution_count": 7,
   "metadata": {},
   "outputs": [
    {
     "name": "stderr",
     "output_type": "stream",
     "text": [
      "INFO:root:Preparing strain design computation.\n",
      "INFO:root:  Using gurobi for solving LPs during preprocessing.\n",
      "WARNING:root:  Removing reaction bounds when larger than the cobra-threshold of 1000.\n",
      "INFO:root:  FVA to identify blocked reactions and irreversibilities.\n",
      "INFO:root:  FVA(s) to identify essential reactions.\n",
      "INFO:root:Compressing Network (103 reactions).\n",
      "INFO:root:  Removing blocked reactions.\n",
      "INFO:root:  Translating stoichiometric coefficients to rationals.\n",
      "INFO:root:  Removing conservation relations.\n",
      "INFO:root:  Compression 1: Applying compression from EFM-tool module.\n",
      "INFO:root:  Reduced to 59 reactions.\n",
      "INFO:root:  Compression 2: Lumping parallel reactions.\n",
      "INFO:root:  Last step could not reduce size further (59 reactions).\n",
      "INFO:root:  Network compression completed. (1 compression iterations)\n",
      "INFO:root:  Translating stoichiometric coefficients back to float.\n",
      "INFO:root:  FVA(s) in compressed model to identify essential reactions.\n",
      "INFO:root:Finished preprocessing:\n",
      "INFO:root:  Model size: 59 reactions, 35 metabolites\n",
      "INFO:root:  48 targetable reactions\n",
      "WARNING:root:  Removing reaction bounds when larger than the cobra-threshold of 1000.\n",
      "INFO:root:Constructing strain design MILP for solver: gurobi.\n",
      "INFO:root:  Bounding MILP.\n",
      "INFO:root:Finding (also non-optimal) strain designs ...\n",
      "INFO:root:Searching in full search space.\n",
      "INFO:root:Minimizing number of interventions in subspace with 17 possible targets.\n",
      "INFO:root:Strain design with cost 10.0: {'AKGt2r*EX_akg_e': -1, 'ACKr*PTAr': -1, 'PYK': -1, 'TKT2': -1, 'EX_glu__L_e*GLUt2r': -1, 'EX_succ_e': -1, 'FUM': -1, 'GLUDy': -1, 'ME1': -1, 'NADTRHD': -1}\n",
      "INFO:root:Finished solving strain design MILP. \n",
      "INFO:root:1 solutions to MILP found.\n",
      "INFO:root:  Decompressing.\n",
      "INFO:root:8 solutions found.\n"
     ]
    },
    {
     "name": "stdout",
     "output_type": "stream",
     "text": [
      "One compressed solution with cost 10.0 found and expanded to {len(sols.reaction_sd)} solutions in the uncompressed netork.\n"
     ]
    }
   ],
   "source": [
    "import logging\n",
    "logging.basicConfig(level=logging.INFO)\n",
    "# Compute strain designs\n",
    "sols = sd.compute_strain_designs(ecc_14bdo,\n",
    "                                 sd_modules = [module_suppress, module_protect],\n",
    "                                 time_limit = 300,\n",
    "                                 max_solutions = 1,\n",
    "                                 max_cost = 30,\n",
    "                                 solution_approach = sd.names.ANY)\n",
    "# Print solutions\n",
    "print(f\"One compressed solution with cost {sols.sd_cost[0]} found and \"+\\\n",
    "      f\"expanded to {len(sols.reaction_sd)} solutions in the uncompressed netork.\")\n",
    "print(f\"Example knockout set: {[s for s in sols.reaction_sd[0]]}\")"
   ]
  },
  {
   "cell_type": "markdown",
   "metadata": {},
   "source": [
    "##### 5) Analyze strain designs\n",
    "\n",
    "We may plot the computed strain design (yellow) on top of the wild type model (blue), the suppressed fluxes (orange) and the protected fluxes (green). The designed strain is forced to produce 1,4-butanediol but is still able to grow at a rate higher than 0.15 1/h. "
   ]
  },
  {
   "cell_type": "code",
   "execution_count": 9,
   "metadata": {},
   "outputs": [
    {
     "data": {
      "image/png": "[encoded data removed]",
      "text/plain": [
       "<Figure size 432x288 with 1 Axes>"
      ]
     },
     "metadata": {
      "needs_background": "light"
     },
     "output_type": "display_data"
    }
   ],
   "source": [
    "import matplotlib.pyplot as plt\n",
    "# Wild-type plot\n",
    "datapoints, triang, plot1 = sd.plot_flux_space(ecc_14bdo,\n",
    "                                               ('BIOMASS_Ecoli_core_w_GAM',('EX_14bdo_e','-EX_glc__D_e')),\n",
    "                                               show=False);\n",
    "_,          _,      plot2 = sd.plot_flux_space(ecc_14bdo,\n",
    "                                               ('BIOMASS_Ecoli_core_w_GAM',('EX_14bdo_e','-EX_glc__D_e')),\n",
    "                                               constraints='BIOMASS_Ecoli_core_w_GAM>=0.15',\n",
    "                                               show=False);\n",
    "plot2.set_facecolor('#70AD47')\n",
    "plot2.set_edgecolor('#70AD47')\n",
    "# pGCP design plot\n",
    "_,          _,      plot3 = sd.plot_flux_space(ecc_14bdo,\n",
    "                                               ('BIOMASS_Ecoli_core_w_GAM',('EX_14bdo_e','-EX_glc__D_e')),\n",
    "                                               # The sign of the glucose exchange reaction is flipped since \n",
    "                                               # reaction is defined in the direction of secretion.\n",
    "                                               constraints='EX_14bdo_e + 0.3 EX_glc__D_e <= 0',\n",
    "                                               show=False);\n",
    "plot3.set_facecolor('#ED7D31')\n",
    "plot3.set_edgecolor('#ED7D31')\n",
    "# plotting designed strain\n",
    "knockouts = [[{s:1.0},'=',0.0] for s in sols.reaction_sd[0]]\n",
    "_,          _,      plot4 = sd.plot_flux_space(ecc_14bdo,\n",
    "                                               ('BIOMASS_Ecoli_core_w_GAM',('EX_14bdo_e','-EX_glc__D_e')),\n",
    "                                               # The sign of the glucose exchange reaction is flipped since \n",
    "                                               # reaction is defined in the direction of secretion.\n",
    "                                               constraints=knockouts,\n",
    "                                               show=False);\n",
    "plot4.set_facecolor('#FFC000')\n",
    "plot4.set_edgecolor('#FFC000')\n",
    "# adjust axes limits and show plot\n",
    "plot4.axes.set_xlim(0, 1.05*max([a[0] for a in datapoints]))\n",
    "plot4.axes.set_ylim(0, 1.05*max([a[1] for a in datapoints]))\n",
    "plt.show()"
   ]
  },
  {
   "cell_type": "code",
   "execution_count": 8,
   "metadata": {},
   "outputs": [
    {
     "ename": "SyntaxError",
     "evalue": "cannot assign to function call (370745334.py, line 2)",
     "output_type": "error",
     "traceback": [
      "\u001b[1;36m  Input \u001b[1;32mIn [8]\u001b[1;36m\u001b[0m\n\u001b[1;33m    species(1)   = struct('spec_id','4hb_c','spec_name','4-Hydroxybutanoate','fbc_chemicalFormula','C4H7O3','fbc_charge',-1);\u001b[0m\n\u001b[1;37m    ^\u001b[0m\n\u001b[1;31mSyntaxError\u001b[0m\u001b[1;31m:\u001b[0m cannot assign to function call\n"
     ]
    }
   ],
   "source": [
    "\t\t\tprod_id      = 'EX_14bdo_e';\n",
    "\t\t\tspecies(1)   = struct('spec_id','4hb_c','spec_name','4-Hydroxybutanoate','fbc_chemicalFormula','C4H7O3','fbc_charge',-1);\n",
    "\t\t\tspecies(2)   = struct('spec_id','4hbcoa_c','spec_name','4-Hydroxybutyryl-CoA','fbc_chemicalFormula','C25H38N7O18P3S','fbc_charge',-4);\n",
    "\t\t\tspecies(3)   = struct('spec_id','4hbal_c','spec_name','4-Hydroxybutanal','fbc_chemicalFormula','C4H8O2','fbc_charge',0);\n",
    "\t\t\tspecies(4)   = struct('spec_id','14bdo_c','spec_name','Butane-1,4-diol','fbc_chemicalFormula','C4H10O2','fbc_charge',0);\n",
    "\t\t\tspecies(5)   = struct('spec_id','14bdo_p','spec_name','Butane-1,4-diol','fbc_chemicalFormula','C4H10O2','fbc_charge',0);\n",
    "\t\t\tspecies(6)   = struct('spec_id','14bdo_e','spec_name','Butane-1,4-diol','fbc_chemicalFormula','C4H10O2','fbc_charge',0);\n",
    "\t\t\treactions(1) = struct('reac_id','SSCOARx','equation','1 h_c + 1 nadph_c + 1 succoa_c = 1 coa_c + 1 nadp_c + 1 sucsal_c','lb',0,'ub',1000,'fbc_geneProductAssociation','sucD_Pg');\n",
    "\t\t\treactions(2) = struct('reac_id','AKGDC','equation','1 akg_c + 1 h_c = 1 co2_c + 1 sucsal_c','lb',0,'ub',1000,'fbc_geneProductAssociation','sucA_Mb');\n",
    "\t\t\treactions(3) = struct('reac_id','4HBD','equation','1 h_c + 1 nadh_c + 1 sucsal_c = 1 4hb_c + 1 nad_c','lb',0,'ub',1000,'fbc_geneProductAssociation','4hbD_Pg');\n",
    "\t\t\treactions(4) = struct('reac_id','4HBCT','equation','1 4hb_c + 1 accoa_c = 1 4hbcoa_c + 1 ac_c','lb',0,'ub',1000,'fbc_geneProductAssociation','cat2');\n",
    "\t\t\treactions(5) = struct('reac_id','4HBDH','equation','1 4hbcoa_c + 1 h_c + 1 nadh_c = 1 4hbal_c + 1 coa_c + 1 nad_c','lb',0,'ub',1000,'fbc_geneProductAssociation','adh2');\n",
    "\t\t\treactions(6) = struct('reac_id','4HBDx','equation','1 4hbal_c + 1 h_c + 1 nadh_c = 1 14bdo_c + 1 nad_c','lb',0,'ub',1000,'fbc_geneProductAssociation','adhE2');\n",
    "\t\t\treactions(7) = struct('reac_id','14BDOtpp','equation','1 14bdo_c = 1 14bdo_p','lb',-1000,'ub',1000,'fbc_geneProductAssociation','');\n",
    "\t\t\treactions(8) = struct('reac_id','14BDOtex','equation','1 14bdo_p = 1 14bdo_e','lb',-1000,'ub',1000,'fbc_geneProductAssociation','');\n",
    "\t\t\treactions(9) = struct('reac_id','EX_14bdo_e','equation','1 14bdo_e =','lb',0,'ub',1000,'fbc_geneProductAssociation','');"
   ]
  },
  {
   "cell_type": "markdown",
   "metadata": {},
   "source": [
    "## Theoretical Background\n",
    "The concept can be viewed in a small example network:\n",
    "\n",
    "<img style=\"float:left; width:30%\" src=\"../img/SmallExample.svg\" />"
   ]
  },
  {
   "cell_type": "markdown",
   "metadata": {},
   "source": [
    "### Example 3: Suppress fluxes\n",
    "\n",
    "Suppose, we want block all metabolic flux through **R4** to avoid the production of metabolite **E**. One can now identify irreducible sets of reaction knockouts to achieve this. Each of these set is called a minimal cut set, short MCS. This figure shows all possible MCS for blocking reaction R4.\n",
    "\n",
    "<img style=\"float:left; width:70%\" src=\"../img/SmallExample_mcs1.svg\" />\n"
   ]
  },
  {
   "cell_type": "markdown",
   "metadata": {},
   "source": [
    "Set up the according strain design problem by specifying a *module* that demands the suppression of flux states with $R4 > 0$. \n",
    "\n",
    "Since strict inequalities are not allowed in mixed integer linear programming (MILP), we need to approximate it by an inclusive inequality and a sufficiently small value $\\varepsilon>0$. Here we pick $\\varepsilon=1$, such that the flux states that we aim to delete are those that fulfill the inequality:\n",
    "\n",
    "$$R4 >= 1$$"
   ]
  },
  {
   "cell_type": "code",
   "execution_count": null,
   "metadata": {},
   "outputs": [
    {
     "name": "stdout",
     "output_type": "stream",
     "text": [
      "{'R1': -1.0}\n",
      "{'R3': -1.0}\n",
      "{'R4': -1.0}\n",
      "{'R7': -1.0}\n",
      "{'R10': -1.0}\n",
      "{'R6': -1.0, 'R8': -1.0}\n",
      "{'R2': -1.0, 'R5': -1.0, 'R6': -1.0}\n"
     ]
    }
   ],
   "source": [
    "modules  =  [sd.SDModule(model,sd.names.SUPPRESS,constraints='R4 >= 1')]\n",
    "# modules +=  [sd.SDModule(model,sd.names.PROTECT, constraints='R3 >= 1')]\n",
    "\n",
    "\n",
    "sols = sd.compute_strain_designs(model,sd_modules = modules)\n",
    "for s in sols.reaction_sd:\n",
    "    print(s)"
   ]
  },
  {
   "cell_type": "markdown",
   "metadata": {},
   "source": [
    "An adequate value for $\\varepsilon$ can inferred from the model, i.e., the coefficients of the stoichiometric matrix and the flux boundaries. In the shown example values of 1e-7 up to 50 will yield the same results. However, too small values may result in longer runtimes or numerical issues. While large values may not approximate the strict inequality well enough."
   ]
  },
  {
   "cell_type": "markdown",
   "metadata": {},
   "source": [
    "### Example 4: Suppress and protect fluxes\n",
    "\n",
    "It may sometimes be required to protect certain flux states, "
   ]
  },
  {
   "cell_type": "code",
   "execution_count": null,
   "metadata": {},
   "outputs": [
    {
     "name": "stdout",
     "output_type": "stream",
     "text": [
      "{'R1': -1.0}\n",
      "{'R4': -1.0}\n",
      "{'R7': -1.0}\n",
      "{'R10': -1.0}\n",
      "{'R6': -1.0, 'R8': -1.0}\n"
     ]
    }
   ],
   "source": [
    "import straindesign as sd\n",
    "import cobra\n",
    "\n",
    "model = cobra.io.read_sbml_model('../../../tests/model_small_example.xml')\n",
    "\n",
    "modules =   [sd.SDModule(model,sd.names.SUPPRESS,constraints='R4 >= 1')]\n",
    "modules +=  [sd.SDModule(model,sd.names.PROTECT, constraints='R3 >= 1')]\n",
    "\n",
    "sols = sd.compute_strain_designs(model,sd_modules = modules)\n",
    "for s in sols.reaction_sd:\n",
    "    print(s)"
   ]
  },
  {
   "cell_type": "markdown",
   "metadata": {},
   "source": [
    "To see the current status of the strain design computation, import the logging package and lower the reporting level."
   ]
  },
  {
   "cell_type": "code",
   "execution_count": null,
   "metadata": {},
   "outputs": [
    {
     "data": {
      "text/plain": [
       "[]"
      ]
     },
     "execution_count": 5,
     "metadata": {},
     "output_type": "execute_result"
    }
   ],
   "source": [
    "import logging\n",
    "logging.basicConfig(level=logging.INFO)"
   ]
  },
  {
   "cell_type": "markdown",
   "metadata": {},
   "source": [
    "Continued.."
   ]
  },
  {
   "cell_type": "markdown",
   "metadata": {},
   "source": [
    "## Computing synthetic lethals"
   ]
  },
  {
   "cell_type": "markdown",
   "metadata": {},
   "source": [
    "## Computing production strain designs"
   ]
  }
 ],
 "metadata": {
  "interpreter": {
   "hash": "50a36e699ca3834a05ca1bd86fc5b7db4829f1cbbb3e27f51544575d88525899"
  },
  "kernelspec": {
   "display_name": "Python 3.9.7 ('cnapy-dev')",
   "language": "python",
   "name": "python3"
  },
  "language_info": {
   "codemirror_mode": {
    "name": "ipython",
    "version": 3
   },
   "file_extension": ".py",
   "mimetype": "text/x-python",
   "name": "python",
   "nbconvert_exporter": "python",
   "pygments_lexer": "ipython3",
   "version": "3.9.7"
  },
  "orig_nbformat": 4
 },
 "nbformat": 4,
 "nbformat_minor": 2
}
