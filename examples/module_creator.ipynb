{
 "cells": [
  {
   "cell_type": "code",
   "execution_count": 21,
   "metadata": {},
   "outputs": [],
   "source": [
    "from importlib import reload\n",
    "from mcs import mcs_module\n",
    "import cobra\n",
    "ecc2 = cobra.io.read_sbml_model(\"ECC2comp.sbml\")"
   ]
  },
  {
   "cell_type": "code",
   "execution_count": 22,
   "metadata": {},
   "outputs": [
    {
     "data": {
      "text/plain": [
       "<module 'mcs.mcs_module' from 'c:\\\\users\\\\phili\\\\documents\\\\python\\\\mcs\\\\mcs\\\\mcs_module.py'>"
      ]
     },
     "execution_count": 22,
     "metadata": {},
     "output_type": "execute_result"
    }
   ],
   "source": [
    "from mcs import mcs_module\n",
    "reload(mcs_module)"
   ]
  },
  {
   "cell_type": "code",
   "execution_count": 23,
   "metadata": {},
   "outputs": [
    {
     "ename": "NameError",
     "evalue": "Equations must contain a sign (<=,=,>=)",
     "output_type": "error",
     "traceback": [
      "\u001b[1;31m---------------------------------------------------------------------------\u001b[0m",
      "\u001b[1;31mAttributeError\u001b[0m                            Traceback (most recent call last)",
      "\u001b[1;32mc:\\users\\phili\\documents\\python\\mcs\\mcs\\mcs_module.py\u001b[0m in \u001b[0;36m__init__\u001b[1;34m(self, model, module_sense, module_type, equations, inner_objective, numerator, denomin, *args, **kwargs)\u001b[0m\n\u001b[0;32m     72\u001b[0m                 \u001b[0msplit_eq\u001b[0m \u001b[1;33m=\u001b[0m \u001b[0mre\u001b[0m\u001b[1;33m.\u001b[0m\u001b[0msplit\u001b[0m\u001b[1;33m(\u001b[0m\u001b[1;34m'<=|>=|='\u001b[0m\u001b[1;33m,\u001b[0m\u001b[0meq\u001b[0m\u001b[1;33m)\u001b[0m\u001b[1;33m\u001b[0m\u001b[1;33m\u001b[0m\u001b[0m\n\u001b[1;32m---> 73\u001b[1;33m                 \u001b[0mself\u001b[0m\u001b[1;33m.\u001b[0m\u001b[0mcheck_lhs\u001b[0m\u001b[1;33m(\u001b[0m\u001b[0msplit_eq\u001b[0m\u001b[1;33m[\u001b[0m\u001b[1;36m0\u001b[0m\u001b[1;33m]\u001b[0m\u001b[1;33m)\u001b[0m\u001b[1;33m\u001b[0m\u001b[1;33m\u001b[0m\u001b[0m\n\u001b[0m\u001b[0;32m     74\u001b[0m         \u001b[1;32mexcept\u001b[0m\u001b[1;33m:\u001b[0m\u001b[1;33m\u001b[0m\u001b[1;33m\u001b[0m\u001b[0m\n",
      "\u001b[1;32mc:\\users\\phili\\documents\\python\\mcs\\mcs\\mcs_module.py\u001b[0m in \u001b[0;36mcheck_lhs\u001b[1;34m(self, equation)\u001b[0m\n\u001b[0;32m    189\u001b[0m \u001b[1;33m\u001b[0m\u001b[0m\n\u001b[1;32m--> 190\u001b[1;33m         \u001b[1;32mwith\u001b[0m \u001b[0mself\u001b[0m\u001b[1;33m.\u001b[0m\u001b[0mappdata\u001b[0m\u001b[1;33m.\u001b[0m\u001b[0mproject\u001b[0m\u001b[1;33m.\u001b[0m\u001b[0mcobra_py_model\u001b[0m \u001b[1;32mas\u001b[0m \u001b[0mmodel\u001b[0m\u001b[1;33m:\u001b[0m\u001b[1;33m\u001b[0m\u001b[1;33m\u001b[0m\u001b[0m\n\u001b[0m\u001b[0;32m    191\u001b[0m             \u001b[0mmodel_reaction_ids\u001b[0m \u001b[1;33m=\u001b[0m \u001b[1;33m[\u001b[0m\u001b[0mx\u001b[0m\u001b[1;33m.\u001b[0m\u001b[0mid\u001b[0m \u001b[1;32mfor\u001b[0m \u001b[0mx\u001b[0m \u001b[1;32min\u001b[0m \u001b[0mmodel\u001b[0m\u001b[1;33m.\u001b[0m\u001b[0mreactions\u001b[0m\u001b[1;33m]\u001b[0m\u001b[1;33m\u001b[0m\u001b[1;33m\u001b[0m\u001b[0m\n",
      "\u001b[1;31mAttributeError\u001b[0m: 'MCS_Module' object has no attribute 'appdata'",
      "\nDuring handling of the above exception, another exception occurred:\n",
      "\u001b[1;31mNameError\u001b[0m                                 Traceback (most recent call last)",
      "\u001b[1;32m~\\AppData\\Local\\Temp/ipykernel_24572/2345683631.py\u001b[0m in \u001b[0;36m<module>\u001b[1;34m\u001b[0m\n\u001b[1;32m----> 1\u001b[1;33m \u001b[0mmcs_mod\u001b[0m \u001b[1;33m=\u001b[0m \u001b[0mmcs_module\u001b[0m\u001b[1;33m.\u001b[0m\u001b[0mMCS_Module\u001b[0m\u001b[1;33m(\u001b[0m\u001b[0mecc2\u001b[0m\u001b[1;33m,\u001b[0m\u001b[1;34m\"desired\"\u001b[0m\u001b[1;33m,\u001b[0m\u001b[1;34m\"lin_constraints\"\u001b[0m\u001b[1;33m,\u001b[0m\u001b[1;34m\"-1 Growth <= -0.5\\n 1 AcEx >= 2\"\u001b[0m\u001b[1;33m)\u001b[0m\u001b[1;33m\u001b[0m\u001b[1;33m\u001b[0m\u001b[0m\n\u001b[0m",
      "\u001b[1;32mc:\\users\\phili\\documents\\python\\mcs\\mcs\\mcs_module.py\u001b[0m in \u001b[0;36m__init__\u001b[1;34m(self, model, module_sense, module_type, equations, inner_objective, numerator, denomin, *args, **kwargs)\u001b[0m\n\u001b[0;32m     73\u001b[0m                 \u001b[0mself\u001b[0m\u001b[1;33m.\u001b[0m\u001b[0mcheck_lhs\u001b[0m\u001b[1;33m(\u001b[0m\u001b[0msplit_eq\u001b[0m\u001b[1;33m[\u001b[0m\u001b[1;36m0\u001b[0m\u001b[1;33m]\u001b[0m\u001b[1;33m)\u001b[0m\u001b[1;33m\u001b[0m\u001b[1;33m\u001b[0m\u001b[0m\n\u001b[0;32m     74\u001b[0m         \u001b[1;32mexcept\u001b[0m\u001b[1;33m:\u001b[0m\u001b[1;33m\u001b[0m\u001b[1;33m\u001b[0m\u001b[0m\n\u001b[1;32m---> 75\u001b[1;33m             \u001b[1;32mraise\u001b[0m \u001b[0mNameError\u001b[0m\u001b[1;33m(\u001b[0m\u001b[1;34m'Equations must contain a sign (<=,=,>=)'\u001b[0m\u001b[1;33m)\u001b[0m\u001b[1;33m\u001b[0m\u001b[1;33m\u001b[0m\u001b[0m\n\u001b[0m\u001b[0;32m     76\u001b[0m \u001b[1;33m\u001b[0m\u001b[0m\n\u001b[0;32m     77\u001b[0m         \u001b[1;32mif\u001b[0m \u001b[0mself\u001b[0m\u001b[1;33m.\u001b[0m\u001b[0mmodule_type\u001b[0m \u001b[1;32mnot\u001b[0m \u001b[1;32min\u001b[0m  \u001b[1;33m[\u001b[0m\u001b[1;34m\"lin_constraints\"\u001b[0m\u001b[1;33m,\u001b[0m \u001b[1;34m\"bilev_w_constr\"\u001b[0m\u001b[1;33m,\u001b[0m \u001b[1;34m\"yield_w_constr\"\u001b[0m\u001b[1;33m]\u001b[0m\u001b[1;33m:\u001b[0m\u001b[1;33m\u001b[0m\u001b[1;33m\u001b[0m\u001b[0m\n",
      "\u001b[1;31mNameError\u001b[0m: Equations must contain a sign (<=,=,>=)"
     ]
    }
   ],
   "source": [
    "mcs_mod = mcs_module.MCS_Module(ecc2,\"desired\",\"lin_constraints\",\"-1 Growth <= -0.5\\n 1 AcEx >= 2\")"
   ]
  },
  {
   "cell_type": "code",
   "execution_count": 2,
   "metadata": {},
   "outputs": [],
   "source": [
    "import sys\n",
    "import scipy.sparse as sp\n",
    "import numpy as np\n",
    "import cplex as cp"
   ]
  },
  {
   "cell_type": "markdown",
   "metadata": {},
   "source": [
    "csr_matrix((data, (row_ind, col_ind)), [shape=(M, N)])\n",
    "where data, row_ind and col_ind satisfy the relationship a[row_ind[k], col_ind[k]] = data[k]."
   ]
  },
  {
   "cell_type": "code",
   "execution_count": 7,
   "metadata": {},
   "outputs": [
    {
     "name": "stdout",
     "output_type": "stream",
     "text": [
      "\n",
      "Version identifier: 20.1.0.0 | 2020-11-10 | 9bedb6d68\n",
      "CPXPARAM_Read_DataCheck                          1\n",
      "Tried aggregator 2 times.\n",
      "MIP Presolve eliminated 1 rows and 2 columns.\n",
      "MIP Presolve modified 3 coefficients.\n",
      "Aggregator did 2 substitutions.\n",
      "All rows and columns eliminated.\n",
      "Presolve time = 0.02 sec. (0.01 ticks)\n",
      "\n",
      "Root node processing (before b&c):\n",
      "  Real time             =    0.02 sec. (0.01 ticks)\n",
      "Parallel b&c, 8 threads:\n",
      "  Real time             =    0.00 sec. (0.00 ticks)\n",
      "  Sync time (average)   =    0.00 sec.\n",
      "  Wait time (average)   =    0.00 sec.\n",
      "                          ------------\n",
      "Total (root+branch&cut) =    0.02 sec. (0.01 ticks)\n",
      "Solution status =  101 : MIP_optimal\n",
      "Solution value  =  90.94999999999999\n",
      "Row 0:  Slack =   0.000000\n",
      "Row 1:  Slack =   0.000000\n",
      "Row 2:  Slack =   0.000000\n",
      "Column 0:  Value =   0.500000\n",
      "Column 1:  Value =   1.050000\n",
      "Column 2:  Value =  28.450000\n",
      "Column 3:  Value =   3.000000\n"
     ]
    }
   ],
   "source": [
    "from cplex.exceptions import CplexError\n",
    "\n",
    "my_rows = [0, 0, 0, 0, 1, 1, 1, 2, 2]\n",
    "my_cols = [0, 1, 2, 3, 0, 1, 2, 1, 3]\n",
    "my_vals = [-1.0, 1.0, 1.0, 10.0, 1.0, -3.0, 1.0, 1.0, -3.5]\n",
    "\n",
    "# data common to all populateby functions\n",
    "my_obj = [1.0, 2.0, 3.0, 1.0]\n",
    "my_ub = [40.0, np.Infinity, np.Infinity, 3.0]\n",
    "my_lb = [0.0, 0.0, 0.0, 2.0]\n",
    "my_ctype = \"CCCI\"\n",
    "my_colnames = [\"x1\", \"x2\", \"x3\", \"x4\"]\n",
    "my_rhs = [20.0, 30.0, 0.0]\n",
    "my_A = sp.csc_matrix((my_vals,(my_rows,my_cols)))\n",
    "my_rownames = [\"r1\", \"r2\", \"r3\"]\n",
    "my_sense = \"LLE\"\n",
    "\n",
    "# csr, csc, lil formats\n",
    "\n",
    "def populatebynonzero(prob):\n",
    "    prob.objective.set_sense(prob.objective.sense.maximize)\n",
    "\n",
    "    prob.linear_constraints.add(rhs=my_rhs, senses=my_sense,\n",
    "                                names=my_rownames)\n",
    "    prob.variables.add(obj=my_obj, lb=my_lb, ub=my_ub, types=my_ctype,\n",
    "                       names=my_colnames)\n",
    "\n",
    "    # retrieve row and column indices from sparse matrix and convert them to int\n",
    "    indices_A = [[int(j) for j in i] for i in my_A.nonzero()]\n",
    "    prob.linear_constraints.set_coefficients(zip(indices_A[0], indices_A[1], list(my_A.data)))\n",
    "\n",
    "try:\n",
    "    my_prob = cp.Cplex()\n",
    "    handle = populatebynonzero(my_prob)\n",
    "except CplexError as exc:\n",
    "    print(exc)\n",
    "print()\n",
    "my_prob.solve()\n",
    "# solution.get_status() returns an integer code\n",
    "print(\"Solution status = \", my_prob.solution.get_status(), \":\", end=' ')\n",
    "# the following line prints the corresponding string\n",
    "print(my_prob.solution.status[my_prob.solution.get_status()])\n",
    "print(\"Solution value  = \", my_prob.solution.get_objective_value())\n",
    "\n",
    "numcols = my_prob.variables.get_num()\n",
    "numrows = my_prob.linear_constraints.get_num()\n",
    "\n",
    "slack = my_prob.solution.get_linear_slacks()\n",
    "x = my_prob.solution.get_values()\n",
    "\n",
    "for j in range(numrows):\n",
    "    print(\"Row %d:  Slack = %10f\" % (j, slack[j]))\n",
    "for j in range(numcols):\n",
    "    print(\"Column %d:  Value = %10f\" % (j, x[j]))"
   ]
  }
 ],
 "metadata": {
  "interpreter": {
   "hash": "e19b5e468525b7534030c433335d3c59b6c5020d93e41766e06a005699c7ca7f"
  },
  "kernelspec": {
   "display_name": "Python 3.7.11 64-bit ('cnapy-dev': conda)",
   "name": "python3"
  },
  "language_info": {
   "codemirror_mode": {
    "name": "ipython",
    "version": 3
   },
   "file_extension": ".py",
   "mimetype": "text/x-python",
   "name": "python",
   "nbconvert_exporter": "python",
   "pygments_lexer": "ipython3",
   "version": "3.7.12"
  },
  "orig_nbformat": 2
 },
 "nbformat": 4,
 "nbformat_minor": 2
}
