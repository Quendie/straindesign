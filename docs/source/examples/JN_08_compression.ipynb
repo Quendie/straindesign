{
 "cells": [
  {
   "cell_type": "markdown",
   "metadata": {},
   "source": [
    "# Standalone GPR-integraton and network compression\n",
    "\n",
    "An effective network compression is essential to any strain design computation. Since it may also be of interest outside the context of strain design, this example may help you using the network compression routine independently. Likewise, StrainDesign also offers the integration of GPR rules into the metabolic networks as a separate function.\n",
    "\n",
    "The network compression routine removes blocked reactions, removes conservation relations and then performs alternatingly lumps dependent (``compress_model_efmtool``) and parallel (``compress_model_parallel``) reactions. The compression returns a compressed network and a list of so-called \"compression maps\". Each map consists of a dictionary that contains complete information for reversing the the compression steps successively and expand information obtained from the compressed model to the full model. Each entry of each map contains the id of a compressed reaction, associated with the original reaction names and their factor (provided as a rational number) with which they were lumped.\n",
    "\n",
    "Furthermore, the user can select reactions that should be excempt from the parallel compression. In the following, we provide the code snippet that can be used to call the compression."
   ]
  },
  {
   "cell_type": "code",
   "execution_count": 4,
   "metadata": {},
   "outputs": [
    {
     "name": "stderr",
     "output_type": "stream",
     "text": [
      "INFO:root:  Removing blocked reactions.\n",
      "INFO:root:  Translating stoichiometric coefficients to rationals.\n",
      "INFO:root:  Removing conservation relations.\n",
      "INFO:root:  Compression 1: Applying compression from EFM-tool module.\n",
      "INFO:root:  Reduced to 202 reactions.\n",
      "INFO:root:  Compression 2: Lumping parallel reactions.\n",
      "INFO:root:  Reduced to 172 reactions.\n",
      "INFO:root:  Compression 3: Applying compression from EFM-tool module.\n",
      "INFO:root:  Reduced to 162 reactions.\n",
      "INFO:root:  Compression 4: Lumping parallel reactions.\n",
      "INFO:root:  Reduced to 160 reactions.\n",
      "INFO:root:  Compression 5: Applying compression from EFM-tool module.\n",
      "INFO:root:  Reduced to 158 reactions.\n",
      "INFO:root:  Compression 6: Lumping parallel reactions.\n",
      "INFO:root:  Reduced to 157 reactions.\n",
      "INFO:root:  Compression 7: Applying compression from EFM-tool module.\n",
      "INFO:root:  Reduced to 156 reactions.\n",
      "INFO:root:  Compression 8: Lumping parallel reactions.\n",
      "INFO:root:  Last step could not reduce size further (156 reactions).\n",
      "INFO:root:  Network compression completed. (7 compression iterations)\n",
      "INFO:root:  Translating stoichiometric coefficients back to float.\n"
     ]
    }
   ],
   "source": [
    "from straindesign import compress_model, extend_model_gpr\n",
    "import cobra\n",
    "import logging\n",
    "logging.basicConfig(level=logging.INFO)\n",
    "\n",
    "# load model\n",
    "e_coli_core = cobra.io.load_model('e_coli_core')\n",
    "# extend model with GPR rules\n",
    "extend_model_gpr(e_coli_core)\n",
    "# compress model\n",
    "cmp_map = compress_model(e_coli_core)"
   ]
  }
 ],
 "metadata": {
  "kernelspec": {
   "display_name": "Python 3.7.11 ('cnapy-dev')",
   "language": "python",
   "name": "python3"
  },
  "language_info": {
   "codemirror_mode": {
    "name": "ipython",
    "version": 3
   },
   "file_extension": ".py",
   "mimetype": "text/x-python",
   "name": "python",
   "nbconvert_exporter": "python",
   "pygments_lexer": "ipython3",
   "version": "3.7.11"
  },
  "orig_nbformat": 4,
  "vscode": {
   "interpreter": {
    "hash": "ca5b0d6214a41f9530831984db3d63c2bcddec3f9d8d84f59e056cd601338bd1"
   }
  }
 },
 "nbformat": 4,
 "nbformat_minor": 2
}
