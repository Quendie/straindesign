{
 "cells": [
  {
   "cell_type": "code",
   "execution_count": 22,
   "metadata": {},
   "outputs": [],
   "source": [
    "from importlib import reload\n",
    "from mcs import mcs_module\n",
    "import cobra\n",
    "ecc2 = cobra.io.read_sbml_model(\"ECC2comp.sbml\")"
   ]
  },
  {
   "cell_type": "code",
   "execution_count": 24,
   "metadata": {},
   "outputs": [
    {
     "data": {
      "text/plain": [
       "<module 'mcs.mcs_module' from 'c:\\\\users\\\\phili\\\\documents\\\\python\\\\mcs\\\\mcs\\\\mcs_module.py'>"
      ]
     },
     "execution_count": 24,
     "metadata": {},
     "output_type": "execute_result"
    }
   ],
   "source": [
    "from mcs import mcs_module\n",
    "reload(mcs_module)"
   ]
  },
  {
   "cell_type": "code",
   "execution_count": 26,
   "metadata": {},
   "outputs": [],
   "source": [
    "mcs_mod = mcs_module.MCS_Module(ecc2,\"desired\",\"lin_constraints\",\"-1 Growth <= -0.5\\n 1 AcEx >= 2\")"
   ]
  }
 ],
 "metadata": {
  "interpreter": {
   "hash": "e19b5e468525b7534030c433335d3c59b6c5020d93e41766e06a005699c7ca7f"
  },
  "kernelspec": {
   "display_name": "Python 3.7.11 64-bit ('cnapy-dev': conda)",
   "name": "python3"
  },
  "language_info": {
   "codemirror_mode": {
    "name": "ipython",
    "version": 3
   },
   "file_extension": ".py",
   "mimetype": "text/x-python",
   "name": "python",
   "nbconvert_exporter": "python",
   "pygments_lexer": "ipython3",
   "version": "3.7.12"
  },
  "orig_nbformat": 2
 },
 "nbformat": 4,
 "nbformat_minor": 2
}
