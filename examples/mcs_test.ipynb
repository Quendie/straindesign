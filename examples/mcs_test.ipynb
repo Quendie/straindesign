{
 "cells": [
  {
   "cell_type": "code",
   "execution_count": 2,
   "metadata": {},
   "outputs": [],
   "source": [
    "%load_ext autoreload\n",
    "import cobra\n",
    "import numpy as np\n",
    "from importlib import reload\n",
    "import mcs\n",
    "#import traceback\n",
    "#import warnings\n",
    "import sys\n",
    "# import ray\n",
    "\n",
    "\n",
    "#ray.init(ignore_reinit_error=True)\n",
    "\n",
    "#import mcs\n",
    "#import contextlib\n",
    "#import os,sys\n",
    "#mcs_path = os.path.dirname(mcs.__file__)\n",
    "#py_path = os.path.dirname(sys.executable)\n",
    "#runtime_env = {\"working_dir\": \".\", \"py_modules\": [mcs],\"env_vars\": {\"PYTHON\": py_path}}\n",
    "#runtime_env = {\"working_dir\": \".\",\"env_vars\": {\"PYTHON\": py_path}}\n",
    "#ray.shutdown()\n",
    "#ray.init(ignore_reinit_error=True,runtime_env=runtime_env)\n",
    "#with contextlib.redirect_stdout(None):\n"
   ]
  },
  {
   "cell_type": "code",
   "execution_count": 3,
   "metadata": {},
   "outputs": [
    {
     "name": "stdout",
     "output_type": "stream",
     "text": [
      "Set parameter Username\n",
      "Academic license - for non-commercial use only - expires 2022-09-03\n"
     ]
    }
   ],
   "source": []
  },
  {
   "cell_type": "code",
   "execution_count": 18,
   "metadata": {},
   "outputs": [
    {
     "ename": "ValueError",
     "evalue": "When module type is \"mcs_bilvl\", an objective function must be provided.",
     "output_type": "error",
     "traceback": [
      "\u001b[1;31m---------------------------------------------------------------------------\u001b[0m",
      "\u001b[1;31mValueError\u001b[0m                                Traceback (most recent call last)",
      "\u001b[1;32m~\\AppData\\Local\\Temp/ipykernel_43352/2415840886.py\u001b[0m in \u001b[0;36m<module>\u001b[1;34m\u001b[0m\n\u001b[0;32m      4\u001b[0m \u001b[1;33m\u001b[0m\u001b[0m\n\u001b[0;32m      5\u001b[0m \u001b[1;31m# specify modules\u001b[0m\u001b[1;33m\u001b[0m\u001b[1;33m\u001b[0m\u001b[1;33m\u001b[0m\u001b[0m\n\u001b[1;32m----> 6\u001b[1;33m \u001b[0mmodules\u001b[0m \u001b[1;33m=\u001b[0m \u001b[0mmcs\u001b[0m\u001b[1;33m.\u001b[0m\u001b[0mMCS_Module\u001b[0m\u001b[1;33m(\u001b[0m\u001b[0mnetwork\u001b[0m\u001b[1;33m,\u001b[0m\u001b[1;34m\"mcs_bilvl\"\u001b[0m\u001b[1;33m,\u001b[0m\u001b[0mmodule_sense\u001b[0m\u001b[1;33m=\u001b[0m\u001b[1;34m\"desired\"\u001b[0m\u001b[1;33m,\u001b[0m\u001b[0mconstraints\u001b[0m\u001b[1;33m=\u001b[0m\u001b[1;33m[\u001b[0m\u001b[1;34m\"R04 >= 1\"\u001b[0m\u001b[1;33m,\u001b[0m\u001b[1;34m\"2 R01 >= 0.5\"\u001b[0m\u001b[1;33m]\u001b[0m\u001b[1;33m,\u001b[0m\u001b[1;33m)\u001b[0m\u001b[1;33m\u001b[0m\u001b[1;33m\u001b[0m\u001b[0m\n\u001b[0m\u001b[0;32m      7\u001b[0m \u001b[1;33m\u001b[0m\u001b[0m\n\u001b[0;32m      8\u001b[0m \u001b[1;31m# specify MCS setup\u001b[0m\u001b[1;33m\u001b[0m\u001b[1;33m\u001b[0m\u001b[1;33m\u001b[0m\u001b[0m\n",
      "\u001b[1;32mc:\\users\\phili\\dokumente\\python\\mcs\\mcs\\mcs_module.py\u001b[0m in \u001b[0;36m__init__\u001b[1;34m(self, model, module_type, *args, **kwargs)\u001b[0m\n\u001b[0;32m     99\u001b[0m \u001b[1;33m\u001b[0m\u001b[0m\n\u001b[0;32m    100\u001b[0m         \u001b[1;32mif\u001b[0m \u001b[1;33m(\u001b[0m\u001b[0mself\u001b[0m\u001b[1;33m.\u001b[0m\u001b[0mmodule_type\u001b[0m \u001b[1;33m==\u001b[0m \u001b[1;34m\"mcs_bilvl\"\u001b[0m\u001b[1;33m)\u001b[0m \u001b[1;33m&\u001b[0m \u001b[1;33m(\u001b[0m\u001b[0mself\u001b[0m\u001b[1;33m.\u001b[0m\u001b[0minner_objective\u001b[0m \u001b[1;33m==\u001b[0m \u001b[1;32mNone\u001b[0m\u001b[1;33m)\u001b[0m\u001b[1;33m:\u001b[0m\u001b[1;33m\u001b[0m\u001b[1;33m\u001b[0m\u001b[0m\n\u001b[1;32m--> 101\u001b[1;33m             \u001b[1;32mraise\u001b[0m \u001b[0mValueError\u001b[0m\u001b[1;33m(\u001b[0m\u001b[1;34m'When module type is \"mcs_bilvl\", an objective function must be provided.'\u001b[0m\u001b[1;33m)\u001b[0m\u001b[1;33m\u001b[0m\u001b[1;33m\u001b[0m\u001b[0m\n\u001b[0m\u001b[0;32m    102\u001b[0m         \u001b[1;32melif\u001b[0m \u001b[1;33m(\u001b[0m\u001b[0mself\u001b[0m\u001b[1;33m.\u001b[0m\u001b[0mmodule_type\u001b[0m \u001b[1;33m==\u001b[0m \u001b[1;34m\"mcs_yield\"\u001b[0m\u001b[1;33m)\u001b[0m \u001b[1;33m&\u001b[0m \u001b[1;33m(\u001b[0m\u001b[1;33m(\u001b[0m\u001b[0mself\u001b[0m\u001b[1;33m.\u001b[0m\u001b[0mnumerator\u001b[0m\u001b[1;33m==\u001b[0m\u001b[1;32mNone\u001b[0m\u001b[1;33m)\u001b[0m \u001b[1;33m&\u001b[0m \u001b[1;33m(\u001b[0m\u001b[0mself\u001b[0m\u001b[1;33m.\u001b[0m\u001b[0mdenomin\u001b[0m\u001b[1;33m==\u001b[0m\u001b[1;32mNone\u001b[0m\u001b[1;33m)\u001b[0m\u001b[1;33m)\u001b[0m\u001b[1;33m:\u001b[0m\u001b[1;33m\u001b[0m\u001b[1;33m\u001b[0m\u001b[0m\n\u001b[0;32m    103\u001b[0m             \u001b[1;32mraise\u001b[0m \u001b[0mValueError\u001b[0m\u001b[1;33m(\u001b[0m\u001b[1;34m'When module type is \"mcs_yield\", a numerator and denominator must be provided.'\u001b[0m\u001b[1;33m)\u001b[0m\u001b[1;33m\u001b[0m\u001b[1;33m\u001b[0m\u001b[0m\n",
      "\u001b[1;31mValueError\u001b[0m: When module type is \"mcs_bilvl\", an objective function must be provided."
     ]
    }
   ],
   "source": [
    "%autoreload\n",
    "# load network\n",
    "network = cobra.io.read_sbml_model(\"weak_coupling.sbml\")\n",
    "\n",
    "# specify modules\n",
    "modules = mcs.MCS_Module(network,\"mcs_bilvl\",module_sense=\"desired\",constraints=[\"r_BM >= 0.5\",\"r_P >= 1\"],inner_objective=\"r_BM\")\n",
    "\n",
    "# specify MCS setup\n",
    "ko_cost = {'r2': 1, 'r3': 1, 'r4': 1, 'r5': 1, 'r6': 1, 'r7': 1, 'r8': 1, 'r9': 1}\n",
    "ki_cost = {'r1': 1}\n",
    "maxSolutions = 50\n",
    "maxCost = 50\n",
    "\n",
    "# construct MCS MILP\n",
    "mcsEnum = mcs.StrainDesigner(network,modules,ko_cost=ko_cost,ki_cost=ki_cost,max_cost=7,M=None)\n",
    "\n",
    "# solve MILP\n",
    "mcsEnum.compute_smallest_mcs()"
   ]
  },
  {
   "cell_type": "code",
   "execution_count": 14,
   "metadata": {},
   "outputs": [
    {
     "name": "stdout",
     "output_type": "stream",
     "text": [
      "{'R01': 0, 'R02': 0, 'R03': 0, 'R04': 0, 'R05': 0, 'R06': 0, 'R07': 1, 'R08': 0, 'R09': 0, 'R10': 0}\n",
      "{'R01': 0, 'R02': 0, 'R03': 0, 'R04': 0, 'R05': 0, 'R06': 0, 'R07': 0, 'R08': 0, 'R09': 0, 'R10': 1}\n",
      "{'R01': 0, 'R02': 0, 'R03': 0, 'R04': 0, 'R05': 0, 'R06': 1, 'R07': 0, 'R08': 1, 'R09': 0, 'R10': 0}\n"
     ]
    },
    {
     "data": {
      "text/plain": [
       "<3x10 sparse matrix of type '<class 'numpy.float64'>'\n",
       "\twith 4 stored elements in Compressed Sparse Row format>"
      ]
     },
     "execution_count": 14,
     "metadata": {},
     "output_type": "execute_result"
    }
   ],
   "source": [
    "%autoreload\n",
    "# load network\n",
    "network = cobra.io.read_sbml_model(\"SmallExample.sbml\")\n",
    "\n",
    "# specify modules\n",
    "modules = [mcs.MCS_Module(network,\"mcs_lin\",module_sense=\"target\",constraints=[\"R04 >= 1\",\"2 R01 >= 0.5\"])]\n",
    "modules.append(mcs.MCS_Module(network,\"mcs_lin\",module_sense=\"desired\",constraints=\"R03 >= 1\"))\n",
    "\n",
    "# specify MCS setup\n",
    "ko_cost = {'R05': 2, 'R06': 3, 'R07': 4, 'R08': 4, 'R09': 4, 'R10': 4}\n",
    "ki_cost = {'R02': 6}\n",
    "maxSolutions = 50\n",
    "maxCost = 50\n",
    "\n",
    "# construct MCS MILP\n",
    "mcsEnum = mcs.StrainDesigner(network,modules,ko_cost=ko_cost,ki_cost=ki_cost,max_cost=7,M=None)\n",
    "\n",
    "# solve MILP\n",
    "mcsEnum.compute_smallest_mcs()"
   ]
  },
  {
   "cell_type": "code",
   "execution_count": null,
   "metadata": {},
   "outputs": [
    {
     "data": {
      "text/plain": [
       "False"
      ]
     },
     "metadata": {},
     "output_type": "display_data"
    }
   ],
   "source": [
    "ray.shutdown()\n",
    "ray.is_initialized()"
   ]
  },
  {
   "cell_type": "code",
   "execution_count": 4,
   "metadata": {},
   "outputs": [
    {
     "data": {
      "text/plain": [
       "False"
      ]
     },
     "execution_count": 4,
     "metadata": {},
     "output_type": "execute_result"
    }
   ],
   "source": [
    "ray.shutdown()\n",
    "ray.is_initialized()"
   ]
  },
  {
   "cell_type": "code",
   "execution_count": 16,
   "metadata": {},
   "outputs": [],
   "source": [
    "import traceback\n",
    "import warnings\n",
    "import sys\n",
    "\n",
    "def warn_with_traceback(message, category, filename, lineno, file=None, line=None):\n",
    "\n",
    "    log = file if hasattr(file,'write') else sys.stderr\n",
    "    traceback.print_stack(file=log)\n",
    "    log.write(warnings.formatwarning(message, category, filename, lineno, line))\n",
    "\n",
    "warnings.showwarning = warn_with_traceback\n",
    "warnings.simplefilter(\"always\")"
   ]
  },
  {
   "cell_type": "code",
   "execution_count": 11,
   "metadata": {},
   "outputs": [
    {
     "name": "stdout",
     "output_type": "stream",
     "text": [
      "{'__name__': 'mcs', '__doc__': None, '__package__': 'mcs', '__loader__': <_frozen_importlib_external.SourceFileLoader object at 0x0000026A0BAB7EC8>, '__spec__': ModuleSpec(name='mcs', loader=<_frozen_importlib_external.SourceFileLoader object at 0x0000026A0BAB7EC8>, origin='c:\\\\users\\\\phili\\\\documents\\\\python\\\\mcs\\\\mcs\\\\__init__.py', submodule_search_locations=['c:\\\\users\\\\phili\\\\documents\\\\python\\\\mcs\\\\mcs']), '__path__': ['c:\\\\users\\\\phili\\\\documents\\\\python\\\\mcs\\\\mcs'], '__file__': 'c:\\\\users\\\\phili\\\\documents\\\\python\\\\mcs\\\\mcs\\\\__init__.py', '__cached__': 'c:\\\\users\\\\phili\\\\documents\\\\python\\\\mcs\\\\mcs\\\\__pycache__\\\\__init__.cpython-37.pyc', '__builtins__': {'__name__': 'builtins', '__doc__': \"Built-in functions, exceptions, and other objects.\\n\\nNoteworthy: None is the `nil' object; Ellipsis represents `...' in slices.\", '__package__': '', '__loader__': <class '_frozen_importlib.BuiltinImporter'>, '__spec__': ModuleSpec(name='builtins', loader=<class '_frozen_importlib.BuiltinImporter'>), '__build_class__': <built-in function __build_class__>, '__import__': <built-in function __import__>, 'abs': <built-in function abs>, 'all': <built-in function all>, 'any': <built-in function any>, 'ascii': <built-in function ascii>, 'bin': <built-in function bin>, 'breakpoint': <built-in function breakpoint>, 'callable': <built-in function callable>, 'chr': <built-in function chr>, 'compile': <built-in function compile>, 'delattr': <built-in function delattr>, 'dir': <built-in function dir>, 'divmod': <built-in function divmod>, 'eval': <built-in function eval>, 'exec': <built-in function exec>, 'format': <built-in function format>, 'getattr': <built-in function getattr>, 'globals': <built-in function globals>, 'hasattr': <built-in function hasattr>, 'hash': <built-in function hash>, 'hex': <built-in function hex>, 'id': <built-in function id>, 'input': <bound method Kernel.raw_input of <ipykernel.ipkernel.IPythonKernel object at 0x0000026A36433F08>>, 'isinstance': <built-in function isinstance>, 'issubclass': <built-in function issubclass>, 'iter': <built-in function iter>, 'len': <built-in function len>, 'locals': <built-in function locals>, 'max': <built-in function max>, 'min': <built-in function min>, 'next': <built-in function next>, 'oct': <built-in function oct>, 'ord': <built-in function ord>, 'pow': <built-in function pow>, 'print': <built-in function print>, 'repr': <built-in function repr>, 'round': <built-in function round>, 'setattr': <built-in function setattr>, 'sorted': <built-in function sorted>, 'sum': <built-in function sum>, 'vars': <built-in function vars>, 'None': None, 'Ellipsis': Ellipsis, 'NotImplemented': NotImplemented, 'False': False, 'True': True, 'bool': <class 'bool'>, 'memoryview': <class 'memoryview'>, 'bytearray': <class 'bytearray'>, 'bytes': <class 'bytes'>, 'classmethod': <class 'classmethod'>, 'complex': <class 'complex'>, 'dict': <class 'dict'>, 'enumerate': <class 'enumerate'>, 'filter': <class 'filter'>, 'float': <class 'float'>, 'frozenset': <class 'frozenset'>, 'property': <class 'property'>, 'int': <class 'int'>, 'list': <class 'list'>, 'map': <class 'map'>, 'object': <class 'object'>, 'range': <class 'range'>, 'reversed': <class 'reversed'>, 'set': <class 'set'>, 'slice': <class 'slice'>, 'staticmethod': <class 'staticmethod'>, 'str': <class 'str'>, 'super': <class 'super'>, 'tuple': <class 'tuple'>, 'type': <class 'type'>, 'zip': <class 'zip'>, '__debug__': True, 'BaseException': <class 'BaseException'>, 'Exception': <class 'Exception'>, 'TypeError': <class 'TypeError'>, 'StopAsyncIteration': <class 'StopAsyncIteration'>, 'StopIteration': <class 'StopIteration'>, 'GeneratorExit': <class 'GeneratorExit'>, 'SystemExit': <class 'SystemExit'>, 'KeyboardInterrupt': <class 'KeyboardInterrupt'>, 'ImportError': <class 'ImportError'>, 'ModuleNotFoundError': <class 'ModuleNotFoundError'>, 'OSError': <class 'OSError'>, 'EnvironmentError': <class 'OSError'>, 'IOError': <class 'OSError'>, 'WindowsError': <class 'OSError'>, 'EOFError': <class 'EOFError'>, 'RuntimeError': <class 'RuntimeError'>, 'RecursionError': <class 'RecursionError'>, 'NotImplementedError': <class 'NotImplementedError'>, 'NameError': <class 'NameError'>, 'UnboundLocalError': <class 'UnboundLocalError'>, 'AttributeError': <class 'AttributeError'>, 'SyntaxError': <class 'SyntaxError'>, 'IndentationError': <class 'IndentationError'>, 'TabError': <class 'TabError'>, 'LookupError': <class 'LookupError'>, 'IndexError': <class 'IndexError'>, 'KeyError': <class 'KeyError'>, 'ValueError': <class 'ValueError'>, 'UnicodeError': <class 'UnicodeError'>, 'UnicodeEncodeError': <class 'UnicodeEncodeError'>, 'UnicodeDecodeError': <class 'UnicodeDecodeError'>, 'UnicodeTranslateError': <class 'UnicodeTranslateError'>, 'AssertionError': <class 'AssertionError'>, 'ArithmeticError': <class 'ArithmeticError'>, 'FloatingPointError': <class 'FloatingPointError'>, 'OverflowError': <class 'OverflowError'>, 'ZeroDivisionError': <class 'ZeroDivisionError'>, 'SystemError': <class 'SystemError'>, 'ReferenceError': <class 'ReferenceError'>, 'MemoryError': <class 'MemoryError'>, 'BufferError': <class 'BufferError'>, 'Warning': <class 'Warning'>, 'UserWarning': <class 'UserWarning'>, 'DeprecationWarning': <class 'DeprecationWarning'>, 'PendingDeprecationWarning': <class 'PendingDeprecationWarning'>, 'SyntaxWarning': <class 'SyntaxWarning'>, 'RuntimeWarning': <class 'RuntimeWarning'>, 'FutureWarning': <class 'FutureWarning'>, 'ImportWarning': <class 'ImportWarning'>, 'UnicodeWarning': <class 'UnicodeWarning'>, 'BytesWarning': <class 'BytesWarning'>, 'ResourceWarning': <class 'ResourceWarning'>, 'ConnectionError': <class 'ConnectionError'>, 'BlockingIOError': <class 'BlockingIOError'>, 'BrokenPipeError': <class 'BrokenPipeError'>, 'ChildProcessError': <class 'ChildProcessError'>, 'ConnectionAbortedError': <class 'ConnectionAbortedError'>, 'ConnectionRefusedError': <class 'ConnectionRefusedError'>, 'ConnectionResetError': <class 'ConnectionResetError'>, 'FileExistsError': <class 'FileExistsError'>, 'FileNotFoundError': <class 'FileNotFoundError'>, 'IsADirectoryError': <class 'IsADirectoryError'>, 'NotADirectoryError': <class 'NotADirectoryError'>, 'InterruptedError': <class 'InterruptedError'>, 'PermissionError': <class 'PermissionError'>, 'ProcessLookupError': <class 'ProcessLookupError'>, 'TimeoutError': <class 'TimeoutError'>, 'open': <built-in function open>, 'copyright': Copyright (c) 2001-2021 Python Software Foundation.\n",
      "All Rights Reserved.\n",
      "\n",
      "Copyright (c) 2000 BeOpen.com.\n",
      "All Rights Reserved.\n",
      "\n",
      "Copyright (c) 1995-2001 Corporation for National Research Initiatives.\n",
      "All Rights Reserved.\n",
      "\n",
      "Copyright (c) 1991-1995 Stichting Mathematisch Centrum, Amsterdam.\n",
      "All Rights Reserved., 'credits':     Thanks to CWI, CNRI, BeOpen.com, Zope Corporation and a cast of thousands\n",
      "    for supporting Python development.  See www.python.org for more information., 'license': See https://www.python.org/psf/license/, 'help': Type help() for interactive help, or help(object) for help about object., 'execfile': <function execfile at 0x0000026A35FD7A68>, 'runfile': <function runfile at 0x0000026A3610EA68>, '__IPYTHON__': True, 'display': <function display at 0x0000026A345BA9D8>, 'get_ipython': <bound method InteractiveShell.get_ipython of <ipykernel.zmqshell.ZMQInteractiveShell object at 0x0000026A3643AB48>>}, 'cplex_interface': <module 'mcs.cplex_interface' from 'c:\\\\users\\\\phili\\\\documents\\\\python\\\\mcs\\\\mcs\\\\cplex_interface.py'>, 'mcs_computation': <module 'mcs.mcs_computation' from 'c:\\\\users\\\\phili\\\\documents\\\\python\\\\mcs\\\\mcs\\\\mcs_computation.py'>, 'mcs_module': <module 'mcs.mcs_module' from 'c:\\\\users\\\\phili\\\\documents\\\\python\\\\mcs\\\\mcs\\\\mcs_module.py'>, 'solver_interface': <module 'mcs.solver_interface' from 'c:\\\\users\\\\phili\\\\documents\\\\python\\\\mcs\\\\mcs\\\\solver_interface.py'>, 'cMCS_enumerator': <module 'mcs.cMCS_enumerator' from 'c:\\\\users\\\\phili\\\\documents\\\\python\\\\mcs\\\\mcs\\\\cMCS_enumerator.py'>}\n"
     ]
    }
   ],
   "source": [
    "#import ray\n",
    "#ray.init()\n",
    "\n",
    "@ray.remote\n",
    "class timer(object):\n",
    "    import time\n",
    "    def __init__(self):\n",
    "        self.starttime = self.time.monotonic_ns()\n",
    "    def timepassed(self,x):\n",
    "        self.time.sleep(0.1)\n",
    "        return self.time.monotonic_ns()-self.starttime\n",
    "\n",
    "parpool = ray.util.ActorPool([timer.remote() for _ in range(int(ray.available_resources()['CPU']))])\n",
    "\n",
    "times = list(parpool.map(lambda a,x: a.timepassed.remote(x),range(20)))"
   ]
  },
  {
   "cell_type": "code",
   "execution_count": 8,
   "metadata": {},
   "outputs": [
    {
     "name": "stdout",
     "output_type": "stream",
     "text": [
      "516000000\n"
     ]
    }
   ],
   "source": [
    "import time\n",
    "starttime = time.monotonic_ns()\n",
    "time.sleep(0.5)\n",
    "print(time.monotonic_ns()-starttime)"
   ]
  }
 ],
 "metadata": {
  "interpreter": {
   "hash": "c6cb88db6456a5d9db25cf91966766d45a3aee345dd42db13a70c45805ef0614"
  },
  "kernelspec": {
   "display_name": "Python 3.7.12 64-bit ('cnapy-dev': conda)",
   "language": "python",
   "name": "python3"
  },
  "language_info": {
   "codemirror_mode": {
    "name": "ipython",
    "version": 3
   },
   "file_extension": ".py",
   "mimetype": "text/x-python",
   "name": "python",
   "nbconvert_exporter": "python",
   "pygments_lexer": "ipython3",
   "version": "3.7.11"
  },
  "orig_nbformat": 4
 },
 "nbformat": 4,
 "nbformat_minor": 2
}
