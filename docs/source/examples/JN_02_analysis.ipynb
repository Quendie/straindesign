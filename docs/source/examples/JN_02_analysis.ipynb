{
 "cells": [
  {
   "cell_type": "markdown",
   "metadata": {},
   "source": [
    "# Network Analysis\n",
    "\n",
    "StrainDesign provides canonical functions for maximizing and minimizing metabolic fluxes in network. The output format is identical to the ones of COBRApy's functions."
   ]
  },
  {
   "cell_type": "markdown",
   "metadata": {},
   "source": [
    "## Flux optimization (FBA/pFBA)\n",
    "\n",
    "Flux balance analysis is a single linear program that optimizes a flux rate under the given steady-state network constraints. For the case of a growth-rate maximization, the problem is written as:\n",
    "$$\\text{maximize}\\:\\:\\: v_{growth} \\\\ \\text{subject to} \\\\ \\mathbf{S\\, v = 0} \\\\ \\mathbf{lb \\le v \\le ub}$$\n",
    "Where $ \\mathbf{S}$ is the stoichiometric matrix, $\\mathbf{v}$ is the vector of metabolic flux rates and $\\mathbf{lb}$ and $\\mathbf{ub}$ are the physiological lower and upper bounds of each flux rate. $\\mathbf{S\\, v = 0}$ represents all steady-state constraints, and $\\mathbf{lb \\le v \\le ub}$ the flux ranges.\n",
    "\n",
    "All of the following computation examples will require the COBRApy and the StrainDesign package. Here, we load both packages and the e_coli_core model from Bigg:"
   ]
  },
  {
   "cell_type": "code",
   "execution_count": 9,
   "metadata": {},
   "outputs": [],
   "source": [
    "import cobra\n",
    "import straindesign as sd\n",
    "model = cobra.io.load_model('e_coli_core')"
   ]
  },
  {
   "cell_type": "markdown",
   "metadata": {},
   "source": [
    "An FBA is launched by a single function call. By default the model's objective function is optimized. The function returns a solution object, in which the objective value and the fluxes are stored in `solution.objective_value` and `solution.fluxes`."
   ]
  },
  {
   "cell_type": "code",
   "execution_count": 8,
   "metadata": {},
   "outputs": [
    {
     "name": "stdout",
     "output_type": "stream",
     "text": [
      "Maximum growth: 0.8739215069684305.\n"
     ]
    }
   ],
   "source": [
    "solution = sd.fba(model)\n",
    "\n",
    "print(f\"Maximum growth: {solution.objective_value}.\")"
   ]
  },
  {
   "cell_type": "markdown",
   "metadata": {},
   "source": [
    "You may also use a custom objective and change the optimization sense:"
   ]
  },
  {
   "cell_type": "code",
   "execution_count": 11,
   "metadata": {},
   "outputs": [
    {
     "name": "stdout",
     "output_type": "stream",
     "text": [
      "Min. flux through GLCpts: 0.4794285714285715.\n"
     ]
    }
   ],
   "source": [
    "solution = sd.fba(model,obj='GLCpts',obj_sense='minimize')\n",
    "\n",
    "print(f\"Minimum flux through GLCpts: {solution.objective_value}.\")"
   ]
  },
  {
   "cell_type": "markdown",
   "metadata": {},
   "source": [
    "And consider custom constraints:"
   ]
  },
  {
   "cell_type": "code",
   "execution_count": 17,
   "metadata": {},
   "outputs": [
    {
     "name": "stdout",
     "output_type": "stream",
     "text": [
      "Maximum growth at limited oxygen uptake and high ATP maintenance: 0.26305573292588313.\n"
     ]
    }
   ],
   "source": [
    "solution = sd.fba(model,constraints=['-EX_o2_e <= 5', 'ATPM = 20'])\n",
    "\n",
    "print(f\"Maximum growth at limited oxygen uptake and high ATP maintenance: {solution.objective_value}.\")"
   ]
  },
  {
   "cell_type": "code",
   "execution_count": 10,
   "metadata": {},
   "outputs": [
    {
     "name": "stdout",
     "output_type": "stream",
     "text": [
      "         minimum  maximum\n",
      "PFK          0.0   176.61\n",
      "PFL          0.0    40.00\n",
      "PGI        -50.0    10.00\n",
      "PGK        -20.0    -0.00\n",
      "PGL          0.0    60.00\n",
      "...          ...      ...\n",
      "NADH16       0.0   120.00\n",
      "NADTRHD      0.0   378.22\n",
      "NH4t         0.0    10.00\n",
      "O2t          0.0    60.00\n",
      "PDH          0.0    40.00\n",
      "\n",
      "[95 rows x 2 columns]\n"
     ]
    }
   ],
   "source": [
    "solution = sd.fva(model)\n",
    "print(solution)"
   ]
  },
  {
   "cell_type": "markdown",
   "metadata": {},
   "source": [
    "## Flux ranges (FVA)"
   ]
  },
  {
   "cell_type": "markdown",
   "metadata": {},
   "source": [
    "## Yield optimization"
   ]
  }
 ],
 "metadata": {
  "interpreter": {
   "hash": "e8cf2acc5f473dd434bf7ed82be15898117f329f308a42c707e4168ce2116c68"
  },
  "kernelspec": {
   "display_name": "Python 3.8.13 ('cnapy-dev')",
   "language": "python",
   "name": "python3"
  },
  "language_info": {
   "codemirror_mode": {
    "name": "ipython",
    "version": 3
   },
   "file_extension": ".py",
   "mimetype": "text/x-python",
   "name": "python",
   "nbconvert_exporter": "python",
   "pygments_lexer": "ipython3",
   "version": "3.8.13"
  },
  "orig_nbformat": 4
 },
 "nbformat": 4,
 "nbformat_minor": 2
}
